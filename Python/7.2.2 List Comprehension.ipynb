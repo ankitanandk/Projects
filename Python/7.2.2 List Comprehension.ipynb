{
 "cells": [
  {
   "cell_type": "code",
   "execution_count": 1,
   "metadata": {},
   "outputs": [
    {
     "name": "stdout",
     "output_type": "stream",
     "text": [
      "[1, 4, 9, 16, 25, 36, 49, 64, 81, 100]\n"
     ]
    }
   ],
   "source": [
    "'''\n",
    "1. List comprehenison is used to create list in one line and one of the strongest features \n",
    "of lists in Python :)\n",
    "\n",
    "Below example would help to learn list comprehension in a clear way.\n",
    "Let's try to create a list of squares from 1 to 10 by the traditional method of append \n",
    "'''\n",
    "# Traditional method of declaring the empty list and using append method with for loop\n",
    "# We have studied this methaod in previous module.\n",
    "sq=[]\n",
    "for i in range(1,11):\n",
    "    sq.append(i**2)\n",
    "print(sq)"
   ]
  },
  {
   "cell_type": "code",
   "execution_count": 3,
   "metadata": {},
   "outputs": [
    {
     "name": "stdout",
     "output_type": "stream",
     "text": [
      "[1, 4, 9, 16, 25, 36, 49, 64, 81, 100]\n"
     ]
    }
   ],
   "source": [
    "'''1.1 Can you solve the above question using the function'''\n",
    "def sq(n,b,e):\n",
    "    l=[]\n",
    "    for i in range(b,e+1):\n",
    "        l.append(i**2)\n",
    "    return l\n",
    "print(sq(2,1,10))    "
   ]
  },
  {
   "cell_type": "code",
   "execution_count": 1,
   "metadata": {
    "scrolled": true
   },
   "outputs": [
    {
     "name": "stdout",
     "output_type": "stream",
     "text": [
      "<generator object <genexpr> at 0x10fa87888>\n"
     ]
    }
   ],
   "source": [
    "'''2. Lets try list comprehension, start with what needs to be appended on the extreme left\n",
    "From Left always put what need to be done/appended/created followed by the for loop or if conditions on right'''\n",
    "sq2=[i**2 for i in range(1,11)]\n",
    "print(sq2)"
   ]
  },
  {
   "cell_type": "code",
   "execution_count": 7,
   "metadata": {},
   "outputs": [
    {
     "name": "stdout",
     "output_type": "stream",
     "text": [
      "[-1, -2, -3, -4, -5, -6, -7, -8, -9, -10]\n",
      "[-1, -2, -3, -4, -5, -6, -7, -8, -9, -10]\n",
      "[-1, -2, -3, -4, -5, -6, -7, -8, -9, -10]\n"
     ]
    }
   ],
   "source": [
    "'''\n",
    "3. create a list of negative numbers from 1 to 10,\n",
    "Let's solve with append,List comprehension and function.\n",
    "\n",
    "Which one is the best ?... you guessed it right.. List Comprehension\n",
    "'''\n",
    "#Traditional append\n",
    "n=[]\n",
    "for i in range(1,11):\n",
    "    n.append(-i)\n",
    "print(n)\n",
    "\n",
    "#list comprehension\n",
    "l=[-i for i in range(1,11)]\n",
    "print(l)\n",
    "\n",
    "#Function\n",
    "n=[]\n",
    "def new(b,e):\n",
    "    for i in range(b,e+1):\n",
    "        n.append(-i)\n",
    "    return n\n",
    "print(new(1,10))"
   ]
  },
  {
   "cell_type": "code",
   "execution_count": 1,
   "metadata": {},
   "outputs": [
    {
     "data": {
      "text/plain": [
       "[1, 1, 1, 1, 1, 1, 1, 1, 1, 1]"
      ]
     },
     "execution_count": 1,
     "metadata": {},
     "output_type": "execute_result"
    }
   ],
   "source": [
    "\n",
    "\n",
    "'''\n",
    "3.1 Create a list of unity * 10 times\n",
    "'''\n",
    "[1 for i in range(1,11)]"
   ]
  },
  {
   "cell_type": "code",
   "execution_count": 15,
   "metadata": {},
   "outputs": [
    {
     "name": "stdout",
     "output_type": "stream",
     "text": [
      "['A', 'B', 'K']\n",
      "['A', 'B', 'K']\n"
     ]
    }
   ],
   "source": [
    "'''\n",
    "4. For a given list [\"Amit\",\"Baba\",\"Kaka\"] I need [\"A\",\"B\",\"K\"]: The first alphabet of each list item\n",
    "'''\n",
    "l=[\"Amit\",\"Baba\",\"Kaka\"]\n",
    "m=[]\n",
    "for i in l:\n",
    "    m.append(i[0])\n",
    "print(m)\n",
    "\n",
    "new=[i[0] for i in l]\n",
    "print(new)"
   ]
  },
  {
   "cell_type": "code",
   "execution_count": 17,
   "metadata": {},
   "outputs": [
    {
     "data": {
      "text/plain": [
       "[1, 4, 27, 256, 3125, 46656, 823543, 16777216, 387420489, 10000000000]"
      ]
     },
     "execution_count": 17,
     "metadata": {},
     "output_type": "execute_result"
    }
   ],
   "source": [
    "'''\n",
    "3. Create squares from 1 to 10 and store in the list\n",
    "'''\n",
    "new=[i**i for i in range(1,11)]"
   ]
  },
  {
   "cell_type": "code",
   "execution_count": 6,
   "metadata": {},
   "outputs": [
    {
     "data": {
      "text/plain": [
       "['timA', 'abaB', 'akaK']"
      ]
     },
     "execution_count": 6,
     "metadata": {},
     "output_type": "execute_result"
    }
   ],
   "source": [
    "'''\n",
    "4. For a given list [\"Amit\",\"Baba\",\"Kaka\"] I need ['timA', 'abaB', 'akaK']: The reverse\n",
    "'''\n",
    "l=[\"Amit\",\"Baba\",\"Kaka\"]\n",
    "n=[i[::-1] for i in l]\n",
    "n"
   ]
  },
  {
   "cell_type": "code",
   "execution_count": 7,
   "metadata": {},
   "outputs": [
    {
     "data": {
      "text/plain": [
       "['t', 'a', 'a']"
      ]
     },
     "execution_count": 7,
     "metadata": {},
     "output_type": "execute_result"
    }
   ],
   "source": [
    "'''\n",
    "5. For a given list [\"Amit\",\"Baba\",\"Kaka\"] I need last alphabet of each value\n",
    "'''\n",
    "l=[\"Amit\",\"Baba\",\"Kaka\"]\n",
    "n=[i[-1] for i in l]\n",
    "n"
   ]
  },
  {
   "cell_type": "code",
   "execution_count": 3,
   "metadata": {},
   "outputs": [
    {
     "name": "stdout",
     "output_type": "stream",
     "text": [
      "Enter 2 numbers2,3\n",
      "<class 'int'> 2\n",
      "<class 'int'> 3\n"
     ]
    }
   ],
   "source": [
    "'''\n",
    "6. Let's take 2 inputs from user and try to make them int in 1 go\n",
    "'''\n",
    "x,y=[int(i) for i in input(\"Enter 2 numbers\").split(\",\")]\n",
    "print(type(x),x)\n",
    "print(type(y),y)"
   ]
  },
  {
   "cell_type": "code",
   "execution_count": 2,
   "metadata": {
    "scrolled": true
   },
   "outputs": [
    {
     "name": "stdout",
     "output_type": "stream",
     "text": [
      "s 2\n",
      "m 1\n",
      "a 2\n",
      "r 1\n",
      "t 2\n",
      "y 1\n",
      "p 1\n",
      "a 2\n",
      "n 1\n",
      "t 2\n",
      "s 2\n"
     ]
    }
   ],
   "source": [
    "'''\n",
    "7. Count each alphabet in the below string.\n",
    "'''\n",
    "s=\"smartypants\"\n",
    "a=[print(i,s.count(i)) for i in s]"
   ]
  },
  {
   "cell_type": "code",
   "execution_count": 1,
   "metadata": {
    "scrolled": true
   },
   "outputs": [
    {
     "data": {
      "text/plain": [
       "[1, 4, 9, 16, 25]"
      ]
     },
     "execution_count": 1,
     "metadata": {},
     "output_type": "execute_result"
    }
   ],
   "source": [
    "'''\n",
    "8. How can you use one list in another list\n",
    "List1 should have 1,2,3,4,5 and List 2 should have squares of list 1 (1,4,9,16.25)\n",
    "'''\n",
    "[j**2 for j in [i for i in range(1,6)]]"
   ]
  },
  {
   "cell_type": "code",
   "execution_count": 10,
   "metadata": {},
   "outputs": [
    {
     "data": {
      "text/plain": [
       "[10, 40, 90, 160, 250]"
      ]
     },
     "execution_count": 10,
     "metadata": {},
     "output_type": "execute_result"
    }
   ],
   "source": [
    "'''\n",
    "9. How can you create a lit with 3 level of inputs. \n",
    "L1 gives input to L2 and L2 gives input to L3.\n",
    "'''\n",
    "[k*10 for k in [j**2 for j in [i for i in range(1,6)]]]"
   ]
  },
  {
   "cell_type": "code",
   "execution_count": 2,
   "metadata": {},
   "outputs": [
    {
     "data": {
      "text/plain": [
       "['a.xls', 'b.xls', 'c.xls']"
      ]
     },
     "execution_count": 2,
     "metadata": {},
     "output_type": "execute_result"
    }
   ],
   "source": [
    "'''10. Make list of each type of file'''\n",
    "l=['a.xls','b.xls','c.xls','a.txt','a.pdf','b.txt','b.pdf']\n",
    "[i for i in l if i.endswith('.xls')]"
   ]
  }
 ],
 "metadata": {
  "kernelspec": {
   "display_name": "Python 3",
   "language": "python",
   "name": "python3"
  },
  "language_info": {
   "codemirror_mode": {
    "name": "ipython",
    "version": 3
   },
   "file_extension": ".py",
   "mimetype": "text/x-python",
   "name": "python",
   "nbconvert_exporter": "python",
   "pygments_lexer": "ipython3",
   "version": "3.7.4"
  }
 },
 "nbformat": 4,
 "nbformat_minor": 2
}
