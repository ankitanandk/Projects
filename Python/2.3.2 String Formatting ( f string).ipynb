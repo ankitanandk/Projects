{
 "cells": [
  {
   "cell_type": "code",
   "execution_count": null,
   "metadata": {},
   "outputs": [],
   "source": [
    "'''\n",
    "1. Let's try and see the formating for strings, this is recently introduced\n",
    "in Python 3.5 version and is valid for all the latest versions.\n",
    "\n",
    "Also called as \"f strings\"\n",
    "\n",
    "'''\n",
    "name=\"amit\"\n",
    "\n",
    "# How to refer the value of variable name, very similar to the \"&name\" in SAS macro variable reference\n",
    "\n",
    "print(\"The name is name\")\n",
    "\n",
    "'''\n",
    "Using the string formatting, use the f for the string in quotes.\n",
    "The f string helps in formatting the string and {} is used as a \n",
    "placeholder of value\n",
    "'''\n",
    "\n",
    "print(f\"The name is {name}\") "
   ]
  },
  {
   "cell_type": "code",
   "execution_count": null,
   "metadata": {},
   "outputs": [],
   "source": [
    "'''CP \n",
    "\n",
    "2. Let's assign and call 2 variables using the f strings'''\n",
    "age=40\n",
    "name=\"amit\"\n",
    "\n",
    "print(f\"The age is {age} and name is {name}\")"
   ]
  },
  {
   "cell_type": "code",
   "execution_count": 1,
   "metadata": {},
   "outputs": [
    {
     "name": "stdout",
     "output_type": "stream",
     "text": [
      "hi amit your balance is 14432.235\n"
     ]
    }
   ],
   "source": [
    "'''3. formats: var: .3f is for showing that variable as a float with 3 digit precision and round off '''\n",
    "name=\"amit\"\n",
    "bal=14432.23456\n",
    "print(f\"hi {name} your balance is {bal:.3f}\")"
   ]
  },
  {
   "cell_type": "code",
   "execution_count": 1,
   "metadata": {
    "scrolled": true
   },
   "outputs": [
    {
     "name": "stdout",
     "output_type": "stream",
     "text": [
      "hi amit your balance is 14432.234\n"
     ]
    }
   ],
   "source": [
    "'''3.1 Check the round off value as compared to the above code '''\n",
    "name=\"amit\"\n",
    "bal=14432.23446\n",
    "print(f\"hi {name} your balance is {bal:.3f}\")"
   ]
  },
  {
   "cell_type": "code",
   "execution_count": 3,
   "metadata": {},
   "outputs": [
    {
     "name": "stdout",
     "output_type": "stream",
     "text": [
      "Enter name, lastname and ageamit,kumar,39\n",
      "amku39@yahoo.com\n"
     ]
    }
   ],
   "source": [
    "'''CP\n",
    "\n",
    "4. This logic or any combination is used m=by many portals for suggesting the unique user name '''\n",
    "name,lname,age=input(\"Enter name, lastname and age\").split(\",\")\n",
    "print(f\"{name[:2]}{lname[:2]}{age}@yahoo.com\")"
   ]
  }
 ],
 "metadata": {
  "kernelspec": {
   "display_name": "Python 3",
   "language": "python",
   "name": "python3"
  },
  "language_info": {
   "codemirror_mode": {
    "name": "ipython",
    "version": 3
   },
   "file_extension": ".py",
   "mimetype": "text/x-python",
   "name": "python",
   "nbconvert_exporter": "python",
   "pygments_lexer": "ipython3",
   "version": "3.7.4"
  }
 },
 "nbformat": 4,
 "nbformat_minor": 2
}
