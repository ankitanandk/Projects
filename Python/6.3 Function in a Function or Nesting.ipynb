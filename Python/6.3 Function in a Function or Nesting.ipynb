{
 "cells": [
  {
   "cell_type": "code",
   "execution_count": 1,
   "metadata": {},
   "outputs": [],
   "source": [
    "'''\n",
    "1. We just wrote a function that compares x,y and x,y,z\n",
    "Can we write a function inside a function that can make the job easy for comparing 3 values\n",
    "'''\n",
    "def big2(x,y):\n",
    "    if x>y:\n",
    "        return x\n",
    "    return y\n",
    "\n",
    "def big3(x,y,z):\n",
    "    if x>y and x>z:\n",
    "        return x\n",
    "    elif y>x and y>z:\n",
    "        return y\n",
    "    return z"
   ]
  },
  {
   "cell_type": "code",
   "execution_count": 2,
   "metadata": {},
   "outputs": [
    {
     "data": {
      "text/plain": [
       "14"
      ]
     },
     "execution_count": 2,
     "metadata": {},
     "output_type": "execute_result"
    }
   ],
   "source": [
    "'''\n",
    "2. Let's attempt to call big2 inside big 3, this is function in a function :)\n",
    "'''\n",
    "def big3(x,y,z):\n",
    "    new=big2(x,y)\n",
    "    return big2(new,z)\n",
    "big3(12,14,2)"
   ]
  },
  {
   "cell_type": "code",
   "execution_count": 7,
   "metadata": {
    "scrolled": true
   },
   "outputs": [
    {
     "data": {
      "text/plain": [
       "12"
      ]
     },
     "execution_count": 7,
     "metadata": {},
     "output_type": "execute_result"
    }
   ],
   "source": [
    "'''\n",
    "3. Let's attempt to call big2 inside big 3, with the shortest and smartest approach\n",
    "'''\n",
    "def greatest(x,y,z):\n",
    "    return big2(big2(x,y),z)\n",
    "greatest(12,4,2)"
   ]
  },
  {
   "cell_type": "code",
   "execution_count": 6,
   "metadata": {},
   "outputs": [
    {
     "data": {
      "text/plain": [
       "44"
      ]
     },
     "execution_count": 6,
     "metadata": {},
     "output_type": "execute_result"
    }
   ],
   "source": [
    "'''\n",
    "4. Let's compare the biggest of 6 numbers, try and understand the nesting here :)\n",
    "'''\n",
    "def greatest(x,y,z,a,b,c):\n",
    "    return big2(big3(x,y,z),big3(a,b,c))\n",
    "greatest(12,4,2,3,44,15)"
   ]
  }
 ],
 "metadata": {
  "kernelspec": {
   "display_name": "Python 3",
   "language": "python",
   "name": "python3"
  },
  "language_info": {
   "codemirror_mode": {
    "name": "ipython",
    "version": 3
   },
   "file_extension": ".py",
   "mimetype": "text/x-python",
   "name": "python",
   "nbconvert_exporter": "python",
   "pygments_lexer": "ipython3",
   "version": "3.7.3"
  }
 },
 "nbformat": 4,
 "nbformat_minor": 2
}
