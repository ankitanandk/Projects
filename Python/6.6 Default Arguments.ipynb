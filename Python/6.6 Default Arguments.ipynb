{
 "cells": [
  {
   "cell_type": "code",
   "execution_count": 2,
   "metadata": {},
   "outputs": [
    {
     "name": "stdout",
     "output_type": "stream",
     "text": [
      "male\n",
      "female\n"
     ]
    }
   ],
   "source": [
    "'''\n",
    "1. #Creating your own function with arguments helps in the output of function, \n",
    "the parenthesis () helps in giving the default output for a function call\n",
    "That basically mean hardcoded parameters in the function definition would be returned\n",
    "In below codes we have hardcoded unk and the values is returned if we just call the function with no arguments :)\n",
    "\n",
    "This is the reason they are called as Default arguments.\n",
    "'''\n",
    "\n",
    "def fx_gen(sex=\"unk\"):\n",
    "    if sex ==\"m\":\n",
    "        print(\"male\")\n",
    "    elif sex ==\"f\":\n",
    "         print(\"female\")\n",
    "    else:\n",
    "        print(sex)\n",
    "\n",
    "fx_gen('m')\n",
    "fx_gen('f')\n",
    "fx_gen()\n"
   ]
  },
  {
   "cell_type": "code",
   "execution_count": 15,
   "metadata": {},
   "outputs": [
    {
     "name": "stdout",
     "output_type": "stream",
     "text": [
      "The age in days is 3950\n"
     ]
    }
   ],
   "source": [
    "'''\n",
    "1.1 This also help to avoid the positional parameter problem. \n",
    "What if I do not wish to pass few parameters.\n",
    "we can always put them as the default ones, remember the PADK rule(Pos,Args,Def,key) so the Position would be first\n",
    "\n",
    "'''\n",
    "def age_days(year,month,days=0):\n",
    "    return year*365+month*30+days\n",
    "\n",
    "print(f\"The age in days is {age_days(10,10)}\")"
   ]
  },
  {
   "cell_type": "code",
   "execution_count": 16,
   "metadata": {},
   "outputs": [
    {
     "name": "stdout",
     "output_type": "stream",
     "text": [
      "The age in days is 3960\n"
     ]
    }
   ],
   "source": [
    "'''\n",
    "2. If you pass the value it would overwrite the static value of 0.\n",
    "'''\n",
    "def age_days(year,month,days=0):\n",
    "    return year*365+month*30+days\n",
    "    \n",
    "print(f\"The age in days is {age_days(10,10,10)}\")\n"
   ]
  }
 ],
 "metadata": {
  "kernelspec": {
   "display_name": "Python 3",
   "language": "python",
   "name": "python3"
  },
  "language_info": {
   "codemirror_mode": {
    "name": "ipython",
    "version": 3
   },
   "file_extension": ".py",
   "mimetype": "text/x-python",
   "name": "python",
   "nbconvert_exporter": "python",
   "pygments_lexer": "ipython3",
   "version": "3.7.3"
  }
 },
 "nbformat": 4,
 "nbformat_minor": 2
}
