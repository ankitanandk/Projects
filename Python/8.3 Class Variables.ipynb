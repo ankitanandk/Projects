{
 "cells": [
  {
   "cell_type": "code",
   "execution_count": null,
   "metadata": {},
   "outputs": [],
   "source": [
    "'''0. The basic need of a class variable is to have a variable accesible to all the\n",
    "objects of that class and avoid the repitition'''"
   ]
  },
  {
   "cell_type": "code",
   "execution_count": 2,
   "metadata": {},
   "outputs": [
    {
     "name": "stdout",
     "output_type": "stream",
     "text": [
      "62.800000000000004 125.60000000000001\n"
     ]
    }
   ],
   "source": [
    "'''\n",
    "1. Let's try and understand the class variable also called as class attributes.\n",
    "Class variables/class attributes are accessible to the instance methods.\n",
    "For example if we define a circle class, the value of pie would be available to 2 methods area and circumference\n",
    "\n",
    "How to call Class variable: Classname.varname\n",
    "'''\n",
    "class Circle:\n",
    "    def __init__(self,r,pie):\n",
    "        self.r=r\n",
    "        self.pie=pie\n",
    "    def circum(self):\n",
    "        return 2*self.pie*self.r\n",
    "'''what you notice here, though code is correct I need the static value of pie again and again for every object\n",
    "If we define it as a class variable, it would be available to all objects and no need to ask for every object\n",
    "'''\n",
    "c1=Circle(10,3.14)\n",
    "c2=Circle(20,3.14)\n",
    "\n",
    "print(c1.circum(),c2.circum())     "
   ]
  },
  {
   "cell_type": "code",
   "execution_count": 6,
   "metadata": {
    "scrolled": true
   },
   "outputs": [
    {
     "name": "stdout",
     "output_type": "stream",
     "text": [
      "62.800000000000004 125.60000000000001\n"
     ]
    }
   ],
   "source": [
    "'''\n",
    "2. To solve the above issue, we can define a class variable and it would be available to all the class methods\n",
    "This variable pie is called as the class variable and helps save memory for every object :)\n",
    "To call the class variable use:class.var and not self.var :)\n",
    "'''\n",
    "class Circle:\n",
    "    pie=3.14\n",
    "    def __init__(self,r):\n",
    "        self.r=r\n",
    "    def circum(self):\n",
    "        return 2*Circle.pie*self.r\n",
    "# what you notice here?, though code is correct all need the static valueof pie\n",
    "c1=Circle(10)\n",
    "c2=Circle(20)\n",
    "\n",
    "print(c1.circum(),c2.circum())"
   ]
  },
  {
   "cell_type": "code",
   "execution_count": 2,
   "metadata": {},
   "outputs": [
    {
     "name": "stdout",
     "output_type": "stream",
     "text": [
      "314.0\n",
      "62.800000000000004\n"
     ]
    }
   ],
   "source": [
    "'''\n",
    "2.1 We can even have 2 separate methods without __init__ to solve the above problem\n",
    "Now the c1=Circle() would not need arguments as there is no __init__ or construtor\n",
    "'''\n",
    "class Circle:\n",
    "    pie=3.14\n",
    "    def area(self,r):\n",
    "        self.r=r\n",
    "        return Circle.pie*r**2\n",
    "    def circum(self):\n",
    "        return 2*Circle.pie*self.r\n",
    "c1=Circle()\n",
    "print(c1.area(10))\n",
    "print(c1.circum())"
   ]
  },
  {
   "cell_type": "code",
   "execution_count": 1,
   "metadata": {},
   "outputs": [
    {
     "name": "stdout",
     "output_type": "stream",
     "text": [
      "314.0\n"
     ]
    }
   ],
   "source": [
    "'''2.2 You can even call the object like this'''\n",
    "class Circle:\n",
    "    pie=3.14\n",
    "    def area(self,r):\n",
    "        return Circle.pie*r**2\n",
    "    def circum(self):\n",
    "        return 2*Circle.pie*self.r\n",
    "c1=Circle().area(10)\n",
    "print(c1)\n"
   ]
  },
  {
   "cell_type": "code",
   "execution_count": 4,
   "metadata": {},
   "outputs": [
    {
     "name": "stdout",
     "output_type": "stream",
     "text": [
      "62.800000000000004\n"
     ]
    }
   ],
   "source": [
    "'''2.3 Would this work and please explain\n",
    "As objects have access to class variables by default\n",
    "we normally call them as Class.var to distinguish from object attributes\n",
    "\n",
    "Also self. gives you flecibility to update and pass anyother value\n",
    "\n",
    "Class. would be hardcoding and not flexible\n",
    "'''\n",
    "class Circle:\n",
    "    pie=3.14\n",
    "    def __init__(self,r):\n",
    "        self.r=r\n",
    "    def circum(self):\n",
    "        return 2*self.pie*self.r\n",
    "    \n",
    "c1=Circle(10)\n",
    "print(c1.circum())"
   ]
  },
  {
   "cell_type": "code",
   "execution_count": 3,
   "metadata": {},
   "outputs": [
    {
     "name": "stdout",
     "output_type": "stream",
     "text": [
      "The new price of macbook is now: 81000.0\n",
      "The new price of hp-45 is now: 81000.0\n"
     ]
    }
   ],
   "source": [
    "'''\n",
    "3. Lets say the discount is flat 10%, we can make use of class variable. \n",
    "And now all laptop models would have a discount of 10%\n",
    "'''\n",
    "class Laptop:\n",
    "    per=10\n",
    "    def __init__(self,brand,model,price,year):\n",
    "        self.company=brand\n",
    "        self.model=model\n",
    "        self.price=price\n",
    "        self.year_mfg=year\n",
    "        \n",
    "    def discount(self):\n",
    "        return f\"The new price of {self.model} is now: {self.price*(1-Laptop.per/100)}\"\n",
    "lap1=Laptop(\"apple\",\"macbook\",90000,2018)\n",
    "lap2=Laptop(\"hp\",\"hp-45\",90000,2018)\n",
    "\n",
    "print(lap1.discount())\n",
    "print(lap2.discount())"
   ]
  },
  {
   "cell_type": "code",
   "execution_count": 5,
   "metadata": {
    "scrolled": true
   },
   "outputs": [
    {
     "data": {
      "text/plain": [
       "{'company': 'apple', 'model': 'macbook', 'price': 90000, 'year_mfg': 2018}"
      ]
     },
     "execution_count": 5,
     "metadata": {},
     "output_type": "execute_result"
    }
   ],
   "source": [
    "'''\n",
    "4. How can I see all the property of any object. __dict__ gives the Dictionary and displays all data.\n",
    "This data is in a dictionary form of keys and values. __dict__ is all instance variable available to an object\n",
    "\n",
    "Try lap1. tab to see all the methods and variables available to the object lap1\n",
    "A dictionary with key and values.\n",
    "\n",
    "It would show ONLY instance variable and not instance methods... mind it :)\n",
    "'''\n",
    "lap1.__dict__"
   ]
  },
  {
   "cell_type": "code",
   "execution_count": 3,
   "metadata": {
    "scrolled": true
   },
   "outputs": [
    {
     "data": {
      "text/plain": [
       "mappingproxy({'__module__': '__main__',\n",
       "              'per': 10,\n",
       "              '__init__': <function __main__.Laptop.__init__(self, brand, model, price, year)>,\n",
       "              'discount': <function __main__.Laptop.discount(self)>,\n",
       "              '__dict__': <attribute '__dict__' of 'Laptop' objects>,\n",
       "              '__weakref__': <attribute '__weakref__' of 'Laptop' objects>,\n",
       "              '__doc__': None})"
      ]
     },
     "execution_count": 3,
     "metadata": {},
     "output_type": "execute_result"
    }
   ],
   "source": [
    "'''4.1 How can I see the class attributes, use the __dict__ attribute for the class, \n",
    "these attributes access all the object linked to the one you already have'''\n",
    "Laptop.__dict__"
   ]
  },
  {
   "cell_type": "code",
   "execution_count": 15,
   "metadata": {
    "scrolled": false
   },
   "outputs": [
    {
     "name": "stdout",
     "output_type": "stream",
     "text": [
      "{'company': 'apple', 'model': 'macbook', 'price': 100000, 'year_mfg': 2019, 'per': 50}\n",
      "{'company': 'apple', 'model': 'macbook', 'price': 90000, 'year_mfg': 2018}\n",
      "The new price of macbook is now: 81000.0\n",
      "The new price of macbook is now: 50000.0\n"
     ]
    }
   ],
   "source": [
    "'''\n",
    "5. How can I override the class variable value for some objects. \n",
    "In the discount method I can call self.per.\n",
    "If I pass a object value, the value is taken, else the class value stays by default\n",
    "'''\n",
    "class Laptop:\n",
    "    per=10\n",
    "    def __init__(self,brand,model,price,year):\n",
    "        self.company=brand\n",
    "        self.model=model\n",
    "        self.price=price\n",
    "        self.year_mfg=year\n",
    "        \n",
    "    def discount(self):\n",
    "        return f\"The new price of {self.model} is now: {self.price*(1-self.per/100)}\"\n",
    "lap1=Laptop(\"apple\",\"macbook\",90000,2018)\n",
    "lap2=Laptop(\"apple\",\"macbook\",100000,2019)\n",
    "#This would update the dictionary for object lap2 and now class variable would not be used\n",
    "lap2.per=50\n",
    "\n",
    "print(lap2.__dict__)\n",
    "print(lap1.__dict__)\n",
    "\n",
    "print(lap1.discount())\n",
    "print(lap2.discount())\n"
   ]
  },
  {
   "cell_type": "code",
   "execution_count": 1,
   "metadata": {},
   "outputs": [
    {
     "name": "stdout",
     "output_type": "stream",
     "text": [
      "{'company': 'apple', 'model': 'macbook', 'price': 100000, 'year_mfg': 2019, 'per': 50}\n",
      "The new price of macbook is now: 90000.0\n"
     ]
    }
   ],
   "source": [
    "'''5.1 If you just use the class variable, updating the object dictionary would not help\n",
    "Look just 10% of the discount is applied to the final price :)\n",
    "The 50% is not utilized in the final calculation\n",
    "'''\n",
    "class Laptop:\n",
    "    per=10\n",
    "    def __init__(self,brand,model,price,year):\n",
    "        self.company=brand\n",
    "        self.model=model\n",
    "        self.price=price\n",
    "        self.year_mfg=year\n",
    "        \n",
    "    def discount(self):\n",
    "        return f\"The new price of {self.model} is now: {self.price*(1-Laptop.per/100)}\"\n",
    "lap1=Laptop(\"apple\",\"macbook\",90000,2018)\n",
    "lap2=Laptop(\"apple\",\"macbook\",100000,2019)\n",
    "#This would update the dictionary for object lap2 and now class variable would not be used\n",
    "lap2.per=50\n",
    "\n",
    "print(lap2.__dict__)\n",
    "print(lap2.discount())\n"
   ]
  },
  {
   "cell_type": "code",
   "execution_count": 5,
   "metadata": {},
   "outputs": [
    {
     "name": "stdout",
     "output_type": "stream",
     "text": [
      "2\n"
     ]
    }
   ],
   "source": [
    "'''\n",
    "6. How would you count, how many objects have been created of a class, write a code that use class variable\n",
    "We can define a class variable and initialize to 0 and increment inside the constructor __init__\n",
    "This class variable once summoned would give how many objects or instances of class have been created.\n",
    "As __init__ is always called as soon as an object is created :)\n",
    "'''\n",
    "class Laptop:\n",
    "    count=0\n",
    "    def __init__(self,brand,model,price,year):\n",
    "        Laptop.count+=1\n",
    "        self.company=brand\n",
    "        self.model=model\n",
    "        self.price=price\n",
    "        self.year_mfg=year\n",
    "               \n",
    "lap1=Laptop(\"apple\",\"macbook\",90000,2018)\n",
    "lap2=Laptop(\"apple\",\"macbook\",90000,2018)\n",
    "\n",
    "print(lap2.count)"
   ]
  },
  {
   "cell_type": "code",
   "execution_count": 5,
   "metadata": {},
   "outputs": [
    {
     "name": "stdout",
     "output_type": "stream",
     "text": [
      "1\n"
     ]
    }
   ],
   "source": [
    "'''\n",
    "6.1 What would the below code yield, think before you run\n",
    "'''\n",
    "class Laptop:\n",
    "    count=0\n",
    "    def __init__(self,brand,model,price,year):\n",
    "        self.company=brand\n",
    "        self.model=model\n",
    "        self.price=price\n",
    "        self.year_mfg=year\n",
    "        \n",
    "    def counter(self):\n",
    "        Laptop.count+=1\n",
    "        return Laptop.count\n",
    "               \n",
    "lap1=Laptop(\"apple\",\"macbook\",90000,2018)\n",
    "lap2=Laptop(\"apple\",\"macbook\",90000,2018)\n",
    "\n",
    "print(lap2.counter())"
   ]
  },
  {
   "cell_type": "code",
   "execution_count": null,
   "metadata": {},
   "outputs": [],
   "source": [
    "'''\n",
    "6.2 Only solution we have is to leverage the __init__ method for increment\n",
    "'''\n",
    "class Laptop:\n",
    "    count=0\n",
    "    def __init__(self,brand,model,price,year):\n",
    "        Laptop.count+=1\n",
    "        self.company=brand\n",
    "        self.model=model\n",
    "        self.price=price\n",
    "        self.year_mfg=year\n",
    "        \n",
    "    def counter(self):\n",
    "        return Laptop.count\n",
    "               \n",
    "lap1=Laptop(\"apple\",\"macbook\",90000,2018)\n",
    "lap2=Laptop(\"apple\",\"macbook\",90000,2018)\n",
    "\n",
    "print(lap2.counter())"
   ]
  },
  {
   "cell_type": "code",
   "execution_count": 6,
   "metadata": {},
   "outputs": [
    {
     "data": {
      "text/plain": [
       "'This is a test documentation for Laptop class'"
      ]
     },
     "execution_count": 6,
     "metadata": {},
     "output_type": "execute_result"
    }
   ],
   "source": [
    "'''6.3 How to get the docstring, we can use the __doc__ attribute\n",
    "The docsting should also be continous and in one go\n",
    "'''\n",
    "class L:\n",
    "    \"This is a test documentation for Laptop class\"\n",
    "    di=.10\n",
    "    def __init__(self,b,m,p):\n",
    "        self.b=b\n",
    "        self.m=m\n",
    "        self.p=p\n",
    "    def cal(self):\n",
    "        return self.p*self.di\n",
    "    \n",
    "l1=L(\"apple\",\"air\",90000)\n",
    "l1.di=.2\n",
    "l2=L(\"apple\",\"air\",50000)\n",
    "l2.cal()\n",
    "L.__doc__"
   ]
  },
  {
   "cell_type": "code",
   "execution_count": 2,
   "metadata": {},
   "outputs": [
    {
     "data": {
      "text/plain": [
       "mappingproxy({'__module__': '__main__',\n",
       "              '__doc__': '',\n",
       "              '__dict__': <attribute '__dict__' of 'Laptop' objects>,\n",
       "              '__weakref__': <attribute '__weakref__' of 'Laptop' objects>})"
      ]
     },
     "execution_count": 2,
     "metadata": {},
     "output_type": "execute_result"
    }
   ],
   "source": [
    "'''7. Even for an empty class few of the default attributes are defined\n",
    "All of them are stored as key and objects\n",
    "'''\n",
    "class Laptop:\n",
    "    ;\n",
    "    \n",
    "l1=Laptop()\n",
    "\n",
    "l1.__dict__\n",
    "Laptop.__dict__"
   ]
  }
 ],
 "metadata": {
  "kernelspec": {
   "display_name": "Python 3",
   "language": "python",
   "name": "python3"
  },
  "language_info": {
   "codemirror_mode": {
    "name": "ipython",
    "version": 3
   },
   "file_extension": ".py",
   "mimetype": "text/x-python",
   "name": "python",
   "nbconvert_exporter": "python",
   "pygments_lexer": "ipython3",
   "version": "3.7.3"
  }
 },
 "nbformat": 4,
 "nbformat_minor": 2
}
