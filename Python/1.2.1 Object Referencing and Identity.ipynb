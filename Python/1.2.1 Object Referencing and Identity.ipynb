{
 "cells": [
  {
   "cell_type": "markdown",
   "metadata": {},
   "source": [
    "################\n",
    "1. Objects in Python:\n",
    "\n",
    "Python is a highly object-oriented language. In fact, virtually every item in a Python program is an object of a specific type or class. "
   ]
  },
  {
   "cell_type": "markdown",
   "metadata": {},
   "source": [
    "################\n",
    "2. Object creation Python\n",
    "\n",
    "print(300)\n",
    "\n",
    "When presented with the statement print(300), the interpreter does the following:\n",
    "\n",
    "Creates an integer object\n",
    "\n",
    "Gives it the value 300\n",
    "\n",
    "Displays it to the console\n",
    "\n",
    "You can see that an integer object is created using the memory allocated:\n"
   ]
  },
  {
   "cell_type": "markdown",
   "metadata": {},
   "source": [
    "################\n",
    "3. Symbolic Referencing \n",
    "n=300\n",
    "\n",
    "m = n\n",
    "\n",
    "What happens when it is executed? Python does not create another object. \n",
    "It simply creates a new symbolic name or reference, m, which points to the same object that n points to.\n",
    "\n",
    "\n",
    "type() is used to see the metadata, shows the class and data type.\n",
    "\n",
    "We would see more details soon :)\n"
   ]
  },
  {
   "cell_type": "code",
   "execution_count": 1,
   "metadata": {
    "scrolled": true
   },
   "outputs": [
    {
     "name": "stdout",
     "output_type": "stream",
     "text": [
      "4393971088\n",
      "4393971088\n",
      "True\n"
     ]
    }
   ],
   "source": [
    "'''################\n",
    "\n",
    "4. Object Identity\n",
    "\n",
    "In Python, every object that is created is given a number that uniquely identifies it. \n",
    "It is guaranteed that no two objects will have the same identifier during any period in which their lifetimes overlap.\n",
    "\n",
    "CPython implementation detail: This is the address of the object in memory.\n",
    "The built-in Python function id() returns an object’s integer identifier. Using the id() function,\n",
    "you can verify that two variables indeed point to the same object:\n",
    "'''\n",
    "n = 300\n",
    "m = n\n",
    "print(id(n))\n",
    "print(id(m))\n",
    "\n",
    "# You can even check the value, == is used for the comparison\n",
    "\n",
    "print(id(n)==id(m))"
   ]
  },
  {
   "cell_type": "code",
   "execution_count": 1,
   "metadata": {
    "scrolled": true
   },
   "outputs": [
    {
     "name": "stdout",
     "output_type": "stream",
     "text": [
      "2276460982320\n",
      "2276460982320\n",
      "**********\n",
      "140709581013328\n",
      "140709581013328\n"
     ]
    }
   ],
   "source": [
    "'''\n",
    "Quiz 1. Whats the difference in below 2 codes?\n",
    "\n",
    "Think well before you answer :)\n",
    "\n",
    "'''\n",
    "n = 300\n",
    "m = n\n",
    "print(id(n))\n",
    "print(id(m))\n",
    "\n",
    "print('**********')\n",
    "n = 255\n",
    "m = 255\n",
    "print(id(n))\n",
    "print(id(m))"
   ]
  },
  {
   "cell_type": "code",
   "execution_count": 3,
   "metadata": {
    "scrolled": true
   },
   "outputs": [
    {
     "name": "stdout",
     "output_type": "stream",
     "text": [
      "4355774784\n",
      "4355774784\n",
      "4355781984\n",
      "4355781984\n"
     ]
    }
   ],
   "source": [
    "'''\n",
    "Quiz 2. Whats the difference in below 2 codes?\n",
    "Ans: Python for optimization refer to objects with\n",
    "value -5 to 256 at the same memory location\n",
    "'''\n",
    "n = 300\n",
    "m = 300\n",
    "print(id(n))\n",
    "print(id(m))\n",
    "\n",
    "n = 255\n",
    "m = 255\n",
    "print(id(n))\n",
    "print(id(m))"
   ]
  }
 ],
 "metadata": {
  "kernelspec": {
   "display_name": "Python 3",
   "language": "python",
   "name": "python3"
  },
  "language_info": {
   "codemirror_mode": {
    "name": "ipython",
    "version": 3
   },
   "file_extension": ".py",
   "mimetype": "text/x-python",
   "name": "python",
   "nbconvert_exporter": "python",
   "pygments_lexer": "ipython3",
   "version": "3.7.4"
  }
 },
 "nbformat": 4,
 "nbformat_minor": 2
}
