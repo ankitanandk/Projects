{
 "cells": [
  {
   "cell_type": "code",
   "execution_count": null,
   "metadata": {},
   "outputs": [],
   "source": [
    "'''1. reading csv : read_csv method for the same, the csv should have headers in the first row'''\n",
    "import pandas as pd\n",
    "df=pd.read_csv('/Users/AHAAN/Desktop/Amit_Python/9. data Frames/admit.csv')\n",
    "df.head(2) "
   ]
  },
  {
   "cell_type": "code",
   "execution_count": null,
   "metadata": {
    "scrolled": true
   },
   "outputs": [],
   "source": [
    "'''1.1 A generic method of read_table can also be used for reading csv, \n",
    "this would need sep parameter to be passed a value\n",
    "\n",
    "read_table() is depreciated and we should use read_csv: warning would come  .. ..... Warning\n",
    "'''\n",
    "import pandas as pd\n",
    "new=pd.read_table('/Users/AHAAN/Desktop/Amit_Python/9. data Frames/admit.csv', sep=\",\")\n",
    "new.head()"
   ]
  },
  {
   "cell_type": "code",
   "execution_count": null,
   "metadata": {},
   "outputs": [],
   "source": [
    "'''1.2 How would you put top 5 observations from admit.csv to a new dataframe and confirm the same'''\n",
    "import pandas as pd\n",
    "df=pd.read_csv('/Users/AHAAN/Desktop/Amit_Python/9. data Frames/admit.csv').head()\n",
    "df.shape"
   ]
  },
  {
   "cell_type": "code",
   "execution_count": null,
   "metadata": {},
   "outputs": [],
   "source": [
    "'''2. Reading text files with header can be even achieved by read_csv'''\n",
    "import pandas as pd\n",
    "df=pd.read_csv('/Users/AHAAN/Desktop/Amit_Python/9. data Frames/admit.txt',sep=\" \")\n",
    "df.head()"
   ]
  },
  {
   "cell_type": "code",
   "execution_count": null,
   "metadata": {
    "scrolled": true
   },
   "outputs": [],
   "source": [
    "'''2.1 Reading text files with NO header information\n",
    "Columns names need to be declared in the names option\n",
    "'''\n",
    "import pandas as pd\n",
    "df=pd.read_csv('/Users/AHAAN/Desktop/Amit_Python/9. data Frames/admit1.txt',sep=\" \",names=('id','name','age'))\n",
    "df"
   ]
  },
  {
   "cell_type": "code",
   "execution_count": 1,
   "metadata": {},
   "outputs": [
    {
     "data": {
      "text/html": [
       "<div>\n",
       "<style scoped>\n",
       "    .dataframe tbody tr th:only-of-type {\n",
       "        vertical-align: middle;\n",
       "    }\n",
       "\n",
       "    .dataframe tbody tr th {\n",
       "        vertical-align: top;\n",
       "    }\n",
       "\n",
       "    .dataframe thead th {\n",
       "        text-align: right;\n",
       "    }\n",
       "</style>\n",
       "<table border=\"1\" class=\"dataframe\">\n",
       "  <thead>\n",
       "    <tr style=\"text-align: right;\">\n",
       "      <th></th>\n",
       "      <th>1</th>\n",
       "      <th>A</th>\n",
       "      <th>10</th>\n",
       "    </tr>\n",
       "  </thead>\n",
       "  <tbody>\n",
       "    <tr>\n",
       "      <th>0</th>\n",
       "      <td>2</td>\n",
       "      <td>B</td>\n",
       "      <td>20</td>\n",
       "    </tr>\n",
       "  </tbody>\n",
       "</table>\n",
       "</div>"
      ],
      "text/plain": [
       "   1  A  10\n",
       "0  2  B  20"
      ]
     },
     "execution_count": 1,
     "metadata": {},
     "output_type": "execute_result"
    }
   ],
   "source": [
    "'''2.1.1 What if you dnt give the names of columns...  any guesses what would happen'''\n",
    "\n",
    "import pandas as pd\n",
    "df=pd.read_csv('/Users/AHAAN/Desktop/Amit_Python/9. data Frames/admit1.txt',sep=\" \")\n",
    "df"
   ]
  },
  {
   "cell_type": "code",
   "execution_count": 3,
   "metadata": {},
   "outputs": [
    {
     "data": {
      "text/html": [
       "<div>\n",
       "<style scoped>\n",
       "    .dataframe tbody tr th:only-of-type {\n",
       "        vertical-align: middle;\n",
       "    }\n",
       "\n",
       "    .dataframe tbody tr th {\n",
       "        vertical-align: top;\n",
       "    }\n",
       "\n",
       "    .dataframe thead th {\n",
       "        text-align: right;\n",
       "    }\n",
       "</style>\n",
       "<table border=\"1\" class=\"dataframe\">\n",
       "  <thead>\n",
       "    <tr style=\"text-align: right;\">\n",
       "      <th></th>\n",
       "      <th>0</th>\n",
       "      <th>1</th>\n",
       "      <th>2</th>\n",
       "    </tr>\n",
       "  </thead>\n",
       "  <tbody>\n",
       "    <tr>\n",
       "      <th>0</th>\n",
       "      <td>1</td>\n",
       "      <td>A</td>\n",
       "      <td>10</td>\n",
       "    </tr>\n",
       "    <tr>\n",
       "      <th>1</th>\n",
       "      <td>2</td>\n",
       "      <td>B</td>\n",
       "      <td>20</td>\n",
       "    </tr>\n",
       "  </tbody>\n",
       "</table>\n",
       "</div>"
      ],
      "text/plain": [
       "   0  1   2\n",
       "0  1  A  10\n",
       "1  2  B  20"
      ]
     },
     "execution_count": 3,
     "metadata": {},
     "output_type": "execute_result"
    }
   ],
   "source": [
    "'''2.2 Reading text files with NO header information\n",
    "Columns names need to be declared in the names option\n",
    "\n",
    "You can even have names as 0,1,2\n",
    "\n",
    "It needs a tuple basically... we can have the geneartor and then the tuple :0\n",
    "'''\n",
    "import pandas as pd\n",
    "df=pd.read_csv('/Users/AHAAN/Desktop/Amit_Python/9. data Frames/admit1.txt',sep=\" \",names=(tuple(i for i in range(3))))\n",
    "df"
   ]
  },
  {
   "cell_type": "code",
   "execution_count": 3,
   "metadata": {},
   "outputs": [
    {
     "data": {
      "text/html": [
       "<div>\n",
       "<style scoped>\n",
       "    .dataframe tbody tr th:only-of-type {\n",
       "        vertical-align: middle;\n",
       "    }\n",
       "\n",
       "    .dataframe tbody tr th {\n",
       "        vertical-align: top;\n",
       "    }\n",
       "\n",
       "    .dataframe thead th {\n",
       "        text-align: right;\n",
       "    }\n",
       "</style>\n",
       "<table border=\"1\" class=\"dataframe\">\n",
       "  <thead>\n",
       "    <tr style=\"text-align: right;\">\n",
       "      <th></th>\n",
       "      <th>f1</th>\n",
       "      <th>f2</th>\n",
       "      <th>f3</th>\n",
       "    </tr>\n",
       "  </thead>\n",
       "  <tbody>\n",
       "    <tr>\n",
       "      <th>0</th>\n",
       "      <td>1</td>\n",
       "      <td>A</td>\n",
       "      <td>10</td>\n",
       "    </tr>\n",
       "    <tr>\n",
       "      <th>1</th>\n",
       "      <td>2</td>\n",
       "      <td>B</td>\n",
       "      <td>20</td>\n",
       "    </tr>\n",
       "  </tbody>\n",
       "</table>\n",
       "</div>"
      ],
      "text/plain": [
       "   f1 f2  f3\n",
       "0   1  A  10\n",
       "1   2  B  20"
      ]
     },
     "execution_count": 3,
     "metadata": {},
     "output_type": "execute_result"
    }
   ],
   "source": [
    "'''2.3 Reading text files with NO header information\n",
    "Columns names need to be declared in the names option\n",
    "\n",
    "You can even have names as f1,f2 and f3\n",
    "'''\n",
    "import pandas as pd\n",
    "df=pd.read_csv('/Users/AHAAN/Desktop/Amit_Python/9. data Frames/admit1.txt',sep=\" \",names=(['f'+str(i) for i in range(1,4)]))\n",
    "df"
   ]
  },
  {
   "cell_type": "code",
   "execution_count": null,
   "metadata": {},
   "outputs": [],
   "source": [
    "'''2.2 Text file can also be read using read_table'''\n",
    "import pandas as pd\n",
    "df=pd.read_table('/Users/AHAAN/Desktop/Amit_Python/9. data Frames/admit.txt',sep=\" \")\n",
    "df.head()"
   ]
  },
  {
   "cell_type": "code",
   "execution_count": null,
   "metadata": {},
   "outputs": [],
   "source": [
    "'''3. Reading a TSV, Tab Separated Values file, using read_table'''\n",
    "import pandas as pd\n",
    "df=pd.read_table('/Users/AHAAN/Desktop/Amit_Python/9. data Frames/admit3.txt',sep='\\t')\n",
    "df.head()"
   ]
  },
  {
   "cell_type": "code",
   "execution_count": null,
   "metadata": {},
   "outputs": [],
   "source": [
    "'''3.1 Reading a TSV, Tab separated file, using read_csv'''\n",
    "import pandas as pd\n",
    "df=pd.read_csv('/Users/AHAAN/Desktop/Amit_Python/9. data Frames/admit3.txt',sep='\\t')\n",
    "df.head()"
   ]
  },
  {
   "cell_type": "code",
   "execution_count": 4,
   "metadata": {
    "scrolled": false
   },
   "outputs": [
    {
     "data": {
      "text/html": [
       "<div>\n",
       "<style scoped>\n",
       "    .dataframe tbody tr th:only-of-type {\n",
       "        vertical-align: middle;\n",
       "    }\n",
       "\n",
       "    .dataframe tbody tr th {\n",
       "        vertical-align: top;\n",
       "    }\n",
       "\n",
       "    .dataframe thead th {\n",
       "        text-align: right;\n",
       "    }\n",
       "</style>\n",
       "<table border=\"1\" class=\"dataframe\">\n",
       "  <thead>\n",
       "    <tr style=\"text-align: right;\">\n",
       "      <th></th>\n",
       "      <th>2462</th>\n",
       "      <th>Almers, C</th>\n",
       "      <th>F</th>\n",
       "      <th>34</th>\n",
       "      <th>3</th>\n",
       "      <th>66</th>\n",
       "      <th>152</th>\n",
       "      <th>HIGH</th>\n",
       "      <th>124.8</th>\n",
       "    </tr>\n",
       "  </thead>\n",
       "  <tbody>\n",
       "    <tr>\n",
       "      <th>0</th>\n",
       "      <td>2501</td>\n",
       "      <td>Bonaventure, T</td>\n",
       "      <td>F</td>\n",
       "      <td>31</td>\n",
       "      <td>17</td>\n",
       "      <td>61</td>\n",
       "      <td>123</td>\n",
       "      <td>LOW</td>\n",
       "      <td>149.75</td>\n",
       "    </tr>\n",
       "    <tr>\n",
       "      <th>1</th>\n",
       "      <td>2523</td>\n",
       "      <td>Johnson, R</td>\n",
       "      <td>F</td>\n",
       "      <td>43</td>\n",
       "      <td>31</td>\n",
       "      <td>63</td>\n",
       "      <td>137</td>\n",
       "      <td>NaN</td>\n",
       "      <td>149.75</td>\n",
       "    </tr>\n",
       "  </tbody>\n",
       "</table>\n",
       "</div>"
      ],
      "text/plain": [
       "   2462       Almers, C  F  34   3  66  152 HIGH   124.8\n",
       "0  2501  Bonaventure, T  F  31  17  61  123  LOW  149.75\n",
       "1  2523      Johnson, R  F  43  31  63  137  NaN  149.75"
      ]
     },
     "execution_count": 4,
     "metadata": {},
     "output_type": "execute_result"
    }
   ],
   "source": [
    "'''4. Can I skip rows while reading a csv file in pandas, \n",
    "but the header info should be available in 3rd row, else the row would be read as column labels\n",
    "the index starts from 3rd row\n",
    "'''\n",
    "import pandas as pd\n",
    "df=pd.read_csv('/Users/AHAAN/Desktop/Amit_Python/9. data Frames/admit.csv',skiprows=2)\n",
    "df.shape\n",
    "df.head(2)"
   ]
  }
 ],
 "metadata": {
  "kernelspec": {
   "display_name": "Python 3",
   "language": "python",
   "name": "python3"
  },
  "language_info": {
   "codemirror_mode": {
    "name": "ipython",
    "version": 3
   },
   "file_extension": ".py",
   "mimetype": "text/x-python",
   "name": "python",
   "nbconvert_exporter": "python",
   "pygments_lexer": "ipython3",
   "version": "3.7.3"
  }
 },
 "nbformat": 4,
 "nbformat_minor": 2
}
