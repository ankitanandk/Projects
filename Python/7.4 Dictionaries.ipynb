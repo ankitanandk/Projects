{
 "cells": [
  {
   "cell_type": "code",
   "execution_count": null,
   "metadata": {
    "scrolled": true
   },
   "outputs": [],
   "source": [
    "'''\n",
    "1. Dictionaries Stores key value pairs and help in the fast access and retrieval, \n",
    "consider them as associative Arrays.\n",
    "\n",
    "The definition of a simple dictionary with keys and values pairs, focus on the syntax.\n",
    "\n",
    "1st way: key values are given\n",
    "'''\n",
    "am={'name':\"amit kumar\", 'age':24}\n",
    "print(am)\n",
    "print(type(am))\n"
   ]
  },
  {
   "cell_type": "code",
   "execution_count": null,
   "metadata": {},
   "outputs": [],
   "source": [
    "'''1.1 dict function can be used to convert a key value pair to a dictionary\n",
    "2nd way of creating a dictionary\n",
    "'''\n",
    "#dict function for creating dictionary\n",
    "a=dict(name=\"amit\",age=37)\n",
    "print(a)\n",
    "print(type(a))"
   ]
  },
  {
   "cell_type": "code",
   "execution_count": null,
   "metadata": {},
   "outputs": [],
   "source": [
    "'''\n",
    "2. Dictionaries do not have an index and you would hit a keyerror\n",
    "'''\n",
    "am={'name':\"amit kumar\", 'age':24}\n",
    "am[1]\n",
    "\n",
    "# To access the value you would need key and the value is returned\n",
    "print(am['name'])\n",
    "\n",
    "# You can get 2 key values as well\n",
    "# To access the value you would need key and the value is returned\n",
    "print(am['name'],am['age'])"
   ]
  },
  {
   "cell_type": "code",
   "execution_count": null,
   "metadata": {},
   "outputs": [],
   "source": [
    "'''\n",
    "3. A dictionary can store diff type of objects, you can even write the value in many lines.\n",
    "Just hit enter.\n",
    "We have used a string, a number, a list and a tuple as input\n",
    "'''\n",
    "\n",
    "am={'name':\"amit kumar\", \n",
    "    'age':24,\n",
    "    'fav_movies':[\"rocky\",\"Ninja\"],\n",
    "    'fav_perfumes':(\"Armani\",\"Hugo Boss\")\n",
    "}\n",
    "print(am)\n",
    "print(type(am))\n",
    "print(am['fav_movies'])"
   ]
  },
  {
   "cell_type": "code",
   "execution_count": 2,
   "metadata": {},
   "outputs": [
    {
     "name": "stdout",
     "output_type": "stream",
     "text": [
      "{'name': 'amit', 'age': 24, 'fav_movies': ['rocky', 'Ninja']}\n"
     ]
    }
   ],
   "source": [
    "'''\n",
    "4. How can I add to empty dictionary and use my own values, \n",
    "you can add key value pares like this, \n",
    "similar to dict function :)\n",
    "\n",
    "3rd way of creating dictionaries.. what were the 2 other ways .. lol \n",
    "'''\n",
    "am1={}\n",
    "am1['name']=\"amit\"\n",
    "am1['age']=24\n",
    "am1['fav_movies']=[\"rocky\",\"Ninja\"]\n",
    "print(am1)"
   ]
  },
  {
   "cell_type": "code",
   "execution_count": 6,
   "metadata": {},
   "outputs": [
    {
     "name": "stdout",
     "output_type": "stream",
     "text": [
      "{'cust1': {'name': 'John', 'age': '27', 'sex': 'Male'}, 'cust2': {'name': 'Marie', 'age': '22', 'sex': 'Female'}}\n",
      "{'name': 'John', 'age': '27', 'sex': 'Male'}\n"
     ]
    }
   ],
   "source": [
    "'''5. Can I have a nested dictionary\n",
    "The value pairs could be in  dictinary form\n",
    "'''\n",
    "data = {'cust1': {'name': 'John', 'age': '27', 'sex': 'Male'},\n",
    "          'cust2': {'name': 'Marie', 'age': '22', 'sex': 'Female'}}\n",
    "\n",
    "print(data)\n",
    "\n",
    "#fetching details of 1 customer\n",
    "print(data['cust1'])"
   ]
  }
 ],
 "metadata": {
  "kernelspec": {
   "display_name": "Python 3",
   "language": "python",
   "name": "python3"
  },
  "language_info": {
   "codemirror_mode": {
    "name": "ipython",
    "version": 3
   },
   "file_extension": ".py",
   "mimetype": "text/x-python",
   "name": "python",
   "nbconvert_exporter": "python",
   "pygments_lexer": "ipython3",
   "version": "3.7.4"
  }
 },
 "nbformat": 4,
 "nbformat_minor": 2
}
