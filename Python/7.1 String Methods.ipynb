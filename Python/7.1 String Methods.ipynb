{
 "cells": [
  {
   "cell_type": "code",
   "execution_count": 1,
   "metadata": {},
   "outputs": [
    {
     "name": "stdout",
     "output_type": "stream",
     "text": [
      "<class 'str'>\n"
     ]
    }
   ],
   "source": [
    "'''\n",
    "0. Let's try and learn few of the methods available with string class.\n",
    "It's always a good idea to check the documentation before attempting the code for any\n",
    "new method.\n",
    "\n",
    "The class is str.. you can see all the objects in the str class \n",
    "dir(str)\n",
    "\n",
    "[i for i in dir(str) if not i.startswith(\"_\")]\n",
    "\n",
    "len([i for i in dir(str) if not i.startswith(\"_\")]) : 45 functions in the string class :)\n",
    "\n",
    "help(\"str\")   : for the help on the string module\n",
    "\n",
    "help('str.capitalize') : help on a particaular function from a particular class\n",
    "'''\n",
    "a=\"amit\"\n",
    "print(type(a))"
   ]
  },
  {
   "cell_type": "code",
   "execution_count": 3,
   "metadata": {},
   "outputs": [
    {
     "name": "stdout",
     "output_type": "stream",
     "text": [
      "Amit\n",
      "Amit\n"
     ]
    }
   ],
   "source": [
    "'''\n",
    "1. capitalize\n",
    "This method capitalize the first byte of string, very similar to the Propcase in SAS. \n",
    "First letter Caps and then lowcase.\n",
    "'''\n",
    "a=\"amit\"\n",
    "print(a.capitalize())\n",
    "print(str.capitalize(a))"
   ]
  },
  {
   "cell_type": "code",
   "execution_count": null,
   "metadata": {},
   "outputs": [],
   "source": [
    "'''\n",
    "CP\n",
    "1.1 Take the first and last name as input from user and return full name: Amit Kumar\n",
    "'''\n",
    "f,l=input(\"Enter your first and last name\").split(\",\")\n",
    "print(f\"Full name is: {f.capitalize()} {l.capitalize()}\")"
   ]
  },
  {
   "cell_type": "code",
   "execution_count": null,
   "metadata": {},
   "outputs": [],
   "source": [
    "'''1.2 Using the lambda function'''\n",
    "new=lambda f,l : f.capitalize()+\" \"+l.capitalize()\n",
    "new(\"AMIT\",\"BABA\")"
   ]
  },
  {
   "cell_type": "code",
   "execution_count": 4,
   "metadata": {},
   "outputs": [
    {
     "name": "stdout",
     "output_type": "stream",
     "text": [
      "amit\n",
      "der fluß\n"
     ]
    }
   ],
   "source": [
    "'''\n",
    "2. lower\n",
    "This method lowercase the string, very similar to the lowcase in SAS.\n",
    "\n",
    "Note: This is not agressive and do not convert the special character for pronounciations.\n",
    "Let's learn what is aggresive method in a short while.\n",
    "'''\n",
    "a=\"Amit\"\n",
    "print(a.lower())\n",
    "\n",
    "s = \"der Fluß\" #or der fluss \"the river\" in english, translation of German\n",
    "print(s.lower())"
   ]
  },
  {
   "cell_type": "code",
   "execution_count": 4,
   "metadata": {},
   "outputs": [
    {
     "name": "stdout",
     "output_type": "stream",
     "text": [
      "Enter the product nameeno\n"
     ]
    },
    {
     "data": {
      "text/plain": [
       "'The item is not in catalog'"
      ]
     },
     "execution_count": 4,
     "metadata": {},
     "output_type": "execute_result"
    }
   ],
   "source": [
    "'''\n",
    "CP\n",
    "2.1 create a function that checks if the name of product entered by user exists in catalog\n",
    "Just user the lower function\n",
    "'''\n",
    "catalog=[\"banana\",\"coffee\",\"eno\"]\n",
    "def searchy():\n",
    "    prod=input(\"Enter the product name\")\n",
    "    for i in catalog:\n",
    "        if i.lower()==prod.lower():\n",
    "            print(i,prod)\n",
    "            return \"your item exists\"           \n",
    "    return \"The item is not in catalog\"\n",
    "searchy()"
   ]
  },
  {
   "cell_type": "code",
   "execution_count": 7,
   "metadata": {},
   "outputs": [
    {
     "name": "stdout",
     "output_type": "stream",
     "text": [
      "False\n",
      "True\n"
     ]
    }
   ],
   "source": [
    "'''\n",
    "3. islower\n",
    "S.islower() -> bool\n",
    "\n",
    "Return True if all cased characters in S are lowercase and there is\n",
    "at least one cased character in S, False otherwise.\n",
    "'''\n",
    "print(\"aB\".islower())\n",
    "print(\"aabc\".islower())"
   ]
  },
  {
   "cell_type": "code",
   "execution_count": 3,
   "metadata": {},
   "outputs": [
    {
     "name": "stdout",
     "output_type": "stream",
     "text": [
      "Enter Item Name: eno\n"
     ]
    },
    {
     "data": {
      "text/plain": [
       "'yes'"
      ]
     },
     "execution_count": 3,
     "metadata": {},
     "output_type": "execute_result"
    }
   ],
   "source": [
    "'''3.1 Exercise, using lambda to search for the product till the user enter all lowercase'''\n",
    "\n",
    "catalog=[\"banana\",\"coffee\",\"eno\"]\n",
    "new = lambda x: \"yes\" if x in catalog else \"No\"\n",
    "def checkMe():\n",
    "    while True:\n",
    "        x = input(\"Enter Item Name: \")\n",
    "        if x.islower() == False or x.lower() not in catalog:\n",
    "            continue\n",
    "        else:\n",
    "             return new(x)\n",
    "\n",
    "checkMe()"
   ]
  },
  {
   "cell_type": "code",
   "execution_count": 1,
   "metadata": {},
   "outputs": [
    {
     "name": "stdout",
     "output_type": "stream",
     "text": [
      "AMIT\n"
     ]
    }
   ],
   "source": [
    "'''\n",
    "4. upper\n",
    "This method upercase the string, very similar to the upcase in SAS.\n",
    "This is not agressive and do not convert the special character for pronounciations\n",
    "'''\n",
    "a=\"amit\"\n",
    "print(a.upper())"
   ]
  },
  {
   "cell_type": "code",
   "execution_count": 9,
   "metadata": {},
   "outputs": [
    {
     "name": "stdout",
     "output_type": "stream",
     "text": [
      "False\n",
      "True\n"
     ]
    }
   ],
   "source": [
    "'''\n",
    "5. isupper\n",
    "S.isupper() -> bool\n",
    "Return True if all cased characters in S are uppercase and there is\n",
    "at least one cased character in S, False otherwise.\n",
    "'''\n",
    "print(\"aB\".isupper())\n",
    "print(\"ABCD\".isupper())"
   ]
  },
  {
   "cell_type": "code",
   "execution_count": null,
   "metadata": {},
   "outputs": [],
   "source": [
    "'''\n",
    "5.1 \n",
    "Write a function that would count the no of upper and lower characters in a string passed by user.\n",
    "'''\n",
    "def county():\n",
    "    l=0\n",
    "    u=0\n",
    "    s=input(\"Enter your string\")\n",
    "    for i in s:\n",
    "        if i.islower():\n",
    "            l+=1\n",
    "        elif i.isupper():\n",
    "            u+=1\n",
    "    print(f\"Total upper alphabets are :{u} and lower are :{l} in string {s}\")   \n",
    "\n",
    "county()        "
   ]
  },
  {
   "cell_type": "code",
   "execution_count": 2,
   "metadata": {},
   "outputs": [
    {
     "name": "stdout",
     "output_type": "stream",
     "text": [
      "amit is here\n"
     ]
    }
   ],
   "source": [
    "'''\n",
    "6. Casefold\n",
    "The casefold() method is removes all case distinctions present in a string. \n",
    "It is used for caseless matching, \n",
    "i.e. ignores cases when comparing.\n",
    "\n",
    "For example, German lowercase letter ß is equivalent to ss. However,\n",
    "since ß is already lowercase, lower() method does nothing to it. But, \n",
    "casefold() converts it to \"ss\".\n",
    "'''\n",
    "a=\"Amit is Here\"\n",
    "print(a.casefold())"
   ]
  },
  {
   "cell_type": "code",
   "execution_count": 4,
   "metadata": {},
   "outputs": [
    {
     "name": "stdout",
     "output_type": "stream",
     "text": [
      "der fluß in german is der fluss in english\n"
     ]
    }
   ],
   "source": [
    "'''\n",
    "6.1 Special character with pronounciations are converted to their respective \n",
    "pronounciations in english. \n",
    "If you are dealing with texts from various languages, use casefold()\n",
    "'''\n",
    "s = \"der Fluß\"\n",
    "print(f\"{s.lower()} in german is {s.casefold()} in english\")"
   ]
  },
  {
   "cell_type": "code",
   "execution_count": 7,
   "metadata": {},
   "outputs": [
    {
     "name": "stdout",
     "output_type": "stream",
     "text": [
      "000000amit\n"
     ]
    }
   ],
   "source": [
    "'''\n",
    "7. zfill\n",
    "\n",
    "Pad a numeric string with zeros on the left, to fill a field\n",
    "of the specified width. The string is never truncated.\n",
    "\n",
    "Very similar to the z. formatin SAS :)\n",
    "'''\n",
    "a=\"amit\"\n",
    "print(a.zfill(10))"
   ]
  },
  {
   "cell_type": "code",
   "execution_count": null,
   "metadata": {},
   "outputs": [],
   "source": [
    "'''\n",
    "7.1 Application zfill\n",
    "\n",
    "Let's say I wish to have a 10 digit number, and the user only\n",
    "input the actual account number.\n",
    "If length is above 10, ask for account number again\n",
    "'''\n",
    "acnt=input(\"Enter your number\")\n",
    "if len(acnt)>10:\n",
    "    print(\"please enter the account number again\")\n",
    "else:\n",
    "    print(f\"Your full account number is {acnt.zfill(10)} \")"
   ]
  },
  {
   "cell_type": "code",
   "execution_count": 8,
   "metadata": {},
   "outputs": [
    {
     "name": "stdout",
     "output_type": "stream",
     "text": [
      "False\n",
      "True\n",
      "False\n"
     ]
    }
   ],
   "source": [
    "'''\n",
    "8. isnumeric\n",
    "Return True if there are only numeric characters in S, False otherwise.\n",
    "Very similar to the anydigit in SAS :)\n",
    "Gives True if all bytes are numbers 0-9\n",
    "'''\n",
    "a=\"amit1\"\n",
    "print(a.isnumeric())\n",
    "\n",
    "b=\"1123\"\n",
    "print(b.isnumeric())\n",
    "\n",
    "c=\"0.5\"\n",
    "print(c.isnumeric())"
   ]
  },
  {
   "cell_type": "code",
   "execution_count": 8,
   "metadata": {},
   "outputs": [
    {
     "name": "stdout",
     "output_type": "stream",
     "text": [
      "True\n",
      "False\n",
      "False\n"
     ]
    }
   ],
   "source": [
    "'''\n",
    "9. isdigit\n",
    "Return True if all characters in String are digits and there is at least one byte in S,\n",
    "False otherwise.\n",
    "'''\n",
    "a=\"1\"\n",
    "print(a.isdigit())\n",
    "\n",
    "b=\"1123a\"\n",
    "print(b.isdigit())\n",
    "\n",
    "c=\"0.5\"\n",
    "print(c.isdigit())"
   ]
  },
  {
   "cell_type": "code",
   "execution_count": null,
   "metadata": {},
   "outputs": [],
   "source": [
    "'''\n",
    "9.1 Application of isnumeric()\n",
    "\n",
    "The below code fails as the user has inputted a number; however it takes the input as string\n",
    "'''\n",
    "#Problem\n",
    "n=input(\"Enter the number\")\n",
    "print(f\"{n} * 3 = {n*3}\")\n",
    "#Solution\n",
    "n=input(\"Enter the number\")\n",
    "if n.isdigit():\n",
    "    n=int(n)\n",
    "    print(f\"{n} * 3 = {n*3}\")\n",
    "else:\n",
    "    print(f\"please enter a number, you have entered {n}\")"
   ]
  },
  {
   "cell_type": "code",
   "execution_count": 10,
   "metadata": {},
   "outputs": [
    {
     "name": "stdout",
     "output_type": "stream",
     "text": [
      "True\n",
      "False\n"
     ]
    }
   ],
   "source": [
    "'''\n",
    "7.2 Difference in isnumeric and isdgit.\n",
    "isnumeric:consider all numeric values\n",
    "isdgit: consider only 0-9\n",
    "'''\n",
    "a='一二' #chinese for 1 and 2 respectively\n",
    "print(a.isnumeric())\n",
    "print(a.isdigit())"
   ]
  },
  {
   "cell_type": "code",
   "execution_count": 12,
   "metadata": {},
   "outputs": [
    {
     "name": "stdout",
     "output_type": "stream",
     "text": [
      "2\n",
      "3\n"
     ]
    }
   ],
   "source": [
    "'''\n",
    "8. count\n",
    "Return the number of non-overlapping occurrences of substring sub in\n",
    "string S[start:end].  Optional arguments start and end are\n",
    "interpreted as in slice notation.\n",
    "'''\n",
    "s='amitabh'\n",
    "print(s.count(\"a\"))\n",
    "\n",
    "s='amitaambham'\n",
    "print(s.count(\"am\"))"
   ]
  },
  {
   "cell_type": "code",
   "execution_count": 13,
   "metadata": {},
   "outputs": [
    {
     "name": "stdout",
     "output_type": "stream",
     "text": [
      "1\n",
      "0\n"
     ]
    }
   ],
   "source": [
    "'''\n",
    "8.1 It can also take the start and stop values in the search string.\n",
    "'''\n",
    "s='amitabh'\n",
    "print(s.count(\"a\",1))\n",
    "\n",
    "s='amitabh'\n",
    "print(s.count(\"m\",3,6))"
   ]
  },
  {
   "cell_type": "code",
   "execution_count": 14,
   "metadata": {},
   "outputs": [
    {
     "name": "stdout",
     "output_type": "stream",
     "text": [
      "Enter your stringafhknd134kbkb\n",
      "The count of digits is 3 and characters is 10 in afhknd134kbkb \n"
     ]
    }
   ],
   "source": [
    "'''\n",
    "8.2 Use the anydigit and count function to count the alphabet and number in a string, \n",
    "take input from user\n",
    "'''\n",
    "s=input(\"Enter your string\")\n",
    "d=0\n",
    "c=0\n",
    "for i in s:\n",
    "    if i.isdigit():\n",
    "        d+=1\n",
    "    else:\n",
    "        c+=1\n",
    "print(f\"The count of digits is {d} and characters is {c} in {s} \")"
   ]
  },
  {
   "cell_type": "code",
   "execution_count": null,
   "metadata": {},
   "outputs": [],
   "source": [
    "'''\n",
    "8.3 Accomplish the above code with a user defined function\n",
    "'''\n",
    "def county():\n",
    "    s=input(\"Enter your string\")\n",
    "    d=c=0\n",
    "    for i in s:\n",
    "        if i.isdigit():\n",
    "            d+=1\n",
    "        else:\n",
    "            c+=1\n",
    "    print(f\"The count of digits is {d} and characters is {c} in {s} \")\n",
    "\n",
    "county()"
   ]
  },
  {
   "cell_type": "code",
   "execution_count": 9,
   "metadata": {},
   "outputs": [
    {
     "name": "stdout",
     "output_type": "stream",
     "text": [
      "a:3\n",
      "m:2\n",
      "i:2\n",
      "t:0\n",
      "a:3 m:2 i:2 t:0 "
     ]
    }
   ],
   "source": [
    "'''8.4 Count how many alphabets match between parent and child string, look at the output'''\n",
    "\n",
    "ch=\"amit\"\n",
    "pa=\"my name is kaka ji\"\n",
    "\n",
    "for i in ch:\n",
    "    print(f\"{i}:{pa.count(i)}\")\n",
    "    \n",
    "#for the output in a single line, we can use end\n",
    "\n",
    "ch=\"amit\"\n",
    "pa=\"my name is kaka ji\"\n",
    "\n",
    "for i in ch:\n",
    "    print(f\"{i}:{pa.count(i)}\",end=\" \")"
   ]
  },
  {
   "cell_type": "code",
   "execution_count": 16,
   "metadata": {},
   "outputs": [
    {
     "name": "stdout",
     "output_type": "stream",
     "text": [
      "0\n",
      "7\n"
     ]
    }
   ],
   "source": [
    "'''\n",
    "9. find\n",
    "Return the lowest index in S where substring sub is found,\n",
    "such that sub is contained within S[start:end].  Optional\n",
    "arguments start and end are interpreted as in slice notation.\n",
    "'''\n",
    "a=\"amitabh\"\n",
    "print(a.find('a'))\n"
   ]
  },
  {
   "cell_type": "code",
   "execution_count": 17,
   "metadata": {},
   "outputs": [
    {
     "name": "stdout",
     "output_type": "stream",
     "text": [
      "6\n"
     ]
    }
   ],
   "source": [
    "'''\n",
    "9.2\n",
    "You can also give start and stop value in the find method and it would give the position\n",
    "\n",
    "The index() method is similar to find() method for strings. \n",
    "The only difference is that find() method returns -1 if the substring is not found, \n",
    "whereas index() throws an exception.\n",
    "'''\n",
    "a=\"amitabh\"\n",
    "print(a.find('h',0,7))"
   ]
  },
  {
   "cell_type": "code",
   "execution_count": 21,
   "metadata": {},
   "outputs": [
    {
     "name": "stdout",
     "output_type": "stream",
     "text": [
      "4\n"
     ]
    }
   ],
   "source": [
    "'''\n",
    "10. index\n",
    "Return the lowest index in S where substring sub is found, \n",
    "such that sub is contained within S[start:end].  Optional\n",
    "arguments start and end are interpreted as in slice notation.\n",
    "'''\n",
    "a=\"amitabh\"\n",
    "print(a.rindex(\"a\"))"
   ]
  },
  {
   "cell_type": "code",
   "execution_count": 20,
   "metadata": {},
   "outputs": [
    {
     "name": "stdout",
     "output_type": "stream",
     "text": [
      "4\n"
     ]
    }
   ],
   "source": [
    "'''\n",
    "10.1 You can also give the start and stop values in the index function.\n",
    "'''\n",
    "a=\"amitabh\"\n",
    "print(a.rindex(\"a\",1,6))"
   ]
  },
  {
   "cell_type": "code",
   "execution_count": 22,
   "metadata": {},
   "outputs": [
    {
     "name": "stdout",
     "output_type": "stream",
     "text": [
      "True\n",
      "False\n"
     ]
    }
   ],
   "source": [
    "'''\n",
    "11. endswith\n",
    "Return True if S ends with the specified suffix, False otherwise.\n",
    "With optional start, test S beginning at that position.\n",
    "With optional end, stop comparing S at that position.\n",
    "suffix can also be a tuple of strings to try.\n",
    "'''\n",
    "a=\"amit\"\n",
    "print(a.endswith(\"t\"))\n",
    "\n",
    "a=\"amit\"\n",
    "print(a.endswith(\"k\"))"
   ]
  },
  {
   "cell_type": "code",
   "execution_count": 23,
   "metadata": {},
   "outputs": [
    {
     "name": "stdout",
     "output_type": "stream",
     "text": [
      "False\n",
      "True\n"
     ]
    }
   ],
   "source": [
    "'''\n",
    "11.1\n",
    "Start and stop values can also be given\n",
    "'''\n",
    "a=\"amitabh\"\n",
    "print(a.endswith(\"t\",1,3))\n",
    "\n",
    "a=\"amitabh\"\n",
    "print(a.endswith(\"h\",4,7))"
   ]
  },
  {
   "cell_type": "code",
   "execution_count": 4,
   "metadata": {},
   "outputs": [
    {
     "name": "stdout",
     "output_type": "stream",
     "text": [
      "-1\n"
     ]
    }
   ],
   "source": [
    "'''\n",
    "12. rfind\n",
    "Return the highest index in S where substring sub is found,\n",
    "such that sub is contained within S[start:end].  Optional\n",
    "arguments start and end are interpreted as in slice notation.\n",
    "\n",
    "Return -1 on failure.\n",
    "'''\n",
    "s=\"bmitabh\"\n",
    "print(s.rfind(\"j\"))"
   ]
  },
  {
   "cell_type": "code",
   "execution_count": 10,
   "metadata": {},
   "outputs": [
    {
     "name": "stdout",
     "output_type": "stream",
     "text": [
      "The first value is 0 and highest is 4\n"
     ]
    }
   ],
   "source": [
    "'''\n",
    "12.1 Give the lowest and highest occurence of a byte in a string. Use find and rfind\n",
    "'''\n",
    "s=\"amitabh\"\n",
    "print(f\"The first value is {s.find('a')} and highest is {s.rfind('a')}\")\n"
   ]
  },
  {
   "cell_type": "code",
   "execution_count": 24,
   "metadata": {},
   "outputs": [
    {
     "name": "stdout",
     "output_type": "stream",
     "text": [
      "a-m-i-t-a-b-h\n"
     ]
    }
   ],
   "source": [
    "'''\n",
    "13. join\n",
    "Return a string which is the concatenation of the strings in the\n",
    "iterable.  The separator between elements is S.\n",
    "'''\n",
    "print(\"-\".join(\"amitabh\"))"
   ]
  },
  {
   "cell_type": "code",
   "execution_count": 26,
   "metadata": {},
   "outputs": [
    {
     "name": "stdout",
     "output_type": "stream",
     "text": [
      "a-b-c-d\n",
      "a k l m\n"
     ]
    }
   ],
   "source": [
    "'''\n",
    "13.1 \n",
    "The iterable could be a list or Tuple  as well.\n",
    "'''\n",
    "print(\"-\".join([\"a\",\"b\",\"c\",\"d\"]))\n",
    "\n",
    "print(\" \".join((\"a\",\"k\",\"l\",\"m\")))"
   ]
  },
  {
   "cell_type": "code",
   "execution_count": 27,
   "metadata": {},
   "outputs": [
    {
     "name": "stdout",
     "output_type": "stream",
     "text": [
      "['amit', 'was', 'here']\n"
     ]
    }
   ],
   "source": [
    "'''\n",
    "14. split\n",
    "\n",
    "Return a list of the words in S, using sep as the\n",
    "delimiter string.  If maxsplit is given, at most maxsplit\n",
    "splits are done. If sep is not specified or is None, any\n",
    "whitespace string is a separator and empty strings are\n",
    "removed from the result.\n",
    "'''\n",
    "a=\"amit was here\"\n",
    "print(a.split(sep=\" \"))"
   ]
  },
  {
   "cell_type": "code",
   "execution_count": 2,
   "metadata": {},
   "outputs": [
    {
     "name": "stdout",
     "output_type": "stream",
     "text": [
      "amit\n",
      "was here\n"
     ]
    }
   ],
   "source": [
    "'''\n",
    "14.1\n",
    "maxsplit\n",
    "This would now split the string in 2 elements with index 0 and 1\n",
    "Now the list is iterable and you can use in for loop\n",
    "For -ve values it would split as per the delimeter\n",
    "'''\n",
    "a=\"amit was here\"\n",
    "for i in a.split(sep=\" \",maxsplit=1):\n",
    "    print(i)"
   ]
  },
  {
   "cell_type": "code",
   "execution_count": 18,
   "metadata": {},
   "outputs": [
    {
     "name": "stdout",
     "output_type": "stream",
     "text": [
      "bmitbbh\n"
     ]
    }
   ],
   "source": [
    "'''15. Replace\n",
    "S.replace(old, new[, count]) -> str\n",
    "\n",
    "Return a copy of S with all occurrences of substring\n",
    "old replaced by new.  If the optional argument count is\n",
    "given, only the first count occurrences are replaced.\n",
    "'''\n",
    "a=\"amitabh\"\n",
    "print(a.replace(\"a\",\"b\"))"
   ]
  },
  {
   "cell_type": "code",
   "execution_count": 1,
   "metadata": {},
   "outputs": [
    {
     "name": "stdout",
     "output_type": "stream",
     "text": [
      "xmitxbhx\n"
     ]
    }
   ],
   "source": [
    "'''15.1 Replace with the occurence. 1 is first and 2 is 2 occurences\n",
    "The first 2 are now replaced by x and the third a is not touched\n",
    "'''\n",
    "a=\"amitabha\"\n",
    "print(a.replace(\"a\",\"x\",))"
   ]
  },
  {
   "cell_type": "code",
   "execution_count": null,
   "metadata": {},
   "outputs": [],
   "source": []
  }
 ],
 "metadata": {
  "kernelspec": {
   "display_name": "Python 3",
   "language": "python",
   "name": "python3"
  },
  "language_info": {
   "codemirror_mode": {
    "name": "ipython",
    "version": 3
   },
   "file_extension": ".py",
   "mimetype": "text/x-python",
   "name": "python",
   "nbconvert_exporter": "python",
   "pygments_lexer": "ipython3",
   "version": "3.7.4"
  }
 },
 "nbformat": 4,
 "nbformat_minor": 2
}
