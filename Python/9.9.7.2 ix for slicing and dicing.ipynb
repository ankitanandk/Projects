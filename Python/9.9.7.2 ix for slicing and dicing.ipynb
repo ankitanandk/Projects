{
 "cells": [
  {
   "cell_type": "code",
   "execution_count": null,
   "metadata": {},
   "outputs": [],
   "source": [
    "'''0. Besides pure label based and integer based, \n",
    "Pandas provides a hybrid method for selections and subsetting the object using the .ix() operator.\n",
    "\n",
    "All rows for the 4th column\n",
    "\n",
    "However the ix is now depreciated and most indexing is done using .loc and .iloc\n",
    "Prefer .iloc :)\n",
    "'''\n",
    "\n",
    "import pandas as pd\n",
    "df=pd.read_csv('/Users/AHAAN/Desktop/Amit_Python/9. data Frames/admit.csv')\n",
    "df.ix[:,[4]]"
   ]
  },
  {
   "cell_type": "code",
   "execution_count": 1,
   "metadata": {
    "scrolled": false
   },
   "outputs": [
    {
     "name": "stdout",
     "output_type": "stream",
     "text": [
      "             Name  Age\n",
      "0       Murray, W   27\n",
      "1       Almers, C   34\n",
      "2  Bonaventure, T   31\n"
     ]
    },
    {
     "name": "stderr",
     "output_type": "stream",
     "text": [
      "/anaconda3/lib/python3.6/site-packages/ipykernel_launcher.py:5: DeprecationWarning: \n",
      ".ix is deprecated. Please use\n",
      ".loc for label based indexing or\n",
      ".iloc for positional indexing\n",
      "\n",
      "See the documentation here:\n",
      "http://pandas.pydata.org/pandas-docs/stable/indexing.html#ix-indexer-is-deprecated\n",
      "  \"\"\"\n"
     ]
    }
   ],
   "source": [
    "'''1. 0,1,2 rows for Name and Age column'''\n",
    "\n",
    "import pandas as pd\n",
    "df=pd.read_csv('/Users/AHAAN/Desktop/Amit_Python/9. data Frames/admit.csv')\n",
    "print(df.ix[0:2,['Name','Age']])"
   ]
  },
  {
   "cell_type": "code",
   "execution_count": null,
   "metadata": {
    "scrolled": true
   },
   "outputs": [],
   "source": [
    "import pandas as pd\n",
    "df=pd.read_csv('/Users/AHAAN/Desktop/Amit_Python/9. data Frames/admit.csv')\n",
    "df.ix[:,4:6]"
   ]
  }
 ],
 "metadata": {
  "kernelspec": {
   "display_name": "Python 3",
   "language": "python",
   "name": "python3"
  },
  "language_info": {
   "codemirror_mode": {
    "name": "ipython",
    "version": 3
   },
   "file_extension": ".py",
   "mimetype": "text/x-python",
   "name": "python",
   "nbconvert_exporter": "python",
   "pygments_lexer": "ipython3",
   "version": "3.7.3"
  }
 },
 "nbformat": 4,
 "nbformat_minor": 2
}
