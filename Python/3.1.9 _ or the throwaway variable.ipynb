{
 "cells": [
  {
   "cell_type": "code",
   "execution_count": 3,
   "metadata": {},
   "outputs": [
    {
     "name": "stdout",
     "output_type": "stream",
     "text": [
      "10\n"
     ]
    }
   ],
   "source": [
    "'''0. What is _ in Python\n",
    "It's just a variable name, and it's conventional in python to use _ for throwaway variables. \n",
    "It just indicates that the loop variable isn't actually used. The python interpreter stores \n",
    "the last expression value \n",
    "to the special variable called _ . The underscore _ is also used for ignoring the specific values.\n",
    "'''\n",
    "#The valueof 3+2 is now stored in _ or the last expression and we can use it for any purpose\n",
    "\n",
    "3+2\n",
    "#The 5 is stored in _ and adding 5 would give 10\n",
    "print(_+5)"
   ]
  },
  {
   "cell_type": "code",
   "execution_count": 6,
   "metadata": {},
   "outputs": [
    {
     "data": {
      "text/plain": [
       "[2, 4, 4]"
      ]
     },
     "execution_count": 6,
     "metadata": {},
     "output_type": "execute_result"
    }
   ],
   "source": [
    "'''0.1 The length of every item of list using comprehension and _'''\n",
    "l=[\"Om\",\"Baba\",\"Kaka\"]\n",
    "[len(_) for _ in l]"
   ]
  },
  {
   "cell_type": "code",
   "execution_count": 5,
   "metadata": {},
   "outputs": [
    {
     "data": {
      "text/plain": [
       "['A', 'B', 'K']"
      ]
     },
     "execution_count": 5,
     "metadata": {},
     "output_type": "execute_result"
    }
   ],
   "source": [
    "'''1. lets say we need the first alphabet from the list to a new list'''\n",
    "l=[\"Amit\",\"Baba\",\"Kaka\"]\n",
    "[_[0] for _ in l]"
   ]
  },
  {
   "cell_type": "code",
   "execution_count": 7,
   "metadata": {},
   "outputs": [
    {
     "data": {
      "text/plain": [
       "[1, 4, 9]"
      ]
     },
     "execution_count": 7,
     "metadata": {},
     "output_type": "execute_result"
    }
   ],
   "source": [
    "'''2. For squaring every value from a list using list comp and _'''\n",
    "l=[1,2,3]\n",
    "[_**2 for _ in l]"
   ]
  },
  {
   "cell_type": "code",
   "execution_count": 8,
   "metadata": {},
   "outputs": [
    {
     "name": "stdout",
     "output_type": "stream",
     "text": [
      "Amit KUMAR\n"
     ]
    },
    {
     "data": {
      "text/plain": [
       "'Amit-Kumar'"
      ]
     },
     "execution_count": 8,
     "metadata": {},
     "output_type": "execute_result"
    }
   ],
   "source": [
    "'''3. Joining the strings from user... first and last name '''\n",
    "z = lambda c = [_.capitalize() for _ in input().split()]: '-'.join(c) \n",
    "z()"
   ]
  },
  {
   "cell_type": "code",
   "execution_count": 13,
   "metadata": {},
   "outputs": [
    {
     "name": "stdout",
     "output_type": "stream",
     "text": [
      "Enter the stringsbaba madam bob\n"
     ]
    },
    {
     "data": {
      "text/plain": [
       "['madam', 'bob']"
      ]
     },
     "execution_count": 13,
     "metadata": {},
     "output_type": "execute_result"
    }
   ],
   "source": [
    "'''4. Taking inputs from user and just keeping the pallindromes'''\n",
    "def pa():\n",
    "    s=input(\"Enter the strings\").split()\n",
    "    new=[]\n",
    "    for _ in s:\n",
    "        if _.lower()==_[::-1].lower():\n",
    "            new.append(_.lower())\n",
    "    return new\n",
    "pa()      \n"
   ]
  },
  {
   "cell_type": "code",
   "execution_count": 14,
   "metadata": {},
   "outputs": [
    {
     "name": "stdout",
     "output_type": "stream",
     "text": [
      "Enter the stringsbaba madam bob\n"
     ]
    },
    {
     "data": {
      "text/plain": [
       "['madam', 'bob']"
      ]
     },
     "execution_count": 14,
     "metadata": {},
     "output_type": "execute_result"
    }
   ],
   "source": [
    "'''5. Using the lamda fxn'''\n",
    "pa=lambda s=[_ for _ in input(\"Enter the strings\").split() if _==_[::-1]]:s\n",
    "pa()"
   ]
  }
 ],
 "metadata": {
  "kernelspec": {
   "display_name": "Python 3",
   "language": "python",
   "name": "python3"
  },
  "language_info": {
   "codemirror_mode": {
    "name": "ipython",
    "version": 3
   },
   "file_extension": ".py",
   "mimetype": "text/x-python",
   "name": "python",
   "nbconvert_exporter": "python",
   "pygments_lexer": "ipython3",
   "version": "3.7.4"
  }
 },
 "nbformat": 4,
 "nbformat_minor": 2
}
