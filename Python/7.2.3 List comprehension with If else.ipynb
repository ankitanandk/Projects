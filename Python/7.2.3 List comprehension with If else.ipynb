{
 "cells": [
  {
   "cell_type": "code",
   "execution_count": 8,
   "metadata": {},
   "outputs": [
    {
     "name": "stdout",
     "output_type": "stream",
     "text": [
      "[2, 4, 6, 8, 10]\n",
      "[2, 4, 6, 8, 10]\n"
     ]
    }
   ],
   "source": [
    "'''\n",
    "1. Let's try and understand to populate list conditionally , just using \"if\"\n",
    "Let's try the traditional method and List comprehension\n",
    "'''\n",
    "# Append the even numbers in list between 1 and 11\n",
    "l=list(range(1,11))\n",
    "nums=[]\n",
    "for i in l:\n",
    "    if i%2==0:\n",
    "        nums.append(i)\n",
    "print(nums)\n",
    "\n",
    "'''\n",
    "The above program can be simplified using list comprehension :) :)\n",
    "'''\n",
    "new=[i for i in range(1,11) if i%2==0 ]\n",
    "print(new)\n",
    "    "
   ]
  },
  {
   "cell_type": "code",
   "execution_count": 11,
   "metadata": {},
   "outputs": [
    {
     "name": "stdout",
     "output_type": "stream",
     "text": [
      "[1, 3, 5, 7, 9]\n"
     ]
    }
   ],
   "source": [
    "'''\n",
    "2. Let's try and create a list for odd numbers using the list comprehension.\n",
    "'''\n",
    "odd=[i for i in range(1,11) if i%2==1]\n",
    "print(odd)"
   ]
  },
  {
   "cell_type": "code",
   "execution_count": 1,
   "metadata": {},
   "outputs": [
    {
     "name": "stdout",
     "output_type": "stream",
     "text": [
      "[1, 99, 6.7]\n"
     ]
    }
   ],
   "source": [
    "'''\n",
    "3. Take the below list that have all sort of values, separate the numbers and floats and input in new list.\n",
    "Use both the methods of append and list comprehension.\n",
    "'''\n",
    "l=[True,False,\"a\",1,99,6.7]\n",
    "n=[]\n",
    "for i in l:\n",
    "    if type(i) in (int,float):\n",
    "        n.append(i)\n",
    "# Using the list comprehension and if statements       \n",
    "new=[i for i in l if type(i) in (int,float)]\n",
    "print(new)"
   ]
  },
  {
   "cell_type": "code",
   "execution_count": 16,
   "metadata": {},
   "outputs": [
    {
     "name": "stdout",
     "output_type": "stream",
     "text": [
      "[-1, 4, -3, 8]\n"
     ]
    }
   ],
   "source": [
    "'''\n",
    "4. If else with List comprehension\n",
    "Let's try and understand to populate list conditionally , now if else if.\n",
    "If number is even, append the square else -ve of the number.\n",
    "'''\n",
    "l=[1,2,3,4]\n",
    "new=[]\n",
    "for i in l:\n",
    "    if i%2==0:\n",
    "        new.append(i*2)\n",
    "    else:\n",
    "        new.append(-i)\n",
    "print(new)\n"
   ]
  },
  {
   "cell_type": "code",
   "execution_count": 19,
   "metadata": {},
   "outputs": [
    {
     "name": "stdout",
     "output_type": "stream",
     "text": [
      "[-1, 4, -3, 8]\n"
     ]
    }
   ],
   "source": [
    "'''\n",
    "5. Let's try the above problem using the list comprehension.\n",
    "Note: The synatx is [True value- condition- else - for loop] \n",
    "'''\n",
    "l=[1,2,3,4]\n",
    "new=[i*2 if i%2==0 else -i for i in l]\n",
    "print(new)"
   ]
  },
  {
   "cell_type": "code",
   "execution_count": 20,
   "metadata": {},
   "outputs": [
    {
     "name": "stdout",
     "output_type": "stream",
     "text": [
      "[[1, 2, 3], [1, 2, 3], [1, 2, 3], [1, 2, 3]]\n"
     ]
    }
   ],
   "source": [
    "'''\n",
    "6. How to create nested lists, [[1,2,3][4,5,6]] using list comprehension.\n",
    "'''\n",
    "new=[[i for i in range(1,4)] for i in range(1,5)]\n",
    "print(new)"
   ]
  },
  {
   "cell_type": "code",
   "execution_count": 2,
   "metadata": {},
   "outputs": [
    {
     "data": {
      "text/plain": [
       "[[[1, 2], [1, 2], [1, 2], [1, 2]],\n",
       " [[1, 2], [1, 2], [1, 2], [1, 2]],\n",
       " [[1, 2], [1, 2], [1, 2], [1, 2]]]"
      ]
     },
     "execution_count": 2,
     "metadata": {},
     "output_type": "execute_result"
    }
   ],
   "source": [
    "'''\n",
    "6.1 What would the below code do, this would create a nest list, a matrix feel\n",
    "'''\n",
    "n=[[[i for i in range(1,3)] for i in range(1,5)] for i in range(1,4)]\n",
    "n"
   ]
  },
  {
   "cell_type": "code",
   "execution_count": 23,
   "metadata": {},
   "outputs": [
    {
     "name": "stdout",
     "output_type": "stream",
     "text": [
      "[1, 2, 3, 4, 5, 6, 7, 8, 9, 10, 11, 12]\n"
     ]
    }
   ],
   "source": [
    "'''\n",
    "7. Let's create  a function that would create a list as per the user's wish\n",
    "Use def and list comprehension.\n",
    "'''\n",
    "def new(n,m):\n",
    "    l=[i for i in range(n,m)]\n",
    "    print(l)\n",
    "    \n",
    "new(1,13)"
   ]
  },
  {
   "cell_type": "code",
   "execution_count": null,
   "metadata": {},
   "outputs": [],
   "source": [
    "'''\n",
    "8. Create a new list with values having count=1, use list comprehension\n",
    "use the list method\n",
    "'''\n",
    "l=[1,2,3,4,4,5,6,6,4,4,3]\n",
    "new=[i for i in l if l.count(i)==1]\n",
    "new"
   ]
  },
  {
   "cell_type": "code",
   "execution_count": null,
   "metadata": {},
   "outputs": [],
   "source": [
    "'''\n",
    "9. Create a new list with values having count gt 1 or DUPLICATES, use list comprehension\n",
    "'''\n",
    "l=[1,2,3,4,4,5,6,6,4,4,3]\n",
    "new=[i for i in l if l.count(i)>1 ]\n",
    "new"
   ]
  },
  {
   "cell_type": "code",
   "execution_count": null,
   "metadata": {},
   "outputs": [],
   "source": [
    "'''\n",
    "9.1 Create a new list that separates duplicates and nonduplicates. dups and nodups :)\n",
    "'''\n",
    "l=[1,2,3,4,4,5,6,6,4,4,3]\n",
    "[[i for i in l if l.count(i)==1], [i for i in l if l.count(i) >1]]\n",
    "\n"
   ]
  },
  {
   "cell_type": "code",
   "execution_count": null,
   "metadata": {},
   "outputs": [],
   "source": [
    "'''\n",
    "10. Create a new list with values having count =0 as code 99 and value count gt 1 or DUPLICATES as code 98, \n",
    "use list comprehension\n",
    "'''\n",
    "l=[1,2,3,4,4,5,6,6,4,4,3]\n",
    "new=[98 if l.count(i)>1 else 99 for i in l]\n",
    "new"
   ]
  }
 ],
 "metadata": {
  "kernelspec": {
   "display_name": "Python 3",
   "language": "python",
   "name": "python3"
  },
  "language_info": {
   "codemirror_mode": {
    "name": "ipython",
    "version": 3
   },
   "file_extension": ".py",
   "mimetype": "text/x-python",
   "name": "python",
   "nbconvert_exporter": "python",
   "pygments_lexer": "ipython3",
   "version": "3.7.4"
  }
 },
 "nbformat": 4,
 "nbformat_minor": 2
}
