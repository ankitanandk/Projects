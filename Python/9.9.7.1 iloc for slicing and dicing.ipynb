{
 "cells": [
  {
   "cell_type": "code",
   "execution_count": 1,
   "metadata": {},
   "outputs": [
    {
     "name": "stdout",
     "output_type": "stream",
     "text": [
      "     ID            Name Sex  Age  Date  Height  Weight ActLevel     Fee\n",
      "0  2458       Murray, W   M   27     1      72     168     HIGH   85.20\n",
      "1  2462       Almers, C   F   34     3      66     152     HIGH  124.80\n",
      "2  2501  Bonaventure, T   F   31    17      61     123      LOW  149.75\n"
     ]
    }
   ],
   "source": [
    "'''1. Top 3 rows of all columns from the frame, here the rows and columns have start and stop values'''\n",
    "import pandas as pd\n",
    "df=pd.read_csv('/Users/AHAAN/Desktop/Amit_Python/9. data Frames/admit.csv')\n",
    "print(df.iloc[:3,:])"
   ]
  },
  {
   "cell_type": "code",
   "execution_count": null,
   "metadata": {},
   "outputs": [],
   "source": [
    "'''2. Top 3 rows of first and second column. '''\n",
    "import pandas as pd\n",
    "df=pd.read_csv('/Users/AHAAN/Desktop/Amit_Python/9. data Frames/admit.csv')\n",
    "print(df.iloc[:3,:2])"
   ]
  },
  {
   "cell_type": "code",
   "execution_count": null,
   "metadata": {
    "scrolled": true
   },
   "outputs": [],
   "source": [
    "'''3. Top 3 rows of 1,5, 7 th column , the column index can be given as list as well'''\n",
    "import pandas as pd\n",
    "df=pd.read_csv('/Users/AHAAN/Desktop/Amit_Python/9. data Frames/admit.csv')\n",
    "print(df.iloc[:3,[0,4,6]])"
   ]
  },
  {
   "cell_type": "code",
   "execution_count": 2,
   "metadata": {},
   "outputs": [
    {
     "name": "stdout",
     "output_type": "stream",
     "text": [
      "      ID     Fee\n",
      "0   2458   85.20\n",
      "20  2595  149.75\n"
     ]
    }
   ],
   "source": [
    "'''4. First and last row of first and last column'''\n",
    "import pandas as pd\n",
    "df=pd.read_csv('/Users/AHAAN/Desktop/Amit_Python/9. data Frames/admit.csv')\n",
    "print(df.iloc[[0,len(df)-1],[0,len(df.columns)-1]])"
   ]
  },
  {
   "cell_type": "code",
   "execution_count": null,
   "metadata": {},
   "outputs": [],
   "source": [
    "'''5. Last 2 rows of last 2 columns'''\n",
    "import pandas as pd\n",
    "df=pd.read_csv('/Users/AHAAN/Desktop/Amit_Python/9. data Frames/admit.csv')\n",
    "print(df.iloc[len(df)-2:,len(df.columns)-2:])"
   ]
  },
  {
   "cell_type": "code",
   "execution_count": null,
   "metadata": {},
   "outputs": [],
   "source": [
    "'''6. Changing the value of a particular cell'''\n",
    "import pandas as pd\n",
    "df=pd.read_csv('/Users/AHAAN/Desktop/Amit_Python/9. data Frames/admit.csv')\n",
    "df.iloc[0:1,0:1]=1212\n",
    "df.head()"
   ]
  },
  {
   "cell_type": "code",
   "execution_count": null,
   "metadata": {},
   "outputs": [],
   "source": [
    "'''6.1 two values can be altered as well'''\n",
    "import pandas as pd\n",
    "df=pd.read_csv('/Users/AHAAN/Desktop/Amit_Python/9. data Frames/admit.csv')\n",
    "df.iloc[0:1,0:2]=1212\n",
    "df.head()"
   ]
  },
  {
   "cell_type": "code",
   "execution_count": null,
   "metadata": {},
   "outputs": [],
   "source": [
    "'''6.2 Even whole frame can be altered'''\n",
    "import pandas as pd\n",
    "df=pd.read_csv('/Users/AHAAN/Desktop/Amit_Python/9. data Frames/admit.csv')\n",
    "df.iloc[:,:]=1212\n",
    "df.head()"
   ]
  },
  {
   "cell_type": "code",
   "execution_count": null,
   "metadata": {},
   "outputs": [],
   "source": [
    "'''7. Selective'''\n",
    "df.iloc[[8,6],[7,5,0]]"
   ]
  }
 ],
 "metadata": {
  "kernelspec": {
   "display_name": "Python 3",
   "language": "python",
   "name": "python3"
  },
  "language_info": {
   "codemirror_mode": {
    "name": "ipython",
    "version": 3
   },
   "file_extension": ".py",
   "mimetype": "text/x-python",
   "name": "python",
   "nbconvert_exporter": "python",
   "pygments_lexer": "ipython3",
   "version": "3.7.3"
  }
 },
 "nbformat": 4,
 "nbformat_minor": 2
}
