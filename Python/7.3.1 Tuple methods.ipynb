{
 "cells": [
  {
   "cell_type": "code",
   "execution_count": null,
   "metadata": {},
   "outputs": [],
   "source": [
    "'''0. The dir function can reveal all methods and attributes available to a class'''\n",
    "dir(tuple)"
   ]
  },
  {
   "cell_type": "code",
   "execution_count": null,
   "metadata": {},
   "outputs": [],
   "source": [
    "'''0.1 Where all we have seen tuples\n",
    "1. return a b\n",
    "\n",
    "2. *args\n",
    "'''"
   ]
  },
  {
   "cell_type": "code",
   "execution_count": null,
   "metadata": {},
   "outputs": [],
   "source": [
    "'''1.count \n",
    "\n",
    "T.count(value) -> integer -- return number of occurrences of value\n",
    "'''\n",
    "t=(1,2,4,1)\n",
    "print(t.count(1))"
   ]
  },
  {
   "cell_type": "code",
   "execution_count": null,
   "metadata": {},
   "outputs": [],
   "source": [
    "'''\n",
    "1.1 Let's try for the tuples with string\n",
    "'''\n",
    "t=(\"a\",\"k\",\"s\",1,2,3)\n",
    "print(t.count(\"a\"))"
   ]
  },
  {
   "cell_type": "code",
   "execution_count": null,
   "metadata": {},
   "outputs": [],
   "source": [
    "'''\n",
    "1.2 if the value is not found, it would return 0\n",
    "'''\n",
    "t=(\"a\",\"k\",\"s\",1,2,3)\n",
    "print(t.count(\"j\"))"
   ]
  },
  {
   "cell_type": "code",
   "execution_count": null,
   "metadata": {},
   "outputs": [],
   "source": [
    "'''\n",
    "2.index\n",
    ".index(value, [start, [stop]]) -> integer -- return first index of value.\n",
    "Raises ValueError if the value is not present.\n",
    "'''\n",
    "t=(1,2,3,4)\n",
    "print(t.index(2))\n",
    "\n"
   ]
  },
  {
   "cell_type": "code",
   "execution_count": null,
   "metadata": {},
   "outputs": [],
   "source": [
    "'''2.0.1 If the value is not found'''\n",
    "t=(1,2,3,4)\n",
    "print(t.index(13))"
   ]
  },
  {
   "cell_type": "code",
   "execution_count": null,
   "metadata": {},
   "outputs": [],
   "source": [
    "'''2.1 Index with start '''\n",
    "t=(1,2,3,4,3,4,5,6,2)\n",
    "print(t.index(2,4))"
   ]
  },
  {
   "cell_type": "code",
   "execution_count": null,
   "metadata": {},
   "outputs": [],
   "source": [
    "'''2.2 Index with start and stop '''\n",
    "t=(1,2,3,4,3,4,5,6,2)\n",
    "print(t.index(2,4,9))"
   ]
  },
  {
   "cell_type": "code",
   "execution_count": null,
   "metadata": {},
   "outputs": [],
   "source": [
    "'''2.3 Index with start and stop '''\n",
    "t=(1,2,3,4,3,4,5,6,2)\n",
    "print(t.index(2,0,4))"
   ]
  }
 ],
 "metadata": {
  "kernelspec": {
   "display_name": "Python 3",
   "language": "python",
   "name": "python3"
  },
  "language_info": {
   "codemirror_mode": {
    "name": "ipython",
    "version": 3
   },
   "file_extension": ".py",
   "mimetype": "text/x-python",
   "name": "python",
   "nbconvert_exporter": "python",
   "pygments_lexer": "ipython3",
   "version": "3.7.3"
  }
 },
 "nbformat": 4,
 "nbformat_minor": 2
}
