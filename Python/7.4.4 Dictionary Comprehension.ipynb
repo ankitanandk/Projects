{
 "cells": [
  {
   "cell_type": "code",
   "execution_count": 1,
   "metadata": {},
   "outputs": [
    {
     "data": {
      "text/plain": [
       "{1: 1, 2: 2, 3: 3, 4: 4, 5: 5}"
      ]
     },
     "execution_count": 1,
     "metadata": {},
     "output_type": "execute_result"
    }
   ],
   "source": [
    "'''\n",
    "1. Dictionary comprehension can be used to create a dictionary with key value pairs\n",
    "Below is the synatx\n",
    "{key: value for loop}\n",
    "'''\n",
    "{i: i for i in range(1,6)}"
   ]
  },
  {
   "cell_type": "code",
   "execution_count": 4,
   "metadata": {},
   "outputs": [
    {
     "data": {
      "text/plain": [
       "{2: 1, 4: 4, 6: 9, 8: 16, 10: 25}"
      ]
     },
     "execution_count": 4,
     "metadata": {},
     "output_type": "execute_result"
    }
   ],
   "source": [
    "'''\n",
    "1.1 Guess the below code output\n",
    "{key: value for loop}\n",
    "'''\n",
    "{i+i: i**2 for i in range(1,6)}"
   ]
  },
  {
   "cell_type": "code",
   "execution_count": 6,
   "metadata": {},
   "outputs": [
    {
     "data": {
      "text/plain": [
       "{'s': 2, 'm': 1, 'a': 2, 'r': 1, 't': 2, 'y': 1, 'p': 1, 'n': 1}"
      ]
     },
     "execution_count": 6,
     "metadata": {},
     "output_type": "execute_result"
    }
   ],
   "source": [
    "'''2. Lets try and count the count of alphabets in a string, also remember the key would be unique'''\n",
    "s='smartypants'\n",
    "{i: s.count(i) for i in s }"
   ]
  },
  {
   "cell_type": "code",
   "execution_count": 9,
   "metadata": {
    "scrolled": false
   },
   "outputs": [
    {
     "data": {
      "text/plain": [
       "{'s': 'ss',\n",
       " 'm': 'mm',\n",
       " 'a': 'aa',\n",
       " 'r': 'rr',\n",
       " 't': 'tt',\n",
       " 'y': 'yy',\n",
       " 'p': 'pp',\n",
       " 'n': 'nn'}"
      ]
     },
     "execution_count": 9,
     "metadata": {},
     "output_type": "execute_result"
    }
   ],
   "source": [
    "'''2.1 Guess the output of the below dictionary comprehansion program'''\n",
    "s='smartypants'\n",
    "{i: i*2 for i in s }"
   ]
  },
  {
   "cell_type": "code",
   "execution_count": 10,
   "metadata": {},
   "outputs": [
    {
     "data": {
      "text/plain": [
       "{'excel': 1, 'and': 2, 'sas': 1, 'python': 1}"
      ]
     },
     "execution_count": 10,
     "metadata": {},
     "output_type": "execute_result"
    }
   ],
   "source": [
    "'''3. *Let's attempt to convert a string into a dictionary key and value pairs'''\n",
    "s=\"excel and sas and python\"\n",
    "{i: s.count(i) for i in s.split(\" \")}"
   ]
  },
  {
   "cell_type": "code",
   "execution_count": 14,
   "metadata": {
    "scrolled": false
   },
   "outputs": [
    {
     "data": {
      "text/plain": [
       "{'and': 2, 'sas': 1, 'python': 1}"
      ]
     },
     "execution_count": 14,
     "metadata": {},
     "output_type": "execute_result"
    }
   ],
   "source": [
    "'''4. Let's attempt to convert a string into a dictionary key and value pairs using parent and child\n",
    "use the child to search in parent and return the match count\n",
    "'''\n",
    "p=\"excel and sas and python are cool\"\n",
    "c=\"and#sas#python\"\n",
    "{i: p.count(i) for i in c.split(\"#\")}"
   ]
  },
  {
   "cell_type": "code",
   "execution_count": 15,
   "metadata": {},
   "outputs": [
    {
     "data": {
      "text/plain": [
       "{'and': 2}"
      ]
     },
     "execution_count": 15,
     "metadata": {},
     "output_type": "execute_result"
    }
   ],
   "source": [
    "'''4.1 We can also apply filter on the dictionary comprehension, look at the below code which searches\n",
    "child in parent and only return count of duplicates'''\n",
    "p=\"excel and sas and python are cool\"\n",
    "c=\"and#sas#python\"\n",
    "{i: p.count(i) for i in c.split(\"#\") if p.count(i)>1}"
   ]
  }
 ],
 "metadata": {
  "kernelspec": {
   "display_name": "Python 3",
   "language": "python",
   "name": "python3"
  },
  "language_info": {
   "codemirror_mode": {
    "name": "ipython",
    "version": 3
   },
   "file_extension": ".py",
   "mimetype": "text/x-python",
   "name": "python",
   "nbconvert_exporter": "python",
   "pygments_lexer": "ipython3",
   "version": "3.7.4"
  }
 },
 "nbformat": 4,
 "nbformat_minor": 2
}
