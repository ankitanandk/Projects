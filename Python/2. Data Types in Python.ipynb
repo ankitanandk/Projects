{
 "cells": [
  {
   "cell_type": "code",
   "execution_count": null,
   "metadata": {},
   "outputs": [],
   "source": [
    "'''\n",
    "0. Data types: Below are the 5 standard data types/classes or the containers in Python, \n",
    "We would learn in great detail about each type in coming topics :)\n",
    "\n",
    "Besides that we would also study in Advance Python about\n",
    "Numpy Arrays and Pandas Dataframes, these are commonly used in Datascience and AI/ML.\n",
    "    \n",
    "a) Numbers\n",
    "\n",
    "b) String\n",
    "\n",
    "c) List\n",
    "\n",
    "d) Tuple\n",
    "\n",
    "e) Dictionary/Dictionaries\n",
    "\n",
    "*f) Sets  (Very Less used, good to know)\n",
    "\n",
    "'''"
   ]
  }
 ],
 "metadata": {
  "kernelspec": {
   "display_name": "Python 3",
   "language": "python",
   "name": "python3"
  },
  "language_info": {
   "codemirror_mode": {
    "name": "ipython",
    "version": 3
   },
   "file_extension": ".py",
   "mimetype": "text/x-python",
   "name": "python",
   "nbconvert_exporter": "python",
   "pygments_lexer": "ipython3",
   "version": "3.7.4"
  }
 },
 "nbformat": 4,
 "nbformat_minor": 2
}
