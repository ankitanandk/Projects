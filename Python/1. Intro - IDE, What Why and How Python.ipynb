{
 "cells": [
  {
   "cell_type": "markdown",
   "metadata": {},
   "source": [
    "0. What is Anaconda.\n",
    "\n",
    "Anaconda is an suite that houses many Python based IDE's and other open source softwares. We would leverage the Jupyter Notebook and Spyder in this course."
   ]
  },
  {
   "cell_type": "markdown",
   "metadata": {},
   "source": [
    "1. What is IDE in Python:\n",
    "\n",
    "IDE stands for (Integrated Development Environment) in Python. \n",
    "A platform/Tool that facilitates coding and development.\n",
    "\n",
    "Jupyter Notebok and Spyder for Machin Learning in the Anacond Suite would be leveraged for this course.\n",
    "\n",
    "The Jupyter notebook files have an extenison of .ipynb(i Python Notebook) for codes and the usual best practice is .py \n",
    "(Python) for all other Editors.\n",
    "\n",
    "Stick to .py :)\n",
    "\n"
   ]
  },
  {
   "cell_type": "markdown",
   "metadata": {},
   "source": [
    "2. What is Python?\n",
    "\n",
    "Python is a high-level, interpreted scripting language.\n",
    "\n",
    "Python is an easy to learn, powerful programming language. \n",
    "It has efficient high-level data structures and a simple but effective approach to object-oriented programming.\n",
    "Python’s elegant syntax and dynamic typing, together with its interpreted nature, \n",
    "make it an ideal language for scripting and rapid application development in many areas and on most platforms."
   ]
  },
  {
   "cell_type": "markdown",
   "metadata": {},
   "source": [
    "3. What is a High level language?\n",
    "\n",
    "What makes a language \"High\" level is how far away from machine code it is. How many layers away from simple 0s and 1s. Generally, interpreted languages are high level, while compiled languages are more low level. \n",
    "\n",
    "In order from lowest to highest:\n",
    "\n",
    "Low:\n",
    "Assembly\n",
    "C\n",
    "\n",
    "High: \n",
    "Python/Perl/Php/Ruby/Javascript"
   ]
  },
  {
   "cell_type": "markdown",
   "metadata": {},
   "source": [
    "4. Why Python?\n",
    "\n",
    "1) Python is Popular, Python is #1 in PYPL (PopularitY of Programming Language) index with almost 30% share, guess where is R and who is #2?\n",
    "\n",
    "2) Python is Interpreted ? Is it really interpreted? We would answer later.\n",
    "\n",
    "3) Python is FOSS(Free and Open Source Software) and All OS compatible\n",
    "\n",
    "4) Python is Portable, it can run on Unix,mac and windows. The same script can run on ony OS.\n",
    "\n",
    "5) Python is Simple and easy to read and write ( 33 keywords in Python 3)\n",
    "help(\"keywords\")"
   ]
  },
  {
   "cell_type": "markdown",
   "metadata": {},
   "source": [
    "5. How Python terminal works, what is REPL!!\n",
    "\n",
    "This is in respect to IDLE (The default terminal cum IDE for Python)\n",
    "\n",
    "REPL:\n",
    "The most straightforward way to start talking to Python is in an interactive Read-Eval-Print Loop (REPL)]environment. That simply means starting up the interpreter and typing commands to it directly. \n",
    "\n",
    "The interpreter functions as mentioned below:\n",
    "\n",
    "1.Reads the command you enter\n",
    "2.Evaluates and executes the command\n",
    "3.Prints the output (if any) to the console\n",
    "4.Loops back and repeats the process and comes back to the prompt >>>\n",
    "\n",
    "\n",
    "The session continues in this manner until you instruct the interpreter to terminate or quit using exit() or ctrl+D. \n"
   ]
  },
  {
   "cell_type": "markdown",
   "metadata": {},
   "source": [
    "All the best for Python, I hope it would be a fun and enriching journey :)"
   ]
  }
 ],
 "metadata": {
  "kernelspec": {
   "display_name": "Python 3",
   "language": "python",
   "name": "python3"
  },
  "language_info": {
   "codemirror_mode": {
    "name": "ipython",
    "version": 3
   },
   "file_extension": ".py",
   "mimetype": "text/x-python",
   "name": "python",
   "nbconvert_exporter": "python",
   "pygments_lexer": "ipython3",
   "version": "3.7.4"
  }
 },
 "nbformat": 4,
 "nbformat_minor": 2
}
