{
 "cells": [
  {
   "cell_type": "code",
   "execution_count": null,
   "metadata": {},
   "outputs": [],
   "source": [
    "'''0. Let us see the help for function accumulate\n",
    "It is in the itertools module :)\n",
    "'''\n",
    "from itertools import accumulate\n",
    "help(accumulate)"
   ]
  },
  {
   "cell_type": "code",
   "execution_count": null,
   "metadata": {
    "scrolled": true
   },
   "outputs": [],
   "source": [
    "'''0.1 The accumulate would take 2 arguments at one time\n",
    "If you define a function like this, it would error out\n",
    "'''\n",
    "from itertools import accumulate\n",
    "l=[1,2,3,4]\n",
    "list(accumulate(l,lambda n:n**2))"
   ]
  },
  {
   "cell_type": "code",
   "execution_count": null,
   "metadata": {},
   "outputs": [],
   "source": [
    "'''0.1 Explain the output, remember first the iterable and then function after that '''\n",
    "from itertools import accumulate\n",
    "l=[1,2,3,4]\n",
    "list(accumulate(l,lambda a,b:a+b))"
   ]
  },
  {
   "cell_type": "code",
   "execution_count": null,
   "metadata": {},
   "outputs": [],
   "source": [
    "'''0.1 Explain the output, remember the iterable and the function after that \n",
    "All numbers would now be raised to power 1 >> Thus leading to 1. ..  lol\n",
    "'''\n",
    "from itertools import accumulate\n",
    "l=[1,2,3,4]\n",
    "list(accumulate(l,lambda a,b:a**b))"
   ]
  },
  {
   "cell_type": "code",
   "execution_count": null,
   "metadata": {},
   "outputs": [],
   "source": [
    "'''\n",
    "1. The accumulate function is in itertools and return the accumulation of every itereation.\n",
    "Reduce gives the final result.\n",
    "\n",
    "Accumulate(iterable,fun)\n",
    "\n",
    "This is slightly different from map,filter and reduce: they take fun as the first argument and then iterable\n",
    "'''\n",
    "from itertools import accumulate\n",
    "l=[1,2,3,4]\n",
    "new=list(accumulate(l,lambda x,y: x+y))\n",
    "print(new)\n",
    "\n",
    "#Another way of aliasing the function\n",
    "from itertools import accumulate as ac\n",
    "l=[1,2,3,4]\n",
    "list(ac(l,lambda x,y: x+y))\n"
   ]
  },
  {
   "cell_type": "code",
   "execution_count": null,
   "metadata": {},
   "outputs": [],
   "source": [
    "'''\n",
    "2. The output from accumulate function is iterable and the type is accumulator object of teh itertools module\n",
    "'''\n",
    "from itertools import accumulate\n",
    "l=[1,2,3,4]\n",
    "print(accumulate(l,lambda x,y: x+y))\n",
    "\n",
    "for i in accumulate(l,lambda x,y: x+y):\n",
    "    print(i)"
   ]
  },
  {
   "cell_type": "code",
   "execution_count": null,
   "metadata": {},
   "outputs": [],
   "source": [
    "'''2.1 Ho would you get the final sum, do not use reduce'''\n",
    "from itertools import accumulate\n",
    "l=[1,2,3,4]\n",
    "\n",
    "for i in accumulate(l,lambda x,y: x+y):\n",
    "    pass\n",
    "print(i)"
   ]
  },
  {
   "cell_type": "code",
   "execution_count": null,
   "metadata": {},
   "outputs": [],
   "source": [
    "'''\n",
    "2.2 Is accumulate object iterator,yes as the next function work on the accumulate obj, it is iterable\n",
    "'''\n",
    "print(next(accumulate(l,lambda x,y: x+y)))"
   ]
  },
  {
   "cell_type": "code",
   "execution_count": null,
   "metadata": {},
   "outputs": [],
   "source": [
    "'''2.3 We can use the next function to get the values in a sequential manner'''\n",
    "from itertools import accumulate\n",
    "l=[1,2,3,4]\n",
    "new=accumulate(l,lambda a,b:a+b)\n",
    "print(next(new))\n",
    "print(next(new))\n",
    "print(next(new))\n",
    "print(next(new))"
   ]
  },
  {
   "cell_type": "code",
   "execution_count": null,
   "metadata": {},
   "outputs": [],
   "source": [
    "'''2.4 Guess the output, the first value \n",
    "i.e 1 is returned every time as the iterator gets generated fresh with each call'''\n",
    "from itertools import accumulate\n",
    "l=[1,2,3,4]\n",
    "print(next(accumulate(l,lambda a,b:a+b)))\n",
    "print(next(accumulate(l,lambda a,b:a+b)))\n",
    "print(next(accumulate(l,lambda a,b:a+b)))\n",
    "print(next(accumulate(l,lambda a,b:a+b)))"
   ]
  },
  {
   "cell_type": "code",
   "execution_count": null,
   "metadata": {},
   "outputs": [],
   "source": [
    "'''\n",
    "3. How can you simulate reduce function from accumulate function\n",
    "'''\n",
    "new=list(accumulate(l,lambda x,y: x+y))[-1]\n",
    "new\n",
    "\n",
    "#Or another approach for picking the last value\n",
    "from itertools import accumulate as ac\n",
    "l=[1,2,3,4]\n",
    "for i in ac(l,lambda x,y: x+y):\n",
    "    ;\n",
    "print(i)\n",
    "\n",
    "#Or using the list comprehension\n",
    "from itertools import accumulate\n",
    "l=[1,2,3,4]\n",
    "\n",
    "[i for i in accumulate(l,lambda a,b:a+b)][-1]"
   ]
  },
  {
   "cell_type": "code",
   "execution_count": 7,
   "metadata": {},
   "outputs": [
    {
     "name": "stdout",
     "output_type": "stream",
     "text": [
      "1\n",
      "3\n",
      "6\n",
      "10\n"
     ]
    }
   ],
   "source": [
    "'''4. IS the iter tool a generator\n",
    "Yes it is as the for loop is just giving output once\n",
    "'''\n",
    "\n",
    "from itertools import accumulate\n",
    "l=[1,2,3,4]\n",
    "a=accumulate(l,lambda a,b:a+b)\n",
    "\n",
    "for i in a:\n",
    "    print(i)\n",
    "\n",
    "for i in a:\n",
    "    print(i)"
   ]
  },
  {
   "cell_type": "code",
   "execution_count": 10,
   "metadata": {},
   "outputs": [],
   "source": [
    "'''4.1 Now we can not even print anything from the object a'''\n",
    "for i in a:\n",
    "    print(i)"
   ]
  }
 ],
 "metadata": {
  "kernelspec": {
   "display_name": "Python 3",
   "language": "python",
   "name": "python3"
  },
  "language_info": {
   "codemirror_mode": {
    "name": "ipython",
    "version": 3
   },
   "file_extension": ".py",
   "mimetype": "text/x-python",
   "name": "python",
   "nbconvert_exporter": "python",
   "pygments_lexer": "ipython3",
   "version": "3.7.3"
  }
 },
 "nbformat": 4,
 "nbformat_minor": 2
}
