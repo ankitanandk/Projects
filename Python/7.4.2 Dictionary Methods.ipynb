{
 "cells": [
  {
   "cell_type": "code",
   "execution_count": null,
   "metadata": {
    "scrolled": true
   },
   "outputs": [],
   "source": [
    "'''\n",
    "1. Let's learn on how to add data to an existing dictionary.\n",
    "Below \"am\" is a dictionary and we wish to add another key fav_pets\n",
    "'''\n",
    "am={'name':\"amit kumar\", \n",
    "    'age':24,\n",
    "    'fav_movies':[\"rocky\",\"Ninja\"],\n",
    "    'fav_perfumes':(\"Armani\",\"Hugo Boss\")\n",
    "   }\n",
    "am['fav_pet']=['Dogs','cats']\n",
    "print(am)"
   ]
  },
  {
   "cell_type": "code",
   "execution_count": null,
   "metadata": {
    "scrolled": true
   },
   "outputs": [],
   "source": [
    "'''\n",
    "2. pop method is used to delete any key value pair of a dictionary\n",
    "Give argument of the key in pop method, it would return the removed value.\n",
    "Notice the fav_movies is no more in the dictionary\n",
    "'''\n",
    "am.pop('fav_movies')\n",
    "am\n"
   ]
  },
  {
   "cell_type": "code",
   "execution_count": null,
   "metadata": {},
   "outputs": [],
   "source": [
    "'''\n",
    "2.1 you can even capture the poped out key value.\n",
    "'''\n",
    "pop1=am.pop('fav_movies')\n",
    "print(pop1)"
   ]
  },
  {
   "cell_type": "code",
   "execution_count": null,
   "metadata": {},
   "outputs": [],
   "source": [
    "'''\n",
    "2.2 you can even capture the poped out key value  and it is iterable\n",
    "'''\n",
    "for i in am.pop('fav_movies'):\n",
    "    print(i)"
   ]
  },
  {
   "cell_type": "code",
   "execution_count": null,
   "metadata": {
    "scrolled": true
   },
   "outputs": [],
   "source": [
    "'''\n",
    "3. popitem\n",
    "It is also a method in dictionary\n",
    "It does not take any argument and it would remove the key value pairs on random.\n",
    "If you execute in iteration it would run till the dict is empty\n",
    "'''\n",
    "pop2=am.popitem()\n",
    "print(am)\n",
    "print(pop2)"
   ]
  },
  {
   "cell_type": "code",
   "execution_count": null,
   "metadata": {},
   "outputs": [],
   "source": [
    "'''\n",
    "4. Update: updates an existing dictionary with an iterable . Look at the below code.\n",
    "It takes one argument, the argument should be iterable. \n",
    "'''\n",
    "am={'name':\"amit kumar\", \n",
    "    'age':24,\n",
    "    'fav_movies':[\"rocky\",\"Ninja\"],\n",
    "    'fav_perfumes':(\"Armani\",\"Hugo Boss\")\n",
    "   }\n",
    "am_new={'state':'Haryana','pin':122011}\n",
    "\n",
    "am.update(am_new)\n",
    "print(am)"
   ]
  },
  {
   "cell_type": "code",
   "execution_count": 1,
   "metadata": {},
   "outputs": [
    {
     "name": "stdout",
     "output_type": "stream",
     "text": [
      "{'name': 'amit kumar', 'age': 24, 'fav_movies': ['rocky', 'Ninja'], 'fav_perfumes': ('Armani', 'Hugo Boss'), 'add': 715, 'city': 'GGM'}\n"
     ]
    }
   ],
   "source": [
    "'''\n",
    "4.1 Can the iterable be tuple, yes it can be :)\n",
    "'''\n",
    "am={'name':\"amit kumar\", \n",
    "    'age':24,\n",
    "    'fav_movies':[\"rocky\",\"Ninja\"],\n",
    "    'fav_perfumes':(\"Armani\",\"Hugo Boss\")\n",
    "   }\n",
    "am.update(add=715,city='GGM')\n",
    "print(am)"
   ]
  },
  {
   "cell_type": "code",
   "execution_count": null,
   "metadata": {},
   "outputs": [],
   "source": [
    "'''\n",
    "4.2 What if the key is same, it would overwrite the value of existing dictionary.\n",
    "This is beacus a dict can only have 1 key :)\n",
    "'''\n",
    "\n",
    "am={'name':\"amit kumar\", \n",
    "    'age':24,\n",
    "    'fav_movies':[\"rocky\",\"Ninja\"],\n",
    "    'fav_perfumes':(\"Armani\",\"Hugo Boss\")\n",
    "   }\n",
    "am_new={'name':'kaka','pin':122011}\n",
    "\n",
    "am.update(am_new)\n",
    "print(am)"
   ]
  },
  {
   "cell_type": "code",
   "execution_count": null,
   "metadata": {},
   "outputs": [],
   "source": [
    "'''\n",
    "4.3 What would below code do .. :)... Nothing happens ...lol\n",
    "'''\n",
    "\n",
    "am.update({})\n",
    "print(am)"
   ]
  },
  {
   "cell_type": "code",
   "execution_count": null,
   "metadata": {},
   "outputs": [],
   "source": []
  }
 ],
 "metadata": {
  "kernelspec": {
   "display_name": "Python 3",
   "language": "python",
   "name": "python3"
  },
  "language_info": {
   "codemirror_mode": {
    "name": "ipython",
    "version": 3
   },
   "file_extension": ".py",
   "mimetype": "text/x-python",
   "name": "python",
   "nbconvert_exporter": "python",
   "pygments_lexer": "ipython3",
   "version": "3.7.4"
  }
 },
 "nbformat": 4,
 "nbformat_minor": 2
}
