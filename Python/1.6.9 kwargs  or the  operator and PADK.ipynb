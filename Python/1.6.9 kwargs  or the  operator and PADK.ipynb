{
 "cells": [
  {
   "cell_type": "code",
   "execution_count": 2,
   "metadata": {},
   "outputs": [
    {
     "name": "stdout",
     "output_type": "stream",
     "text": [
      "{'name': 'amit', 'gen': 'M'}\n",
      "<class 'dict'>\n"
     ]
    }
   ],
   "source": [
    "'''\n",
    "1. Let’s try and understand the **kwargs or n numer of keyword arguments.\n",
    "You can pass n number of keyword arguments and the data would be gathered as a dictionary with keys and values.\n",
    "For kwargs you would need to use 2 astericks **\n",
    "\n",
    "Thus it is a key and value pair\n",
    "'''\n",
    "def foo(**kwargs):\n",
    "    print(kwargs)\n",
    "    print(type(kwargs))\n",
    "    \n",
    "foo(name=\"amit\",gen=\"M\")"
   ]
  },
  {
   "cell_type": "code",
   "execution_count": null,
   "metadata": {},
   "outputs": [],
   "source": [
    "'''1.1 As this makes a dictionary, the concepts could be leveraged\n",
    "The i would take the key by default and thus they can be printed.\n",
    "'''\n",
    "def foo(**kwargs):\n",
    "        for i in kwargs:\n",
    "            print(i)\n",
    "    \n",
    "foo(a=\"amit\",b=\"kumar\")"
   ]
  },
  {
   "cell_type": "code",
   "execution_count": null,
   "metadata": {},
   "outputs": [],
   "source": [
    "'''1.1 we can use the unpacking as well in the keys and values'''\n",
    "\n",
    "def foo(**kwargs):\n",
    "        for k,v in kwargs.items():\n",
    "            print(k,v)\n",
    "    \n",
    "foo(a=\"amit\",b=\"kumar\")"
   ]
  },
  {
   "cell_type": "code",
   "execution_count": null,
   "metadata": {},
   "outputs": [],
   "source": [
    "'''1.2 To get the values use the key in the dictionary'''\n",
    "def foo(**kwargs):\n",
    "        for i in kwargs:\n",
    "            print(kwargs[i])\n",
    "    \n",
    "foo(a=\"amit\",b=\"kumar\")"
   ]
  },
  {
   "cell_type": "code",
   "execution_count": null,
   "metadata": {},
   "outputs": [],
   "source": [
    "'''1.3 The items() , values and the jeymethod for a dictionary'''\n",
    "def foo(**kwargs):\n",
    "        for i in kwargs:\n",
    "            ;\n",
    "        print(kwargs.items())\n",
    "        print(kwargs.values())\n",
    "        print(kwargs.keys())\n",
    "    \n",
    "foo(a=\"amit\",b=\"kumar\")"
   ]
  },
  {
   "cell_type": "code",
   "execution_count": null,
   "metadata": {},
   "outputs": [],
   "source": [
    "'''\n",
    "2. Positional parameters if any should preceed **kwargs or **kwargs should follow positional parameters.\n",
    "Below example have a positional parameter and **kwargs\n",
    "'''\n",
    "\n",
    "def f(occup,**kwargs):\n",
    "    print(occup,kwargs)\n",
    "        \n",
    "f(\"python trainer\",name=\"amit\",gen=\"M\")\n"
   ]
  },
  {
   "cell_type": "code",
   "execution_count": null,
   "metadata": {},
   "outputs": [],
   "source": [
    "'''\n",
    "3. PADK is nothing but the order of parameters. This would help you to remember :)\n",
    "\n",
    "P: Parameters/positional parameters: #1\n",
    "A: args: #2\n",
    "D: Default parameters/name=“Amit: #3\n",
    "k: kwargs or simply the keyword: #4\n",
    "\n",
    "1. The below example should help and explain the concept\n",
    "\n",
    "'''\n",
    "def f(name,*args,age=27,**kwargs):\n",
    "   "
   ]
  },
  {
   "cell_type": "code",
   "execution_count": null,
   "metadata": {
    "scrolled": true
   },
   "outputs": [],
   "source": [
    "'''4. Take a list and returne the list with first char as uppercase'''\n",
    "l=[\"amit\",\"baba\"]\n",
    "\n",
    "def up(*args):\n",
    "    new=[]\n",
    "    for i in args:\n",
    "        new.append(i.title())\n",
    "    return new\n",
    "up(*l)"
   ]
  },
  {
   "cell_type": "code",
   "execution_count": 1,
   "metadata": {},
   "outputs": [
    {
     "data": {
      "text/plain": [
       "['Amit', 'Baba']"
      ]
     },
     "execution_count": 1,
     "metadata": {},
     "output_type": "execute_result"
    }
   ],
   "source": [
    "'''4.1 Using the list comprehension'''\n",
    "l=[\"amit\",\"baba\"]\n",
    "[i.title() for i in l]"
   ]
  },
  {
   "cell_type": "code",
   "execution_count": 1,
   "metadata": {},
   "outputs": [
    {
     "data": {
      "text/plain": [
       "18"
      ]
     },
     "execution_count": 1,
     "metadata": {},
     "output_type": "execute_result"
    }
   ],
   "source": [
    "'''5. Example'''\n",
    "def new(**divyaji):\n",
    "    s=0\n",
    "    for i in divyaji.values():\n",
    "        s+=i\n",
    "    return s\n",
    "    \n",
    "new(a=3,b=5,c=10)\n",
    "        "
   ]
  },
  {
   "cell_type": "code",
   "execution_count": null,
   "metadata": {},
   "outputs": [],
   "source": []
  }
 ],
 "metadata": {
  "kernelspec": {
   "display_name": "Python 3",
   "language": "python",
   "name": "python3"
  },
  "language_info": {
   "codemirror_mode": {
    "name": "ipython",
    "version": 3
   },
   "file_extension": ".py",
   "mimetype": "text/x-python",
   "name": "python",
   "nbconvert_exporter": "python",
   "pygments_lexer": "ipython3",
   "version": "3.7.4"
  }
 },
 "nbformat": 4,
 "nbformat_minor": 2
}
