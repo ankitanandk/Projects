{
 "cells": [
  {
   "cell_type": "code",
   "execution_count": null,
   "metadata": {},
   "outputs": [],
   "source": [
    "'''\n",
    "0. Instance methods or simply put the methods that are available to all the objects of a class.\n",
    "\n",
    "__init__ was not available to the objects, it was simply helping to create the object with its variables.\n",
    "\n",
    "Below is l, l is an object of class \"List\", now all the methods of class List are available to l\n",
    "Example. Now pop method is available to l\n",
    "\n",
    "object or instance is the same thing, object is the instanceof the Class :)\n",
    "\n",
    "'''\n",
    "l=[1,2,3]\n",
    "l.pop()\n",
    "\n",
    "# we can write the above code from OOP perspective as well :)\n",
    "l=[1,2,3]\n",
    "list.pop(l)"
   ]
  },
  {
   "cell_type": "code",
   "execution_count": null,
   "metadata": {},
   "outputs": [],
   "source": [
    "'''\n",
    "0.1 Let's say you have a list and there are various methods for list\n",
    "clear,append and pop etc. 2 ways of calling the methods\n",
    "\n",
    "Look at the help, self is the object itself :)\n",
    "'''\n",
    "l=[1,2,3]\n",
    "l.clear()\n",
    "l\n",
    "# Same can be attempted by the OOP syntax // class.method(object)\n",
    "list.clear(l)\n",
    "l\n",
    "# Same syntax for the append method\n",
    "l=[1,2,3]\n",
    "list.append(l,10)\n",
    "l"
   ]
  },
  {
   "cell_type": "code",
   "execution_count": null,
   "metadata": {},
   "outputs": [],
   "source": [
    "'''\n",
    "1. Instance methods are defined in a class and they are accessible to the objects\n",
    "Here fullname is an example of instance method and is defined in the class Person\n",
    "Remember the __init__ is the default method also known as the constructor\n",
    "no other arguments are required by full name as it can access the objects of __init__\n",
    "'''\n",
    "class Person:\n",
    "        def __init__(self,f,l,age):\n",
    "            self.f=f\n",
    "            self.l=l\n",
    "            self.age=age\n",
    "            \n",
    "        def fullname(self):\n",
    "            return f\"{self.f} {self.l}\"\n",
    "\n",
    "p1=Person(\"amit\",\"kumar\",37)\n",
    "\n",
    "print(p1.fullname())\n",
    "#What can be the other way to call fullname from OOP perspective :)\n",
    "print(Person.fullname(p1))"
   ]
  },
  {
   "cell_type": "code",
   "execution_count": null,
   "metadata": {
    "scrolled": true
   },
   "outputs": [],
   "source": [
    "'''1.01 What if I do not write the self in the instance method\n",
    "The code would compile; however it would not be available to the object.\n",
    "\n",
    "If you try the fxn would error as we are passing the one argument to fxn.. the object and full takes None\n",
    "'''\n",
    "\n",
    "class Person:\n",
    "        def __init__(self,f,l,age):\n",
    "            self.f=f\n",
    "            self.l=l\n",
    "            self.age=age\n",
    "            \n",
    "        def full():\n",
    "            return self.f+\" \"+self.l\n",
    "\n",
    "p1=Person(\"amit\",\"kumar\",37)\n",
    "\n",
    "p1.full()"
   ]
  },
  {
   "cell_type": "code",
   "execution_count": null,
   "metadata": {},
   "outputs": [],
   "source": [
    "'''1.1 How can I see all the methods of the Person class\n",
    "As you can see we only have one method available as of now\n",
    "'''\n",
    "class Person:\n",
    "        def __init__(self,f,l,age):\n",
    "            self.f=f\n",
    "            self.l=l\n",
    "            self.age=age\n",
    "            \n",
    "        def fullname(self):\n",
    "            return f\"{self.f} {self.l}\"\n",
    "[i for i in dir(Person) if not i.startswith(\"__\")]"
   ]
  },
  {
   "cell_type": "code",
   "execution_count": null,
   "metadata": {},
   "outputs": [],
   "source": [
    "'''1.1.1 What all methods are available to the Person class\n",
    "All of them are dunder... they are automatically available.. \n",
    "also includes the fullname that is an instance method\n",
    "'''\n",
    "for i in [i for i in dir(Person)]:\n",
    "    print(i,end=\"@\")"
   ]
  },
  {
   "cell_type": "code",
   "execution_count": null,
   "metadata": {},
   "outputs": [],
   "source": [
    "'''1.1.1.1 Even this works.. as the dir(Person) is a list...  :) and list are iterable'''\n",
    "for i in dir(Person):\n",
    "    print(i,end=\"@\")"
   ]
  },
  {
   "cell_type": "code",
   "execution_count": 3,
   "metadata": {},
   "outputs": [
    {
     "data": {
      "text/plain": [
       "{'age': 37}"
      ]
     },
     "execution_count": 3,
     "metadata": {},
     "output_type": "execute_result"
    }
   ],
   "source": [
    "'''1.2 Guess the output, how it is different from the above code\n",
    "taking f and l from user and not using them makes no sense in the __init__ dunder method\n",
    "'''\n",
    "\n",
    "class Person:\n",
    "        def __init__(self,f,l,age):\n",
    "            self.age=age\n",
    "            \n",
    "        def fullname(self,f,l):\n",
    "            return f\"{f} {l}\"\n",
    "\n",
    "p1=Person(\"amit\",\"kumar\",37)\n",
    "p1.fullname(\"kaka\",\"ji\")\n",
    "# In this case p1 would havethe method andthe variabels\n",
    "p1.__dict__"
   ]
  },
  {
   "cell_type": "code",
   "execution_count": null,
   "metadata": {},
   "outputs": [],
   "source": [
    "'''2. You can even have a class without the __init__ method or the constructor\n",
    "Look at the below code, the object would be called as p1=Person() and no arguments are required as no __init__\n",
    "So the learning is __init__ take the arguments you pass to the object while creating it :)\n",
    "Thus the arguments while declaring object is passed on to __init__ or the constructor\n",
    "\n",
    "And now we can use return in the instance method\n",
    "'''\n",
    "class Person:            \n",
    "        def fullname(self,f,l):\n",
    "            self.f=f\n",
    "            self.l=l\n",
    "            return f\"{f+l}\"\n",
    "\n",
    "p1=Person()\n",
    "print(p1.fullname(\"Amit\",\"Kumar\"))"
   ]
  },
  {
   "cell_type": "code",
   "execution_count": null,
   "metadata": {},
   "outputs": [],
   "source": [
    "'''2.01 The object would now have nothing as we dnt have the __init__ also we have not called the fxn'''\n",
    "class Person:            \n",
    "        def fullname(self,f,l):\n",
    "            self.f=f\n",
    "            self.l=l\n",
    "            return f\"{f+' '+l}\"\n",
    "\n",
    "p1=Person()\n",
    "p1.__dict__"
   ]
  },
  {
   "cell_type": "code",
   "execution_count": 2,
   "metadata": {},
   "outputs": [
    {
     "name": "stdout",
     "output_type": "stream",
     "text": [
      "AmitKumar\n"
     ]
    },
    {
     "data": {
      "text/plain": [
       "{}"
      ]
     },
     "execution_count": 2,
     "metadata": {},
     "output_type": "execute_result"
    }
   ],
   "source": [
    "'''2.1 Even this code is ok, you can directly call f and l\n",
    "f and l are available to the instance method fullname\n",
    "'''\n",
    "class Person:            \n",
    "        def fullname(self,f,l):\n",
    "            return f\"{f+l}\"\n",
    "\n",
    "p1=Person()\n",
    "print(p1.fullname(\"Amit\",\"Kumar\"))\n",
    "\n",
    "''' In this case p1 would have just the method and not the variabels,\n",
    "and the __dict__ show empty, as it shows onlythe instance variables'''\n",
    "p1.__dict__"
   ]
  },
  {
   "cell_type": "code",
   "execution_count": null,
   "metadata": {},
   "outputs": [],
   "source": [
    "'''2.2 What all access does the object have\n",
    "Why p1 has no access to any instance variables?\n",
    "as p1 is just declared from Person class and no __init__ is called\n",
    "\n",
    "\n",
    "p1 would get the values when fullname method is called :)\n",
    "'''\n",
    "class Person:            \n",
    "        def fullname(self,f,l):\n",
    "            self.f=f\n",
    "            self.l=l\n",
    "            return f\"{f+l}\"\n",
    "\n",
    "p1=Person()\n",
    "p1.__dict__"
   ]
  },
  {
   "cell_type": "code",
   "execution_count": null,
   "metadata": {
    "scrolled": true
   },
   "outputs": [],
   "source": [
    "'''\n",
    "3. Let's define one more method, \"is18\", in the same class for clarity and more practice.\n",
    "Also 2 values can be returned by the return statement, these returned values would be a tuple and thus iterable.\n",
    "\n",
    "Look at the fullname function\n",
    "'''\n",
    "class Person:\n",
    "        def __init__(self,f,l,age):\n",
    "            self.f=f\n",
    "            self.l=l\n",
    "            self.age=age\n",
    "            \n",
    "        def fullname_age(self):\n",
    "            return (f\"{self.f+self.l}\",self.age*12)\n",
    "        \n",
    "        def is18(self):\n",
    "            return self.age>18\n",
    "                  \n",
    "p1=Person(\"amit\",\"kumar\",37)\n",
    "p2=Person(\"kaka\",\"singh\",14)\n",
    "\n",
    "print(p1.is18())\n",
    "print(p2.is18())\n",
    "print(p1.fullname_age())\n",
    "\n",
    "#The returned value is a Tuple and we can iterate and use the for loop\n",
    "for i in p1.fullname_age():\n",
    "    print(i)"
   ]
  },
  {
   "cell_type": "code",
   "execution_count": null,
   "metadata": {},
   "outputs": [],
   "source": [
    "'''\n",
    "4. Define a method in Laptop class that would take the percentage discount and return the new price of laptop\n",
    "'''\n",
    "class Laptop:\n",
    "    def __init__(self,brand,model,price,year):\n",
    "        self.company=brand\n",
    "        self.model=model\n",
    "        self.price=price\n",
    "        self.year_mfg=year\n",
    "        \n",
    "    def discount(self,per):\n",
    "        return f\"The new price of {self.model} is now: {self.price*(1-per/100)}\"\n",
    "lap1=Laptop(\"apple\",\"macbook\",90000,2018)\n",
    "\n",
    "print(lap1.discount(40))"
   ]
  },
  {
   "cell_type": "code",
   "execution_count": null,
   "metadata": {},
   "outputs": [],
   "source": [
    "'''4.1 Spot the issue, discount method is defined with 1 positional argument and not 2\n",
    "so per would not get the values\n",
    "\n",
    "'''\n",
    "class Laptop:\n",
    "    def __init__(self,brand,model,price,year):\n",
    "        self.company=brand\n",
    "        self.model=model\n",
    "        self.price=price\n",
    "        self.year_mfg=year\n",
    "        \n",
    "    def discount(self):\n",
    "        return f\"The new price of {self.model} is now: {self.price*(1-per/100)}\"\n",
    "    \n",
    "lap1=Laptop(\"apple\",\"macbook\",90000,2018)\n",
    "\n",
    "print(lap1.discount(40))"
   ]
  },
  {
   "cell_type": "code",
   "execution_count": 4,
   "metadata": {},
   "outputs": [
    {
     "name": "stdout",
     "output_type": "stream",
     "text": [
      "The new price of macbook is now: 81000.0\n",
      "The new price of hp-45 is now: 72000.0\n",
      "The new price of lenovo-78 is now: 62999.99999999999\n"
     ]
    }
   ],
   "source": [
    "'''\n",
    "5. Define a method in Laptop class that would take the percentage discount based on brand\n",
    "Apple: 10%\n",
    "hp: 20%\n",
    "lenovo:30%\n",
    "'''\n",
    "class Laptop:\n",
    "    def __init__(self,brand,model,price,year):\n",
    "        self.brand=brand\n",
    "        self.model=model\n",
    "        self.price=price\n",
    "        self.year_mfg=year\n",
    "        \n",
    "    def discount(self):\n",
    "        if self.brand.lower()==\"apple\":\n",
    "            return f\"The new price of {self.model} is now: {self.price*(1-10/100)}\"\n",
    "        elif self.brand.lower()==\"hp\":\n",
    "            return f\"The new price of {self.model} is now: {self.price*(1-20/100)}\"\n",
    "        return f\"The new price of {self.model} is now: {self.price*(1-30/100)}\"\n",
    "\n",
    "lap1=Laptop(\"APple\",\"macbook\",90000,2018);print(lap1.discount())\n",
    "lap1=Laptop(\"hp\",\"hp-45\",90000,2018);print(lap1.discount())\n",
    "lap1=Laptop(\"lenovo\",\"lenovo-78\",90000,2018);print(lap1.discount())"
   ]
  },
  {
   "cell_type": "code",
   "execution_count": null,
   "metadata": {},
   "outputs": [],
   "source": [
    "'''\n",
    "6. Can we leverage a dictionary to solve the above problem, instead of if -elif and else and hardcoding brand and \n",
    "discount percentage\n",
    "\n",
    "Apple: 10%\n",
    "hp: 20%\n",
    "lenovo:30%\n",
    "'''\n",
    "pr={\n",
    "    \"Apple\": 10,\n",
    "\"hp\": 20,\n",
    "\"lenovo\":30    \n",
    "}\n",
    "class Laptop:\n",
    "    def __init__(self,brand,model,price,year):\n",
    "        self.brand=brand\n",
    "        self.model=model\n",
    "        self.price=price\n",
    "        self.year_mfg=year\n",
    "        \n",
    "    def discount(self):\n",
    "        return f\"The new price of {self.brand}-{self.model} after discount is now: {self.price*(1-pr[self.brand]/100)}\"\n",
    "lap1=Laptop(\"Apple\",\"macbook\",90000,2018);print(lap1.discount())\n",
    "lap1=Laptop(\"hp\",\"hp-45\",90000,2018);print(lap1.discount())\n",
    "lap1=Laptop(\"lenovo\",\"lenovo-78\",90000,2018);print(lap1.discount())"
   ]
  },
  {
   "cell_type": "code",
   "execution_count": null,
   "metadata": {},
   "outputs": [],
   "source": [
    "'''6.1 The values can be plugged in using input, this is awesome and make it case insenitive'''\n",
    "disc={\n",
    "\"apple\" : 10,\n",
    "\"hp\": 20,\n",
    "\"lenovo\": 30}\n",
    "\n",
    "class Laptop:\n",
    "    def __init__(self,brand,model,price):\n",
    "        self.company=brand\n",
    "        self.model=model\n",
    "        self.price=price\n",
    "        \n",
    "    def discount(self):\n",
    "        return f\"price for {self.company} {self.model} is {self.price*(1-disc[self.company.lower()]/100)}\"\n",
    "        \n",
    "\n",
    "lap1=Laptop(input(\"Enter your brand\"),input(\"Enter model\"),int(input(\"Enter MRP\")))\n",
    "print(lap1.discount())"
   ]
  },
  {
   "cell_type": "code",
   "execution_count": null,
   "metadata": {},
   "outputs": [],
   "source": [
    "'''7. You can even return values conditionally with the instance method call'''\n",
    "class Person:\n",
    "        def __init__(self,f,l,age):\n",
    "            self.f=f\n",
    "            self.l=l\n",
    "            self.age=age\n",
    "            \n",
    "        def fullname(self,gender):\n",
    "            if gender==\"M\":\n",
    "                return f\"Mr. {self.f} {self.l}\"\n",
    "            return f\"Mrs. {self.f} {self.l}\"\n",
    "\n",
    "p1=Person(\"amit\",\"kumar\",37)\n",
    "p1.fullname(\"F\")"
   ]
  },
  {
   "cell_type": "code",
   "execution_count": null,
   "metadata": {},
   "outputs": [],
   "source": [
    "'''8. The help also works on methods of a class in the normal way'''\n",
    "class Person:\n",
    "        def __init__(self,f,l,age):\n",
    "            self.age=age\n",
    "            \n",
    "        def fullname(self,f,l):\n",
    "            '''This method is in Person class and gives the full name'''\n",
    "            return f\"{f} {l}\"\n",
    "\n",
    "help Person.fullname?"
   ]
  },
  {
   "cell_type": "code",
   "execution_count": null,
   "metadata": {},
   "outputs": [],
   "source": [
    "'''9. Create a class and fnction that would return the account balance from the user'''\n",
    "cust = {9876: {'name': 'John', 'age': '27', 'sex': 'Male', 'acc_bal':50000},\n",
    "          3124: {'name': 'Marie', 'age': '22', 'sex': 'Female','acc_bal':50000}}\n",
    "\n",
    "\n",
    "class Cust_detail:   \n",
    "    \n",
    "    def bal_inquiry(self):\n",
    "        id=int(input(\"Enter the id please\"))\n",
    "        if id in cust:\n",
    "            return cust[id]['acc_bal']\n",
    "        return \"Id not found plz try again\"\n",
    "    \n",
    "c1=Cust_detail() \n",
    "c1.bal_inquiry()"
   ]
  },
  {
   "cell_type": "code",
   "execution_count": null,
   "metadata": {},
   "outputs": [],
   "source": [
    "'''10. Create a class and fnction that would return the account balance from the user only if the pin is accurate'''\n",
    "cust = {9876: {'name': 'John', 'age': '27', 'sex': 'Male', 'acc_bal':50000,'pin':1758},\n",
    "          3124: {'name': 'Marie', 'age': '22', 'sex': 'Female','acc_bal':50000,'pin':1321}}\n",
    "\n",
    "\n",
    "class Cust_detail:   \n",
    "    \n",
    "    def bal_inquiry(self):\n",
    "        id=int(input(\"Enter the id please\"))\n",
    "        if id in cust:\n",
    "            p=int(input(\"Enter the pin\"))\n",
    "            if cust[id]['pin']==p:\n",
    "                return cust[id]['acc_bal']\n",
    "            return \"Pin not accurate\"\n",
    "        return \"Id not found plz try again\"\n",
    "        \n",
    "c1=Cust_detail() \n",
    "c1.bal_inquiry()"
   ]
  }
 ],
 "metadata": {
  "kernelspec": {
   "display_name": "Python 3",
   "language": "python",
   "name": "python3"
  },
  "language_info": {
   "codemirror_mode": {
    "name": "ipython",
    "version": 3
   },
   "file_extension": ".py",
   "mimetype": "text/x-python",
   "name": "python",
   "nbconvert_exporter": "python",
   "pygments_lexer": "ipython3",
   "version": "3.7.3"
  }
 },
 "nbformat": 4,
 "nbformat_minor": 2
}
