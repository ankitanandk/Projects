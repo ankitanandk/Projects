{
 "cells": [
  {
   "cell_type": "code",
   "execution_count": null,
   "metadata": {},
   "outputs": [],
   "source": [
    "'''0. Help and documentation on the enumerate function\n",
    "Gives a good idea and understanding of the dinder methods being used here :)\n",
    "\n",
    "'''\n",
    "help(enumerate)\n",
    "\n",
    "#or the other way for calling the help\n",
    "enumerate?"
   ]
  },
  {
   "cell_type": "code",
   "execution_count": null,
   "metadata": {
    "scrolled": true
   },
   "outputs": [],
   "source": [
    "'''0.1 It takes 2 arguments the 1. iterable and the 2. chosen start value\n",
    "here the counting starts from 10, instead of default 0\n",
    "\n",
    "\n",
    "Returns the index and the vallue of every item from the iterable\n",
    "'''\n",
    "for i,j in enumerate([1,2,3],10):\n",
    "    print(i,j)"
   ]
  },
  {
   "cell_type": "code",
   "execution_count": null,
   "metadata": {
    "scrolled": true
   },
   "outputs": [],
   "source": [
    "'''\n",
    "1. The for loop usually tracks the item or the element, to track the position we use the enumerate function.\n",
    "It returns the position and item value.\n",
    "Lets try without enumerate and then we would attempt the enumerate function.   \n",
    "The data type should be iterable, in other words should be able to creat the iterator\n",
    "\n",
    "We would write below code for index and value\n",
    "'''\n",
    "name=['a','b','c']\n",
    "c=0\n",
    "for i in name:\n",
    "    print (f\"the index is {c} and value is {i}\")\n",
    "    c+=1\n",
    "    "
   ]
  },
  {
   "cell_type": "code",
   "execution_count": null,
   "metadata": {},
   "outputs": [],
   "source": [
    "'''1.1 OR a simple code to understand the working of enumerate function, i is index and j is value'''\n",
    "name=['a','b','c']\n",
    "for i,j in enumerate(name):\n",
    "    print(i,j)"
   ]
  },
  {
   "cell_type": "code",
   "execution_count": null,
   "metadata": {
    "scrolled": false
   },
   "outputs": [],
   "source": [
    "'''\n",
    "1.2 What is exactly going on in background, \n",
    "enumerate returns tuples of index and value pair :)\n",
    "These pair are tuples and thus immutable in nature\n",
    "'''\n",
    "for a in enumerate([11,21,33]):\n",
    "    print(a,type(a))"
   ]
  },
  {
   "cell_type": "code",
   "execution_count": null,
   "metadata": {},
   "outputs": [],
   "source": [
    "'''1.3 What is the type of the enumerate, it belong to class enumerate and a is an enumerate object'''\n",
    "l=[1,2,3]\n",
    "a=enumerate(l)\n",
    "print(a,type(a))"
   ]
  },
  {
   "cell_type": "code",
   "execution_count": null,
   "metadata": {},
   "outputs": [],
   "source": [
    "'''\n",
    "2. Would enumerate work on a Tuple?\n",
    "Let’s try the same with enumerate function that tracks the index of the ith value in a list or Tuple.\n",
    "The index is sent to pos and the value to i, cool ya :)\n",
    "\n",
    "It works as Tuple is iterable\n",
    "'''\n",
    "name=('a','b','c')\n",
    "for pos,i in enumerate(name):\n",
    "    print (f\"the index is {pos} and value is {i}\")"
   ]
  },
  {
   "cell_type": "code",
   "execution_count": null,
   "metadata": {
    "scrolled": false
   },
   "outputs": [],
   "source": [
    "'''\n",
    "2.1 Would enumerate work on a Dictionary? It works on anything that is iterable, index is not required.\n",
    "It would only store the keys by default. for Values use .values() and for both key and value use .item()\n",
    "'''\n",
    "d1={'name':\"Amit\",\n",
    "    'age':24   \n",
    "}\n",
    "for i in enumerate(d1):\n",
    "    print(i)\n",
    "    \n",
    "for i in enumerate(d1.values()):\n",
    "    print(i)\n",
    "        \n",
    "for i in enumerate(d1.items()):\n",
    "    print(i)"
   ]
  },
  {
   "cell_type": "code",
   "execution_count": null,
   "metadata": {
    "scrolled": false
   },
   "outputs": [],
   "source": [
    "'''\n",
    "2.2 Would enumerate work on a String?\n",
    "\n",
    "Whynot, strings are iterable too\n",
    "'''\n",
    "d1=\"amit\"\n",
    "for i,j in enumerate(d1):\n",
    "    print (f\"the index is {i} and value is {j}\")"
   ]
  },
  {
   "cell_type": "code",
   "execution_count": null,
   "metadata": {
    "scrolled": true
   },
   "outputs": [],
   "source": [
    "'''\n",
    "2.3 Would it work on number and why not, How can you make it work?\n",
    "'''\n",
    "a=1234\n",
    "for i,j in enumerate(a):\n",
    "    print(i,j)\n",
    "    \n",
    "#Solution, we would need to convert to String\n",
    "a=1234\n",
    "for i,j in enumerate(str(a)):\n",
    "    print(i,j)  "
   ]
  },
  {
   "cell_type": "code",
   "execution_count": null,
   "metadata": {},
   "outputs": [],
   "source": [
    "'''2.4 enumerate can also take start position as the second argument\n",
    "The counter is now set to 1 instead of 0\n",
    "you could give any value\n",
    "'''\n",
    "l=[4,5,6,7,8]\n",
    "for i,j in enumerate(l,1):\n",
    "    print(i,j)"
   ]
  },
  {
   "cell_type": "code",
   "execution_count": null,
   "metadata": {},
   "outputs": [],
   "source": [
    "'''2.5 Can we use a sentence, give the first word as 1'''\n",
    "s=\"amit is cool\"\n",
    "for i,j in enumerate(s.split(\" \"),1):\n",
    "    print(i,j)"
   ]
  },
  {
   "cell_type": "code",
   "execution_count": null,
   "metadata": {},
   "outputs": [],
   "source": [
    "'''\n",
    "3. Lets learn to create a function that takes list and the target to search, \n",
    "if present returns index else a \n",
    "message we can do via index, lets just try by enumerate!!\n",
    "'''\n",
    "\n",
    "def searchy(li,target):\n",
    "    for pos,i in enumerate(li):\n",
    "        if i==target:\n",
    "            return(f\"The target {target} is found at index {pos}\") \n",
    "            break\n",
    "    return(\"Target is not found\")  \n",
    "                \n",
    "searchy(['abc','kaka','amit'],'amit')"
   ]
  },
  {
   "cell_type": "code",
   "execution_count": 2,
   "metadata": {},
   "outputs": [
    {
     "data": {
      "text/plain": [
       "['The target is found at: 2']"
      ]
     },
     "execution_count": 2,
     "metadata": {},
     "output_type": "execute_result"
    }
   ],
   "source": [
    "'''3.1 Using the list comprehension'''\n",
    "l=['abc','kaka','amit']\n",
    "s=[\"amit\"]\n",
    "[f\"The target is found at: {i}\" for i,j in enumerate(l) if j in s]"
   ]
  },
  {
   "cell_type": "code",
   "execution_count": null,
   "metadata": {},
   "outputs": [],
   "source": [
    "'''\n",
    "4. Lets learn to create a function that takes list and the target is to search, \n",
    "if present returns the number of instances\n",
    "\n",
    "Note: Focus on the indentation :)\n",
    "'''\n",
    "def searchy(li,target):\n",
    "    count=0\n",
    "    for pos,i in enumerate(li):\n",
    "        if i==target:\n",
    "            count+=1\n",
    "    return(f\"The target {target} count is {count}\") \n",
    "  \n",
    "searchy(['abc','amit','amit'],'amit')\n",
    "\n",
    "#Smaller one by leveraging the method\n",
    "def se(p,c):\n",
    "    for i,j in enumerate(p):\n",
    "        if j==c:\n",
    "            return p.count(c)\n",
    "se(['abc','amit','amit'],'amit')\n",
    "\n",
    "#sabse best.. lol\n",
    "def searchy(l,m):\n",
    "    return l.count(m)\n",
    "        \n",
    "searchy(['abc','kaka','abc'],'abc')"
   ]
  },
  {
   "cell_type": "code",
   "execution_count": null,
   "metadata": {},
   "outputs": [],
   "source": [
    "'''4.1 using enumerate and list comprehension'''\n",
    "[i for i,j in enumerate(['abc','kaka','abc']) if j=='abc']"
   ]
  },
  {
   "cell_type": "code",
   "execution_count": 1,
   "metadata": {},
   "outputs": [
    {
     "data": {
      "text/plain": [
       "'The target amit is present at [1, 2]'"
      ]
     },
     "execution_count": 1,
     "metadata": {},
     "output_type": "execute_result"
    }
   ],
   "source": [
    "'''\n",
    "5. Lets learn to create a function that takes list and the target is to search, \n",
    "if present returns the position of instances\n",
    "'''\n",
    "def searchy(li,target):\n",
    "    new=[]\n",
    "    for pos,i in enumerate(li):\n",
    "        if i==target:\n",
    "            new.append(pos)\n",
    "    return(f\"The target {target} is present at {new}\") \n",
    "  \n",
    "searchy(['abc','amit','amit'],'amit')"
   ]
  },
  {
   "cell_type": "code",
   "execution_count": null,
   "metadata": {},
   "outputs": [],
   "source": [
    "'''5.0 List comprehension and a function'''\n",
    "def searchy(li,target):\n",
    "    return [i for i,j in enumerate(li) if j==target]\n",
    "\n",
    "searchy(['abc','amit','amit'],'amit')"
   ]
  },
  {
   "cell_type": "code",
   "execution_count": null,
   "metadata": {},
   "outputs": [],
   "source": [
    "'''\n",
    "5.1 Can we solve the above question using list comprehension\n",
    "'''\n",
    "l=['abc','amit','amit']\n",
    "t='amit'\n",
    "[i  for i,j in enumerate(l) if j==t]"
   ]
  },
  {
   "cell_type": "code",
   "execution_count": null,
   "metadata": {},
   "outputs": [],
   "source": [
    "'''\n",
    "5.3 using lambda function \n",
    "'''\n",
    "l=['abc','amit','amit']\n",
    "t='amit'\n",
    "new=lambda l,t:[i for i,j in enumerate(l) if t==j]\n",
    "new(l,t)"
   ]
  },
  {
   "cell_type": "code",
   "execution_count": null,
   "metadata": {},
   "outputs": [],
   "source": [
    "'''\n",
    "5.2 Can I get total matches and indexes in above question\n",
    "'''\n",
    "l=['abc','amit','amit']\n",
    "t='amit'\n",
    "n=[pos  for pos,i in enumerate(l) if i==t]\n",
    "print(f\"Indexes are {n}, and total matches are {len(n)}\")\n",
    "\n",
    "#OR\n",
    "l=['abc','amit','amit']\n",
    "t='amit'\n",
    "print(len([i for i,j in enumerate(l) if j==t]))"
   ]
  },
  {
   "cell_type": "code",
   "execution_count": null,
   "metadata": {},
   "outputs": [],
   "source": [
    "'''5.3 How would you match 2 list using the emnumerate function'''\n",
    "l=['abc','amit','baba']\n",
    "t=['amit','baba']\n",
    "\n",
    "for i,j in enumerate(l):\n",
    "    for x,y in enumerate(t):\n",
    "        if y==j:\n",
    "            print(f\"Match found at index {i}\")"
   ]
  },
  {
   "cell_type": "code",
   "execution_count": null,
   "metadata": {},
   "outputs": [],
   "source": [
    "'''5.3.1 above question with 1 enumerate and 1 for loop'''\n",
    "l=['abc','amit','baba']\n",
    "t=['amit','baba']\n",
    "\n",
    "def se(l,t):\n",
    "    new=[]\n",
    "    for i,j in enumerate(l):\n",
    "        for k in t:\n",
    "            if j==k:\n",
    "                new.append(i)\n",
    "    return new\n",
    "se(l,t)"
   ]
  },
  {
   "cell_type": "code",
   "execution_count": null,
   "metadata": {},
   "outputs": [],
   "source": [
    "'''5.4 How would you attempt the above question using list comprehension and enumerate function'''\n",
    "l=['abc','amit','baba']\n",
    "t=['amit','baba']\n",
    "[i for i,j in enumerate(l) for x,y in enumerate(t) if j==y]"
   ]
  },
  {
   "cell_type": "code",
   "execution_count": null,
   "metadata": {},
   "outputs": [],
   "source": [
    "'''5.4.1  one enumerate and one loop'''\n",
    "l=['abc','amit','baba']\n",
    "t=['amit','baba']\n",
    "[i for i, j in enumerate(l) for k in t if j==k]"
   ]
  },
  {
   "cell_type": "code",
   "execution_count": null,
   "metadata": {},
   "outputs": [],
   "source": [
    "'''5.4.2 Another simple approach'''\n",
    "l=['abc','amit','baba',\"amit\",\"kaki\",\"baba\"]\n",
    "t=['amit','baba']\n",
    "[i for i,j in enumerate(l) if j in t]"
   ]
  },
  {
   "cell_type": "code",
   "execution_count": 3,
   "metadata": {},
   "outputs": [
    {
     "name": "stdout",
     "output_type": "stream",
     "text": [
      "name Amit\n"
     ]
    }
   ],
   "source": [
    "'''\n",
    "6. The dictionary do not have an index, can we create a function that would return any nth key value pair\n",
    "Very similar to the .items() method\n",
    "'''\n",
    "am={'name':\"Amit\",\n",
    "    'age':24, \n",
    "    'city':'GGM'\n",
    "}\n",
    "\n",
    "def dict_index(n):\n",
    "    for i,j in enumerate(am):\n",
    "        if i==n:\n",
    "            print(j,am[j])\n",
    "\n",
    "dict_index(0)"
   ]
  },
  {
   "cell_type": "code",
   "execution_count": 4,
   "metadata": {},
   "outputs": [
    {
     "data": {
      "text/plain": [
       "{'age': 24}"
      ]
     },
     "execution_count": 4,
     "metadata": {},
     "output_type": "execute_result"
    }
   ],
   "source": [
    "'''6.0.1 This can be done as well using the dictionary comprehension'''\n",
    "am={'name':\"Amit\",\n",
    "    'age':24, \n",
    "    'city':'GGM'\n",
    "}\n",
    "\n",
    "{j:am[j] for i,j in enumerate(am) if i==1}"
   ]
  },
  {
   "cell_type": "code",
   "execution_count": 6,
   "metadata": {},
   "outputs": [
    {
     "data": {
      "text/plain": [
       "{'city': 'GGM'}"
      ]
     },
     "execution_count": 6,
     "metadata": {},
     "output_type": "execute_result"
    }
   ],
   "source": [
    "'''6.0.2 Lets try the function approach '''\n",
    "am={'name':\"Amit\",\n",
    "    'age':24, \n",
    "    'city':'GGM'\n",
    "}\n",
    "def dict(n):\n",
    "    return {j:am[j] for i,j in enumerate(am) if i==n}\n",
    "\n",
    "dict(2)"
   ]
  },
  {
   "cell_type": "code",
   "execution_count": null,
   "metadata": {},
   "outputs": [],
   "source": [
    "'''6.1 Set comprehension\n",
    "By default the dictionary would give the key\n",
    "'''\n",
    "{j for i,j in enumerate(am.items()) if i == 0}\n",
    "\n",
    "#OR just for the value\n",
    "{am[j] for i,j in enumerate(am) if i == 0}\n"
   ]
  },
  {
   "cell_type": "code",
   "execution_count": null,
   "metadata": {
    "scrolled": false
   },
   "outputs": [],
   "source": [
    "'''6.2 If I wish for more than 2 indexes'''\n",
    "{am[j] for i,j in enumerate(am) if i in (0,1)}"
   ]
  },
  {
   "cell_type": "code",
   "execution_count": null,
   "metadata": {},
   "outputs": [],
   "source": [
    "'''6.3 It can be used with range'''\n",
    "{am[j] for i,j in enumerate(am) if i in range(3)}"
   ]
  }
 ],
 "metadata": {
  "kernelspec": {
   "display_name": "Python 3",
   "language": "python",
   "name": "python3"
  },
  "language_info": {
   "codemirror_mode": {
    "name": "ipython",
    "version": 3
   },
   "file_extension": ".py",
   "mimetype": "text/x-python",
   "name": "python",
   "nbconvert_exporter": "python",
   "pygments_lexer": "ipython3",
   "version": "3.7.4"
  }
 },
 "nbformat": 4,
 "nbformat_minor": 2
}
