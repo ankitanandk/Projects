{
 "cells": [
  {
   "cell_type": "markdown",
   "metadata": {},
   "source": [
    "1. Variable:\n",
    "\n",
    "Variables are reserved memory locations to store values. This means that when you create a variable you reserve some space in memory.\n",
    "\n",
    "Based on the data type of a variable, the interpreter allocates memory and decides what can be stored in the reserved memory. Therefore, by assigning different data types to variables, you can store integers, decimals or characters in these variables."
   ]
  },
  {
   "cell_type": "code",
   "execution_count": null,
   "metadata": {},
   "outputs": [],
   "source": [
    "'''2. How to Assign Values to Variables\n",
    "\n",
    "Python variables do not need explicit declaration to reserve memory space. The declaration\n",
    "happens automatically when you assign a value to a variable. \n",
    "The equal sign (=) is used to assign values to variables.\n",
    "\n",
    "The operand to the left of the = operator is the name of the variable and the operand to the \n",
    "right of the = operator is the value stored in the variable\n",
    "'''\n",
    "amit=100\n",
    "name=\"Amit\"\n",
    "\n",
    "print(amit)\n",
    "print(name)\n",
    "\n",
    "#OR you can even give multiple arguments to print for printing the variables\n",
    "print(amit,name)\n"
   ]
  },
  {
   "cell_type": "code",
   "execution_count": null,
   "metadata": {},
   "outputs": [],
   "source": [
    "'''################\n",
    "\n",
    "3. Multiple Assignment\n",
    "\n",
    "Python allows you to assign a single value to several variables simultaneously. \n",
    "\n",
    "Any guesses, what would be the advantage in this type of assignment?\n",
    "For example −\n",
    "\n",
    "Now three objects points to the same memory location and thus making it efficient\n",
    "'''\n",
    "a=b=c=1\n",
    "print(a,b,c)"
   ]
  },
  {
   "cell_type": "code",
   "execution_count": null,
   "metadata": {
    "scrolled": true
   },
   "outputs": [],
   "source": [
    "'''4. Variables and separate values (Note: This is positional in nature)\n",
    "\n",
    "Here the values are assigned based on the position. This is an example of unpacking\n",
    "\n",
    "You can also assign multiple objects to multiple variables. \n",
    "For example −\n",
    "'''\n",
    "a,b,c=1,2,\"Amit\"\n",
    "\n",
    "print(a,b,c)\n",
    "\n",
    "print(type(a),type(b),type(c))"
   ]
  },
  {
   "cell_type": "code",
   "execution_count": null,
   "metadata": {
    "scrolled": true
   },
   "outputs": [],
   "source": [
    "'''Quiz 1: What would happen in below code and how to fix it?'''\n",
    "\n",
    "a,b,c=1,2\n",
    "\n",
    "print(a,b,c)\n"
   ]
  },
  {
   "cell_type": "code",
   "execution_count": null,
   "metadata": {},
   "outputs": [],
   "source": [
    "'''Quiz 1.1: What would happen in below code and how to fix it?'''\n",
    "\n",
    "a,b,c=1,2,3,4\n",
    "\n",
    "print(a,b,c)"
   ]
  },
  {
   "cell_type": "code",
   "execution_count": null,
   "metadata": {
    "scrolled": false
   },
   "outputs": [],
   "source": [
    "'''Quiz 2: Is this even allowed?, what would be the type of a,b and c?'''\n",
    "\n",
    "a,b,c=\"a\",\"b\",\"c\"\n",
    "\n",
    "print(a,b,c)\n",
    "print(type(a))\n",
    "print(type(b))\n",
    "print(type(c))"
   ]
  },
  {
   "cell_type": "code",
   "execution_count": null,
   "metadata": {},
   "outputs": [],
   "source": [
    "'''Quiz 3: Is this even allowed and what would be the output? \n",
    "Each byte would get split and would be assigned to each variable'''\n",
    "\n",
    "a,b,c=\"abc\"\n",
    "print(a,b,c)"
   ]
  },
  {
   "cell_type": "code",
   "execution_count": null,
   "metadata": {},
   "outputs": [],
   "source": [
    "'''Quiz 4: Is this even allowed and what would be the output and what would be the error message?'''\n",
    "\n",
    "a,b,c=\"ab\"\n",
    "print(a,b,c)\n",
    "\n",
    "a,b,c=\"abcd\"\n",
    "\n",
    "print(a,b,c)"
   ]
  },
  {
   "cell_type": "code",
   "execution_count": null,
   "metadata": {},
   "outputs": [],
   "source": [
    "'''Quiz 5: Is this even allowed and what would be the output?\n",
    "Though we would learn it later\n",
    "'''\n",
    "\n",
    "a=b=c=1,2,3\n",
    "print(a, type(a))"
   ]
  }
 ],
 "metadata": {
  "kernelspec": {
   "display_name": "Python 3",
   "language": "python",
   "name": "python3"
  },
  "language_info": {
   "codemirror_mode": {
    "name": "ipython",
    "version": 3
   },
   "file_extension": ".py",
   "mimetype": "text/x-python",
   "name": "python",
   "nbconvert_exporter": "python",
   "pygments_lexer": "ipython3",
   "version": "3.7.4"
  }
 },
 "nbformat": 4,
 "nbformat_minor": 2
}
