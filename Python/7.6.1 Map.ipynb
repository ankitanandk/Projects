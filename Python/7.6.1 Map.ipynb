{
 "cells": [
  {
   "cell_type": "code",
   "execution_count": null,
   "metadata": {},
   "outputs": [],
   "source": [
    "'''0. help on the map function and the various modules taht get called'''\n",
    "help(map) "
   ]
  },
  {
   "cell_type": "code",
   "execution_count": null,
   "metadata": {
    "scrolled": true
   },
   "outputs": [],
   "source": [
    "'''\n",
    "1. Map function takes a function or lambda expression as the first argument and then the iterable.\n",
    "It returns a map object and the map object is also iterable as it is an iterator.\n",
    "\n",
    "map(func, iterables) --> map object\n",
    "\n",
    "Map helps to reduce the code size and complexity\n",
    "\n",
    "Maps the function to each elemnt in the iterable\n",
    "\n",
    "1. Lets say we have a list and we wish to have the square of each value,\n",
    "we have done this many times :)\n",
    "\n",
    "Functional programming is all about expressions. \n",
    "We may say that the Functional programming is an expression oriented programming.\n",
    "\n",
    "Expression oriented functions of Python provides are:\n",
    "\n",
    "map(aFunction, aSequence)\n",
    "filter(aFunction, aSequence)\n",
    "reduce(aFunction, aSequence)\n",
    "\n",
    "*****************************;\n",
    "lambda\n",
    "list comprehension\n",
    "'''\n",
    "def sq(a):\n",
    "    return a**2\n",
    "# This wont work, as we have called the function sq\n",
    "l=[1,2,3]\n",
    "print(map(sq(),l))\n",
    "\n",
    "# No need to call the function as sq(), just sq is sufficient and since it returns map object, convert to list\n",
    "newl=list(map(sq,l))  \n",
    "print(newl)\n",
    "\n",
    "#Or the call can be made in one line as shown below\n",
    "print(list(map(sq,[1,2,3])))\n",
    "\n",
    "#list comprehension\n",
    "def sq(a):\n",
    "    return a**2\n",
    "\n",
    "l=[1,2,3]\n",
    "[sq(i) for i in l]"
   ]
  },
  {
   "cell_type": "code",
   "execution_count": null,
   "metadata": {},
   "outputs": [],
   "source": [
    "'''1.01 You can get the documentation or the doc string.. just the first one\n",
    "so all information should be in 1 docstring\n",
    "\n",
    "It would also tell the \\n or new line in the documentation :)\n",
    "\n",
    "__doc__ is an attribute\n",
    "'''\n",
    "\n",
    "def check(n):\n",
    "    '''This is test message'''\n",
    "    '''This is test message 2'''\n",
    "    return n**2\n",
    "\n",
    "check.__doc__\n",
    "\n",
    "#Attempt2 \n",
    "def check(n):\n",
    "    '''This is test message\n",
    "    This is test message 2'''\n",
    "    return n**2\n",
    "\n",
    "check.__doc__"
   ]
  },
  {
   "cell_type": "code",
   "execution_count": null,
   "metadata": {
    "scrolled": false
   },
   "outputs": [],
   "source": [
    "'''\n",
    "1.1 Let's try and understand the return object from map function. Map object belongs to the class map.\n",
    "This is an iterator (actually a generator)\n",
    "'''\n",
    "print(type(map(sq,l)))\n",
    "print(map(sq,l))"
   ]
  },
  {
   "cell_type": "code",
   "execution_count": null,
   "metadata": {
    "scrolled": true
   },
   "outputs": [],
   "source": [
    "'''1.2 How would you prove that map is a generator object\n",
    "The second loop and print doesnot print anything as the data is lost after 1 iteration.\n",
    "\n",
    "List store the data for many iterations.\n",
    "\n",
    "Generators for 1 iteration :) and for 1 time use\n",
    "'''\n",
    "l=[1,2,3]\n",
    "\n",
    "def sq(n):\n",
    "    return n**2\n",
    "a=map(sq,l)\n",
    "\n",
    "for i in a:\n",
    "    print(i)\n",
    "    \n",
    "for i in a:\n",
    "    print(i)\n",
    "    \n",
    "#Now the object is a list and the print would come 2 times\n",
    "l=[1,2,3]\n",
    "def sq(n):\n",
    "    return n**2\n",
    "\n",
    "a=[i for i in map(sq,l)]\n",
    "\n",
    "for i in a:\n",
    "    print(i)\n",
    "    \n",
    "for i in a:\n",
    "    print(i)"
   ]
  },
  {
   "cell_type": "code",
   "execution_count": 1,
   "metadata": {},
   "outputs": [
    {
     "data": {
      "text/plain": [
       "1"
      ]
     },
     "execution_count": 1,
     "metadata": {},
     "output_type": "execute_result"
    }
   ],
   "source": [
    "'''1.3 The next function can direct work so it is an iterator and not an iterable'''\n",
    "l=[1,2,3]\n",
    "def sq(n):\n",
    "    return n**2\n",
    "\n",
    "next(map(sq,l))"
   ]
  },
  {
   "cell_type": "code",
   "execution_count": 2,
   "metadata": {},
   "outputs": [
    {
     "name": "stdout",
     "output_type": "stream",
     "text": [
      "1\n",
      "4\n",
      "9\n"
     ]
    }
   ],
   "source": [
    "'''1.3.1 We can now use the next function iteratively for geetingthe values 1 by 1'''\n",
    "def sq(n):\n",
    "    return n**2\n",
    "\n",
    "l=[1,2,3]\n",
    "\n",
    "check=map(sq,l)\n",
    "\n",
    "print(next(check))\n",
    "print(next(check))\n",
    "print(next(check))"
   ]
  },
  {
   "cell_type": "code",
   "execution_count": null,
   "metadata": {},
   "outputs": [],
   "source": [
    "'''\n",
    "2. Let's attempt the above problem with lambda expression, if you do not remember, \n",
    "refer to previous notes :)\n",
    "'''\n",
    "l=[1,2,3]\n",
    "newl=list(map(lambda a: a**2,l))  \n",
    "print(newl)\n",
    "\n",
    "# or the other way to write the above code, here n would now behave like a function, \n",
    "# as python support first class fxns\n",
    "l=[1,2,3]\n",
    "n=lambda a: a**2\n",
    "print(list(map(n,l)))"
   ]
  },
  {
   "cell_type": "code",
   "execution_count": null,
   "metadata": {},
   "outputs": [],
   "source": [
    "'''\n",
    "3. Lets attempt same problem with just list comprehension\n",
    "'''\n",
    "l=[1,2,3]\n",
    "newl=[i**2 for i in l]  \n",
    "print(newl)"
   ]
  },
  {
   "cell_type": "code",
   "execution_count": null,
   "metadata": {},
   "outputs": [],
   "source": [
    "'''\n",
    "4. Let's attempt same problem with list append :)\n",
    "'''\n",
    "l=[1,2,3]\n",
    "newl=[]\n",
    "for i in l:\n",
    "    newl.append(i**2)\n",
    "print(newl)"
   ]
  },
  {
   "cell_type": "code",
   "execution_count": null,
   "metadata": {},
   "outputs": [],
   "source": [
    "'''\n",
    "5. Lets attempt same problem with list append and calling the function sq, \n",
    "so all in all many ways for doing one job :)\n",
    "'''\n",
    "l=[1,2,3]\n",
    "newl=[]\n",
    "for i in l:\n",
    "    newl.append(sq(i))\n",
    "print(newl)"
   ]
  },
  {
   "cell_type": "code",
   "execution_count": null,
   "metadata": {},
   "outputs": [],
   "source": [
    "'''\n",
    "6. lets try and find length of each element in list by the existing function len\n",
    "'''\n",
    "l=[\"kaka\",\"baba\",\"amitabh\"]\n",
    "\n",
    "new=list(map(len,l))\n",
    "print(new)\n",
    "\n",
    "#Or the list comprehension\n",
    "l=[\"kaka\",\"baba\",\"amitabh\"]\n",
    "[i for i in map(len,l)]"
   ]
  },
  {
   "cell_type": "code",
   "execution_count": null,
   "metadata": {},
   "outputs": [],
   "source": [
    "'''6.1 How would you find the maximum length, make sure to use map in the solution'''\n",
    "l=[\"kaka\",\"baba\",\"amitabh\"]\n",
    "max(list(map(len,l)))"
   ]
  },
  {
   "cell_type": "code",
   "execution_count": 3,
   "metadata": {},
   "outputs": [
    {
     "data": {
      "text/plain": [
       "['amitabh']"
      ]
     },
     "execution_count": 3,
     "metadata": {},
     "output_type": "execute_result"
    }
   ],
   "source": [
    "'''6.2 How would you find names of the max length,make sure to use map in the solution'''\n",
    "l=[\"kaka\",\"baba\",\"amitabh\"]\n",
    "\n",
    "[i for i in l if len(i)==max(list(map(len,l)))]"
   ]
  },
  {
   "cell_type": "code",
   "execution_count": null,
   "metadata": {},
   "outputs": [],
   "source": [
    "'''\n",
    "7. lets try and print each element in list by the existing function print :)\n",
    "'''\n",
    "l=[\"kaka\",1,[1,2,3]]\n",
    "new=list(map(type,l))\n",
    "new"
   ]
  },
  {
   "cell_type": "code",
   "execution_count": 4,
   "metadata": {
    "scrolled": true
   },
   "outputs": [
    {
     "name": "stdout",
     "output_type": "stream",
     "text": [
      "kaka\n",
      "baba\n",
      "amitabh\n"
     ]
    },
    {
     "data": {
      "text/plain": [
       "[None, None, None]"
      ]
     },
     "execution_count": 4,
     "metadata": {},
     "output_type": "execute_result"
    }
   ],
   "source": [
    "'''7.1 Explain the output, why print is behaving like this\n",
    "As the return type of print function is None\n",
    "'''\n",
    "l=[\"kaka\",\"baba\",\"amitabh\"]\n",
    "[i for i in map(print,l)]"
   ]
  },
  {
   "cell_type": "code",
   "execution_count": null,
   "metadata": {},
   "outputs": [],
   "source": [
    "'''\n",
    "8. The map object is an iterator, here new is a map object and we can use in loop, I hope things are more clear :)\n",
    "This map function works on an iterable and returns a iterator.\n",
    "'''\n",
    "l=[\"kaka\",\"baba\",\"amitabh\"]\n",
    "print(type(map(len,l)))\n",
    "\n",
    "for i in map(len,l):\n",
    "    print(i)"
   ]
  },
  {
   "cell_type": "code",
   "execution_count": null,
   "metadata": {},
   "outputs": [],
   "source": [
    "'''\n",
    "9. lets try and call the is_ev function using the map and flag the list.\n",
    "'''\n",
    "def is_ev(l):\n",
    "    if l%2==0:\n",
    "        return 1\n",
    "    return 0\n",
    "    \n",
    "l=[1,2,3]\n",
    "new=list(map(is_ev,l))\n",
    "new"
   ]
  },
  {
   "cell_type": "code",
   "execution_count": 1,
   "metadata": {},
   "outputs": [
    {
     "data": {
      "text/plain": [
       "[None, 1, None]"
      ]
     },
     "execution_count": 1,
     "metadata": {},
     "output_type": "execute_result"
    }
   ],
   "source": [
    "'''\n",
    "10. lets try and call the is_ev function using the map and a defined function of is_ev, for even 1 else None\n",
    "This would give None for the else clause\n",
    "'''\n",
    "def is_ev(l):\n",
    "    if l%2==0:\n",
    "        return 1\n",
    "    \n",
    "l=[1,2,3]\n",
    "new=list(map(is_ev,l))\n",
    "new"
   ]
  },
  {
   "cell_type": "code",
   "execution_count": null,
   "metadata": {},
   "outputs": [],
   "source": [
    "'''10.1 Using the list comprehension'''\n",
    "l=[1,2,3]\n",
    "[i for i in map(lambda n: 1 if n%2==0 else 0,l)]"
   ]
  },
  {
   "cell_type": "code",
   "execution_count": null,
   "metadata": {
    "scrolled": true
   },
   "outputs": [],
   "source": [
    "'''\n",
    "11. More application of map and the next function, next we have studied in loops :)\n",
    "'''\n",
    "l=[1,2,3]\n",
    "squares=map(lambda a: a**2, l) # This is an iterator and hence next fiunction could work on it\n",
    "# we can directly call the next function on squares\n",
    "print(next(squares))\n",
    "print(next(squares))\n",
    "print(next(squares))"
   ]
  },
  {
   "cell_type": "code",
   "execution_count": 5,
   "metadata": {},
   "outputs": [
    {
     "name": "stdout",
     "output_type": "stream",
     "text": [
      "[5, 7, 9, 11]\n"
     ]
    }
   ],
   "source": [
    "'''12. Map taking 2 arguments\n",
    "Note: It would add the corresponding elements of both the list and would work till the length of shorter list\n",
    "'''\n",
    "def test(a,b):\n",
    "    return a+b\n",
    "\n",
    "l=[1,2,3,4]\n",
    "k=[4,5,6,7]\n",
    "print(list(map(test,l,k)))"
   ]
  },
  {
   "cell_type": "code",
   "execution_count": 10,
   "metadata": {},
   "outputs": [
    {
     "name": "stdout",
     "output_type": "stream",
     "text": [
      "[7, 7, 7]\n"
     ]
    }
   ],
   "source": [
    "'''12.1 Guess the ouput of the below code\n",
    "They would get added in the reverses order\n",
    "'''\n",
    "def test(a,b):\n",
    "    return a+b\n",
    "l=[1,2,3,4]\n",
    "k=[4,5,6]\n",
    "print(list(map(test,l,k[::-1])))"
   ]
  },
  {
   "cell_type": "code",
   "execution_count": 11,
   "metadata": {},
   "outputs": [
    {
     "name": "stdout",
     "output_type": "stream",
     "text": [
      "[5, 7, 9]\n"
     ]
    }
   ],
   "source": [
    "'''12.2 Map taking 2 arguments, make use of the lambda function'''\n",
    "l=[1,2,3,4]\n",
    "k=[4,5,6]\n",
    "print(list(map(lambda x,y:x+y,l,k)))"
   ]
  },
  {
   "cell_type": "code",
   "execution_count": null,
   "metadata": {},
   "outputs": [],
   "source": [
    "'''13. Using list comprehension with map and adding the corresponding elements using the lambda function and \n",
    "a normal function'''\n",
    "def test(a,b):\n",
    "    return a+b\n",
    "\n",
    "print(list(map(test,[i for i in range(1,5)],[k**2 for k in range (1,5)])))\n",
    "\n",
    "#Using the lambda function\n",
    "print(list(map(lambda x,y: x+y,[i for i in range(1,5)],[k**2 for k in range (1,5)])))"
   ]
  },
  {
   "cell_type": "code",
   "execution_count": null,
   "metadata": {},
   "outputs": [],
   "source": [
    "'''14. A tuple could also be created at ease'''\n",
    "l=[1,2,3]\n",
    "tuple(map(lambda n:n**2,l))"
   ]
  },
  {
   "cell_type": "code",
   "execution_count": 12,
   "metadata": {},
   "outputs": [
    {
     "data": {
      "text/plain": [
       "{1: 1, 4: 4, 9: 9}"
      ]
     },
     "execution_count": 12,
     "metadata": {},
     "output_type": "execute_result"
    }
   ],
   "source": [
    "'''15. A dictionary can be created easily using comprehension and the map function'''\n",
    "l=[1,2,3]\n",
    "{i:i for i in map(lambda n:n**2,l)}"
   ]
  },
  {
   "cell_type": "code",
   "execution_count": 13,
   "metadata": {},
   "outputs": [
    {
     "data": {
      "text/plain": [
       "{'1': 1, '4': 4, '9': 9}"
      ]
     },
     "execution_count": 13,
     "metadata": {},
     "output_type": "execute_result"
    }
   ],
   "source": [
    "'''15. A dictionary can be created easily using comprehension and the map function\n",
    "Key can be made a string as well using the str function\n",
    "'''\n",
    "l=[1,2,3]\n",
    "{str(i):i for i in map(lambda n:n**2,l)}"
   ]
  },
  {
   "cell_type": "code",
   "execution_count": null,
   "metadata": {},
   "outputs": [],
   "source": [
    "'''15.1 The values can be a list as well and we can leverage the concept in all possible ways'''\n",
    "'''15. A dictionary can be created easily using comprehension and the map function\n",
    "Key can be made a string as well using the str function\n",
    "'''\n",
    "l=[1,2,3]\n",
    "{str(i):i for i in map(lambda n:n**2,l)}"
   ]
  },
  {
   "cell_type": "code",
   "execution_count": 14,
   "metadata": {
    "scrolled": false
   },
   "outputs": [
    {
     "data": {
      "text/plain": [
       "[11, 14, 15]"
      ]
     },
     "execution_count": 14,
     "metadata": {},
     "output_type": "execute_result"
    }
   ],
   "source": [
    "'''16. You can even give 3 arguments'''\n",
    "l=[1,2,3,4]\n",
    "k=[4,5,6]\n",
    "p=[6,7,6]\n",
    "\n",
    "[i for i in map(lambda a,b,c:a+b+c,l,k,p)]"
   ]
  },
  {
   "cell_type": "code",
   "execution_count": 17,
   "metadata": {
    "scrolled": true
   },
   "outputs": [
    {
     "data": {
      "text/plain": [
       "['aa', 'mm', 'ii', 'tt']"
      ]
     },
     "execution_count": 17,
     "metadata": {},
     "output_type": "execute_result"
    }
   ],
   "source": [
    "'''16.1 What would be the output'''\n",
    "list(map(lambda n:n*2,\"amit\"))"
   ]
  },
  {
   "cell_type": "code",
   "execution_count": 1,
   "metadata": {},
   "outputs": [
    {
     "data": {
      "text/plain": [
       "['aa']"
      ]
     },
     "execution_count": 1,
     "metadata": {},
     "output_type": "execute_result"
    }
   ],
   "source": [
    "'''16.1 What would be the output'''\n",
    "[i for i in list(map(lambda n:n*2,\"amit\")) if i.startswith(\"a\")]"
   ]
  },
  {
   "cell_type": "code",
   "execution_count": 6,
   "metadata": {},
   "outputs": [
    {
     "name": "stdout",
     "output_type": "stream",
     "text": [
      "Enter three numbers1 2 3\n",
      "1 2 3\n"
     ]
    }
   ],
   "source": [
    "'''17. map can be used to pass multiple user arguments'''\n",
    "a,b,c=map(int,input(\"Enter three numbers\").split())\n",
    "\n",
    "print(a,b,c)"
   ]
  }
 ],
 "metadata": {
  "kernelspec": {
   "display_name": "Python 3",
   "language": "python",
   "name": "python3"
  },
  "language_info": {
   "codemirror_mode": {
    "name": "ipython",
    "version": 3
   },
   "file_extension": ".py",
   "mimetype": "text/x-python",
   "name": "python",
   "nbconvert_exporter": "python",
   "pygments_lexer": "ipython3",
   "version": "3.7.4"
  }
 },
 "nbformat": 4,
 "nbformat_minor": 2
}
