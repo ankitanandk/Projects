{
 "cells": [
  {
   "cell_type": "code",
   "execution_count": null,
   "metadata": {
    "scrolled": true
   },
   "outputs": [],
   "source": [
    "'''\n",
    "1. Continue Statement: It is a misnomer, it actuall continue with begining of loop\n",
    "******************\n",
    "It returns the control to the beginning of the loop. The continue statement rejects \n",
    "all the remaining statements \n",
    "in the current iteration of the loop and moves the control back to the top of the loop.\n",
    "\n",
    "The continue statement can be used in both while and for loop.\n",
    "\n",
    "1. Check if the jersey number in jersey list is taken from available 1-11 jersey number\n",
    "\n",
    "Basic code for availability and taken\n",
    "'''\n",
    "jersey=[1,3,5,7]\n",
    "\n",
    "for i in range(1,11):\n",
    "    if i in jersey:\n",
    "        print(f\"{i} is taken\")\n",
    "    else:\n",
    "        print(f\"{i} is available\")"
   ]
  },
  {
   "cell_type": "code",
   "execution_count": null,
   "metadata": {},
   "outputs": [],
   "source": [
    "'''\n",
    "1.1 Just Print what jersey number is available, use continue statement\n",
    "No need of else as the print would be done once the condition is false\n",
    "'''        \n",
    "for n in range(1,11):\n",
    "    if n in jersey:\n",
    "        continue\n",
    "    print(n,\"jersey is available\")"
   ]
  },
  {
   "cell_type": "code",
   "execution_count": null,
   "metadata": {},
   "outputs": [],
   "source": [
    "'''\n",
    "CP\n",
    "\n",
    "2. Print all odd numbers between 1-10 use the continue statement.\n",
    "'''\n",
    "for i in range(1,10):\n",
    "    if i%2==1:\n",
    "        print(i,\"is an odd number\")\n",
    "        continue"
   ]
  },
  {
   "cell_type": "code",
   "execution_count": null,
   "metadata": {
    "scrolled": false
   },
   "outputs": [],
   "source": [
    "'''\n",
    "2.1 Another smart way to do the above problem is, look at the indentation.\n",
    "'''\n",
    "for i in range(1,10):\n",
    "    if i%2==0:\n",
    "        continue\n",
    "    print(i,\"is an odd number\")\n",
    "        "
   ]
  },
  {
   "cell_type": "code",
   "execution_count": 1,
   "metadata": {},
   "outputs": [
    {
     "name": "stdout",
     "output_type": "stream",
     "text": [
      "9\n"
     ]
    }
   ],
   "source": [
    "'''\n",
    "2.2 I wish to get the last odd number in the range and we need to use the continue\n",
    "'''\n",
    "for i in range(1,11):\n",
    "    if i%2==0:\n",
    "        continue\n",
    "print(i-1)\n",
    "        "
   ]
  }
 ],
 "metadata": {
  "kernelspec": {
   "display_name": "Python 3",
   "language": "python",
   "name": "python3"
  },
  "language_info": {
   "codemirror_mode": {
    "name": "ipython",
    "version": 3
   },
   "file_extension": ".py",
   "mimetype": "text/x-python",
   "name": "python",
   "nbconvert_exporter": "python",
   "pygments_lexer": "ipython3",
   "version": "3.7.3"
  }
 },
 "nbformat": 4,
 "nbformat_minor": 2
}
