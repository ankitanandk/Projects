{
 "cells": [
  {
   "cell_type": "code",
   "execution_count": 4,
   "metadata": {},
   "outputs": [
    {
     "name": "stdout",
     "output_type": "stream",
     "text": [
      "<class 'list'>\n"
     ]
    }
   ],
   "source": [
    "'''\n",
    "Lists are the most versatile of Python's compound data types. \n",
    "\n",
    "A list contains items separated by commas and enclosed within square brackets []. \n",
    "\n",
    "To some extent, lists are similar to 1 Dimensional arrays in SAS. \n",
    "One difference between them is that all the items belonging to a list can be of different data type, \n",
    "This is not allowed in SAS.\n",
    "\n",
    "Below code declares a list, the list can store comppound data type.\n",
    "'''\n",
    "amit=[23,22,24,\"a\"]\n",
    "print(type(amit))\n"
   ]
  }
 ],
 "metadata": {
  "kernelspec": {
   "display_name": "Python 3",
   "language": "python",
   "name": "python3"
  },
  "language_info": {
   "codemirror_mode": {
    "name": "ipython",
    "version": 3
   },
   "file_extension": ".py",
   "mimetype": "text/x-python",
   "name": "python",
   "nbconvert_exporter": "python",
   "pygments_lexer": "ipython3",
   "version": "3.7.3"
  }
 },
 "nbformat": 4,
 "nbformat_minor": 2
}
