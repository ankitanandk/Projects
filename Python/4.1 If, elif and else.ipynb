{
 "cells": [
  {
   "cell_type": "code",
   "execution_count": null,
   "metadata": {},
   "outputs": [],
   "source": [
    "'''\n",
    "1. This is an example of docstring, I know you know, just revising :)\n",
    "If else if is used for conditionally processing the data or tasks for a true or false condition.\n",
    "\n",
    ": (colon) is used for continuing with the code or the code Block, this is as good as \"then\" in SAS, \n",
    "all the indented statements under if statement are considered part of the if block\n",
    "'''\n",
    "'''\n",
    "Let's take and example of  just \"if\" statement\n",
    "'''\n",
    "\n",
    "age=24\n",
    "if age==23:\n",
    "    print(\"age is 23\")"
   ]
  },
  {
   "cell_type": "code",
   "execution_count": 1,
   "metadata": {},
   "outputs": [
    {
     "name": "stdout",
     "output_type": "stream",
     "text": [
      "above age\n"
     ]
    }
   ],
   "source": [
    "'''\n",
    "2. Note elif should come in the same line of if and should not be indented with the print function\n",
    "'''\n",
    "age=23\n",
    "if age >18:\n",
    "    print(\"above age\")\n",
    "elif age <18:           \n",
    "    print(\"underage\")\n",
    "else:\n",
    "    print(\"at 18\")"
   ]
  },
  {
   "cell_type": "code",
   "execution_count": 2,
   "metadata": {},
   "outputs": [
    {
     "name": "stdout",
     "output_type": "stream",
     "text": [
      "share your age34\n",
      "above age\n"
     ]
    }
   ],
   "source": [
    "'''CP\n",
    "3 : Take input from user and check for age status\n",
    "\n",
    "'''\n",
    "age=int(input(\"share your age\"))\n",
    "\n",
    "if age >=21:\n",
    "    status=\"above age\"    \n",
    "elif age <=21:\n",
    "    status=\"underage\"\n",
    "else:\n",
    "    status=\"at 18\"\n",
    "    \n",
    "print(status)"
   ]
  },
  {
   "cell_type": "code",
   "execution_count": null,
   "metadata": {},
   "outputs": [],
   "source": [
    "'''CP\n",
    "4: Try and understand the logic followed for odd and even number\n",
    "\n",
    "'''\n",
    "a=int(input(\"Enter a number:\"))\n",
    "if(a%2==0):\n",
    "    print(\"Number is even\")\n",
    "else:\n",
    "    print(\"Number is odd\")"
   ]
  }
 ],
 "metadata": {
  "kernelspec": {
   "display_name": "Python 3",
   "language": "python",
   "name": "python3"
  },
  "language_info": {
   "codemirror_mode": {
    "name": "ipython",
    "version": 3
   },
   "file_extension": ".py",
   "mimetype": "text/x-python",
   "name": "python",
   "nbconvert_exporter": "python",
   "pygments_lexer": "ipython3",
   "version": "3.7.4"
  }
 },
 "nbformat": 4,
 "nbformat_minor": 2
}
