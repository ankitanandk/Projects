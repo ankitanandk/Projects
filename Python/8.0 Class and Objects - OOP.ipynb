{
 "cells": [
  {
   "cell_type": "code",
   "execution_count": null,
   "metadata": {},
   "outputs": [],
   "source": [
    "'''\n",
    "1.OOP: It is a style to write and manage a code for making real world programs. \n",
    "\n",
    "What are classes and objects in Python?\n",
    "\n",
    "Python is an object oriented programming language. Unlike procedure oriented programming, \n",
    "where the main emphasis is on functions, object oriented programming stress on objects.\n",
    "\n",
    "Class is simply a collection of data (variables), objects and methods (functions) that act on those data. \n",
    "OR we can say class is a blueprint for the object.\n",
    "\n",
    "We can think of class as a sketch (prototype) of a house. \n",
    "It contains all the details about the floors, doors, windows \n",
    "etc. Based on these descriptions we build the house. House is the object(instance) of class.\n",
    "\n",
    "As,many houses can be made from a description, we can create many objects from a class. An object is also \n",
    "called an instance of a class and the process of creating this object is called as instantiation.\n",
    "\n",
    "'''"
   ]
  },
  {
   "cell_type": "code",
   "execution_count": 3,
   "metadata": {
    "scrolled": true
   },
   "outputs": [
    {
     "name": "stdout",
     "output_type": "stream",
     "text": [
      "[1, 2, 3] <class 'list'>\n",
      "None\n"
     ]
    }
   ],
   "source": [
    "'''2. Here list is the class and l is the object of class list'''\n",
    "l=[1,2,3]\n",
    "print(l,type(l))\n",
    "\n",
    "#Method is a function in class, these methods or class functions are now available to the object l\n",
    "print(l.append(8))"
   ]
  },
  {
   "cell_type": "code",
   "execution_count": 1,
   "metadata": {},
   "outputs": [
    {
     "name": "stdout",
     "output_type": "stream",
     "text": [
      "<class 'list'> <class 'list'>\n"
     ]
    }
   ],
   "source": [
    "'''\n",
    "3. Let's try and create 2 objects in class List.\n",
    "Both objects also known as instances now belong to class list\n",
    "Both objects have the access to all the methods(functions) of class list\n",
    "'''\n",
    "l1=[1,2,3]\n",
    "l2=[3,45]\n",
    "\n",
    "print(type(l1),type(l2))"
   ]
  }
 ],
 "metadata": {
  "kernelspec": {
   "display_name": "Python 3",
   "language": "python",
   "name": "python3"
  },
  "language_info": {
   "codemirror_mode": {
    "name": "ipython",
    "version": 3
   },
   "file_extension": ".py",
   "mimetype": "text/x-python",
   "name": "python",
   "nbconvert_exporter": "python",
   "pygments_lexer": "ipython3",
   "version": "3.7.3"
  }
 },
 "nbformat": 4,
 "nbformat_minor": 2
}
