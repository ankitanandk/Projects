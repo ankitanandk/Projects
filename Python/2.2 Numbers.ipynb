{
 "cells": [
  {
   "cell_type": "code",
   "execution_count": null,
   "metadata": {},
   "outputs": [],
   "source": [
    "'''\n",
    "1. Python Numbers: They store numeric data and below are the possible three ways of storing numbers \n",
    "in Python.\n",
    "\n",
    "a) int\n",
    "b) float\n",
    "c) complex\n",
    "'''"
   ]
  },
  {
   "cell_type": "code",
   "execution_count": null,
   "metadata": {
    "scrolled": true
   },
   "outputs": [],
   "source": [
    "'''2. Some examples'''\n",
    "x = 1    # int\n",
    "y = 29.3  # float\n",
    "z = 3+2j   # complex\n",
    "\n",
    "print(type(x))\n",
    "print(type(y))\n",
    "print(type(z))"
   ]
  },
  {
   "cell_type": "code",
   "execution_count": 1,
   "metadata": {
    "scrolled": true
   },
   "outputs": [
    {
     "name": "stdout",
     "output_type": "stream",
     "text": [
      "<class 'int'>\n",
      "<class 'int'>\n",
      "<class 'int'>\n"
     ]
    }
   ],
   "source": [
    "'''\n",
    "3. Int,or integer, is a whole number, positive or negative,\n",
    "without decimals, of unlimited length.\n",
    "'''\n",
    "x = 1\n",
    "y = 3565\n",
    "z = -3255\n",
    "\n",
    "print(type(x))\n",
    "print(type(y))\n",
    "print(type(z))\n"
   ]
  },
  {
   "cell_type": "code",
   "execution_count": null,
   "metadata": {},
   "outputs": [],
   "source": [
    "''' \n",
    "4. Float, or \"floating point number\" is a number, \n",
    "positive or negative, containing decimal and one ore more digits after decimal.\n",
    "'''\n",
    "x = 1.10\n",
    "y = 1.0\n",
    "z = -35.59\n",
    "\n",
    "print(type(x))\n",
    "print(type(y))\n",
    "print(type(z))"
   ]
  },
  {
   "cell_type": "code",
   "execution_count": null,
   "metadata": {},
   "outputs": [],
   "source": [
    "'''\n",
    "5. Complex numbers are written with \"j\" as the imaginary part and a is real and b is imaginary coeffecient in a+ib:\n",
    "j is (-1)*1/2\n",
    "\n",
    "You can use \"j\" or the \"J\" and not any other alphabet for defining complex numbers\n",
    "'''\n",
    "x = 3+5J # With real and imaginary parts\n",
    "y = 5j # With imaginary part \n",
    "z = -5j\n",
    "print(type(x))\n",
    "print(type(y))\n",
    "print(type(z))"
   ]
  },
  {
   "cell_type": "code",
   "execution_count": 2,
   "metadata": {},
   "outputs": [
    {
     "name": "stdout",
     "output_type": "stream",
     "text": [
      "<class 'int'> <class 'float'> <class 'complex'>\n"
     ]
    }
   ],
   "source": [
    "'''Quiz1 . What would be the output for each variable'''\n",
    "x=0\n",
    "y=0.0\n",
    "z=0j\n",
    "\n",
    "print(type(x),type(y),type(z))"
   ]
  },
  {
   "cell_type": "code",
   "execution_count": null,
   "metadata": {},
   "outputs": [],
   "source": []
  }
 ],
 "metadata": {
  "kernelspec": {
   "display_name": "Python 3",
   "language": "python",
   "name": "python3"
  },
  "language_info": {
   "codemirror_mode": {
    "name": "ipython",
    "version": 3
   },
   "file_extension": ".py",
   "mimetype": "text/x-python",
   "name": "python",
   "nbconvert_exporter": "python",
   "pygments_lexer": "ipython3",
   "version": "3.7.4"
  }
 },
 "nbformat": 4,
 "nbformat_minor": 2
}
