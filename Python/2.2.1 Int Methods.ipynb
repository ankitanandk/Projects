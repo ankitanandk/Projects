{
 "cells": [
  {
   "cell_type": "code",
   "execution_count": 20,
   "metadata": {},
   "outputs": [
    {
     "name": "stdout",
     "output_type": "stream",
     "text": [
      "4\n"
     ]
    }
   ],
   "source": [
    "'''1. Method: \n",
    "It is a function that belong to the class object.\n",
    "\n",
    "To see all the function associated with an object just press tab\n",
    "\n",
    "OR the below list comprehension that would come later :)\n",
    "\n",
    "[i for i in dir(int) if not i.startswith(\"_\")]\n",
    "\n",
    "'''\n",
    "'''\n",
    "1. bit_length: Returns the bits that are necessary to represent number in binary format.\n",
    "Guess which one is the method or a function in below code.\n",
    "'''\n",
    "a=10\n",
    "print(a.bit_length())"
   ]
  },
  {
   "cell_type": "code",
   "execution_count": 6,
   "metadata": {},
   "outputs": [
    {
     "name": "stdout",
     "output_type": "stream",
     "text": [
      "0b1010\n"
     ]
    },
    {
     "data": {
      "text/plain": [
       "2"
      ]
     },
     "execution_count": 6,
     "metadata": {},
     "output_type": "execute_result"
    }
   ],
   "source": [
    "'''1.1 Lets use a function instead of the method for clarity\n",
    "Here bin is a function and not the method\n",
    "'''\n",
    "a=10\n",
    "\n",
    "print(bin(a))\n",
    "\n",
    "(len(str(a)))"
   ]
  },
  {
   "cell_type": "code",
   "execution_count": 19,
   "metadata": {},
   "outputs": [
    {
     "name": "stdout",
     "output_type": "stream",
     "text": [
      "<class 'complex'>\n"
     ]
    },
    {
     "data": {
      "text/plain": [
       "(3-2j)"
      ]
     },
     "execution_count": 19,
     "metadata": {},
     "output_type": "execute_result"
    }
   ],
   "source": [
    "'''\n",
    "2. Returns the conjugate of the complex value.\n",
    "Conjugate:The conjugate of a complex number is obtained by changing the sign of its imaginary \n",
    "part. \n",
    "If the complex number is 2+5j then its conjugate is 2-5j.\n",
    "\n",
    "Note: The class here is complex. Why is conjugate working here?\n",
    "'''\n",
    "a=3+2j\n",
    "print(type(a))\n",
    "a.conjugate()"
   ]
  },
  {
   "cell_type": "code",
   "execution_count": null,
   "metadata": {},
   "outputs": [],
   "source": [
    "'''\n",
    "3. What could be the other way to solve the Q1 from a class and object perspective?\n",
    "'''\n",
    "a=10\n",
    "print(int.bit_length(a))"
   ]
  },
  {
   "cell_type": "code",
   "execution_count": null,
   "metadata": {},
   "outputs": [],
   "source": [
    "'''\n",
    "4. How would you write Q2 in the class and object form?\n",
    "'''\n",
    "a=3+2j\n",
    "print(complex.conjugate(a))"
   ]
  }
 ],
 "metadata": {
  "kernelspec": {
   "display_name": "Python 3",
   "language": "python",
   "name": "python3"
  },
  "language_info": {
   "codemirror_mode": {
    "name": "ipython",
    "version": 3
   },
   "file_extension": ".py",
   "mimetype": "text/x-python",
   "name": "python",
   "nbconvert_exporter": "python",
   "pygments_lexer": "ipython3",
   "version": "3.7.4"
  }
 },
 "nbformat": 4,
 "nbformat_minor": 2
}
