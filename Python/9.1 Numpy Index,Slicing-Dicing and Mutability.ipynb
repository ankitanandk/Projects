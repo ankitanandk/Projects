{
 "cells": [
  {
   "cell_type": "code",
   "execution_count": null,
   "metadata": {},
   "outputs": [],
   "source": [
    "'''\n",
    "1. Let's try and see if we can index a numpy array \n",
    "with +ve index, very similar to the other data objects in Python\n",
    "'''\n",
    "import numpy as np\n",
    "a=np.array([1,2,3,4,5])\n",
    "a[1]"
   ]
  },
  {
   "cell_type": "code",
   "execution_count": null,
   "metadata": {},
   "outputs": [],
   "source": [
    "'''1.1 Understand the difference, x would be int and x in second case would be array'''\n",
    "import numpy as np\n",
    "a=np.array([1,2,3])\n",
    "x=a[0]\n",
    "print(x,type(x))\n",
    "\n",
    "import numpy as np\n",
    "a=np.array([1,2,3])\n",
    "x=a[0:2]\n",
    "print(x,type(x))"
   ]
  },
  {
   "cell_type": "code",
   "execution_count": null,
   "metadata": {},
   "outputs": [],
   "source": [
    "'''\n",
    "2. Let's try and see if we can index a numpy array with -ve index\n",
    "Return is an int value\n",
    "'''\n",
    "import numpy as np\n",
    "a=np.array([1,2,3,4,5])\n",
    "a[-1]"
   ]
  },
  {
   "cell_type": "code",
   "execution_count": null,
   "metadata": {
    "scrolled": false
   },
   "outputs": [],
   "source": [
    "'''\n",
    "3. Let's try and see if we can slice and dice with different start and stop values, \n",
    "very similar to other data types\n",
    "Why the last one with -1:-3 is returning empty array?... we know it already\n",
    "\n",
    "the returned object would be an array :)\n",
    "'''\n",
    "import numpy as np\n",
    "a=np.array([1,2,3,4,5])\n",
    "print(a[:])\n",
    "print(a[1:])\n",
    "print(a[:2])\n",
    "print(a[-1:])\n",
    "print(a[-1:-3])"
   ]
  },
  {
   "cell_type": "code",
   "execution_count": null,
   "metadata": {},
   "outputs": [],
   "source": [
    "'''\n",
    "4. Let's try and see if we can slice and dice from different angles with step value.\n",
    "Step is the third argument to the [] slicer and dicer\n",
    "\n",
    "Same as other data containers of python :)\n",
    "'''\n",
    "import numpy as np\n",
    "a=np.array([1,2,3,4,5])\n",
    "print(a[1:4:2])\n",
    "print(a[-1:-4:-2])\n",
    "print(a[::-1])"
   ]
  },
  {
   "cell_type": "code",
   "execution_count": null,
   "metadata": {
    "scrolled": true
   },
   "outputs": [],
   "source": [
    "'''\n",
    "5. Let's check if the Numpy 1D array is mutable, \n",
    "so they are mutable and join the category of list and dictionaries :)\n",
    "\n",
    "woo hoo :)\n",
    "'''\n",
    "import numpy as np\n",
    "a=np.array([1,2,3,4,5])\n",
    "a[3]=99\n",
    "print(a, type(a))"
   ]
  },
  {
   "cell_type": "code",
   "execution_count": null,
   "metadata": {},
   "outputs": [],
   "source": [
    "'''5.1 Guess the output of below code\n",
    "The entire range gets substituted, the index 0 and 1 now is 99\n",
    "\n",
    "This is not allowed in lists\n",
    "'''\n",
    "import numpy as np\n",
    "a=np.array([1,2,3,4,5])\n",
    "a[0:2]=99\n",
    "a"
   ]
  },
  {
   "cell_type": "code",
   "execution_count": null,
   "metadata": {},
   "outputs": [],
   "source": [
    "'''5.2 Lets try same on lists'''\n",
    "\n",
    "l=[1,2,3,4,5]\n",
    "\n",
    "l[0:2]=99"
   ]
  }
 ],
 "metadata": {
  "kernelspec": {
   "display_name": "Python 3",
   "language": "python",
   "name": "python3"
  },
  "language_info": {
   "codemirror_mode": {
    "name": "ipython",
    "version": 3
   },
   "file_extension": ".py",
   "mimetype": "text/x-python",
   "name": "python",
   "nbconvert_exporter": "python",
   "pygments_lexer": "ipython3",
   "version": "3.7.4"
  }
 },
 "nbformat": 4,
 "nbformat_minor": 2
}
