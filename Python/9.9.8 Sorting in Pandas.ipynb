{
 "cells": [
  {
   "cell_type": "code",
   "execution_count": 8,
   "metadata": {},
   "outputs": [],
   "source": [
    "'''0.0 Help in the sort_values method in pandas'''\n",
    "import pandas as pd\n",
    "help pd.DataFrame.sort_values?"
   ]
  },
  {
   "cell_type": "code",
   "execution_count": null,
   "metadata": {
    "scrolled": false
   },
   "outputs": [],
   "source": [
    "'''1. Let's see how can we sort a frame in pandas by one variable in ascending \n",
    "we would need to call the function sort_values '''\n",
    "import pandas as pd\n",
    "df=pd.read_csv('C:\\Users\\ami13\\Desktop\\Amit_Python\\9. Data Frames\\admit.csv')\n",
    "df=df.sort_values('Sex')\n",
    "df.head(2)"
   ]
  },
  {
   "cell_type": "code",
   "execution_count": 7,
   "metadata": {},
   "outputs": [
    {
     "data": {
      "text/html": [
       "<div>\n",
       "<style scoped>\n",
       "    .dataframe tbody tr th:only-of-type {\n",
       "        vertical-align: middle;\n",
       "    }\n",
       "\n",
       "    .dataframe tbody tr th {\n",
       "        vertical-align: top;\n",
       "    }\n",
       "\n",
       "    .dataframe thead th {\n",
       "        text-align: right;\n",
       "    }\n",
       "</style>\n",
       "<table border=\"1\" class=\"dataframe\">\n",
       "  <thead>\n",
       "    <tr style=\"text-align: right;\">\n",
       "      <th></th>\n",
       "      <th>ID</th>\n",
       "      <th>Name</th>\n",
       "      <th>Sex</th>\n",
       "      <th>Age</th>\n",
       "      <th>Date</th>\n",
       "      <th>Height</th>\n",
       "      <th>Weight</th>\n",
       "      <th>ActLevel</th>\n",
       "      <th>Fee</th>\n",
       "    </tr>\n",
       "  </thead>\n",
       "  <tbody>\n",
       "    <tr>\n",
       "      <th>10</th>\n",
       "      <td>2571</td>\n",
       "      <td>Nunnelly, A</td>\n",
       "      <td>F</td>\n",
       "      <td>44</td>\n",
       "      <td>19</td>\n",
       "      <td>66</td>\n",
       "      <td>140</td>\n",
       "      <td>HIGH</td>\n",
       "      <td>149.75</td>\n",
       "    </tr>\n",
       "    <tr>\n",
       "      <th>1</th>\n",
       "      <td>2462</td>\n",
       "      <td>Almers, C</td>\n",
       "      <td>F</td>\n",
       "      <td>34</td>\n",
       "      <td>3</td>\n",
       "      <td>66</td>\n",
       "      <td>152</td>\n",
       "      <td>HIGH</td>\n",
       "      <td>124.80</td>\n",
       "    </tr>\n",
       "    <tr>\n",
       "      <th>2</th>\n",
       "      <td>2501</td>\n",
       "      <td>Bonaventure, T</td>\n",
       "      <td>F</td>\n",
       "      <td>31</td>\n",
       "      <td>17</td>\n",
       "      <td>61</td>\n",
       "      <td>123</td>\n",
       "      <td>LOW</td>\n",
       "      <td>149.75</td>\n",
       "    </tr>\n",
       "    <tr>\n",
       "      <th>3</th>\n",
       "      <td>2523</td>\n",
       "      <td>Johnson, R</td>\n",
       "      <td>F</td>\n",
       "      <td>43</td>\n",
       "      <td>31</td>\n",
       "      <td>63</td>\n",
       "      <td>137</td>\n",
       "      <td>NaN</td>\n",
       "      <td>149.75</td>\n",
       "    </tr>\n",
       "    <tr>\n",
       "      <th>18</th>\n",
       "      <td>2588</td>\n",
       "      <td>Ivan, H</td>\n",
       "      <td>F</td>\n",
       "      <td>22</td>\n",
       "      <td>20</td>\n",
       "      <td>63</td>\n",
       "      <td>139</td>\n",
       "      <td>LOW</td>\n",
       "      <td>85.20</td>\n",
       "    </tr>\n",
       "  </tbody>\n",
       "</table>\n",
       "</div>"
      ],
      "text/plain": [
       "      ID            Name Sex  Age  Date  Height  Weight ActLevel     Fee\n",
       "10  2571     Nunnelly, A   F   44    19      66     140     HIGH  149.75\n",
       "1   2462       Almers, C   F   34     3      66     152     HIGH  124.80\n",
       "2   2501  Bonaventure, T   F   31    17      61     123      LOW  149.75\n",
       "3   2523      Johnson, R   F   43    31      63     137      NaN  149.75\n",
       "18  2588         Ivan, H   F   22    20      63     139      LOW   85.20"
      ]
     },
     "execution_count": 7,
     "metadata": {},
     "output_type": "execute_result"
    }
   ],
   "source": [
    "'''1.1 You can use by as well'''\n",
    "import pandas as pd\n",
    "df=pd.read_csv('/Users/AHAAN/Desktop/Amit_Python/9. data Frames/admit.csv')\n",
    "df.sort_values(by='Sex').head()"
   ]
  },
  {
   "cell_type": "code",
   "execution_count": null,
   "metadata": {
    "scrolled": false
   },
   "outputs": [],
   "source": [
    "'''2. Let's sort by 2 variables in a data frame, primary and secondary\n",
    "The first sorting is by Sex and then by Actlevel\n",
    "'''\n",
    "import pandas as pd\n",
    "df=pd.read_csv('/Users/AHAAN/Desktop/Amit_Python/9. data Frames/admit.csv')\n",
    "df=df.sort_values(['Sex','ActLevel'])\n",
    "df.head()"
   ]
  },
  {
   "cell_type": "code",
   "execution_count": null,
   "metadata": {},
   "outputs": [],
   "source": [
    "'''2.01. How would you dynamically sort by 3rd and 8th variable'''\n",
    "import pandas as pd\n",
    "df=pd.read_csv('/Users/AHAAN/Desktop/Amit_Python/9. data Frames/admit.csv')\n",
    "df=df.sort_values([v for i,v in enumerate(df.columns) if i in (2,7)])\n",
    "df.head()"
   ]
  },
  {
   "cell_type": "code",
   "execution_count": null,
   "metadata": {
    "scrolled": true
   },
   "outputs": [],
   "source": [
    "'''2.0.1.1 You can use enumerate for the actual number with start value as 1'''\n",
    "\n",
    "import pandas as pd\n",
    "df=pd.read_csv(r'/Users/AHAAN/Desktop/Amit_Python/9. data Frames/admit.csv')\n",
    "df.sort_values([j for i,j in enumerate(df.columns,1) if i in (3,8)])"
   ]
  },
  {
   "cell_type": "code",
   "execution_count": null,
   "metadata": {},
   "outputs": [],
   "source": [
    "'''2.02. How would you dynamically sort by 3rd and 7th variable.. any other way'''\n",
    "import pandas as pd\n",
    "df=pd.read_csv('/Users/AHAAN/Desktop/Amit_Python/9. data Frames/admit.csv')\n",
    "df=df.sort_values([v for i,v in enumerate(df.head(0)) if i in (2,7)])\n",
    "df.head()"
   ]
  },
  {
   "cell_type": "code",
   "execution_count": null,
   "metadata": {
    "scrolled": true
   },
   "outputs": [],
   "source": [
    "'''2.1 Guess the output for clarity, what would change?'''\n",
    "import pandas as pd\n",
    "df=pd.read_csv('/Users/AHAAN/Desktop/Amit_Python/9. data Frames/admit.csv')\n",
    "df=df.sort_values(['ActLevel','Sex'])\n",
    "df.head()"
   ]
  },
  {
   "cell_type": "code",
   "execution_count": null,
   "metadata": {
    "scrolled": true
   },
   "outputs": [],
   "source": [
    "'''3. Let's sort by 1 variable in descending way'''\n",
    "import pandas as pd\n",
    "df=pd.read_csv('/Users/AHAAN/Desktop/Amit_Python/9. data Frames/admit.csv')\n",
    "df=df.sort_values(['Sex'],ascending=False)\n",
    "df.head()"
   ]
  },
  {
   "cell_type": "code",
   "execution_count": null,
   "metadata": {},
   "outputs": [],
   "source": [
    "'''4. Let's sort by 2 variable in descending way'''\n",
    "import pandas as pd\n",
    "df=pd.read_csv('/Users/AHAAN/Desktop/Amit_Python/9. data Frames/admit.csv')\n",
    "df=df.sort_values(['Sex','ActLevel'],ascending=False)\n",
    "df.head()"
   ]
  },
  {
   "cell_type": "code",
   "execution_count": null,
   "metadata": {},
   "outputs": [],
   "source": [
    "'''5. Let's sort by 1 var asc and 2nd desc, True for Sex and False for Actlevel'''\n",
    "import pandas as pd\n",
    "df=pd.read_csv('/Users/AHAAN/Desktop/Amit_Python/9. data Frames/admit.csv')\n",
    "df=df.sort_values(['Sex','ActLevel'],ascending=[True,False])\n",
    "df.head()"
   ]
  },
  {
   "cell_type": "code",
   "execution_count": null,
   "metadata": {
    "scrolled": true
   },
   "outputs": [],
   "source": [
    "'''5.1 Even 1-0 is allowed'''\n",
    "'''5. Let's sort by 1 var asc and 2nd desc, True for Sex and False for Actlevel'''\n",
    "import pandas as pd\n",
    "df=pd.read_csv('/Users/AHAAN/Desktop/Amit_Python/9. data Frames/admit.csv')\n",
    "df=df.sort_values(['Sex','ActLevel'],ascending=[1,0])\n",
    "df.head()"
   ]
  },
  {
   "cell_type": "code",
   "execution_count": null,
   "metadata": {
    "scrolled": false
   },
   "outputs": [],
   "source": [
    "'''6. Sorting and overwriting same frame\n",
    "inplace=True  would do that, the default values is False\n",
    "'''\n",
    "import pandas as pd\n",
    "df=pd.read_csv('/Users/AHAAN/Desktop/Amit_Python/9. data Frames/admit.csv')\n",
    "df.sort_values('Sex', inplace=True)\n",
    "df.head()\n"
   ]
  },
  {
   "cell_type": "code",
   "execution_count": null,
   "metadata": {},
   "outputs": [],
   "source": [
    "'''7. Sorting by all the variables.. similar to _all_ in SAS'''\n",
    "import pandas as pd\n",
    "df=pd.read_csv('/Users/AHAAN/Desktop/Amit_Python/9. data Frames/admit.csv')\n",
    "df.sort_values([i for i in df.columns]).head()"
   ]
  },
  {
   "cell_type": "code",
   "execution_count": null,
   "metadata": {},
   "outputs": [],
   "source": [
    "'''7.1 Sorting by all the variables.. similar to _all_ in SAS and alternatively like 1 0 1 0'''\n",
    "import pandas as pd\n",
    "df=pd.read_csv('/Users/AHAAN/Desktop/Amit_Python/9. data Frames/admit.csv')\n",
    "df.sort_values([i for i in df.columns],ascending=[1 if i%2==0 else 0 for i in range(9) ]).head()"
   ]
  },
  {
   "cell_type": "code",
   "execution_count": 2,
   "metadata": {},
   "outputs": [
    {
     "data": {
      "text/html": [
       "<div>\n",
       "<style scoped>\n",
       "    .dataframe tbody tr th:only-of-type {\n",
       "        vertical-align: middle;\n",
       "    }\n",
       "\n",
       "    .dataframe tbody tr th {\n",
       "        vertical-align: top;\n",
       "    }\n",
       "\n",
       "    .dataframe thead th {\n",
       "        text-align: right;\n",
       "    }\n",
       "</style>\n",
       "<table border=\"1\" class=\"dataframe\">\n",
       "  <thead>\n",
       "    <tr style=\"text-align: right;\">\n",
       "      <th></th>\n",
       "      <th>ID</th>\n",
       "      <th>Name</th>\n",
       "      <th>Sex</th>\n",
       "      <th>Age</th>\n",
       "      <th>Date</th>\n",
       "      <th>Height</th>\n",
       "      <th>Weight</th>\n",
       "      <th>ActLevel</th>\n",
       "      <th>Fee</th>\n",
       "    </tr>\n",
       "  </thead>\n",
       "  <tbody>\n",
       "    <tr>\n",
       "      <th>3</th>\n",
       "      <td>2523</td>\n",
       "      <td>Johnson, R</td>\n",
       "      <td>F</td>\n",
       "      <td>43</td>\n",
       "      <td>31</td>\n",
       "      <td>63</td>\n",
       "      <td>137</td>\n",
       "      <td>NaN</td>\n",
       "      <td>149.75</td>\n",
       "    </tr>\n",
       "    <tr>\n",
       "      <th>0</th>\n",
       "      <td>2458</td>\n",
       "      <td>Murray, W</td>\n",
       "      <td>M</td>\n",
       "      <td>27</td>\n",
       "      <td>1</td>\n",
       "      <td>72</td>\n",
       "      <td>168</td>\n",
       "      <td>HIGH</td>\n",
       "      <td>85.20</td>\n",
       "    </tr>\n",
       "  </tbody>\n",
       "</table>\n",
       "</div>"
      ],
      "text/plain": [
       "     ID        Name Sex  Age  Date  Height  Weight ActLevel     Fee\n",
       "3  2523  Johnson, R   F   43    31      63     137      NaN  149.75\n",
       "0  2458   Murray, W   M   27     1      72     168     HIGH   85.20"
      ]
     },
     "execution_count": 2,
     "metadata": {},
     "output_type": "execute_result"
    }
   ],
   "source": [
    "'''8. you can also choose the position of missing values first as well'''\n",
    "import pandas as pd\n",
    "df=pd.read_csv(r'/Users/AHAAN/Desktop/Amit_Python/9. data Frames/admit.csv')\n",
    "df.sort_values('ActLevel',na_position=\"first\").head(2)"
   ]
  },
  {
   "cell_type": "code",
   "execution_count": 3,
   "metadata": {},
   "outputs": [
    {
     "data": {
      "text/html": [
       "<div>\n",
       "<style scoped>\n",
       "    .dataframe tbody tr th:only-of-type {\n",
       "        vertical-align: middle;\n",
       "    }\n",
       "\n",
       "    .dataframe tbody tr th {\n",
       "        vertical-align: top;\n",
       "    }\n",
       "\n",
       "    .dataframe thead th {\n",
       "        text-align: right;\n",
       "    }\n",
       "</style>\n",
       "<table border=\"1\" class=\"dataframe\">\n",
       "  <thead>\n",
       "    <tr style=\"text-align: right;\">\n",
       "      <th></th>\n",
       "      <th>ID</th>\n",
       "      <th>Name</th>\n",
       "      <th>Sex</th>\n",
       "      <th>Age</th>\n",
       "      <th>Date</th>\n",
       "      <th>Height</th>\n",
       "      <th>Weight</th>\n",
       "      <th>ActLevel</th>\n",
       "      <th>Fee</th>\n",
       "    </tr>\n",
       "  </thead>\n",
       "  <tbody>\n",
       "    <tr>\n",
       "      <th>0</th>\n",
       "      <td>2458</td>\n",
       "      <td>Murray, W</td>\n",
       "      <td>M</td>\n",
       "      <td>27</td>\n",
       "      <td>1</td>\n",
       "      <td>72</td>\n",
       "      <td>168</td>\n",
       "      <td>HIGH</td>\n",
       "      <td>85.2</td>\n",
       "    </tr>\n",
       "    <tr>\n",
       "      <th>17</th>\n",
       "      <td>2586</td>\n",
       "      <td>Derber, B</td>\n",
       "      <td>M</td>\n",
       "      <td>25</td>\n",
       "      <td>23</td>\n",
       "      <td>75</td>\n",
       "      <td>188</td>\n",
       "      <td>HIGH</td>\n",
       "      <td>85.2</td>\n",
       "    </tr>\n",
       "  </tbody>\n",
       "</table>\n",
       "</div>"
      ],
      "text/plain": [
       "      ID       Name Sex  Age  Date  Height  Weight ActLevel   Fee\n",
       "0   2458  Murray, W   M   27     1      72     168     HIGH  85.2\n",
       "17  2586  Derber, B   M   25    23      75     188     HIGH  85.2"
      ]
     },
     "execution_count": 3,
     "metadata": {},
     "output_type": "execute_result"
    }
   ],
   "source": [
    "'''8.1 you can also choose the position of missing values in last as well'''\n",
    "import pandas as pd\n",
    "df=pd.read_csv(r'/Users/AHAAN/Desktop/Amit_Python/9. data Frames/admit.csv')\n",
    "df.sort_values('ActLevel',na_position=\"last\").head(2)"
   ]
  }
 ],
 "metadata": {
  "kernelspec": {
   "display_name": "Python 3",
   "language": "python",
   "name": "python3"
  },
  "language_info": {
   "codemirror_mode": {
    "name": "ipython",
    "version": 3
   },
   "file_extension": ".py",
   "mimetype": "text/x-python",
   "name": "python",
   "nbconvert_exporter": "python",
   "pygments_lexer": "ipython3",
   "version": "3.7.4"
  }
 },
 "nbformat": 4,
 "nbformat_minor": 2
}
