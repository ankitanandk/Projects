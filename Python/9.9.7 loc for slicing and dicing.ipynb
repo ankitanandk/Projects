{
 "cells": [
  {
   "cell_type": "code",
   "execution_count": null,
   "metadata": {},
   "outputs": [],
   "source": [
    "'''0. Pandas now supports three types of Multi-axes indexing; the three types are mentioned \n",
    "in the following table −\n",
    "\n",
    "Indexing\tDescription\n",
    ".loc()\tLabel based\n",
    ".iloc()\tInteger based\n",
    ".ix()\tBoth Label and Integer based>> it is downgraded in the laest release\n",
    "\n",
    "For loc the stop is n and not n-1 \n",
    "'''"
   ]
  },
  {
   "cell_type": "code",
   "execution_count": null,
   "metadata": {},
   "outputs": [],
   "source": [
    "'''1. Just read one column from the frame and all the rows\n",
    "loc is label based and thus it helps in reading columns\n",
    "'''\n",
    "import pandas as pd\n",
    "df=pd.read_csv('/Users/AHAAN/Desktop/Amit_Python/9. data Frames/admit.csv')\n",
    "print(df.loc[:,['Age']])\n"
   ]
  },
  {
   "cell_type": "code",
   "execution_count": null,
   "metadata": {},
   "outputs": [],
   "source": [
    "'''2. Read 2 columns from the frame and all the rows\n",
    "loc is label based and thus it helps in reading columns\n",
    "'''\n",
    "import pandas as pd\n",
    "df=pd.read_csv('/Users/AHAAN/Desktop/Amit_Python/9. data Frames/admit.csv')\n",
    "print(df.loc[:,['Age','Name']])\n"
   ]
  },
  {
   "cell_type": "code",
   "execution_count": null,
   "metadata": {
    "scrolled": true
   },
   "outputs": [],
   "source": [
    "'''3. Read 2 columns from the frame and first 3 rows\n",
    "'''\n",
    "import pandas as pd\n",
    "df=pd.read_csv('/Users/AHAAN/Desktop/Amit_Python/9. data Frames/admit.csv')\n",
    "print(df.loc[:2,['Age','Name']])\n"
   ]
  },
  {
   "cell_type": "code",
   "execution_count": 1,
   "metadata": {
    "scrolled": true
   },
   "outputs": [
    {
     "name": "stdout",
     "output_type": "stream",
     "text": [
      "    Age       Name\n",
      "18   22    Ivan, H\n",
      "19   41  Wilcox, E\n",
      "20   54  Warren, C\n"
     ]
    }
   ],
   "source": [
    "'''4. Read 2 columns from the frame and last 3 rows\n",
    "'''\n",
    "import pandas as pd\n",
    "df=pd.read_csv('/Users/AHAAN/Desktop/Amit_Python/9. data Frames/admit.csv')\n",
    "print(df.loc[len(df)-3:,['Age','Name']])"
   ]
  },
  {
   "cell_type": "code",
   "execution_count": null,
   "metadata": {},
   "outputs": [],
   "source": [
    "'''5.1 Keep all the variables that start with \"A\"\n",
    "'''\n",
    "import pandas as pd\n",
    "df=pd.read_csv('/Users/AHAAN/Desktop/Amit_Python/9. data Frames/admit.csv')\n",
    "df.loc[0:2, df.columns.str.startswith('A')]"
   ]
  }
 ],
 "metadata": {
  "kernelspec": {
   "display_name": "Python 3",
   "language": "python",
   "name": "python3"
  },
  "language_info": {
   "codemirror_mode": {
    "name": "ipython",
    "version": 3
   },
   "file_extension": ".py",
   "mimetype": "text/x-python",
   "name": "python",
   "nbconvert_exporter": "python",
   "pygments_lexer": "ipython3",
   "version": "3.7.3"
  }
 },
 "nbformat": 4,
 "nbformat_minor": 2
}
