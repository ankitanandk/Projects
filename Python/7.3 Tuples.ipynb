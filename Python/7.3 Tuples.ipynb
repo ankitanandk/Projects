{
 "cells": [
  {
   "cell_type": "code",
   "execution_count": 1,
   "metadata": {},
   "outputs": [
    {
     "name": "stdout",
     "output_type": "stream",
     "text": [
      "<class 'tuple'>\n"
     ]
    }
   ],
   "source": [
    "'''\n",
    "0. \n",
    "Tuples belong to class tuple and they are declared using the parenthesis ().\n",
    "\n",
    "Always remember, diff braces lead to diff data types in Python. [list],(Tuples), {Dictionaries and sets}\n",
    "\n",
    "They are read only list and you can not append,pop,insert or remove items from tuple.\n",
    "\n",
    "Tuples can also be considered as read only lists :)\n",
    "\n",
    "What else is denoted by the ().. u guessed right the functions\n",
    "\n",
    "'''\n",
    "a=(1,2,3)\n",
    "print(type(a))"
   ]
  }
 ],
 "metadata": {
  "kernelspec": {
   "display_name": "Python 3",
   "language": "python",
   "name": "python3"
  },
  "language_info": {
   "codemirror_mode": {
    "name": "ipython",
    "version": 3
   },
   "file_extension": ".py",
   "mimetype": "text/x-python",
   "name": "python",
   "nbconvert_exporter": "python",
   "pygments_lexer": "ipython3",
   "version": "3.7.3"
  }
 },
 "nbformat": 4,
 "nbformat_minor": 2
}
