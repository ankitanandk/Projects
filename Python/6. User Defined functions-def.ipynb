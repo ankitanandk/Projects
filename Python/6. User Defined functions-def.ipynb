{
 "cells": [
  {
   "cell_type": "markdown",
   "metadata": {},
   "source": [
    "'''\n",
    "1. Function:\n",
    "A function is a block of organized, reusable code that is used to perform a single, related action. Functions provide better modularity for your application and a high degree of code reusing.\n",
    "\n",
    "As you already know, Python gives you many built-in functions which we have studied, like print(), type(), id() etc. but you can also create your own functions. These functions are called user-defined functions.\n",
    "\n",
    "'''"
   ]
  },
  {
   "cell_type": "code",
   "execution_count": 1,
   "metadata": {
    "scrolled": true
   },
   "outputs": [
    {
     "name": "stdout",
     "output_type": "stream",
     "text": [
      "python is cool\n"
     ]
    }
   ],
   "source": [
    "'''\n",
    "2. Creating your own function: \"def\" is the keyword that is used for declaring the function block.\n",
    "\n",
    "All the indented lines after colon is part of the function definition, do not break the indentation, \n",
    "remember the functions need to be defined and called as well, very similar to macros, compilation and the call.\n",
    "\n",
    "Pay attention to the indentation.\n",
    "\n",
    "#calling a function, function name and braces, without any parameters, \n",
    "its similar to calling a macro in SAS, with out the call it is just compiled and stays in memory.\n",
    "'''\n",
    "def amitp(): # Definition of the function\n",
    "    print(\"python is cool\")\n",
    "       \n",
    "amitp() # Call to the function"
   ]
  },
  {
   "cell_type": "code",
   "execution_count": 1,
   "metadata": {},
   "outputs": [
    {
     "name": "stdout",
     "output_type": "stream",
     "text": [
      "my name is amit\n"
     ]
    }
   ],
   "source": [
    "'''3. You  can even pass an parameter to the function definition, we would read about parameters \n",
    "in great details very soon '''\n",
    "\n",
    "def amitp(st): # This input to function definition is called as parameter\n",
    "    print(st)\n",
    "\n",
    "amitp(\"my name is amit\") \n",
    "# This input to the function call is called as an argument, and this is positional"
   ]
  }
 ],
 "metadata": {
  "kernelspec": {
   "display_name": "Python 3",
   "language": "python",
   "name": "python3"
  },
  "language_info": {
   "codemirror_mode": {
    "name": "ipython",
    "version": 3
   },
   "file_extension": ".py",
   "mimetype": "text/x-python",
   "name": "python",
   "nbconvert_exporter": "python",
   "pygments_lexer": "ipython3",
   "version": "3.7.3"
  }
 },
 "nbformat": 4,
 "nbformat_minor": 2
}
