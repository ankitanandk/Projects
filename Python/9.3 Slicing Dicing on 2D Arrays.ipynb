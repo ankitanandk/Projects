{
 "cells": [
  {
   "cell_type": "markdown",
   "metadata": {},
   "source": [
    "'''0. The Row and column adddress of the elements in 2D array'''\n",
    "<img src=\"array2.png\" style= \"width: 400px;height:400px\"/>"
   ]
  },
  {
   "cell_type": "code",
   "execution_count": 4,
   "metadata": {
    "scrolled": true
   },
   "outputs": [
    {
     "name": "stdout",
     "output_type": "stream",
     "text": [
      "(3, 4)\n"
     ]
    },
    {
     "data": {
      "text/plain": [
       "3.4"
      ]
     },
     "execution_count": 4,
     "metadata": {},
     "output_type": "execute_result"
    }
   ],
   "source": [
    "'''1. Slicing on a 2D array\n",
    "Understand this is as first row and and first columns value\n",
    "\n",
    "The address would be 0,0. 0th row and 0th column\n",
    "'''\n",
    "import numpy as np\n",
    "a = np.array([ [3.4,8.7,9.9,10], \n",
    "               [1.1,-7.8,-0.7,11],\n",
    "               [4.1,12.3,4.8,12],\n",
    "             ])\n",
    "print(a.shape)\n",
    "\n",
    "# This is used to access the values at item level\n",
    "a[0][0]"
   ]
  },
  {
   "cell_type": "code",
   "execution_count": 3,
   "metadata": {
    "scrolled": false
   },
   "outputs": [
    {
     "data": {
      "text/plain": [
       "array([[ 3.4,  8.7,  9.9],\n",
       "       [ 1.1, -7.8, -0.7],\n",
       "       [ 4.1, 12.3,  4.8],\n",
       "       [ 1.1, 12.2,  3.4]])"
      ]
     },
     "execution_count": 3,
     "metadata": {},
     "output_type": "execute_result"
    }
   ],
   "source": [
    "'''2. Guess the ouput, as we are using the : and : all the values of the array would be returned \n",
    "'''\n",
    "import numpy as np\n",
    "a = np.array([ [3.4,8.7,9.9], \n",
    "               [1.1,-7.8,-0.7],\n",
    "               [4.1,12.3,4.8],\n",
    "               [1.1,12.2,3.4]\n",
    "             ])\n",
    "a[:][:]"
   ]
  },
  {
   "cell_type": "code",
   "execution_count": 5,
   "metadata": {},
   "outputs": [
    {
     "data": {
      "text/plain": [
       "array([3.4, 8.7, 9.9])"
      ]
     },
     "execution_count": 5,
     "metadata": {},
     "output_type": "execute_result"
    }
   ],
   "source": [
    "'''3. Guess the ouput, the first row would be returned for all the columns :)\n",
    "'''\n",
    "import numpy as np\n",
    "a = np.array([ [3.4,8.7,9.9], \n",
    "               [1.1,-7.8,-0.7],\n",
    "               [4.1,12.3,4.8],\n",
    "               [1.1,12.2,3.4]\n",
    "             ])\n",
    "a[0][:]"
   ]
  },
  {
   "cell_type": "code",
   "execution_count": 8,
   "metadata": {},
   "outputs": [
    {
     "name": "stdout",
     "output_type": "stream",
     "text": [
      "[3.4 8.7 9.9] 1 (3,)\n"
     ]
    }
   ],
   "source": [
    "'''3.1 What would be the dimesnion of the returned array.. any guess :)'''\n",
    "\n",
    "import numpy as np\n",
    "a = np.array([ [3.4,8.7,9.9], \n",
    "               [1.1,-7.8,-0.7],\n",
    "               [4.1,12.3,4.8],\n",
    "               [1.1,12.2,3.4]\n",
    "             ])\n",
    "k=a[0][:]\n",
    "\n",
    "print(k,k.ndim, k.shape)"
   ]
  },
  {
   "cell_type": "code",
   "execution_count": 5,
   "metadata": {},
   "outputs": [
    {
     "data": {
      "text/plain": [
       "-0.7"
      ]
     },
     "execution_count": 5,
     "metadata": {},
     "output_type": "execute_result"
    }
   ],
   "source": [
    "'''4. Guess the ouput, this would now point to the row index 1 and column index 2\n",
    "'''\n",
    "import numpy as np\n",
    "a = np.array([ [3.4,8.7,9.9], \n",
    "               [1.1,-7.8,-0.7],\n",
    "               [4.1,12.3,4.8],\n",
    "               [1.1,12.2,3.4]\n",
    "             ])\n",
    "a[1][2]"
   ]
  },
  {
   "cell_type": "code",
   "execution_count": 6,
   "metadata": {},
   "outputs": [
    {
     "data": {
      "text/plain": [
       "array([ 1.1, -7.8])"
      ]
     },
     "execution_count": 6,
     "metadata": {},
     "output_type": "execute_result"
    }
   ],
   "source": [
    "'''4.1 Guess the ouput.. of the below code\n",
    "'''\n",
    "import numpy as np\n",
    "a = np.array([ [3.4,8.7,9.9], \n",
    "               [1.1,-7.8,-0.7],\n",
    "               [4.1,12.3,4.8],\n",
    "               [1.1,12.2,3.4]\n",
    "             ])\n",
    "a[1][0:2]"
   ]
  },
  {
   "cell_type": "code",
   "execution_count": 9,
   "metadata": {},
   "outputs": [
    {
     "data": {
      "text/plain": [
       "9.9"
      ]
     },
     "execution_count": 9,
     "metadata": {},
     "output_type": "execute_result"
    }
   ],
   "source": [
    "'''5. Guess the ouput with a negative index\n",
    "\n",
    "Does the negative index work?  if yes what would be the returned value ?\n",
    "'''\n",
    "import numpy as np\n",
    "a = np.array([ [3.4,8.7,9.9], \n",
    "               [1.1,-7.8,-0.7],\n",
    "               [4.1,12.3,4.8],\n",
    "               [1.1,12.2,9.9]\n",
    "             ])\n",
    "a[-1][-1]"
   ]
  },
  {
   "cell_type": "code",
   "execution_count": 1,
   "metadata": {},
   "outputs": [
    {
     "data": {
      "text/plain": [
       "array([ 1.1, -0.7])"
      ]
     },
     "execution_count": 1,
     "metadata": {},
     "output_type": "execute_result"
    }
   ],
   "source": [
    "'''6. Do we have the concept of by\n",
    "Guess the output of the below code\n",
    "'''\n",
    "\n",
    "import numpy as np\n",
    "a = np.array([ [3.4,8.7,9.9], \n",
    "               [1.1,-7.8,-0.7],\n",
    "               [4.1,12.3,4.8],\n",
    "               [1.1,12.2,3.4]\n",
    "             ])\n",
    "a[1][::2]"
   ]
  }
 ],
 "metadata": {
  "kernelspec": {
   "display_name": "Python 3",
   "language": "python",
   "name": "python3"
  },
  "language_info": {
   "codemirror_mode": {
    "name": "ipython",
    "version": 3
   },
   "file_extension": ".py",
   "mimetype": "text/x-python",
   "name": "python",
   "nbconvert_exporter": "python",
   "pygments_lexer": "ipython3",
   "version": "3.7.3"
  }
 },
 "nbformat": 4,
 "nbformat_minor": 2
}
