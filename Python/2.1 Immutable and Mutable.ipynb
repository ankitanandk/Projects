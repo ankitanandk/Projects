{
 "cells": [
  {
   "cell_type": "code",
   "execution_count": null,
   "metadata": {},
   "outputs": [],
   "source": [
    "'''\n",
    "0. The 5 data types or data containers,can be further classified in 2 broad categories basis \n",
    "if they can be altered or not.\n",
    "\n",
    "a)Immutable: The value can not be changed or altered once defined, \n",
    "the value can be overwritten but same can not be altered.\n",
    "\n",
    "I hope you understand the difference. This would be more clear in coming topics.\n",
    "\n",
    "Below data types are Immutable.\n",
    "\n",
    "Numbers\n",
    "Strings\n",
    "Tuples\n",
    "\n",
    "b) Mutable: The same value assignment can be changed or altered once defined\n",
    "\n",
    "Lists\n",
    "Dictionaries\n",
    "'''"
   ]
  }
 ],
 "metadata": {
  "kernelspec": {
   "display_name": "Python 3",
   "language": "python",
   "name": "python3"
  },
  "language_info": {
   "codemirror_mode": {
    "name": "ipython",
    "version": 3
   },
   "file_extension": ".py",
   "mimetype": "text/x-python",
   "name": "python",
   "nbconvert_exporter": "python",
   "pygments_lexer": "ipython3",
   "version": "3.7.4"
  }
 },
 "nbformat": 4,
 "nbformat_minor": 2
}
