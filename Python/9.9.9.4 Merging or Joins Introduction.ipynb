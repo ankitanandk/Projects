{
 "cells": [
  {
   "cell_type": "code",
   "execution_count": null,
   "metadata": {},
   "outputs": [],
   "source": [
    "'''0. Pandas has full-featured, high performance in-memory join operations idiomatically very similar \n",
    "to relational databases like SQL.\n",
    "\n",
    "Pandas provides a single function, merge, as the entry point for all standard database\n",
    "join operations between DataFrame objects −\n",
    "\n",
    "*****The generic Syntax for merge in Pandas*****;\n",
    "\n",
    "pd.merge(left, right, how='inner', on=None, left_on=None, right_on=None,left_index=False,\n",
    "right_index=False, sort=True)\n",
    "\n",
    "\n",
    "Here, we have used the following parameters −\n",
    "\n",
    "left − A DataFrame object.\n",
    "\n",
    "right − Another DataFrame object.\n",
    "\n",
    "on − Columns (names) to join on. Must be found in both the left and right DataFrame objects.\n",
    "\n",
    "left_on − Columns from the left DataFrame to use as keys. Can either be column names or arrays with length equal to the length of the DataFrame.\n",
    "\n",
    "right_on − Columns from the right DataFrame to use as keys. Can either be column names or arrays with length equal to the length of the DataFrame.\n",
    "\n",
    "left_index − If True, use the index (row labels) from the left DataFrame as its join key(s). In case of a DataFrame with a MultiIndex (hierarchical), the number of levels must match the number of join keys from the right DataFrame.\n",
    "\n",
    "right_index − Same usage as left_index for the right DataFrame.\n",
    "\n",
    "how − One of 'left', 'right', 'outer', 'inner'. Defaults to inner. Each method has been described below.\n",
    "\n",
    "sort − Sort the result DataFrame by the join keys in lexicographical order. Defaults to True, setting to False will improve the performance substantially in many cases.\n",
    "\n",
    "Let us now create two different DataFrames and perform the merging operations on it.\n",
    "\n",
    "**********;'''"
   ]
  },
  {
   "cell_type": "code",
   "execution_count": null,
   "metadata": {},
   "outputs": [],
   "source": [
    "'''1.\n",
    "Primary key is definitely required, however the mention is not required, if there are common keys \n",
    "it would identify automatically, \n",
    "similar to Natural join in SAS and default is inner join\n",
    "\n",
    "a.id=b.id\n",
    "'''\n",
    "import pandas as pd\n",
    "a = pd.DataFrame({\n",
    "         'id':[3,1,21],\n",
    "         'Name': ['a', 'b', 'c'],\n",
    "         'sub':['M','E','S']})\n",
    "b = pd.DataFrame(\n",
    "         {'id':[1,2,3],\n",
    "         'marks':[100,52,99]})\n",
    "c=pd.merge(a,b)\n",
    "c"
   ]
  },
  {
   "cell_type": "code",
   "execution_count": 2,
   "metadata": {},
   "outputs": [
    {
     "data": {
      "text/html": [
       "<div>\n",
       "<style scoped>\n",
       "    .dataframe tbody tr th:only-of-type {\n",
       "        vertical-align: middle;\n",
       "    }\n",
       "\n",
       "    .dataframe tbody tr th {\n",
       "        vertical-align: top;\n",
       "    }\n",
       "\n",
       "    .dataframe thead th {\n",
       "        text-align: right;\n",
       "    }\n",
       "</style>\n",
       "<table border=\"1\" class=\"dataframe\">\n",
       "  <thead>\n",
       "    <tr style=\"text-align: right;\">\n",
       "      <th></th>\n",
       "      <th>id</th>\n",
       "      <th>Name</th>\n",
       "      <th>sub</th>\n",
       "      <th>marks</th>\n",
       "    </tr>\n",
       "  </thead>\n",
       "  <tbody>\n",
       "    <tr>\n",
       "      <th>0</th>\n",
       "      <td>2</td>\n",
       "      <td>b</td>\n",
       "      <td>E</td>\n",
       "      <td>52</td>\n",
       "    </tr>\n",
       "    <tr>\n",
       "      <th>1</th>\n",
       "      <td>1</td>\n",
       "      <td>c</td>\n",
       "      <td>S</td>\n",
       "      <td>100</td>\n",
       "    </tr>\n",
       "  </tbody>\n",
       "</table>\n",
       "</div>"
      ],
      "text/plain": [
       "   id Name sub  marks\n",
       "0   2    b   E     52\n",
       "1   1    c   S    100"
      ]
     },
     "execution_count": 2,
     "metadata": {},
     "output_type": "execute_result"
    }
   ],
   "source": [
    "'''1.1 Do we need sorting of the primary key in pandas? The Sorting is not required in pandas\n",
    "The output and sequence of variables is driven by the first frame, the key type should be same\n",
    "'''\n",
    "import pandas as pd\n",
    "a = pd.DataFrame({\n",
    "         'id':[3,2,1],\n",
    "         'Name': ['a', 'b', 'c'],\n",
    "         'sub':['M','E','S']})\n",
    "b = pd.DataFrame(\n",
    "         {'id':[1,2,13],\n",
    "         'marks':[100,52,99]})\n",
    "c=pd.merge(a,b)\n",
    "c"
   ]
  },
  {
   "cell_type": "code",
   "execution_count": null,
   "metadata": {},
   "outputs": [],
   "source": [
    "'''2. Let's take another example, where 2 keys are common, both are used for the merge\n",
    "This is similar to the Natural joins\n",
    "\n",
    "a.id=b.id and a.name=b.name >> This is how it is interpreted\n",
    "\n",
    "'''\n",
    "import pandas as pd\n",
    "a = pd.DataFrame({\n",
    "         'id':[1,21,3],\n",
    "         'Name': ['a', 'b', 'c'],\n",
    "         'sub':['M','E','S']})\n",
    "b = pd.DataFrame(\n",
    "         {'id':[1,2,3],\n",
    "          'Name': ['a', 'b', 'k'],\n",
    "         'marks':[100,52,99]})\n",
    "c=pd.merge(a,b)\n",
    "c"
   ]
  },
  {
   "cell_type": "code",
   "execution_count": null,
   "metadata": {
    "scrolled": true
   },
   "outputs": [],
   "source": [
    "'''3. What if there is no common key, the code would error out \n",
    "Thus we need at least 1 common key for the merge to take place\n",
    "'''\n",
    "import pandas as pd\n",
    "a = pd.DataFrame({\n",
    "         'id1':[1,2,3],\n",
    "         'Na': ['a', 'b', 'c'],\n",
    "         'sub':['M','E','S']})\n",
    "b = pd.DataFrame(\n",
    "         {'id':[1,2,3],\n",
    "          'Name': ['a', 'b', 'k'],\n",
    "         'marks':[100,52,99]})\n",
    "c=pd.merge(a,b)\n",
    "c"
   ]
  },
  {
   "cell_type": "code",
   "execution_count": 3,
   "metadata": {},
   "outputs": [
    {
     "data": {
      "text/html": [
       "<div>\n",
       "<style scoped>\n",
       "    .dataframe tbody tr th:only-of-type {\n",
       "        vertical-align: middle;\n",
       "    }\n",
       "\n",
       "    .dataframe tbody tr th {\n",
       "        vertical-align: top;\n",
       "    }\n",
       "\n",
       "    .dataframe thead th {\n",
       "        text-align: right;\n",
       "    }\n",
       "</style>\n",
       "<table border=\"1\" class=\"dataframe\">\n",
       "  <thead>\n",
       "    <tr style=\"text-align: right;\">\n",
       "      <th></th>\n",
       "      <th>id</th>\n",
       "      <th>Name</th>\n",
       "      <th>sub</th>\n",
       "      <th>marks</th>\n",
       "    </tr>\n",
       "  </thead>\n",
       "  <tbody>\n",
       "    <tr>\n",
       "      <th>0</th>\n",
       "      <td>1</td>\n",
       "      <td>a</td>\n",
       "      <td>M</td>\n",
       "      <td>100</td>\n",
       "    </tr>\n",
       "  </tbody>\n",
       "</table>\n",
       "</div>"
      ],
      "text/plain": [
       "   id Name sub  marks\n",
       "0   1    a   M    100"
      ]
     },
     "execution_count": 3,
     "metadata": {},
     "output_type": "execute_result"
    }
   ],
   "source": [
    "'''4. How can I merge based on 2 keys or composite key\n",
    "\n",
    "Pass them in the on and now they would be used for merging.\n",
    "'''\n",
    "import pandas as pd\n",
    "a = pd.DataFrame({\n",
    "         'id':[1,2,3],\n",
    "         'Name': ['a', 'b', 'c'],\n",
    "         'sub':['M','E','S']})\n",
    "b = pd.DataFrame(\n",
    "         {'id':[1,2,7],\n",
    "          'Name': ['a', 'baba', 'k'],\n",
    "         'marks':[100,52,99]})\n",
    "c=pd.merge(a,b,on=['id','Name'])\n",
    "c"
   ]
  }
 ],
 "metadata": {
  "kernelspec": {
   "display_name": "Python 3",
   "language": "python",
   "name": "python3"
  },
  "language_info": {
   "codemirror_mode": {
    "name": "ipython",
    "version": 3
   },
   "file_extension": ".py",
   "mimetype": "text/x-python",
   "name": "python",
   "nbconvert_exporter": "python",
   "pygments_lexer": "ipython3",
   "version": "3.7.4"
  }
 },
 "nbformat": 4,
 "nbformat_minor": 2
}
