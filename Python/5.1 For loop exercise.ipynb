{
 "cells": [
  {
   "cell_type": "code",
   "execution_count": null,
   "metadata": {},
   "outputs": [],
   "source": [
    "'''\n",
    "CP\n",
    "1. print every item from a grocery list and the length of each element, look at the output below.\n",
    "\n",
    "Also try to print in one line for each item\n",
    "'''\n",
    "grocery = ['jam', 'banana' ,'olive oil', 'sugar']\n",
    "for i in grocery:\n",
    "    print(i,len(i))\n",
    "    \n",
    "#OR\n",
    "grocery = ['jam', 'banana' ,'olive oil', 'sugar']\n",
    "\n",
    "for i in grocery:\n",
    "    print(i,len(i),end=\"*\")"
   ]
  },
  {
   "cell_type": "code",
   "execution_count": null,
   "metadata": {},
   "outputs": [],
   "source": [
    "'''\n",
    "2. print every item from a grocery list and the length of each element and use string formatting\n",
    "'''\n",
    "grocery = ['jam', 'banana' ,'olive oil', 'sugar']\n",
    "for i in grocery:\n",
    "    print(f\"The item is {i} with a length of -{len(i)}\")\n",
    "    \n",
    "#OR for printing in one line\n",
    "grocery = ['jam', 'banana' ,'olive oil', 'sugar']\n",
    "\n",
    "for i in grocery:\n",
    "    print(f\"{i}\",len({i}),end=\"*\")"
   ]
  },
  {
   "cell_type": "code",
   "execution_count": null,
   "metadata": {},
   "outputs": [],
   "source": [
    "'''\n",
    "CP\n",
    "3. Print the total count of items, not individuals, focus on the indentation of print function\n",
    "'''\n",
    "grocery = ['jam', 'banana' ,'olive oil', 'sugar']\n",
    "count=0\n",
    "for i in grocery:\n",
    "    count+=1\n",
    "print(f\"The items in list were {count}\")"
   ]
  },
  {
   "cell_type": "code",
   "execution_count": null,
   "metadata": {
    "scrolled": true
   },
   "outputs": [],
   "source": [
    "'''\n",
    "CP\n",
    "4. Print the total count of items, not individuals, focus on the indentation of print function.\n",
    "\n",
    "'''\n",
    "grocery = ['jam', 'banana' ,'olive oil', 'sugar']\n",
    "count=0\n",
    "for i in grocery:\n",
    "    count+=1\n",
    "    print(f\"Item {count} is: {i}\")"
   ]
  },
  {
   "cell_type": "code",
   "execution_count": 2,
   "metadata": {},
   "outputs": [
    {
     "name": "stdout",
     "output_type": "stream",
     "text": [
      "my\n",
      "name\n",
      "is\n",
      "amit\n"
     ]
    }
   ],
   "source": [
    "'''\n",
    "CP\n",
    "\n",
    "5. How would you print each word of a string?, the split method with a sep gives a list and then we can use it.\n",
    "'''\n",
    "s=\"my name is amit\"\n",
    "\n",
    "for i in s.split(sep=\" \"):\n",
    "    print(i)"
   ]
  },
  {
   "cell_type": "code",
   "execution_count": null,
   "metadata": {},
   "outputs": [],
   "source": [
    "'''\n",
    "6.What does the below code do :) . Note the range function is not there :)\n",
    "'''\n",
    "for i in (1,20):\n",
    "    print(i)"
   ]
  },
  {
   "cell_type": "code",
   "execution_count": null,
   "metadata": {
    "scrolled": true
   },
   "outputs": [],
   "source": [
    "'''\n",
    "CP\n",
    "7. How would you print all even and odd numbers between 1 to 10 with a message, use string formating.\n",
    "'''\n",
    "\n",
    "for i in range(1,11):\n",
    "    if i%2==0:\n",
    "        print(f\"The even number is :{i}\")\n",
    "    else:\n",
    "        print(f\"The odd number is :{i}\")"
   ]
  },
  {
   "cell_type": "code",
   "execution_count": null,
   "metadata": {
    "scrolled": true
   },
   "outputs": [],
   "source": [
    "'''\n",
    "8. How would you print a list, each element n number of times the length of list.\n",
    "'''\n",
    "grocery = ['jam', 'banana' ,'olive oil', 'sugar']\n",
    "for i in grocery:\n",
    "    print(i*len(grocery))"
   ]
  },
  {
   "cell_type": "code",
   "execution_count": null,
   "metadata": {},
   "outputs": [],
   "source": [
    "'''\n",
    "CP\n",
    "8.1. only count the items that are 3 bytes long in the grocery list\n",
    "'''\n",
    "grocery = ['jam', 'banana' ,'olive oil', 'rum']\n",
    "c=0\n",
    "for i in grocery:\n",
    "    if len(i)==3:\n",
    "        c+=1\n",
    "print(f\"The number if items with length 3 are {c}\")"
   ]
  },
  {
   "cell_type": "code",
   "execution_count": null,
   "metadata": {
    "scrolled": true
   },
   "outputs": [],
   "source": [
    "'''\n",
    "CP\n",
    "9. Solve the problem of Ram p=1 Lakh and int=9% for 5 years? \n",
    "'''\n",
    "p=100000\n",
    "int=.09\n",
    "for i in range(1,6):\n",
    "    p=p+p*int\n",
    "    print(f\"The principal is {p}\")   "
   ]
  },
  {
   "cell_type": "code",
   "execution_count": null,
   "metadata": {},
   "outputs": [],
   "source": [
    "'''\n",
    "CP\n",
    "10.Solve the problem of Ram p=1 Lakh and int=9% for 5 years, Shyam p=1 Lakh, int=8% for 5 years, whats the loss?\n",
    "'''\n",
    "p1=100000\n",
    "int1=.09\n",
    "p2=p1\n",
    "int2=.08\n",
    "for i in range(1,6):\n",
    "    p1+=p1*int1\n",
    "    p2+=p2*int2\n",
    "    loss=p2-p1\n",
    "    print(f\"The loss is {loss}\")"
   ]
  },
  {
   "cell_type": "code",
   "execution_count": null,
   "metadata": {
    "scrolled": true
   },
   "outputs": [],
   "source": [
    "'''\n",
    "CP\n",
    "11. Lets say p=1L , int=9 % for first 3 yrs and then 10% for next 2, whats the final P?\n",
    "\n",
    "'''\n",
    "p=100000\n",
    "int1=.09\n",
    "int2=.1\n",
    "for i in range(1,6):\n",
    "    if i in range(1,4):\n",
    "        p+=p*int1\n",
    "        print(p)\n",
    "    elif i in range(4,6):\n",
    "        p+=p*int2\n",
    "        print(p)\n",
    "        \n",
    "#OR  \n",
    "p=100000\n",
    "int1=.09\n",
    "int2=.1\n",
    "for i in range(1,6):\n",
    "    if i in range(1,4):\n",
    "        p+=p*int1\n",
    "        print(p)\n",
    "    else:\n",
    "        p+=p*int2\n",
    "        print(p)"
   ]
  },
  {
   "cell_type": "code",
   "execution_count": null,
   "metadata": {
    "scrolled": true
   },
   "outputs": [],
   "source": [
    "'''\n",
    "CP\n",
    "12. Count the alphabet \"a\" and \"m\" in string\n",
    "\n",
    "'''\n",
    "s=\"my name is amit kumar\"\n",
    "c=0\n",
    "for i in s:\n",
    "    if i in (\"a\" \"m\"):\n",
    "        c+=1\n",
    "print(\"Count of alphabet a and m is\",c)\n",
    "\n",
    "#OR\n",
    "\n",
    "s=\"my name is amit kumar\"\n",
    "c=0\n",
    "for i in s:\n",
    "    if i ==\"a\" or i==\"m\":\n",
    "        c+=1\n",
    "print(c)"
   ]
  },
  {
   "cell_type": "code",
   "execution_count": null,
   "metadata": {},
   "outputs": [],
   "source": [
    "'''\n",
    "13. Exclude the Count of alphabet \"a\" and \"m\" in string\n",
    "\n",
    "'''\n",
    "s=\"my name is amit kumar\"\n",
    "c=0\n",
    "for i in s:\n",
    "    if i not in (\"a\" \"m\"):\n",
    "        c+=1\n",
    "print(c)"
   ]
  },
  {
   "cell_type": "code",
   "execution_count": 1,
   "metadata": {},
   "outputs": [
    {
     "name": "stdout",
     "output_type": "stream",
     "text": [
      "<class 'int'>\n",
      "<class 'int'>\n",
      "<class 'int'>\n"
     ]
    }
   ],
   "source": [
    "'''\n",
    "14. I have declared 3 objects, how can I see the type of each object in a for loop. \n",
    "If the names are available in a list\n",
    "'''\n",
    "a=b=c=1\n",
    "l=[a,b,c]\n",
    "for i in l:\n",
    "    print(type(i))"
   ]
  },
  {
   "cell_type": "code",
   "execution_count": null,
   "metadata": {},
   "outputs": [],
   "source": [
    "'''\n",
    "15. How can I know total odd values between 1 and 9\n",
    "'''\n",
    "c=0\n",
    "for i in range(1,10):\n",
    "    if i%2==0:\n",
    "        c+=1\n",
    "print(f\"Total odd values are: {c}\")"
   ]
  },
  {
   "cell_type": "code",
   "execution_count": null,
   "metadata": {},
   "outputs": [],
   "source": [
    "'''15.1 Summ all odd values between 1 and 9'''\n",
    "c=0\n",
    "for i in range(1,10):\n",
    "    if i %2==1:\n",
    "        c+=i\n",
    "print(c)"
   ]
  },
  {
   "cell_type": "code",
   "execution_count": 3,
   "metadata": {},
   "outputs": [
    {
     "name": "stdout",
     "output_type": "stream",
     "text": [
      "45\n"
     ]
    }
   ],
   "source": [
    "'''\n",
    "CP\n",
    "15.1 Summ all values between 1 and 9'''\n",
    "c=0\n",
    "for i in range(1,10):\n",
    "        c+=i\n",
    "print(c)"
   ]
  },
  {
   "cell_type": "code",
   "execution_count": null,
   "metadata": {},
   "outputs": [],
   "source": [
    "'''\n",
    "CP\n",
    "16. Create a dynamic code, that takes 2 inputs from user and returns the number of odd values between 2 numbers\n",
    "'''\n",
    "c=0\n",
    "b,e=input(\"Enter the begin and end\").split(\",\")\n",
    "for i in range(int(b),int(e)):\n",
    "    if i%2==1:\n",
    "        c+=1\n",
    "print(f\"Total odd values are: {c}\")"
   ]
  },
  {
   "cell_type": "code",
   "execution_count": null,
   "metadata": {},
   "outputs": [],
   "source": [
    "'''\n",
    "17. Create a dynamic code, that takes 2 inputs from user and returns the number of odd values between 2 numbers\n",
    "Also Make sure e should be greater than b and e and b should not be divisible by 5.\n",
    "'''\n",
    "c=0\n",
    "b,e=input(\"Enter the begin and end\").split(\",\")\n",
    "if int(e)>int(b) and int(b)%5!=0 and int(e)%5!=0:\n",
    "    for i in range(int(b),int(e)):\n",
    "        if i%2==0:\n",
    "            c+=1\n",
    "    print(f\"Total odd values are: {c}\")\n",
    "else:\n",
    "    print(\"Please enter the second number bigger than first and they should not be multiples of 5\")"
   ]
  },
  {
   "cell_type": "code",
   "execution_count": null,
   "metadata": {},
   "outputs": [],
   "source": []
  }
 ],
 "metadata": {
  "kernelspec": {
   "display_name": "Python 3",
   "language": "python",
   "name": "python3"
  },
  "language_info": {
   "codemirror_mode": {
    "name": "ipython",
    "version": 3
   },
   "file_extension": ".py",
   "mimetype": "text/x-python",
   "name": "python",
   "nbconvert_exporter": "python",
   "pygments_lexer": "ipython3",
   "version": "3.7.4"
  }
 },
 "nbformat": 4,
 "nbformat_minor": 2
}
