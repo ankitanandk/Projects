{
 "cells": [
  {
   "cell_type": "code",
   "execution_count": 3,
   "metadata": {},
   "outputs": [
    {
     "name": "stdout",
     "output_type": "stream",
     "text": [
      "{'name': 'unk', 'age': 'unk'}\n"
     ]
    }
   ],
   "source": [
    "'''\n",
    "1. fromkeys method\n",
    "Returns a new dict with keys from iterable and values equal to value.\n",
    "It is used to create many keys with the same value, this could be the default value.\n",
    "'''\n",
    "am=dict.fromkeys(['name',\"age\"],\"unk\")\n",
    "print(am)"
   ]
  },
  {
   "cell_type": "code",
   "execution_count": 1,
   "metadata": {
    "scrolled": true
   },
   "outputs": [
    {
     "name": "stdout",
     "output_type": "stream",
     "text": [
      "{'name': 1313, 'age': 1313}\n"
     ]
    }
   ],
   "source": [
    "'''\n",
    "1.1 Tuple can also be given as an iterable and then the value\n",
    "'''\n",
    "am=dict.fromkeys(('name',\"age\"),1313)\n",
    "print(am)"
   ]
  },
  {
   "cell_type": "code",
   "execution_count": 6,
   "metadata": {},
   "outputs": [
    {
     "name": "stdout",
     "output_type": "stream",
     "text": [
      "{'b': 'new', 'a': 'new', 'l': 'new', 'i': 'new'}\n",
      "{'b': 'new', 'a': 'new'}\n"
     ]
    }
   ],
   "source": [
    "'''\n",
    "1.2 What if I give a string, each bytes would be converted to \n",
    "a key and the value would be picked up as 'new'\n",
    "'''\n",
    "\n",
    "am=dict.fromkeys(('bali'),\"new\")\n",
    "print(am)\n",
    "\n",
    "# am=dict.fromkeys((1313),\"new\")\n",
    "# print(am)\n",
    "\n",
    "# what would happen below and why, think :)\n",
    "am=dict.fromkeys(('baba'),\"new\")\n",
    "print(am)"
   ]
  },
  {
   "cell_type": "code",
   "execution_count": 3,
   "metadata": {},
   "outputs": [
    {
     "name": "stdout",
     "output_type": "stream",
     "text": [
      "{1: 'new', 2: 'new', 3: 'new', 4: 'new'}\n"
     ]
    }
   ],
   "source": [
    "'''\n",
    "1.3 You can even give a range function\n",
    "'''\n",
    "am=dict.fromkeys(range(1,5),\"new\")\n",
    "print(am)"
   ]
  },
  {
   "cell_type": "code",
   "execution_count": 16,
   "metadata": {},
   "outputs": [
    {
     "name": "stdout",
     "output_type": "stream",
     "text": [
      "{'name': ('unk', 26), 'age': ('unk', 26)}\n"
     ]
    }
   ],
   "source": [
    "'''\n",
    "1.4 Can I give 2 Tuples, yes you can and all the value would be assigned to the dict keys :)\n",
    "'''\n",
    "am=dict.fromkeys(['name',\"age\"],(\"unk\",26))\n",
    "print(am)"
   ]
  },
  {
   "cell_type": "code",
   "execution_count": null,
   "metadata": {},
   "outputs": [],
   "source": [
    "'''\n",
    "1.5 Can I give list as the iterable, yes you can :)\n",
    "'''\n",
    "am=dict.fromkeys(['name','add'],\"new\")\n",
    "print(am)"
   ]
  },
  {
   "cell_type": "code",
   "execution_count": 4,
   "metadata": {
    "scrolled": true
   },
   "outputs": [
    {
     "ename": "KeyError",
     "evalue": "'nam'",
     "output_type": "error",
     "traceback": [
      "\u001b[0;31m---------------------------------------------------------------------------\u001b[0m",
      "\u001b[0;31mKeyError\u001b[0m                                  Traceback (most recent call last)",
      "\u001b[0;32m<ipython-input-4-1b8f98fdadce>\u001b[0m in \u001b[0;36m<module>\u001b[0;34m()\u001b[0m\n\u001b[1;32m      5\u001b[0m '''\n\u001b[1;32m      6\u001b[0m \u001b[0mam\u001b[0m\u001b[0;34m=\u001b[0m\u001b[0;34m{\u001b[0m\u001b[0;34m'name'\u001b[0m\u001b[0;34m:\u001b[0m\u001b[0;34m\"amit kumar\"\u001b[0m\u001b[0;34m,\u001b[0m \u001b[0;34m'age'\u001b[0m\u001b[0;34m:\u001b[0m\u001b[0;36m24\u001b[0m\u001b[0;34m}\u001b[0m\u001b[0;34m\u001b[0m\u001b[0m\n\u001b[0;32m----> 7\u001b[0;31m \u001b[0mam\u001b[0m\u001b[0;34m[\u001b[0m\u001b[0;34m'nam'\u001b[0m\u001b[0;34m]\u001b[0m\u001b[0;34m\u001b[0m\u001b[0m\n\u001b[0m",
      "\u001b[0;31mKeyError\u001b[0m: 'nam'"
     ]
    }
   ],
   "source": [
    "'''\n",
    "2. get\n",
    "if a key does not exist we get a key error.\n",
    "'''\n",
    "am={'name':\"amit kumar\", 'age':24}\n",
    "am['nam']"
   ]
  },
  {
   "cell_type": "code",
   "execution_count": 6,
   "metadata": {},
   "outputs": [
    {
     "name": "stdout",
     "output_type": "stream",
     "text": [
      "amit kumar\n",
      "None\n"
     ]
    }
   ],
   "source": [
    "'''\n",
    "2.1 Solution\n",
    "get method helps to fix the error and return None for key not found.\n",
    "''' \n",
    "print(am.get('name'))\n",
    "\n",
    "# Even if the key does not exist it would return None and not error out.\n",
    "print(am.get('nam'))"
   ]
  },
  {
   "cell_type": "code",
   "execution_count": 7,
   "metadata": {
    "scrolled": true
   },
   "outputs": [
    {
     "name": "stdout",
     "output_type": "stream",
     "text": [
      "prsent\n"
     ]
    }
   ],
   "source": [
    "'''\n",
    "2.2 shortcut to check if key exists\n",
    "'''\n",
    "if am.get(\"name\"):\n",
    "    print(\"prsent\")\n",
    "else:\n",
    "    print(\"absent\")"
   ]
  },
  {
   "cell_type": "code",
   "execution_count": null,
   "metadata": {},
   "outputs": [],
   "source": [
    "'''\n",
    "3. clear\n",
    "Removes all item from dictionary\n",
    "It does not take any arguments\n",
    "'''\n",
    "d1=am={'name':\"amit kumar\", 'age':24}\n",
    "d1.clear()\n",
    "d1"
   ]
  },
  {
   "cell_type": "code",
   "execution_count": null,
   "metadata": {},
   "outputs": [],
   "source": [
    "'''\n",
    "4. copy\n",
    "a shallow copy of Dictionary, 2 objects, refering to same value address\n",
    "'''\n",
    "d1=am={'name':\"amit kumar\", 'age':24}\n",
    "d2=d1.copy()\n",
    "print(id(d1),id(d2))\n",
    "\n",
    "print(d1 is d2) # is checks the memory location and since they ar diff would say False"
   ]
  },
  {
   "cell_type": "code",
   "execution_count": null,
   "metadata": {},
   "outputs": [],
   "source": [
    "'''\n",
    "4.1 Look below, dictionary d2 got updated automatically and we have just operated on d1 \n",
    "'''\n",
    "d1=am={'name':\"amit kumar\", 'age':24}\n",
    "d2=d1\n",
    "print(id(d1),id(d2))\n",
    "d1.popitem()\n",
    "print(d1,d2)\n",
    "print(d1 is d2) # is checks the memory location and since they are same would say True"
   ]
  }
 ],
 "metadata": {
  "kernelspec": {
   "display_name": "Python 3",
   "language": "python",
   "name": "python3"
  },
  "language_info": {
   "codemirror_mode": {
    "name": "ipython",
    "version": 3
   },
   "file_extension": ".py",
   "mimetype": "text/x-python",
   "name": "python",
   "nbconvert_exporter": "python",
   "pygments_lexer": "ipython3",
   "version": "3.7.4"
  }
 },
 "nbformat": 4,
 "nbformat_minor": 2
}
