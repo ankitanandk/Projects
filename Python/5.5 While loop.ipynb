{
 "cells": [
  {
   "cell_type": "code",
   "execution_count": null,
   "metadata": {},
   "outputs": [],
   "source": [
    "'''\n",
    "1. A while loop statement in Python programming language repeatedly executes a target statement as long \n",
    "as a given condition is TRUE.\n",
    "\n",
    "Here, statement(s) may be a single statement or a block of statements. \n",
    "The condition may be any expression, and true is any non-zero value. The loop iterates while the condition is true.\n",
    "\n",
    "When the condition becomes false, program control passes to the line immediately following the loop.\n",
    "\n",
    "********\n",
    "We would need to do the increment as well as we are not using the range function.\n",
    "'''"
   ]
  },
  {
   "cell_type": "code",
   "execution_count": null,
   "metadata": {},
   "outputs": [],
   "source": [
    "'''\n",
    "1. What is the difference in below 2 codes :)\n",
    "'''\n",
    "# Code 1\n",
    "x=5\n",
    "while x<10:\n",
    "    print(x)\n",
    "    x+=1\n",
    "    \n",
    "# Code 2\n",
    "x=5\n",
    "while x<=10:\n",
    "    print(x)\n",
    "    x+=1"
   ]
  },
  {
   "cell_type": "code",
   "execution_count": null,
   "metadata": {},
   "outputs": [],
   "source": [
    "'''\n",
    "CP\n",
    "\n",
    "2. What would happen in below code, would it even start, fall back to the basics :)\n",
    "\n",
    "It would not as the condition is false at the first iteration itself\n",
    "'''\n",
    "x=15\n",
    "while x<10:\n",
    "    print(x)\n",
    "    x+=1 "
   ]
  },
  {
   "cell_type": "code",
   "execution_count": 1,
   "metadata": {
    "scrolled": true
   },
   "outputs": [
    {
     "name": "stdout",
     "output_type": "stream",
     "text": [
      "1 109000.0\n",
      "2 118810.0\n",
      "3 129502.9\n",
      "4 141158.161\n",
      "5 153862.39549\n",
      "6 167710.0110841\n",
      "7 182803.912081669\n",
      "8 199256.2641690192\n",
      "9 217189.32794423093\n"
     ]
    }
   ],
   "source": [
    "'''\n",
    "3. In how many years the money doubles from 1L to 2L with a 9% annual interest, use the while loop :)\n",
    "'''\n",
    "int=.09\n",
    "p=100000\n",
    "year=0\n",
    "while p <=200000:\n",
    "    p+=p*int\n",
    "    year+=1\n",
    "    print(year,p)"
   ]
  },
  {
   "cell_type": "code",
   "execution_count": null,
   "metadata": {},
   "outputs": [],
   "source": [
    "'''\n",
    "4. Take a number from user, till it matches the winning number of 13, keep prompting for inputs\n",
    "Basicallly an infinite loop and the loop should break when the condition is satisfied\n",
    "'''\n",
    "no=13\n",
    "while True:\n",
    "    x=input(\"Input your number\")\n",
    "    if int(x)==no:\n",
    "        print(\"Congrats your guess is right\")\n",
    "        break\n",
    "    else:\n",
    "        print(\"please input again\")"
   ]
  },
  {
   "cell_type": "code",
   "execution_count": null,
   "metadata": {},
   "outputs": [],
   "source": [
    "'''4.1 The other way to write the same code, for clarity'''\n",
    "no=13\n",
    "while 1==1:\n",
    "    x=input(\"Input your number\")\n",
    "    if int(x)==no:\n",
    "        print(\"Congrats your guess is right\")\n",
    "        break\n",
    "    else:\n",
    "        print(\"please input again\")       "
   ]
  },
  {
   "cell_type": "code",
   "execution_count": 2,
   "metadata": {},
   "outputs": [
    {
     "name": "stdout",
     "output_type": "stream",
     "text": [
      "Input your 2 numbers place a comma5,2\n",
      "please input again\n",
      "Input your 2 numbers place a comma2,1\n",
      "please input again\n",
      "Input your 2 numbers place a comma1,2\n",
      "Congrats your numbers are good\n"
     ]
    }
   ],
   "source": [
    "'''\n",
    "\n",
    "CP\n",
    "5.1 Take 2 number inputs from user,\n",
    "keep asking till second is bigger\n",
    "'''\n",
    "while True:\n",
    "    x,y=input(\"Input your 2 numbers place a comma\").split(\",\")\n",
    "    if int(x)<int(y):\n",
    "        print(\"Congrats your numbers are good\")\n",
    "        break\n",
    "    else:\n",
    "        print(\"please input again\")\n",
    "       "
   ]
  },
  {
   "cell_type": "code",
   "execution_count": null,
   "metadata": {},
   "outputs": [],
   "source": [
    "'''\n",
    "5.1 Take 2 number inputs from user,\n",
    "keep asking till second is bigger and second divide by first leave\n",
    "a remainder of 0\n",
    "'''\n",
    "while True:\n",
    "    x,y=input(\"Input your 2 numbers place a comma\").split(\",\")\n",
    "    if int(x)<int(y) and int(y)%int(x)==0:\n",
    "        print(\"Congrats your numbers are good\")\n",
    "        break\n",
    "    else:\n",
    "        print(\"please input again\")\n",
    "       "
   ]
  },
  {
   "cell_type": "code",
   "execution_count": null,
   "metadata": {},
   "outputs": [],
   "source": [
    "'''\n",
    "CP\n",
    "\n",
    "6. Take 1 input from user, above 1 and sum all numbers for eg 3 then return 1+2+3=6, use while loop\n",
    "'''\n",
    "inp=input(\"share the number above 1\")\n",
    "i=1\n",
    "s=0\n",
    "while i<=int(inp):\n",
    "    s+=i \n",
    "    i+=1\n",
    "print(f\"the sum of all numbers from 1 to {inp} is :{s}\")"
   ]
  },
  {
   "cell_type": "code",
   "execution_count": null,
   "metadata": {},
   "outputs": [],
   "source": [
    "'''\n",
    "7. Take  a 3 digit number from user and calculate the powers eg 222: \n",
    "2 raised to power 2 >>4 and then 4 raised to 2>16\n",
    "'''\n",
    "n=input(\"Input the three digit number\")\n",
    "b=1\n",
    "p=int(n[0])\n",
    "while b<=len(n)-1:\n",
    "    q=int(n[b])\n",
    "    p**=q \n",
    "    b+=1\n",
    "print(p)\n",
    "\n",
    "# OR\n",
    "\n",
    "x = input('Enter the value here')\n",
    "p = int(x[0])\n",
    "i = 1\n",
    "\n",
    "while(i<len(x)):\n",
    "    p**=int(x[i])\n",
    "    i+=1\n",
    "print(f'The final value = {p}')"
   ]
  },
  {
   "cell_type": "code",
   "execution_count": null,
   "metadata": {},
   "outputs": [],
   "source": [
    "'''\n",
    "8. Take 2 numbers from user, begin and end. Sum all numbers in this range. eg 2 and 5>> 2+3+4+5=13\n",
    "'''\n",
    "b,e=input(\"share 2 numbers above 1, separated by comma\").split(\",\")\n",
    "b=int(b)\n",
    "e=int(e)\n",
    "s=0\n",
    "while b<=e:\n",
    "    s+=b\n",
    "    b+=1\n",
    "print(s)\n"
   ]
  },
  {
   "cell_type": "code",
   "execution_count": null,
   "metadata": {},
   "outputs": [],
   "source": [
    "'''\n",
    "9. What would the below code do\n",
    "'''\n",
    "b,e=input(\"share 2 numbers above 1, separated by comma\").split(\",\")\n",
    "b=int(b)\n",
    "e=int(e)\n",
    "s=0\n",
    "while b<=e:\n",
    "    s+=b\n",
    "    b+=1\n",
    "    print(s)"
   ]
  }
 ],
 "metadata": {
  "kernelspec": {
   "display_name": "Python 3",
   "language": "python",
   "name": "python3"
  },
  "language_info": {
   "codemirror_mode": {
    "name": "ipython",
    "version": 3
   },
   "file_extension": ".py",
   "mimetype": "text/x-python",
   "name": "python",
   "nbconvert_exporter": "python",
   "pygments_lexer": "ipython3",
   "version": "3.7.4"
  }
 },
 "nbformat": 4,
 "nbformat_minor": 2
}
