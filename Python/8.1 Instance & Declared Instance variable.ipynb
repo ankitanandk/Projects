{
 "cells": [
  {
   "cell_type": "code",
   "execution_count": null,
   "metadata": {},
   "outputs": [],
   "source": [
    "'''\n",
    "1.\n",
    "To declare a class we use the \"class\" keyword\n",
    "a. The name of the class should be in proper case,\n",
    "first letter caps: This is for user defined classes: just a naming convention.\n",
    "\n",
    "b. Note: system defined class like str,list etc do not follow this naming convention\n",
    "c. No need of paranthesis\n",
    "d. __init__ is a method (function in a class) or called as constructor as it constructs the object for a class.\n",
    "\n",
    "It is called automatically when you declare an object\n",
    "It is not always required for declaring a class; though important and is default method\n",
    "\n",
    "e. attributes are the parameters to the __init__ method\n",
    "f. instance variable can be initialized with help of self, default first argument is the object only\n",
    "g. self is the object only and it represent the object by default\n",
    "\n",
    "__init__ is used for declaring the auto instance variables and sets the propery of the object\n",
    "\n",
    "'''\n",
    "   "
   ]
  },
  {
   "cell_type": "code",
   "execution_count": 2,
   "metadata": {},
   "outputs": [
    {
     "name": "stdout",
     "output_type": "stream",
     "text": [
      "This is init call\n"
     ]
    }
   ],
   "source": [
    "'''1.01 The __init__ is called as soon as the object is declared\n",
    "The print gets executed as soon as the object is declared\n",
    "'''\n",
    "\n",
    "class Person:\n",
    "    def __init__(self):\n",
    "        print(\"This is init call\")\n",
    "        \n",
    "p1=Person()"
   ]
  },
  {
   "cell_type": "code",
   "execution_count": null,
   "metadata": {},
   "outputs": [],
   "source": [
    "'''1.02\n",
    "# Look at the sample code and we have declared an object in class Person\n",
    "\n",
    "here f,l and age are instance variable and p1 is the instance of the class Person\n",
    "'''\n",
    "class Person:\n",
    "    def __init__(self,f,l,age):\n",
    "        print(\"call to constructor or init method\")\n",
    "        self.f=f # This is the instance variable and the object v=can now access its value\n",
    "        self.l=l\n",
    "        self.age=age\n",
    "p1=Person(\"amit\",\"kumar\",37)\n",
    "print(p1.f) #no () as this is variable not a function, we are accessing the first name value of p1 object   "
   ]
  },
  {
   "cell_type": "code",
   "execution_count": null,
   "metadata": {},
   "outputs": [],
   "source": [
    "'''1.1 can I declare multiple objects simultaneoulsy, Yes you can and they would point to the same memory address'''\n",
    "class Person:\n",
    "    def __init__(self,f,l,age):\n",
    "        print(\"call to constructor or init method\")\n",
    "        self.f=f\n",
    "        self.l=l\n",
    "        self.age=age\n",
    "p1=p2=Person(\"amit\",\"kumar\",37)\n",
    "print(p1,p2, id(p1),id(p2))"
   ]
  },
  {
   "cell_type": "code",
   "execution_count": null,
   "metadata": {},
   "outputs": [],
   "source": [
    "'''1.2 If I declare selectively, only those variables would be available\n",
    "Object p1 would not have access to a, as a is not an instance variable\n",
    "a would be required while declaring the object though as object parameter attribute :)\n",
    "'''\n",
    "class Person:\n",
    "    def __init__(self,f,l,a):\n",
    "        self.f=f\n",
    "        self.l=l\n",
    "    \n",
    "    \n",
    "p1=Person(\"amit\",\"kumar\",37)"
   ]
  },
  {
   "cell_type": "code",
   "execution_count": null,
   "metadata": {},
   "outputs": [],
   "source": [
    "'''1.2.1 The __init__ takes 4 positional args.. so below code would not work'''\n",
    "class Person:\n",
    "    def __init__(self,f,l,a):\n",
    "        self.f=f\n",
    "        self.l=l\n",
    "    \n",
    "    \n",
    "p1=Person(\"amit\",\"kumar\")"
   ]
  },
  {
   "cell_type": "code",
   "execution_count": null,
   "metadata": {},
   "outputs": [],
   "source": [
    "'''\n",
    "2. self can be named anythng, this is just for clarity :) , self is used as per the naming convention\n",
    "and self is >> the object only\n",
    "\n",
    "self=object\n",
    "\n",
    "object is the instance of class and __init__ is class constructor\n",
    "'''\n",
    "class Person:\n",
    "    def __init__(baba,f,l,age):\n",
    "        print(\"call to constructor or init method\")\n",
    "        baba.f=f\n",
    "        baba.l=l\n",
    "        baba.age=age\n",
    "p1=Person(\"amit\",\"kumar\",37)\n",
    "print(p1.f)"
   ]
  },
  {
   "cell_type": "code",
   "execution_count": null,
   "metadata": {},
   "outputs": [],
   "source": [
    "'''\n",
    "3. f,l and age are for the input while declaring the object. \n",
    "To call instance variable you would need to request the \n",
    "object attributes/instance variable name that is defined in the __init__ method.\n",
    "This name can be same or different\n",
    "\n",
    "so for first name, you can access fname and not f, I hope this is clear :)\n",
    "\n",
    "f for taking the value as object attributes and fname would be accessible to the object\n",
    "'''\n",
    "class Person:\n",
    "    def __init__(baba,f,l,age):\n",
    "        print(\"call to constructor or init method\")\n",
    "        baba.fname=f #Now the fname is available to the object and not f, fname is the instance object\n",
    "        baba.lastname=l\n",
    "        baba.age_yrs=age\n",
    "p1=Person(\"amit\",\"kumar\",age=37)\n",
    "print(p1.fname) # This is var and not a method so no parenthesis are required"
   ]
  },
  {
   "cell_type": "code",
   "execution_count": null,
   "metadata": {},
   "outputs": [],
   "source": [
    "'''\n",
    "4. Create a Class laptop and objects with some properties like brand, modelname, price and year etc...\n",
    "'''\n",
    "class Laptop:\n",
    "    def __init__(self,brand,model,price,year):\n",
    "        self.company=brand\n",
    "        self.model=model\n",
    "        self.price=price\n",
    "        self.year_mfg=year\n",
    "lap1=Laptop(\"apple\",\"macbook\",90000,2018)\n",
    "print(lap1.company,lap1.price)"
   ]
  },
  {
   "cell_type": "code",
   "execution_count": null,
   "metadata": {},
   "outputs": [],
   "source": [
    "'''4.01 The short way of writing the code in single line\n",
    "pr is instance variable and thus should be reffered as l1.pr and not l1.pr() as we use () for methods and functions\n",
    "'''\n",
    "class Laptop:\n",
    "    def __init__(self,br,mo,pr):\n",
    "        self.br=br;self.mo=mo;self.pr=pr\n",
    "        \n",
    "l1=Laptop(\"apple\",\"macbook pro\",190000)\n",
    "\n",
    "l1.pr"
   ]
  },
  {
   "cell_type": "code",
   "execution_count": null,
   "metadata": {},
   "outputs": [],
   "source": [
    "'''\n",
    "5. Can we have a calculated instance variable? yes we can, this variable would now be available to the object\n",
    "Learn from below code the instance variable final_cost is calculated after 10% discount on price\n",
    "This variable is now available to the object lap1\n",
    "\n",
    "If we do not give self, it would not be available to the object\n",
    "'''\n",
    "class Laptop:\n",
    "    def __init__(self,brand,model,price,year):\n",
    "        self.company=brand\n",
    "        self.model=model\n",
    "        self.price=price\n",
    "        self.year_mfg=year\n",
    "        self.final_cost=self.price*0.9 # we write this so that the object can have access to the instance var\n",
    "      \n",
    "lap1=Laptop(\"apple\",\"macbook\",90000,2018)\n",
    "print(lap1.company,lap1.price,lap1.final_cost)"
   ]
  },
  {
   "cell_type": "code",
   "execution_count": null,
   "metadata": {},
   "outputs": [],
   "source": [
    "'''5.01 We can even use the price without self'''\n",
    "class Laptop:\n",
    "    def __init__(self,brand,model,price,year):\n",
    "        self.company=brand\n",
    "        self.model=model\n",
    "        self.price=price\n",
    "        self.year_mfg=year\n",
    "        self.final_cost=price*0.9 # we write this so that the object can have access to the instance var\n",
    "      \n",
    "lap1=Laptop(\"apple\",\"macbook\",90000,2018)\n",
    "print(lap1.company,lap1.price,lap1.final_cost)"
   ]
  },
  {
   "cell_type": "code",
   "execution_count": null,
   "metadata": {},
   "outputs": [],
   "source": [
    "'''5.1 Guess the output \n",
    "Since the variable final_cost is local to the __init__ method and not self. is declared, this would not be available\n",
    "\n",
    "'''\n",
    "class Laptop:\n",
    "    def __init__(self,brand,model,price,year):\n",
    "        self.company=brand\n",
    "        self.model=model\n",
    "        self.price=price\n",
    "        self.year_mfg=year\n",
    "        final_cost=self.price*0.9 # we write this so that the object can have access to the instance var\n",
    "      \n",
    "lap1=Laptop(\"apple\",\"macbook\",90000,2018)\n",
    "lap1.final_cost"
   ]
  },
  {
   "cell_type": "code",
   "execution_count": null,
   "metadata": {},
   "outputs": [],
   "source": [
    "'''5.2 Guess the output, this variable \"x\" would not be available to\n",
    "any object as it is not declared as an instance variable'''\n",
    "class Laptop:\n",
    "    def __init__(self,brand,model,price,year):\n",
    "        self.company=brand\n",
    "        self.model=model\n",
    "        self.price=price\n",
    "        self.year_mfg=year\n",
    "        x=1\n",
    "       \n",
    "    \n",
    "lap1=Laptop(\"apple\",\"macbook\",90000,2018)\n",
    "\n",
    "lap1.x"
   ]
  },
  {
   "cell_type": "code",
   "execution_count": null,
   "metadata": {},
   "outputs": [],
   "source": [
    "'''5.3 To make 5.2 work, either it should be class variable or self.'''\n",
    "class Laptop:\n",
    "    x=1\n",
    "    def __init__(self,brand,model,price,year):\n",
    "        self.company=brand\n",
    "        self.model=model\n",
    "        self.price=price\n",
    "        self.year_mfg=year    \n",
    "lap1=Laptop(\"apple\",\"macbook\",90000,2018)\n",
    "lap1.x"
   ]
  },
  {
   "cell_type": "code",
   "execution_count": null,
   "metadata": {},
   "outputs": [],
   "source": [
    "'''\n",
    "6. Let's have 2 calculated instance variables in the laptop class.\n",
    "'''\n",
    "class Laptop:\n",
    "    def __init__(self,brand,model,price,year):\n",
    "        self.company=brand\n",
    "        self.model=model\n",
    "        self.price=price\n",
    "        self.year_mfg=year\n",
    "        self.final_cost=price*0.9\n",
    "        self.fullname=brand+\"-\"+model\n",
    "        \n",
    "lap1=Laptop(\"apple\",\"macbook\",90000,2018)\n",
    "print(lap1.final_cost,lap1.fullname)"
   ]
  },
  {
   "cell_type": "code",
   "execution_count": null,
   "metadata": {},
   "outputs": [],
   "source": [
    "'''6.2 Is this allowed in final_cost declaration.. yes the arguments can be directly used for instance  variable'''\n",
    "\n",
    "class Laptop:\n",
    "    def __init__(self,brand,model,price,year):\n",
    "        self.company=brand\n",
    "        self.model=model\n",
    "        self.price=price\n",
    "        self.year_mfg=year\n",
    "        self.final_cost=price*0.9\n",
    "        self.fullname=brand+\"-\"+model\n",
    "        \n",
    "lap1=Laptop(\"apple\",\"macbook\",90000,2018)\n",
    "print(lap1.final_cost)"
   ]
  },
  {
   "cell_type": "code",
   "execution_count": null,
   "metadata": {
    "scrolled": true
   },
   "outputs": [],
   "source": [
    "'''6.3 Point the issue in the code\n",
    "self.price is not declared ..so we can not use it\n",
    "'''\n",
    "class Laptop:\n",
    "    def __init__(self,brand,model,price,year):\n",
    "        self.company=brand\n",
    "        self.model=model\n",
    "        self.year_mfg=year\n",
    "        self.final_cost=self.price*0.9\n",
    "        self.fullname=brand+\"-\"+model\n",
    "        \n",
    "lap1=Laptop(\"apple\",\"macbook\",90000,2018)\n",
    "print(lap1.final_cost)"
   ]
  },
  {
   "cell_type": "code",
   "execution_count": null,
   "metadata": {
    "scrolled": false
   },
   "outputs": [],
   "source": [
    "'''\n",
    "7. The order of arguments does not matter as they are sort of keyword\n",
    "and we can have the declaration in one line using ; (semicolon) and in any order  :)\n",
    "'''\n",
    "class Laptop:\n",
    "    def __init__(self,b,m,p):\n",
    "        self.m=m;self.b=b;self.p=p\n",
    "\n",
    "a=Laptop(\"Apple\",\"air\",450000)\n",
    "print(a.b)"
   ]
  },
  {
   "cell_type": "code",
   "execution_count": 1,
   "metadata": {
    "scrolled": true
   },
   "outputs": [
    {
     "ename": "TypeError",
     "evalue": "__init__() should return None, not 'float'",
     "output_type": "error",
     "traceback": [
      "\u001b[0;31m---------------------------------------------------------------------------\u001b[0m",
      "\u001b[0;31mTypeError\u001b[0m                                 Traceback (most recent call last)",
      "\u001b[0;32m<ipython-input-1-16a750d6ed8b>\u001b[0m in \u001b[0;36m<module>\u001b[0;34m\u001b[0m\n\u001b[1;32m     11\u001b[0m         \u001b[0;32mreturn\u001b[0m \u001b[0mself\u001b[0m\u001b[0;34m.\u001b[0m\u001b[0mprice\u001b[0m\u001b[0;34m*\u001b[0m\u001b[0;36m0.9\u001b[0m\u001b[0;34m\u001b[0m\u001b[0;34m\u001b[0m\u001b[0m\n\u001b[1;32m     12\u001b[0m \u001b[0;34m\u001b[0m\u001b[0m\n\u001b[0;32m---> 13\u001b[0;31m \u001b[0mlap1\u001b[0m\u001b[0;34m=\u001b[0m\u001b[0mLaptop\u001b[0m\u001b[0;34m(\u001b[0m\u001b[0;34m\"apple\"\u001b[0m\u001b[0;34m,\u001b[0m\u001b[0;36m90000\u001b[0m\u001b[0;34m)\u001b[0m\u001b[0;34m\u001b[0m\u001b[0;34m\u001b[0m\u001b[0m\n\u001b[0m",
      "\u001b[0;31mTypeError\u001b[0m: __init__() should return None, not 'float'"
     ]
    }
   ],
   "source": [
    "'''8. You can not use return in the __init__ method or constructor, __init__ always return None\n",
    "You can use print or any other function..\n",
    "\n",
    "If you try return it would throw errors\n",
    "'''\n",
    "\n",
    "class Laptop:\n",
    "    def __init__(self,brand,price):\n",
    "        self.company=brand\n",
    "        self.price=price\n",
    "        return self.price*0.9\n",
    "        \n",
    "lap1=Laptop(\"apple\",90000)"
   ]
  },
  {
   "cell_type": "code",
   "execution_count": 2,
   "metadata": {},
   "outputs": [
    {
     "name": "stdout",
     "output_type": "stream",
     "text": [
      "81000.0\n"
     ]
    }
   ],
   "source": [
    "'''8.1 You can use print or any other function with __init__\n",
    "Now the print would happen as soon as the object is declared or the instantiation happens as __init__ gets called\n",
    "'''\n",
    "\n",
    "class Laptop:\n",
    "    def __init__(self,brand,price):\n",
    "        self.company=brand\n",
    "        self.price=price\n",
    "        print(self.price*0.9)\n",
    "        \n",
    "lap1=Laptop(\"apple\",90000)"
   ]
  },
  {
   "cell_type": "code",
   "execution_count": 3,
   "metadata": {},
   "outputs": [
    {
     "data": {
      "text/plain": [
       "{'company': 'apple'}"
      ]
     },
     "execution_count": 3,
     "metadata": {},
     "output_type": "execute_result"
    }
   ],
   "source": [
    "'''9. If we have 2 init, the second one overwrites first, the instance variable company is only available to\n",
    "new objects.\n",
    "'''\n",
    "\n",
    "class Laptop:\n",
    "    def __init__(self,brand,price):\n",
    "        self.company=brand\n",
    "        self.price=price\n",
    "        \n",
    "    def __init__(self,brand):\n",
    "        self.company=brand\n",
    "    \n",
    "    \n",
    "        \n",
    "lap1=Laptop(\"apple\")\n",
    "\n",
    "lap1.__dict__"
   ]
  }
 ],
 "metadata": {
  "kernelspec": {
   "display_name": "Python 3",
   "language": "python",
   "name": "python3"
  },
  "language_info": {
   "codemirror_mode": {
    "name": "ipython",
    "version": 3
   },
   "file_extension": ".py",
   "mimetype": "text/x-python",
   "name": "python",
   "nbconvert_exporter": "python",
   "pygments_lexer": "ipython3",
   "version": "3.7.4"
  }
 },
 "nbformat": 4,
 "nbformat_minor": 2
}
