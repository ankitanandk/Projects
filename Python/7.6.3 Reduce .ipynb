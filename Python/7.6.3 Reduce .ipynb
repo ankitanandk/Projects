{
 "cells": [
  {
   "cell_type": "code",
   "execution_count": 2,
   "metadata": {
    "scrolled": false
   },
   "outputs": [
    {
     "name": "stdout",
     "output_type": "stream",
     "text": [
      "Help on built-in function reduce in module _functools:\n",
      "\n",
      "reduce(...)\n",
      "    reduce(function, sequence[, initial]) -> value\n",
      "    \n",
      "    Apply a function of two arguments cumulatively to the items of a sequence,\n",
      "    from left to right, so as to reduce the sequence to a single value.\n",
      "    For example, reduce(lambda x, y: x+y, [1, 2, 3, 4, 5]) calculates\n",
      "    ((((1+2)+3)+4)+5).  If initial is present, it is placed before the items\n",
      "    of the sequence in the calculation, and serves as a default when the\n",
      "    sequence is empty.\n",
      "\n"
     ]
    }
   ],
   "source": [
    "'''0.0 Help on reduce'''\n",
    "from functools import reduce\n",
    "help(reduce)"
   ]
  },
  {
   "cell_type": "code",
   "execution_count": null,
   "metadata": {},
   "outputs": [],
   "source": [
    "'''\n",
    "0.1 reduce() in Python\n",
    "\n",
    "The reduce function is used to apply a particular function passed in its argument to all of the \n",
    "list elements mentioned in the sequence passed along.\n",
    "\n",
    "This function is defined in “functools” module. So we may have to import that module first.\n",
    "\n",
    "syntax(fun,iterable): fun can be user defined or a lambda expression and then the iterable.\n",
    "\n",
    "Working of reduce function: \n",
    "\n",
    "At first step, first two elements of sequence are picked and the result is obtained.\n",
    "Next step is to apply the same function to the previously attained result and the number just succeeding the\n",
    "second element and the result is again stored.\n",
    "This process continues till no more elements are left in the container.\n",
    "The final returned result is returned and printed on console or editor.\n",
    "\n",
    "Process 2 values in the function for 1 iteration\n",
    "'''"
   ]
  },
  {
   "cell_type": "code",
   "execution_count": 1,
   "metadata": {},
   "outputs": [
    {
     "ename": "TypeError",
     "evalue": "<lambda>() takes 1 positional argument but 2 were given",
     "output_type": "error",
     "traceback": [
      "\u001b[0;31m---------------------------------------------------------------------------\u001b[0m",
      "\u001b[0;31mTypeError\u001b[0m                                 Traceback (most recent call last)",
      "\u001b[0;32m<ipython-input-1-0ec92336af1f>\u001b[0m in \u001b[0;36m<module>\u001b[0;34m\u001b[0m\n\u001b[1;32m      4\u001b[0m \u001b[0;32mfrom\u001b[0m \u001b[0mfunctools\u001b[0m \u001b[0;32mimport\u001b[0m \u001b[0mreduce\u001b[0m\u001b[0;34m\u001b[0m\u001b[0;34m\u001b[0m\u001b[0m\n\u001b[1;32m      5\u001b[0m \u001b[0ml\u001b[0m\u001b[0;34m=\u001b[0m\u001b[0;34m[\u001b[0m\u001b[0;36m1\u001b[0m\u001b[0;34m,\u001b[0m\u001b[0;36m2\u001b[0m\u001b[0;34m,\u001b[0m\u001b[0;36m3\u001b[0m\u001b[0;34m]\u001b[0m\u001b[0;34m\u001b[0m\u001b[0;34m\u001b[0m\u001b[0m\n\u001b[0;32m----> 6\u001b[0;31m \u001b[0mreduce\u001b[0m\u001b[0;34m(\u001b[0m\u001b[0;32mlambda\u001b[0m \u001b[0mn\u001b[0m\u001b[0;34m:\u001b[0m\u001b[0mn\u001b[0m\u001b[0;34m**\u001b[0m\u001b[0;36m2\u001b[0m\u001b[0;34m,\u001b[0m\u001b[0ml\u001b[0m\u001b[0;34m)\u001b[0m\u001b[0;34m\u001b[0m\u001b[0;34m\u001b[0m\u001b[0m\n\u001b[0m",
      "\u001b[0;31mTypeError\u001b[0m: <lambda>() takes 1 positional argument but 2 were given"
     ]
    }
   ],
   "source": [
    "'''0.1 The reduce would need 2 arguments a,b in pairs\n",
    "the error helps in undesrtanding the processing of reduce function\n",
    "'''\n",
    "from functools import reduce\n",
    "l=[1,2,3]\n",
    "reduce(lambda n:n**2,l)"
   ]
  },
  {
   "cell_type": "code",
   "execution_count": null,
   "metadata": {},
   "outputs": [],
   "source": [
    "'''\n",
    "1. Let's take an example and see how reduce works, the first argument is always a function operating on 2 operands\n",
    "and then a iterable Here 1*2=2 and then 2*3=6 and then 6*4=24 :)\n",
    "'''\n",
    "from functools import reduce # selective import\n",
    "l = [1,2,3,4] \n",
    "prod=reduce(lambda x,y: x*y,l)\n",
    "print(prod)\n",
    "\n",
    "#OR the same code for a different import statement, full import\n",
    "import functools #full import\n",
    "l = [1,2,3,4] \n",
    "prod=functools.reduce(lambda x,y: x*y,l)\n",
    "print(prod)\n",
    "\n",
    "#OR the same code for a diffirent import statement with alias\n",
    "import functools as ft #full import\n",
    "l = [1,2,3,4] \n",
    "prod=ft.reduce(lambda x,y: x*y,l)\n",
    "print(prod)"
   ]
  },
  {
   "cell_type": "code",
   "execution_count": null,
   "metadata": {},
   "outputs": [],
   "source": [
    "'''\n",
    "2. Let's compute the sum of list using the reduce function and lambda expression :)\n",
    "'''\n",
    "from functools import reduce\n",
    "l = [1,2,3,4] \n",
    "s=reduce(lambda x,y: x+y,l)\n",
    "print(s)"
   ]
  },
  {
   "cell_type": "code",
   "execution_count": null,
   "metadata": {},
   "outputs": [],
   "source": [
    "'''\n",
    "2.1 Above question by defining our own function\n",
    "'''\n",
    "from functools import reduce\n",
    "def s(x,y):\n",
    "    return x+y\n",
    "\n",
    "l=[1,2,3]\n",
    "print(reduce(s,l))"
   ]
  },
  {
   "cell_type": "code",
   "execution_count": null,
   "metadata": {
    "scrolled": true
   },
   "outputs": [],
   "source": [
    "'''\n",
    "3. Max element from a list using the reduce function\n",
    "'''\n",
    "from functools import reduce\n",
    "l = [11,2,3,4] \n",
    "m=reduce(lambda x,y:x if x>y else y,l)\n",
    "print(m)\n",
    "\n",
    "# This can also be achieved using the max function, I hope now you know how these functions work in backend :)\n",
    "print(max(l))"
   ]
  },
  {
   "cell_type": "code",
   "execution_count": null,
   "metadata": {},
   "outputs": [],
   "source": [
    "'''\n",
    "3.1 Above question by defining your own function\n",
    "'''\n",
    "from functools import reduce\n",
    "def mul(x,y):\n",
    "    return x*y\n",
    "\n",
    "l=[1,2,3,4]\n",
    "print(reduce(mul,l))"
   ]
  },
  {
   "cell_type": "code",
   "execution_count": null,
   "metadata": {},
   "outputs": [],
   "source": [
    "'''\n",
    "3.2 Create a min function using reduce and lambda expression\n",
    "'''\n",
    "from functools import reduce # selective import\n",
    "l = [1,99,3,4] \n",
    "p=reduce(lambda x,y:x if x<y else y,l)\n",
    "print(p)"
   ]
  },
  {
   "cell_type": "code",
   "execution_count": null,
   "metadata": {},
   "outputs": [],
   "source": [
    "'''\n",
    "3.3 Above question by defining your own function for a minimum value\n",
    "'''\n",
    "def mini(x,y):\n",
    "    if x>y:\n",
    "        return y\n",
    "    return x\n",
    "\n",
    "l=[1,2,3,4]\n",
    "print(reduce(mini,l))"
   ]
  },
  {
   "cell_type": "code",
   "execution_count": null,
   "metadata": {},
   "outputs": [],
   "source": [
    "'''\n",
    "4. The prod can also be achieved using the operator module and reduce function\n",
    "'''\n",
    "import functools as ft\n",
    "import operator as op\n",
    "l = [1,2,3,4] \n",
    "m=reduce(op.mul,l)\n",
    "print(m)\n",
    "\n",
    "#Just importing the mul from operator module\n",
    "import functools as ft\n",
    "from operator import mul\n",
    "l = [1,2,3,4] \n",
    "m=reduce(mul,l)\n",
    "print(m)"
   ]
  },
  {
   "cell_type": "code",
   "execution_count": null,
   "metadata": {},
   "outputs": [],
   "source": [
    "'''\n",
    "5. The Sum can also be achieved using the operator module and reduce function :)\n",
    "'''\n",
    "import functools as ft\n",
    "import operator as op\n",
    "l = [1,2,3,4] \n",
    "m=reduce(op.add,l)\n",
    "print(m)\n",
    "\n",
    "#OR just importing the mul function\n",
    "import functools as ft\n",
    "from operator import add\n",
    "l = [1,2,3,4] \n",
    "m=reduce(add,l)\n",
    "print(m)"
   ]
  },
  {
   "cell_type": "code",
   "execution_count": null,
   "metadata": {},
   "outputs": [],
   "source": [
    "'''\n",
    "5.1 The operator module stores all the opeartors and the add method takes 2 arguemts and return the sum.\n",
    "'''\n",
    "import operator as op\n",
    "a=1\n",
    "b=2\n",
    "print(op.add(a,b))"
   ]
  },
  {
   "cell_type": "code",
   "execution_count": null,
   "metadata": {},
   "outputs": [],
   "source": [
    "'''\n",
    "6. use filter,map and reduce.\n",
    "\n",
    "All functions take function as the first argument.\n",
    "filter even numbers from list, \n",
    "then square each one and then finally sum them, use lambda expression :)... wooo hoo\n",
    "So the below list should give 20 as answer\n",
    "'''\n",
    "l=[1,2,3,4]\n",
    "new=reduce(lambda x,y:x+y,list(map(lambda x:x**2,list(filter(lambda x:x%2==0,l)))))\n",
    "new\n",
    "\n",
    "#or ouput as a final list\n",
    "from functools import reduce\n",
    "l=[1,2,3,4]\n",
    "[reduce(lambda a,b: a+b,[i for i in map(lambda n: n**2,[i for i in filter(lambda n:1 if n%2==0 else 0,l)])])]\n",
    "\n",
    "#Even the shortest code for the same\n",
    "l=[1,2,3,4]\n",
    "\n",
    "reduce(lambda x,y: x+y,map(lambda n:n**2,filter(lambda n:n%2==0,l)))"
   ]
  },
  {
   "cell_type": "code",
   "execution_count": null,
   "metadata": {},
   "outputs": [],
   "source": [
    "'''\n",
    "6.1 Attempt above question by declaring 3 separate functions is_ev, \n",
    "sq and sum and you have to use mp,reduce and filter :)\n",
    "'''\n",
    "from functools import reduce\n",
    "def is_ev(x):\n",
    "    return x%2==0\n",
    "def sq(x):\n",
    "    return x**2\n",
    "def sum(x,y):\n",
    "    return x+y\n",
    "\n",
    "l=[1,2,3,4]\n",
    "new=reduce(sum,list(map(sq,list(filter(is_ev,l)))))\n",
    "new"
   ]
  },
  {
   "cell_type": "code",
   "execution_count": 4,
   "metadata": {},
   "outputs": [
    {
     "data": {
      "text/plain": [
       "5050"
      ]
     },
     "execution_count": 4,
     "metadata": {},
     "output_type": "execute_result"
    }
   ],
   "source": [
    "'''\n",
    "7. Sum numbers from 1 to 100 using the reduce function and lambda\n",
    "'''\n",
    "from functools import reduce\n",
    "reduce(lambda x,y: x+y, range(1,101))"
   ]
  },
  {
   "cell_type": "code",
   "execution_count": 3,
   "metadata": {},
   "outputs": [
    {
     "data": {
      "text/plain": [
       "5050"
      ]
     },
     "execution_count": 3,
     "metadata": {},
     "output_type": "execute_result"
    }
   ],
   "source": [
    "'''7.01 The List comp can also be used'''\n",
    "from functools import reduce\n",
    "reduce(lambda x,y: x+y, [i for i in range(1,101)])"
   ]
  },
  {
   "cell_type": "code",
   "execution_count": null,
   "metadata": {
    "scrolled": true
   },
   "outputs": [],
   "source": [
    "'''\n",
    "7.1 what is this object, this belong to class range\n",
    "'''\n",
    "a=list(range(1,101))\n",
    "\n",
    "# is it iterable or iterator\n",
    "#print(next(range(1,101)))\n",
    "\n",
    "# How can I make it iterable\n",
    "print(next(iter(range(1,101))))"
   ]
  },
  {
   "cell_type": "code",
   "execution_count": null,
   "metadata": {},
   "outputs": [],
   "source": [
    "'''8. using op and other functions\n",
    "\n",
    "1. creating a list with static item 2 five times\n",
    "2. lambda works on l and give even\n",
    "3. map> maps the power function to the list and get squares\n",
    "4. add adds them\n",
    "'''\n",
    "from functools import reduce\n",
    "import operator as op\n",
    "l=[1,2,3,4]\n",
    "reduce(op.add,list(map(op.pow,filter(lambda x: True if x%2==0 else False,l),[2 for i in range(len(l))])))\n"
   ]
  },
  {
   "cell_type": "code",
   "execution_count": null,
   "metadata": {},
   "outputs": [],
   "source": [
    "'''9. How would you just add the even numbers'''\n",
    "l=[1,2,3,4]\n",
    "reduce(lambda a,b: a+b,[i for i in filter(lambda n:1 if n%2==0 else 0,l)])\n",
    "\n",
    "#OR simple\n",
    "l=[1,2,3,4]\n",
    "reduce(lambda a,b: a+b,[i for i in l if i%2==0])\n",
    "\n",
    "#best\n",
    "l=[1,2,3,4]\n",
    "reduce(lambda a,b: a+b,filter(lambda n:n%2==0,l))"
   ]
  },
  {
   "cell_type": "code",
   "execution_count": null,
   "metadata": {},
   "outputs": [],
   "source": [
    "'''10. explain why this code fails for reduce function'''\n",
    "from functools import reduce\n",
    "reduce(lambda a,b,c: a+b+c,[1,2,3])"
   ]
  },
  {
   "cell_type": "code",
   "execution_count": null,
   "metadata": {},
   "outputs": [],
   "source": [
    "'''11. This would now start adding the values from third index\n",
    "Slicing can alos be used on the iterable\n",
    "'''\n",
    "l=[1,2,3,4,5,6]\n",
    "from functools import reduce\n",
    "reduce(lambda a,b:a+b,l[3:])"
   ]
  },
  {
   "cell_type": "code",
   "execution_count": 8,
   "metadata": {},
   "outputs": [
    {
     "data": {
      "text/plain": [
       "'amit-baba-ji'"
      ]
     },
     "execution_count": 8,
     "metadata": {},
     "output_type": "execute_result"
    }
   ],
   "source": [
    "'''12. very similar to the join method in strings'''\n",
    "l=\"amit baba ji\"\n",
    "\n",
    "reduce(lambda a,b:a+\"-\"+b,l.split( ))\n"
   ]
  },
  {
   "cell_type": "code",
   "execution_count": 10,
   "metadata": {},
   "outputs": [
    {
     "data": {
      "text/plain": [
       "'amit-baba-ji'"
      ]
     },
     "execution_count": 10,
     "metadata": {},
     "output_type": "execute_result"
    }
   ],
   "source": [
    "'''12.1 Same output by the reduce method'''\n",
    "l=\"amit baba ji\"\n",
    "\n",
    "\"-\".join(l.split())"
   ]
  },
  {
   "cell_type": "code",
   "execution_count": 20,
   "metadata": {},
   "outputs": [
    {
     "data": {
      "text/plain": [
       "'flat R315 sec 54 GGM'"
      ]
     },
     "execution_count": 20,
     "metadata": {},
     "output_type": "execute_result"
    }
   ],
   "source": [
    "'''13. We have cust Details... get the full addrress infor by the cust id'''\n",
    "\n",
    "data = {1212: {'add1': 'flat R315', 'add2': 'sec 54', 'add3': 'GGM'},\n",
    "          1313: {'add1': 'flat R314', 'add2': 'sec 54', 'add3': 'GGM'}}\n",
    "\n",
    "reduce(lambda a,b:a+\" \"+b,data[1212].values())"
   ]
  },
  {
   "cell_type": "code",
   "execution_count": 22,
   "metadata": {},
   "outputs": [
    {
     "data": {
      "text/plain": [
       "'flat R315 sec 54 GGM'"
      ]
     },
     "execution_count": 22,
     "metadata": {},
     "output_type": "execute_result"
    }
   ],
   "source": [
    "'''13.1 We have cust Details... get the full addrress infor by the cust id\n",
    "\n",
    "We can even write a function for the whole thing :)\n",
    "'''\n",
    "\n",
    "data = {1212: {'add1': 'flat R315', 'add2': 'sec 54', 'add3': 'GGM'},\n",
    "          1313: {'add1': 'flat R314', 'add2': 'sec 54', 'add3': 'GGM'}}\n",
    "\n",
    "def get_info(custid):\n",
    "    return reduce(lambda a,b:a+\" \"+b,data[custid].values())\n",
    "\n",
    "get_info(1212)"
   ]
  }
 ],
 "metadata": {
  "kernelspec": {
   "display_name": "Python 3",
   "language": "python",
   "name": "python3"
  },
  "language_info": {
   "codemirror_mode": {
    "name": "ipython",
    "version": 3
   },
   "file_extension": ".py",
   "mimetype": "text/x-python",
   "name": "python",
   "nbconvert_exporter": "python",
   "pygments_lexer": "ipython3",
   "version": "3.7.3"
  }
 },
 "nbformat": 4,
 "nbformat_minor": 2
}
