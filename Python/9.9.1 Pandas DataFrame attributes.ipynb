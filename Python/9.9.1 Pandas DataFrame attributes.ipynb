{
 "cells": [
  {
   "cell_type": "code",
   "execution_count": null,
   "metadata": {},
   "outputs": [],
   "source": [
    "'''\n",
    "1. Let's learn the DataFrame attributes, they come in handy for understanding the metadata.\n",
    "These attributes reveal information about the frame.\n",
    "These attributes would be helpful in data manipulation and solving problems.\n",
    "\n",
    "columns,\n",
    "values,\n",
    "shape,\n",
    "dtypes\n",
    "\n",
    "These are the first few we should look into and they are very powerful :)\n",
    "'''"
   ]
  },
  {
   "cell_type": "code",
   "execution_count": null,
   "metadata": {
    "scrolled": false
   },
   "outputs": [],
   "source": [
    "'''\n",
    "2. columns gives the column information of the data frame\n",
    "'''\n",
    "import pandas as pd\n",
    "df=pd.DataFrame({'age':[1,2,3],'sal':[4,5,6]})\n",
    "c=df.columns\n",
    "print(c,type(c))"
   ]
  },
  {
   "cell_type": "code",
   "execution_count": null,
   "metadata": {},
   "outputs": [],
   "source": [
    "'''2.0.1 for seq and name'''\n",
    "for i,j in enumerate(df.columns,1):\n",
    "    print(i,j)"
   ]
  },
  {
   "cell_type": "code",
   "execution_count": null,
   "metadata": {},
   "outputs": [],
   "source": [
    "'''2.1 The column object can be converted to a list or a string or a tuple'''\n",
    "import pandas as pd\n",
    "df=pd.DataFrame({'age':[1,2,3],'sal':[4,5,6]})\n",
    "list(df.columns)"
   ]
  },
  {
   "cell_type": "code",
   "execution_count": null,
   "metadata": {},
   "outputs": [],
   "source": [
    "'''2.1.1 You can push via list comprehension'''\n",
    "import pandas as pd\n",
    "df=pd.DataFrame({'age':[1,2,3],'sal':[4,5,6]})\n",
    "[i for i in df.columns]"
   ]
  },
  {
   "cell_type": "code",
   "execution_count": null,
   "metadata": {},
   "outputs": [],
   "source": [
    "'''2.1.2 Pick the 5th column name of a frame'''\n",
    "import pandas as pd\n",
    "df=pd.read_csv('/Users/AHAAN/Desktop/Amit_Python/9. data Frames/admit.csv')\n",
    "print(list(df.columns)[4])"
   ]
  },
  {
   "cell_type": "code",
   "execution_count": null,
   "metadata": {},
   "outputs": [],
   "source": [
    "'''2.1.3 Pick the 5th-7th column of a framea'''\n",
    "import pandas as pd\n",
    "df=pd.read_csv('/Users/AHAAN/Desktop/Amit_Python/9. data Frames/admit.csv')\n",
    "print(list(df.columns)[4:7])"
   ]
  },
  {
   "cell_type": "code",
   "execution_count": null,
   "metadata": {},
   "outputs": [],
   "source": [
    "'''2.1.4 Reverse the column sequence'''\n",
    "import pandas as pd\n",
    "df=pd.read_csv('/Users/AHAAN/Desktop/Amit_Python/9. data Frames/admit.csv')\n",
    "list(df.columns)[::-1]"
   ]
  },
  {
   "cell_type": "code",
   "execution_count": null,
   "metadata": {
    "scrolled": true
   },
   "outputs": [],
   "source": [
    "'''2.1.5 Read the first letter as the column name for a frame'''\n",
    "import pandas as pd\n",
    "df=pd.read_csv('/Users/AHAAN/Desktop/Amit_Python/9. data Frames/admit.csv')\n",
    "df.columns=[i[0] for i in df.columns]\n",
    "df"
   ]
  },
  {
   "cell_type": "code",
   "execution_count": null,
   "metadata": {},
   "outputs": [],
   "source": [
    "'''\n",
    "2.2 The column object is iterable and can be used in a loop\n",
    "'''\n",
    "import pandas as pd\n",
    "df=pd.DataFrame({'age':[1,2,3],'sal':[4,5,6]})\n",
    "for i in df.columns:\n",
    "    print(i)"
   ]
  },
  {
   "cell_type": "code",
   "execution_count": null,
   "metadata": {
    "scrolled": true
   },
   "outputs": [],
   "source": [
    "'''\n",
    "2.3 Change the column names to any thing using the property of df.columns\n",
    "'''\n",
    "import pandas as pd\n",
    "df=pd.DataFrame({'age':[1,2,3],'sal':[4,5,6]})\n",
    "df.columns=[\"new\",\"name\"]"
   ]
  },
  {
   "cell_type": "code",
   "execution_count": null,
   "metadata": {
    "scrolled": true
   },
   "outputs": [],
   "source": [
    "'''2.4* Keeping the Dataframe values intact, change the columns names of the frame, \n",
    "the first column should have the last name and so on....'''\n",
    "import pandas as pd\n",
    "df=pd.read_csv('/Users/AHAAN/Desktop/Amit_Python/9. data Frames/admit.csv')\n",
    "df.columns=df.columns[::-1]\n",
    "df"
   ]
  },
  {
   "cell_type": "code",
   "execution_count": null,
   "metadata": {
    "scrolled": true
   },
   "outputs": [],
   "source": [
    "'''2.5* Change the Name of columns, reverses it ID should be DI'''\n",
    "import pandas as pd\n",
    "df=pd.read_csv('/Users/AHAAN/Desktop/Amit_Python/9. data Frames/admit.csv')\n",
    "df.columns=[i[::-1] for i in df.columns]\n",
    "df"
   ]
  },
  {
   "cell_type": "code",
   "execution_count": null,
   "metadata": {},
   "outputs": [],
   "source": [
    "'''2.6* Change the Name of columns, reverses it ID should be DI and keep first alphabet'''\n",
    "import pandas as pd\n",
    "df=pd.read_csv('/Users/AHAAN/Desktop/Amit_Python/9. data Frames/admit.csv')\n",
    "df.columns=[i[::-1][0] for i in df.columns]\n",
    "df"
   ]
  },
  {
   "cell_type": "code",
   "execution_count": null,
   "metadata": {
    "scrolled": true
   },
   "outputs": [],
   "source": [
    "'''2.7* Change the name of every column to numbers 1-9'''\n",
    "import pandas as pd\n",
    "df=pd.read_csv('/Users/AHAAN/Desktop/Amit_Python/9. data Frames/admit.csv')\n",
    "df.columns=[i for i in range(9)]\n",
    "df.head()"
   ]
  },
  {
   "cell_type": "code",
   "execution_count": null,
   "metadata": {},
   "outputs": [],
   "source": [
    "'''2.7.1* Change the name of every column to numbers 1-9 dynamically'''\n",
    "import pandas as pd\n",
    "df=pd.read_csv('/Users/AHAAN/Desktop/Amit_Python/9. data Frames/admit.csv')\n",
    "df.columns=[i for i in range(len(df.columns))]\n",
    "df.head()"
   ]
  },
  {
   "cell_type": "code",
   "execution_count": null,
   "metadata": {
    "scrolled": true
   },
   "outputs": [],
   "source": [
    "'''2.8* Change the name of every column to new1,new2 etc'''\n",
    "import pandas as pd\n",
    "df=pd.read_csv('/Users/AHAAN/Desktop/Amit_Python/9. data Frames/admit.csv')\n",
    "df.columns=['new'+str(i) for i,j in enumerate(df.columns)]\n",
    "df.head()"
   ]
  },
  {
   "cell_type": "code",
   "execution_count": null,
   "metadata": {},
   "outputs": [],
   "source": [
    "'''2.8* Change the name of every column to new1,new2 etc using list comprehension and using the _ (throwaway var)\n",
    "'''\n",
    "import pandas as pd\n",
    "df=pd.read_csv('/Users/AHAAN/Desktop/Amit_Python/9. data Frames/admit.csv')\n",
    "df.columns=['n'+str(_) for _ in range(len(df.columns))]\n",
    "df.head()"
   ]
  },
  {
   "cell_type": "code",
   "execution_count": null,
   "metadata": {},
   "outputs": [],
   "source": [
    "'''2.9* Change the name of every column to new1,new2 etc for every odd column'''\n",
    "import pandas as pd\n",
    "df=pd.read_csv('/Users/AHAAN/Desktop/Amit_Python/9. data Frames/admit.csv')\n",
    "df.columns=['new'+str(i) if i%2==0  else df.columns[i] for i,j in enumerate(df.columns) ]\n",
    "df.head()"
   ]
  },
  {
   "cell_type": "code",
   "execution_count": null,
   "metadata": {},
   "outputs": [],
   "source": [
    "'''2.9.1 How can I just see the columns begin with \"A\" in a boolean form'''\n",
    "import pandas as pd\n",
    "df=pd.read_csv('/Users/AHAAN/Desktop/Amit_Python/9. data Frames/admit.csv')\n",
    "x=df.columns.str.startswith('A')\n",
    "x"
   ]
  },
  {
   "cell_type": "code",
   "execution_count": null,
   "metadata": {},
   "outputs": [],
   "source": [
    "'''2.9.2 Just give column names that start with A'''\n",
    "import pandas as pd\n",
    "df=pd.read_csv('/Users/AHAAN/Desktop/Amit_Python/9. data Frames/admit.csv')\n",
    "[i for i in df.columns if i.startswith('A')]"
   ]
  },
  {
   "cell_type": "code",
   "execution_count": null,
   "metadata": {},
   "outputs": [],
   "source": [
    "'''2.9.3 The columns can be sorted and arranged for a frame'''\n",
    "import pandas as pd\n",
    "df=pd.read_csv('/Users/AHAAN/Desktop/Amit_Python/9. data Frames/admit.csv')\n",
    "a=[i for i in df.columns]\n",
    "a.sort()\n",
    "df.columns=a\n",
    "df"
   ]
  },
  {
   "cell_type": "code",
   "execution_count": null,
   "metadata": {},
   "outputs": [],
   "source": [
    "'''2.9.3.1 The columns can be sorted another way\n",
    "This doesnot work as sort the list and there is no return value\n",
    "'''\n",
    "import pandas as pd\n",
    "df=pd.read_csv('/Users/AHAAN/Desktop/Amit_Python/9. data Frames/admit.csv')\n",
    "df.columns=list((df.columns)).sort()\n",
    "df"
   ]
  },
  {
   "cell_type": "code",
   "execution_count": null,
   "metadata": {
    "scrolled": false
   },
   "outputs": [],
   "source": [
    "'''\n",
    "3. values gives the complete data info of the frame in an numpy array structure, dimesnion is 2 D\n",
    "\n",
    "Shows the data part of the frame and the just the values :)\n",
    "'''\n",
    "import pandas as pd\n",
    "df=pd.DataFrame({'age':[1,2,3],'sal':[4,5,6]})\n",
    "\n",
    "print(df.values,type(df.values),df.values.ndim)"
   ]
  },
  {
   "cell_type": "code",
   "execution_count": null,
   "metadata": {},
   "outputs": [],
   "source": [
    "'''\n",
    "3.1* The array information can be used for changing the frame, update all values by 10x\n",
    "If charatcer values are there they would also repeat 10 times\n",
    "'''\n",
    "import pandas as pd\n",
    "df=pd.DataFrame({'age':[1,2,3],'sal':[4,5,6]})\n",
    "new=pd.DataFrame(df.values*10)\n",
    "new"
   ]
  },
  {
   "cell_type": "code",
   "execution_count": null,
   "metadata": {
    "scrolled": false
   },
   "outputs": [],
   "source": [
    "'''3.2 Or a simple aproach can be used for updating all the values'''\n",
    "import pandas as pd\n",
    "df=pd.DataFrame({'age':[1,2,3],'sal':[4,5,6]})\n",
    "new=df*10\n",
    "new"
   ]
  },
  {
   "cell_type": "code",
   "execution_count": null,
   "metadata": {
    "scrolled": false
   },
   "outputs": [],
   "source": [
    "'''\n",
    "4. Pushing the dataframe to a numpy array,\n",
    "we would use this in ML very often, we can push one column or entire frame\n",
    "'''\n",
    "import pandas as pd\n",
    "df=pd.read_csv('/Users/AHAAN/Desktop/Amit_Python/9. data Frames/admit.csv')\n",
    "name=df.Name.values\n",
    "print(name)\n",
    "print(type(name),name.ndim)"
   ]
  },
  {
   "cell_type": "code",
   "execution_count": null,
   "metadata": {
    "scrolled": true
   },
   "outputs": [],
   "source": [
    "'''4.1* Can we even push the whole data frame into an array, it would be now a 2D array'''\n",
    "import pandas as pd\n",
    "df=pd.read_csv('/Users/AHAAN/Desktop/Amit_Python/9. data Frames/admit.csv')\n",
    "new=df.values\n",
    "print(new,type(new),new.ndim)"
   ]
  },
  {
   "cell_type": "code",
   "execution_count": null,
   "metadata": {},
   "outputs": [],
   "source": [
    "'''\n",
    "5. shape, it shows the rows and columns count in (R,C) format\n",
    "\n",
    "can be made in a list.\n",
    "\n",
    "We have seen the shpe attribbute in the numpy array as well\n",
    "'''\n",
    "import pandas as pd\n",
    "df=pd.read_csv('/Users/AHAAN/Desktop/Amit_Python/9. data Frames/admit.csv')\n",
    "print(df.shape)\n",
    "print(list(df.shape))"
   ]
  },
  {
   "cell_type": "code",
   "execution_count": null,
   "metadata": {},
   "outputs": [],
   "source": [
    "'''\n",
    "5.1 shape, it shows the rows and columns count in (R,C) format, and it is iterable and we can print the info\n",
    "'''\n",
    "import pandas as pd\n",
    "df=pd.read_csv('/Users/AHAAN/Desktop/Amit_Python/9. data Frames/admit.csv')\n",
    "for i in df.shape:\n",
    "    print(i)"
   ]
  },
  {
   "cell_type": "code",
   "execution_count": null,
   "metadata": {},
   "outputs": [],
   "source": [
    "'''\n",
    "5.2 we can push this information to a list as well\n",
    "'''\n",
    "import pandas as pd\n",
    "df=pd.read_csv('/Users/AHAAN/Desktop/Amit_Python/9. data Frames/admit.csv')\n",
    "[i for i in df.shape]"
   ]
  },
  {
   "cell_type": "code",
   "execution_count": null,
   "metadata": {},
   "outputs": [],
   "source": [
    "'''5.3 How can I get fetch the number of rows in a frame\n",
    "Show 2 methods'''\n",
    "import pandas as pd\n",
    "df=pd.read_csv('/Users/AHAAN/Desktop/Amit_Python/9. data Frames/admit.csv')\n",
    "rows=len(df)\n",
    "print(rows)\n",
    "print(list(df.shape)[0])"
   ]
  },
  {
   "cell_type": "code",
   "execution_count": null,
   "metadata": {},
   "outputs": [],
   "source": [
    "'''*5.4 How can I get fetch the number of columns in a frame\n",
    "Show 2 methods\n",
    "'''\n",
    "import pandas as pd\n",
    "df=pd.read_csv('/Users/AHAAN/Desktop/Amit_Python/9. data Frames/admit.csv')\n",
    "print(len(df.columns))\n",
    "print(list(df.shape)[1])"
   ]
  },
  {
   "cell_type": "code",
   "execution_count": null,
   "metadata": {},
   "outputs": [],
   "source": [
    "'''5.5 The Name of columns now can be changes to anything dynamically'''\n",
    "import pandas as pd\n",
    "df=pd.read_csv('/Users/AHAAN/Desktop/Amit_Python/9. data Frames/admit.csv')\n",
    "df.columns=[i for i in range(df.shape[1])]\n",
    "df.head()"
   ]
  },
  {
   "cell_type": "code",
   "execution_count": null,
   "metadata": {},
   "outputs": [],
   "source": [
    "'''6. How to see the metadata of columns for a data frame'''\n",
    "import pandas as pd\n",
    "new=pd.read_csv('/Users/AHAAN/Desktop/Amit_Python/9. data Frames/admit.csv')\n",
    "new.dtypes"
   ]
  },
  {
   "cell_type": "markdown",
   "metadata": {},
   "source": [
    "'''6.0.1 The distinct values for a dataframe'''\n",
    "<img src=\"pd2.png\" style= \"width: 600px;height:450px\"/>"
   ]
  },
  {
   "cell_type": "code",
   "execution_count": null,
   "metadata": {},
   "outputs": [],
   "source": [
    "'''6.1* Using dtypes, you can get the count of char and numeric columns'''\n",
    "import pandas as pd\n",
    "new=pd.read_csv('/Users/AHAAN/Desktop/Amit_Python/9. data Frames/admit.csv')\n",
    "n=0\n",
    "c=0\n",
    "for i in df.dtypes:\n",
    "    if i=='object':\n",
    "        c+=1\n",
    "    else:\n",
    "        n+=1\n",
    "print(c,n)"
   ]
  },
  {
   "cell_type": "code",
   "execution_count": null,
   "metadata": {},
   "outputs": [],
   "source": [
    "'''6.2 using the list comprehension, we can get the counts as well, look below'''\n",
    "import pandas as pd\n",
    "df=pd.read_csv('/Users/AHAAN/Desktop/Amit_Python/9. data Frames/admit.csv')\n",
    "print(len([i for i in df.dtypes if i=='object']),len([i for i in df.dtypes if not i=='object']))"
   ]
  }
 ],
 "metadata": {
  "kernelspec": {
   "display_name": "Python 3",
   "language": "python",
   "name": "python3"
  },
  "language_info": {
   "codemirror_mode": {
    "name": "ipython",
    "version": 3
   },
   "file_extension": ".py",
   "mimetype": "text/x-python",
   "name": "python",
   "nbconvert_exporter": "python",
   "pygments_lexer": "ipython3",
   "version": "3.7.3"
  }
 },
 "nbformat": 4,
 "nbformat_minor": 2
}
