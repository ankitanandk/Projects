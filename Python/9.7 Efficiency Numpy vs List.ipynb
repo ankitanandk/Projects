{
 "cells": [
  {
   "cell_type": "code",
   "execution_count": 3,
   "metadata": {},
   "outputs": [
    {
     "name": "stdout",
     "output_type": "stream",
     "text": [
      "time taken by list to zip in milli seconds 4.88591194152832\n",
      "time taken by numpy array to zip in milli seconds 1.0459423065185547\n"
     ]
    }
   ],
   "source": [
    "'''\n",
    "1. Let's see if actually numpy array are faster as compared to Lists for concatenation.\n",
    "Look at the huge difference in time, default is second\n",
    "To see for a reference *1000 for milliseconds\n",
    "'''\n",
    "import numpy as np\n",
    "import time as t\n",
    "l1=range(10000)\n",
    "l2=range(10000)\n",
    "\n",
    "a1=np.arange(10000)\n",
    "a2=np.arange(10000)\n",
    "\n",
    "start=t.time()\n",
    "result=[i for i in zip(l1,l2)]\n",
    "stop=t.time()\n",
    "print(f\"time taken by list to zip in milli seconds {(stop-start)*1000}\")\n",
    "\n",
    "start=t.time()\n",
    "result=a1+a2 # Simply the arrays could be concatenated\n",
    "stop=t.time()\n",
    "print(f\"time taken by numpy array to zip in milli seconds {(stop-start)*1000}\")"
   ]
  },
  {
   "cell_type": "code",
   "execution_count": 4,
   "metadata": {},
   "outputs": [
    {
     "data": {
      "text/plain": [
       "[(1, 4), (2, 5)]"
      ]
     },
     "execution_count": 4,
     "metadata": {},
     "output_type": "execute_result"
    }
   ],
   "source": [
    "l=[1,2,3]\n",
    "k=[4,5,6]\n",
    "list(zip(l,k))"
   ]
  },
  {
   "cell_type": "code",
   "execution_count": null,
   "metadata": {},
   "outputs": [],
   "source": []
  }
 ],
 "metadata": {
  "kernelspec": {
   "display_name": "Python 3",
   "language": "python",
   "name": "python3"
  },
  "language_info": {
   "codemirror_mode": {
    "name": "ipython",
    "version": 3
   },
   "file_extension": ".py",
   "mimetype": "text/x-python",
   "name": "python",
   "nbconvert_exporter": "python",
   "pygments_lexer": "ipython3",
   "version": "3.7.3"
  }
 },
 "nbformat": 4,
 "nbformat_minor": 2
}
