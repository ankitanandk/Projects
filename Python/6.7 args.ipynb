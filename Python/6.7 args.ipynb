{
 "cells": [
  {
   "cell_type": "code",
   "execution_count": null,
   "metadata": {},
   "outputs": [],
   "source": [
    "'''0. Why do we need args.. to have many args as per the need and flexibility\n",
    "The below code fails if I wish to add many variables, as it need that many arguments =parameters\n",
    "'''\n",
    "def total(a,b):\n",
    "    return a+b\n",
    "\n",
    "total(3,2)\n",
    "total(3,4,5)"
   ]
  },
  {
   "cell_type": "code",
   "execution_count": 3,
   "metadata": {
    "scrolled": true
   },
   "outputs": [
    {
     "name": "stdout",
     "output_type": "stream",
     "text": [
      "The total is 2\n",
      "The total is 12\n"
     ]
    }
   ],
   "source": [
    "'''\n",
    "1. (*args) is used for passing multiple arguments at the time of function definition and call\n",
    "*args is just a notation in Python, you can use anything for the same e.g *amit or *baba :)\n",
    "\n",
    "\n",
    "If the number of arguments are unknown, we can use *args or actually anything, \n",
    "*args is the norm in Python programming and remember *args is iterable :)\n",
    "'''\n",
    "def add_no(*args):\n",
    "    total=0\n",
    "    for i in args:\n",
    "        total+=i\n",
    "    return total\n",
    "        \n",
    "print(f\"The total is {add_no(2)}\")\n",
    "print(f\"The total is {add_no(2,2,2,3,3)}\")"
   ]
  },
  {
   "cell_type": "code",
   "execution_count": 1,
   "metadata": {
    "scrolled": true
   },
   "outputs": [
    {
     "name": "stdout",
     "output_type": "stream",
     "text": [
      "2\n",
      "2\n",
      "4\n",
      "7\n",
      "10\n",
      "13\n",
      "16\n"
     ]
    }
   ],
   "source": [
    "'''\n",
    "CP\n",
    "2.***Whats the difference in the above and below codes,\n",
    "hint: see the indentation and this code would give you the running total;\n",
    "\n",
    "'''\n",
    "def add_no(*amit):\n",
    "    total=0\n",
    "    for x in amit:\n",
    "        total+=x\n",
    "        print(total)        \n",
    "add_no(2)\n",
    "add_no(2,2,3,3,3,3)"
   ]
  },
  {
   "cell_type": "code",
   "execution_count": 1,
   "metadata": {},
   "outputs": [
    {
     "name": "stdout",
     "output_type": "stream",
     "text": [
      "The multiplication is 120\n"
     ]
    }
   ],
   "source": [
    "'''\n",
    "3. Let's try and create a multiplication function with n number of arguments and it should return the result\n",
    "'''\n",
    "def mult(*args):\n",
    "    result=1\n",
    "    for i in args:\n",
    "        result*=i\n",
    "    return result\n",
    "\n",
    "print(f\"The multiplication is {mult(1,2,3,4,5)}\")"
   ]
  },
  {
   "cell_type": "code",
   "execution_count": 12,
   "metadata": {},
   "outputs": [
    {
     "name": "stdout",
     "output_type": "stream",
     "text": [
      "The addition is :130\n"
     ]
    }
   ],
   "source": [
    "'''\n",
    "*****4. Args with Normal parameters*****\n",
    "The preceeding parameters are always understood as positional and assigned accordingly\n",
    "So Here num1 is positional and rest qulaifuy for *args and would be bunched together\n",
    "'''\n",
    "def mult(num1,*args):\n",
    "    result=1\n",
    "    for i in args:\n",
    "        result*=i\n",
    "    total=num1+result\n",
    "    return total\n",
    "\n",
    "print(f\"The addition is :{mult(10,2,3,4,5)}\")\n"
   ]
  },
  {
   "cell_type": "code",
   "execution_count": 15,
   "metadata": {},
   "outputs": [
    {
     "name": "stdout",
     "output_type": "stream",
     "text": [
      "The addition is : 80\n"
     ]
    }
   ],
   "source": [
    "'''\n",
    "*****4. Args with 2 Normal parameters*****\n",
    "The preceeding parameters are always understood as positional and assigned accordingly\n",
    "'''\n",
    "def mult(num1,num2,*args):\n",
    "    result=1\n",
    "    for i in args:\n",
    "        result*=i\n",
    "    total=num1+num2+result\n",
    "    return total\n",
    "\n",
    "print(f\"The addition is : {mult(10,10,3,4,5)}\")\n"
   ]
  },
  {
   "cell_type": "code",
   "execution_count": 2,
   "metadata": {},
   "outputs": [
    {
     "name": "stdout",
     "output_type": "stream",
     "text": [
      "The final value is: 90\n",
      "The final value is: 90\n"
     ]
    }
   ],
   "source": [
    "'''\n",
    "5. Write a function, Take 4 separate values into a function call \n",
    "multiply each value by first and return result 10,2,3,4: 10*2+10*3+10*4 or hint 10(2+3+4) :)\n",
    "'''\n",
    "\n",
    "def mult(n,*args):\n",
    "    re=0\n",
    "    for i in args:\n",
    "        re+=n*i\n",
    "    return re\n",
    "\n",
    "print(f\"The final value is: {mult(10,2,3,4)}\")\n",
    "\n",
    "#OR the same solution with another angle\n",
    "\n",
    "def mult(n,*args):\n",
    "    re=0\n",
    "    for i in args:\n",
    "        re+=i\n",
    "    return re*n\n",
    "\n",
    "print(f\"The final value is: {mult(10,2,3,4)}\")"
   ]
  },
  {
   "cell_type": "code",
   "execution_count": null,
   "metadata": {},
   "outputs": [],
   "source": [
    "'''5.1 Function that can create table for any number\n",
    "There could be many ways to saolve the probelm...\n",
    "'''\n",
    "\n",
    "def table(n):\n",
    "    p=n\n",
    "    for i in range(1,11):\n",
    "        p*=i\n",
    "        print(f\"{n}x{i}={p}\")\n",
    "        p=n\n",
    "        \n",
    "table(13)"
   ]
  },
  {
   "cell_type": "code",
   "execution_count": 3,
   "metadata": {},
   "outputs": [
    {
     "name": "stdout",
     "output_type": "stream",
     "text": [
      "The final value is: 70\n",
      "The final value is: 70\n"
     ]
    }
   ],
   "source": [
    "'''\n",
    "6. Write a function, Take 4 separate values into a function call \n",
    "multiply each value by first and return result,\n",
    "then substract last value 10,2,3,4,20: 10*2+10*3+10*4-20\n",
    "'''\n",
    "\n",
    "def mult(n,*args,m):\n",
    "    re=0\n",
    "    for i in args:\n",
    "        re+=n*i\n",
    "    return re-m\n",
    "\n",
    "print(f\"The final value is: {mult(10,2,3,4,m=20)}\")\n",
    "\n",
    "# OR the same solution from a different angle :)\n",
    "def mult(n,*args,m):\n",
    "    re=0\n",
    "    for i in args:\n",
    "        re+=i\n",
    "    return n*re-m\n",
    "\n",
    "print(f\"The final value is: {mult(10,2,3,4,m=20)}\")"
   ]
  },
  {
   "cell_type": "code",
   "execution_count": 7,
   "metadata": {},
   "outputs": [
    {
     "data": {
      "text/plain": [
       "'nopes'"
      ]
     },
     "execution_count": 7,
     "metadata": {},
     "output_type": "execute_result"
    }
   ],
   "source": [
    "'''\n",
    "7. Create a function that checks for pallindromes, pallindromes are word that after reversing still stays same\n",
    "'''\n",
    "\n",
    "def is_pa(w):\n",
    "    if w[::-1]==w:\n",
    "        return \"pallindrome\"\n",
    "    return \"nopes\"\n",
    "\n",
    "is_pa(\"madam\")"
   ]
  },
  {
   "cell_type": "code",
   "execution_count": 5,
   "metadata": {},
   "outputs": [
    {
     "data": {
      "text/plain": [
       "True"
      ]
     },
     "execution_count": 5,
     "metadata": {},
     "output_type": "execute_result"
    }
   ],
   "source": [
    "'''\n",
    "7.1 Boolean function response for the same exercise as above would be :)\n",
    "'''\n",
    "def is_pa(w):\n",
    "    return w[::-1]==w\n",
    " \n",
    "is_pa(\"madam\")"
   ]
  },
  {
   "cell_type": "code",
   "execution_count": null,
   "metadata": {},
   "outputs": [],
   "source": [
    "'''\n",
    "8. You can even have the default parameter\n",
    "'''\n",
    "def multi(x,*args,y=20):\n",
    "    total=1\n",
    "    for i in args:\n",
    "        total*=i\n",
    "    return x+total+y\n",
    "\n",
    "print(f\"The multiplication is {multi(4,2,3,4)}\")"
   ]
  }
 ],
 "metadata": {
  "kernelspec": {
   "display_name": "Python 3",
   "language": "python",
   "name": "python3"
  },
  "language_info": {
   "codemirror_mode": {
    "name": "ipython",
    "version": 3
   },
   "file_extension": ".py",
   "mimetype": "text/x-python",
   "name": "python",
   "nbconvert_exporter": "python",
   "pygments_lexer": "ipython3",
   "version": "3.7.3"
  }
 },
 "nbformat": 4,
 "nbformat_minor": 2
}
