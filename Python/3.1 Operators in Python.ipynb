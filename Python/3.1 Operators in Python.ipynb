{
 "cells": [
  {
   "cell_type": "code",
   "execution_count": null,
   "metadata": {},
   "outputs": [],
   "source": [
    "'''\n",
    "0.\n",
    "The BASIC operators in Python can be classified in 6 broad categories, \n",
    "Let's learn about these operators one by one\n",
    "\n",
    "1 Arithmetic\n",
    "2 Assignment\n",
    "3 Comparison\n",
    "4 Logical\n",
    "5 Identity\n",
    "6 Membership\n",
    "'''"
   ]
  },
  {
   "cell_type": "code",
   "execution_count": null,
   "metadata": {},
   "outputs": [],
   "source": [
    "'''\n",
    "1.Arithmetic\n",
    "\n",
    "All these equations are called as “Expression”, the numbers on which you do the operations are called as \n",
    "“Operands” and +,- are operators.\n",
    "\n",
    "50*30, here 50 and 30 are also called as “Literals” as they are the constant values in the expression.\n",
    "'''\n",
    "\n",
    "1. 3+4 for addition\n",
    "\n",
    "2. 3-4 for subtraction \n",
    "\n",
    "3. 3*2 for multiplication\n",
    "\n",
    "4. 3/2 for divison always give answer as float\n",
    "\n",
    "5. 2+3*9 >> the BODMAS rule is followed in Python, use braces or parenthesis for changing the precedence order.\n",
    "(2+3) *9 would give 45 with braces and 29 if the brackets are not in place, as the default precedence is applicable.\n",
    "\n",
    "6. Called as “Floor Division” and gives integer, Division that results in whole number adjusted to\n",
    "the left in the number line, Rounding in Python 18/4>> 4.5   \n",
    "if you wish to round off just try 18//4 and it would round off to the nearest integer. eg 19//4 is 4.75 and it would return 4\n",
    "\n",
    "7. To fetch the remainder you can use the % sign 18%2.Just like the mod function in SAS mod(16,2). \n",
    "% is the modulo operator.\n",
    "\n",
    "8. Exponents can be easily calculated using simple write up like 3**2 would fetch 9, \n",
    "read this as 3 raised to the power 2\n",
    "\n",
    "9. To find underroot\n",
    "print(2**0.5)\n",
    "\n",
    "10. To find cube root \n",
    "\n",
    "print(2**(1/3))\n"
   ]
  },
  {
   "cell_type": "code",
   "execution_count": 4,
   "metadata": {},
   "outputs": [
    {
     "data": {
      "text/plain": [
       "'am it kumar'"
      ]
     },
     "execution_count": 4,
     "metadata": {},
     "output_type": "execute_result"
    }
   ],
   "source": [
    "'''2.Assignment\n",
    "\n",
    "x=a+b\n",
    "\n",
    "#x=x+a or the shortcut x+=a'''\n",
    "x=5\n",
    "x/=5  # same as x=x/5 and this can be applied to all the arithmetic operators\n",
    "\n",
    "#This is valid for strings as well, cool stuff :)\n",
    "\n",
    "name=\"am\"\n",
    "name+=\"it\"\n",
    "name\n",
    "\n",
    "#Quiz1: Guess for below\n",
    "\n",
    "name=\"am \"\n",
    "name*=3\n",
    "name\n",
    "\n",
    "#Quiz2: Guess for below\n",
    "\n",
    "name=\"am \"\n",
    "name+=\"it\"+\" kumar\"\n",
    "name\n"
   ]
  },
  {
   "cell_type": "code",
   "execution_count": null,
   "metadata": {},
   "outputs": [],
   "source": [
    "3.Comparison \n",
    "\n",
    ">\n",
    "<\n",
    "==  #This is = in Python for comaprison, if age==40 etc\n",
    "= #This is for value or variable assignment age=40\n",
    "!=\n"
   ]
  },
  {
   "cell_type": "code",
   "execution_count": null,
   "metadata": {},
   "outputs": [],
   "source": [
    "4.Logical operators\n",
    "\n",
    "Logical AND: If both the operands are true then condition becomes true. >> (a and b) is true.\n",
    "Logical OR :If any of the two operands are non-zero then condition becomes truue. >> (a or b) is true.\n",
    "Logical NOT: Used to reverse the logical state of its operand. >> Not(a and b) is false.\n",
    "    \n",
    "make sure and and or are case sensitive and specified in lower case\n",
    "\n",
    "AND\n",
    "x=True\n",
    "y=Fasle\n",
    "x and y\n",
    "\n",
    "Output\n",
    "False\n",
    "********;\n",
    "OR\n",
    "x=True\n",
    "y=False\n",
    "x or y\n",
    "\n",
    "Output\n",
    "True\n",
    "*********;\n",
    "NOT\n",
    "x=True\n",
    "y=True\n",
    "not x\n",
    "\n",
    "Output\n",
    "False"
   ]
  },
  {
   "cell_type": "code",
   "execution_count": null,
   "metadata": {},
   "outputs": [],
   "source": [
    "5.Identity\n",
    "\n",
    "#is\n",
    "\n",
    "x=5\n",
    "\n",
    "print(x is 5)\n",
    "\n",
    "#is not\n",
    "\n",
    "print(x is not 5)\n"
   ]
  },
  {
   "cell_type": "code",
   "execution_count": null,
   "metadata": {},
   "outputs": [],
   "source": [
    "6.Membership \n",
    "\n",
    "#in\n",
    "\n",
    "x=[1,2,3,4,5]\n",
    "\n",
    "print(3 in x)\n",
    "\n",
    "#not in\n",
    "\n",
    "print(3 not in x)"
   ]
  }
 ],
 "metadata": {
  "kernelspec": {
   "display_name": "Python 3",
   "language": "python",
   "name": "python3"
  },
  "language_info": {
   "codemirror_mode": {
    "name": "ipython",
    "version": 3
   },
   "file_extension": ".py",
   "mimetype": "text/x-python",
   "name": "python",
   "nbconvert_exporter": "python",
   "pygments_lexer": "ipython3",
   "version": "3.7.4"
  }
 },
 "nbformat": 4,
 "nbformat_minor": 2
}
