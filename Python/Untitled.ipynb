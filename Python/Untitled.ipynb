{
 "cells": [
  {
   "cell_type": "code",
   "execution_count": null,
   "metadata": {},
   "outputs": [],
   "source": [
    "1. Even number\n",
    "2. Jab tak user ka input number k bararar na ho tab tak user se input lete raho. jaise hi user 13 daale print congratulation you won\n",
    "3. Get a number from user and check if that number is divisible by 3 and 7, or divisible by 3 only, or divisible by 7 only or divisible by none"
   ]
  },
  {
   "cell_type": "code",
   "execution_count": null,
   "metadata": {},
   "outputs": [],
   "source": [
    "city = [\"D\",\"G\",\"N\"]\n",
    "age=int(input(\"enter your age:\"))\n",
    "if age>18\n",
    "   city=input(\"enter your city:\")\n",
    "    if city \n",
    "    print(city,\"your are mino\")\n"
   ]
  },
  {
   "cell_type": "code",
   "execution_count": null,
   "metadata": {},
   "outputs": [],
   "source": []
  }
 ],
 "metadata": {
  "kernelspec": {
   "display_name": "Python 3",
   "language": "python",
   "name": "python3"
  },
  "language_info": {
   "codemirror_mode": {
    "name": "ipython",
    "version": 3
   },
   "file_extension": ".py",
   "mimetype": "text/x-python",
   "name": "python",
   "nbconvert_exporter": "python",
   "pygments_lexer": "ipython3",
   "version": "3.7.4"
  }
 },
 "nbformat": 4,
 "nbformat_minor": 2
}
