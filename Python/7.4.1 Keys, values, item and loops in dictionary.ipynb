{
 "cells": [
  {
   "cell_type": "code",
   "execution_count": null,
   "metadata": {},
   "outputs": [],
   "source": [
    "'''0. We would try and learn 3 methods here :)\n",
    "1.Values\n",
    "2.keys\n",
    "3.items\n",
    "\n",
    "'''"
   ]
  },
  {
   "cell_type": "code",
   "execution_count": null,
   "metadata": {},
   "outputs": [],
   "source": [
    "'''\n",
    "1. How can I check for keys in my dictionary. We can use \"in\"\n",
    "'''\n",
    "am={'name':\"amit kumar\", \n",
    "    '123':24,\n",
    "    'fav_movies':[\"rocky\",\"Ninja\"],\n",
    "    'fav_perfumes':(\"Armani\",\"Hugo Boss\")\n",
    "}\n",
    "\n",
    "if '123' in am:\n",
    "    print(\"Yes\")\n",
    "else:\n",
    "    print (\"No\")"
   ]
  },
  {
   "cell_type": "code",
   "execution_count": null,
   "metadata": {},
   "outputs": [],
   "source": [
    "'''\n",
    "CP\n",
    "\n",
    "1.1 We can even make a function to check the key availability'''\n",
    "\n",
    "am={'name':\"amit kumar\", \n",
    "    '123':24,\n",
    "    'fav_movies':[\"rocky\",\"Ninja\"],\n",
    "    'fav_perfumes':(\"Armani\",\"Hugo Boss\")\n",
    "}\n",
    "\n",
    "def checker(k):\n",
    "    if k in am:\n",
    "        return \"Key available\"\n",
    "    return \"Key Not Available\"\n",
    "\n",
    "checker(\"123\")"
   ]
  },
  {
   "cell_type": "code",
   "execution_count": 4,
   "metadata": {},
   "outputs": [
    {
     "data": {
      "text/plain": [
       "'Yes'"
      ]
     },
     "execution_count": 4,
     "metadata": {},
     "output_type": "execute_result"
    }
   ],
   "source": [
    "'''1.2 Using the lambda fxn'''\n",
    "am={'name':\"amit kumar\", \n",
    "    '123':24,\n",
    "    'fav_movies':[\"rocky\",\"Ninja\"],\n",
    "    'fav_perfumes':(\"Armani\",\"Hugo Boss\")\n",
    "}\n",
    "\n",
    "check=lambda dict,k: \"Yes\" if k in dict else \"No\"\n",
    "check(am,'123')"
   ]
  },
  {
   "cell_type": "code",
   "execution_count": null,
   "metadata": {},
   "outputs": [],
   "source": [
    "'''\n",
    "2. How can I check for values in a dictionary, why it is returning \"NO\", \n",
    "as it checks for keys by default.\n",
    "Keep the data type in mind.\n",
    "'''\n",
    "am={'name':\"amit kumar\", \n",
    "    'age':24,\n",
    "    'fav_movies':[\"rocky\",\"Ninja\"],\n",
    "    'fav_perfumes':(\"Armani\",\"Hugo Boss\")\n",
    "}\n",
    "\n",
    "if 24 in am:\n",
    "    print(\"Yes\")\n",
    "else:\n",
    "    print (\"No\")\n",
    "\n"
   ]
  },
  {
   "cell_type": "code",
   "execution_count": 2,
   "metadata": {},
   "outputs": [
    {
     "name": "stdout",
     "output_type": "stream",
     "text": [
      "Yes\n"
     ]
    }
   ],
   "source": [
    "'''2.1 Solution to the above issue'''\n",
    "am={'name':\"amit kumar\", \n",
    "    'age':24,\n",
    "    'fav_movies':[\"rocky\",\"Ninja\"],\n",
    "    'fav_perfumes':(\"Armani\",\"Hugo Boss\")\n",
    "}\n",
    "# solution\n",
    "if 24 in am.values(): # values is a method and we would learn more about this method.\n",
    "    print(\"Yes\")\n",
    "else:\n",
    "    print (\"No\")"
   ]
  },
  {
   "cell_type": "code",
   "execution_count": null,
   "metadata": {},
   "outputs": [],
   "source": [
    "'''\n",
    "3. Loop on dictionary. We know that dictionary has no index and thus the first reaction is ,\n",
    "we can't iterate\n",
    "we can iterate on dict.values() an dict.keys() object.\n",
    "\n",
    "In the below code, by default we are looping on the keys. \n",
    "'''\n",
    "for i in am:\n",
    "    print(i)\n",
    "\n",
    "#How to loop on values\n",
    "for i in am.values():\n",
    "    print(i)"
   ]
  },
  {
   "cell_type": "code",
   "execution_count": 6,
   "metadata": {},
   "outputs": [
    {
     "name": "stdout",
     "output_type": "stream",
     "text": [
      "dict_values(['amit kumar', 24, ['rocky', 'Ninja'], ('Armani', 'Hugo Boss')])\n",
      "<class 'dict_values'>\n",
      "amit kumar\n",
      "24\n",
      "['rocky', 'Ninja']\n",
      "('Armani', 'Hugo Boss')\n"
     ]
    }
   ],
   "source": [
    "'''\n",
    "4. The values() method returns an object that is iterable. The object is dict_values\n",
    "'''\n",
    "new=am.values()\n",
    "print(new)\n",
    "print(type(new))\n",
    "\n",
    "for i in am.values():\n",
    "    print(i)"
   ]
  },
  {
   "cell_type": "code",
   "execution_count": 7,
   "metadata": {
    "scrolled": true
   },
   "outputs": [
    {
     "name": "stdout",
     "output_type": "stream",
     "text": [
      "dict_keys(['name', '123', 'fav_movies', 'fav_perfumes'])\n",
      "<class 'dict_keys'>\n",
      "name\n",
      "123\n",
      "fav_movies\n",
      "fav_perfumes\n"
     ]
    }
   ],
   "source": [
    "'''\n",
    "5. The keys() method returns an object that is iterable. The object is dict_keys\n",
    "'''\n",
    "new=am.keys()\n",
    "print(new)\n",
    "print(type(new))\n",
    "\n",
    "for i in am.keys():\n",
    "    print(i)"
   ]
  },
  {
   "cell_type": "code",
   "execution_count": 9,
   "metadata": {},
   "outputs": [
    {
     "name": "stdout",
     "output_type": "stream",
     "text": [
      "amit kumar\n",
      "24\n",
      "['rocky', 'Ninja']\n",
      "('Armani', 'Hugo Boss')\n",
      "name\n",
      "123\n",
      "fav_movies\n",
      "fav_perfumes\n"
     ]
    }
   ],
   "source": [
    "'''\n",
    "6. How can I print all my values without using the values() method. \n",
    "Understand the diff in the below 2 codes :)\n",
    "'''\n",
    "for i in am:\n",
    "    print(am[i])\n",
    "    \n",
    "    \n",
    "#This would by default give keys\n",
    "for i in am:\n",
    "    print(i)"
   ]
  },
  {
   "cell_type": "code",
   "execution_count": 10,
   "metadata": {
    "scrolled": true
   },
   "outputs": [
    {
     "name": "stdout",
     "output_type": "stream",
     "text": [
      "dict_items([('name', 'amit kumar'), ('123', 24), ('fav_movies', ['rocky', 'Ninja']), ('fav_perfumes', ('Armani', 'Hugo Boss'))])\n",
      "<class 'dict_items'>\n",
      "('name', 'amit kumar')\n",
      "('123', 24)\n",
      "('fav_movies', ['rocky', 'Ninja'])\n",
      "('fav_perfumes', ('Armani', 'Hugo Boss'))\n"
     ]
    }
   ],
   "source": [
    "'''\n",
    "7. the items() methods can also be used in dictionaries and it is iterable. \n",
    "It is a an object dict_items\n",
    "It returns a list with many tuples [(),(),()]. All the key value pairs\n",
    "'''\n",
    "new=am.items()\n",
    "print(new)\n",
    "print(type(new))\n",
    "\n",
    "\n",
    "for i in am.items():\n",
    "    print(i)"
   ]
  },
  {
   "cell_type": "code",
   "execution_count": 11,
   "metadata": {},
   "outputs": [
    {
     "name": "stdout",
     "output_type": "stream",
     "text": [
      "The key is: name and the item is :amit kumar\n",
      "The key is: 123 and the item is :24\n",
      "The key is: fav_movies and the item is :['rocky', 'Ninja']\n",
      "The key is: fav_perfumes and the item is :('Armani', 'Hugo Boss')\n"
     ]
    }
   ],
   "source": [
    "'''\n",
    "8. This items method can be used effectively to give the key, items pair. \n",
    "The first is key and then the value.\n",
    "'''\n",
    "for k,v in am.items():\n",
    "    print(f\"The key is: {k} and the item is :{v}\")"
   ]
  },
  {
   "cell_type": "code",
   "execution_count": 12,
   "metadata": {
    "scrolled": true
   },
   "outputs": [
    {
     "name": "stdout",
     "output_type": "stream",
     "text": [
      "('name', 'amit kumar')\n",
      "('123', 24)\n",
      "('fav_movies', ['rocky', 'Ninja'])\n",
      "('fav_perfumes', ('Armani', 'Hugo Boss'))\n"
     ]
    }
   ],
   "source": [
    "'''\n",
    "8.1 What would the below code do, Tuples of the key value pairs.\n",
    "These tuples unpack when we use k,v :)\n",
    "'''\n",
    "for i in am.items():\n",
    "    print(i)"
   ]
  }
 ],
 "metadata": {
  "kernelspec": {
   "display_name": "Python 3",
   "language": "python",
   "name": "python3"
  },
  "language_info": {
   "codemirror_mode": {
    "name": "ipython",
    "version": 3
   },
   "file_extension": ".py",
   "mimetype": "text/x-python",
   "name": "python",
   "nbconvert_exporter": "python",
   "pygments_lexer": "ipython3",
   "version": "3.7.4"
  }
 },
 "nbformat": 4,
 "nbformat_minor": 2
}
