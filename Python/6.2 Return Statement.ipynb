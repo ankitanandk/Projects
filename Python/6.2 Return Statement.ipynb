{
 "cells": [
  {
   "cell_type": "code",
   "execution_count": 1,
   "metadata": {},
   "outputs": [
    {
     "name": "stdout",
     "output_type": "stream",
     "text": [
      "The age in months is 156\n"
     ]
    }
   ],
   "source": [
    "'''\n",
    "1. The return statement does not print out the value it returns when the function is called. \n",
    "It however causes the function to exit or terminate immediately, \n",
    "even if it is not the last statement of the function.\n",
    "\n",
    "Functions that return values are sometimes called fruitful functions. In many other languages, \n",
    "a function that doesn’t return a value is called a procedure.This is one of the key diff in func and proc\n",
    "\n",
    "The return statement captures the value in the definition and the value is presented on the call of the function.\n",
    "Defining a function with a return value and assigning to new variable\n",
    "\n",
    "'''\n",
    "def am(age):\n",
    "    return age*12\n",
    "\n",
    "print(\"The age in months is\" ,am(13))"
   ]
  },
  {
   "cell_type": "code",
   "execution_count": 4,
   "metadata": {},
   "outputs": [
    {
     "name": "stdout",
     "output_type": "stream",
     "text": [
      "20\n"
     ]
    }
   ],
   "source": [
    "'''\n",
    "2. Lets understand the return statement via 2 functions, the call to new in new1 returns the values \n",
    "and thus it is printed by the new1 function.\n",
    "'''\n",
    "def new():\n",
    "    return 2\n",
    "\n",
    "def new1():\n",
    "    print(10*new())\n",
    "\n",
    "new1()"
   ]
  },
  {
   "cell_type": "code",
   "execution_count": 5,
   "metadata": {},
   "outputs": [
    {
     "name": "stdout",
     "output_type": "stream",
     "text": [
      "The age in months is None\n"
     ]
    }
   ],
   "source": [
    "'''\n",
    "3. Call to function without the return statement in the definition, \n",
    "it would not be able to return any value thus None\n",
    "This is one of the general feature of many Python functions, they do not return a value; however perform a job\n",
    "'''\n",
    "def am(age):\n",
    "    age_m=age*12\n",
    "    \n",
    "print(\"The age in months is\" ,am(13))"
   ]
  },
  {
   "cell_type": "code",
   "execution_count": 7,
   "metadata": {},
   "outputs": [
    {
     "name": "stdout",
     "output_type": "stream",
     "text": [
      "156\n",
      "The age in months is None\n"
     ]
    }
   ],
   "source": [
    "'''\n",
    "4. Call to function with the print function and NO return statement, \n",
    "the print function does print however no value is returned by function call and thus None is displayed :)\n",
    "\n",
    "'''\n",
    "def am(age):\n",
    "    age_m=age*12\n",
    "    print(age_m)\n",
    "\n",
    "print(\"The age in months is\" ,am(13))\n"
   ]
  },
  {
   "cell_type": "code",
   "execution_count": 3,
   "metadata": {},
   "outputs": [
    {
     "name": "stdout",
     "output_type": "stream",
     "text": [
      "odd\n"
     ]
    }
   ],
   "source": [
    "'''\n",
    "5. Function that returns and tells if a supplied number is even or odd\n",
    "'''\n",
    "\n",
    "def eo(inp):\n",
    "    if inp%2==0:\n",
    "        return \"even\"\n",
    "    else:\n",
    "        return \"odd\"\n",
    "\n",
    "print(eo(13))"
   ]
  },
  {
   "cell_type": "code",
   "execution_count": null,
   "metadata": {},
   "outputs": [],
   "source": [
    "'''\n",
    "6. Function that returns and tells if a supplied number is even or odd, shortcut method :)\n",
    "'''\n",
    "\n",
    "def eo(inp):\n",
    "    if inp%2==0:\n",
    "        return \"even\"\n",
    "    return \"odd\"\n",
    "\n",
    "print(eo(13))"
   ]
  },
  {
   "cell_type": "code",
   "execution_count": null,
   "metadata": {},
   "outputs": [],
   "source": [
    "'''\n",
    "7. Function that returns boolean, True or False for an even and odd number\n",
    "'''\n",
    "def is_even(inp):\n",
    "    if inp%2==0:\n",
    "        return True\n",
    "    return False\n",
    "\n",
    "print(is_even(12))"
   ]
  },
  {
   "cell_type": "code",
   "execution_count": null,
   "metadata": {},
   "outputs": [],
   "source": [
    "'''\n",
    "8. Function that returns boolean, True or False for an even number, the shortest one :)\n",
    "'''\n",
    "\n",
    "def is_even(inp):\n",
    "    return inp%2==0\n",
    "\n",
    "print(is_even(12))"
   ]
  },
  {
   "cell_type": "code",
   "execution_count": null,
   "metadata": {},
   "outputs": [],
   "source": [
    "'''\n",
    "9. Function that returns Boolean True or False which number is bigger out of 2.\n",
    "'''\n",
    "\n",
    "def big2(x,y):\n",
    "    return x>y\n",
    "\n",
    "print(big2(14,13))"
   ]
  },
  {
   "cell_type": "code",
   "execution_count": null,
   "metadata": {},
   "outputs": [],
   "source": [
    "'''\n",
    "10. Function that gives the greatest number out of 3\n",
    "'''\n",
    "\n",
    "def big3(x,y,z):\n",
    "    if x>y and x>z:\n",
    "        return x\n",
    "    elif y>x and y>z:\n",
    "        return y\n",
    "    return z\n",
    "\n",
    "print(big3(144,1322,19))"
   ]
  },
  {
   "cell_type": "code",
   "execution_count": 8,
   "metadata": {},
   "outputs": [
    {
     "name": "stdout",
     "output_type": "stream",
     "text": [
      "share 3 numbers2,3,4\n"
     ]
    },
    {
     "data": {
      "text/plain": [
       "4"
      ]
     },
     "execution_count": 8,
     "metadata": {},
     "output_type": "execute_result"
    }
   ],
   "source": [
    "'''\n",
    "11. Function that returns the greatest number out of 3 and take the three inputs from the user\n",
    "we have used list comprehension\n",
    "'''\n",
    "\n",
    "def big3():\n",
    "    x,y,z=[int(i) for i in input(\"share 3 numbers\").split(\",\")]\n",
    "    if x>y and x>z:\n",
    "        return x\n",
    "    elif y>x and y>z:\n",
    "        return y\n",
    "    return z\n",
    "\n",
    "big3()"
   ]
  },
  {
   "cell_type": "code",
   "execution_count": 3,
   "metadata": {},
   "outputs": [
    {
     "name": "stdout",
     "output_type": "stream",
     "text": [
      "8\n"
     ]
    }
   ],
   "source": [
    "'''\n",
    "12. You can not have 2 return statements, the second one is ineffective as the control comes out of the function \n",
    "as soon as first return is encountered\n",
    "'''\n",
    "def check(a,b):\n",
    "    return a*b\n",
    "    return a+b\n",
    "\n",
    "print(check(2,4))"
   ]
  },
  {
   "cell_type": "code",
   "execution_count": 6,
   "metadata": {},
   "outputs": [
    {
     "name": "stdout",
     "output_type": "stream",
     "text": [
      "(8, 6) <class 'tuple'>\n"
     ]
    }
   ],
   "source": [
    "'''\n",
    "12.1 You can have 2 values returned simultaneously by a single return statement, look below for syntax\n",
    "And this returned value would be a tuple.\n",
    "'''\n",
    "def check(a,b):\n",
    "    return (a*b,a+b)\n",
    "\n",
    "print(check(2,4), type(check(2,4)))"
   ]
  }
 ],
 "metadata": {
  "kernelspec": {
   "display_name": "Python 3",
   "language": "python",
   "name": "python3"
  },
  "language_info": {
   "codemirror_mode": {
    "name": "ipython",
    "version": 3
   },
   "file_extension": ".py",
   "mimetype": "text/x-python",
   "name": "python",
   "nbconvert_exporter": "python",
   "pygments_lexer": "ipython3",
   "version": "3.7.3"
  }
 },
 "nbformat": 4,
 "nbformat_minor": 2
}
