{
 "cells": [
  {
   "cell_type": "code",
   "execution_count": 1,
   "metadata": {},
   "outputs": [
    {
     "name": "stdout",
     "output_type": "stream",
     "text": [
      "Guess a number between 1 and 10012\n",
      "Too LOW\n"
     ]
    }
   ],
   "source": [
    "'''CP\n",
    " 1\n",
    "Input a number from user, if he inputs what you have hard coded then he wins, else a message of too high or too low.\n",
    "'''\n",
    "win_no=13\n",
    "numbr=input(\"Guess a number between 1 and 100\")\n",
    "\n",
    "if win_no==int(numbr):\n",
    "    print(\"You win\")\n",
    "elif win_no>int(numbr):\n",
    "    print(\"Too LOW\")\n",
    "else:\n",
    "     print(\"Too HIGH\")"
   ]
  },
  {
   "cell_type": "code",
   "execution_count": 3,
   "metadata": {},
   "outputs": [
    {
     "name": "stdout",
     "output_type": "stream",
     "text": [
      "Share the alphabeto\n",
      "The alphabet o is not found in list\n"
     ]
    }
   ],
   "source": [
    "'''CP\n",
    "2. Check if the user input alphabet is in the list or not.\n",
    "'''\n",
    "l=['a','k','l']\n",
    "\n",
    "i=input('Share the alphabet')\n",
    "if i in l:\n",
    "    print(f\"The entered alphabet {i} is in list and the index is {l.index(i)}\")\n",
    "else:\n",
    "    print(f\"The alphabet {i} is not found in list\")"
   ]
  },
  {
   "cell_type": "code",
   "execution_count": null,
   "metadata": {},
   "outputs": [],
   "source": [
    "'''CP\n",
    " 3. Lets take 2 inputs from user and check for age and city,\n",
    "if above 18 and in NCR then say welcome else sorry. Handle the string input issue.\n",
    "'''\n",
    "name,age,city=input(\"share your name,age and city\").split(\",\")\n",
    "if int(age)>=18 and city in (\"GGM\",\"DEL\",\"NOI\"):\n",
    "    print(f\"above 18 and in NCR: welcome {name}\")\n",
    "else:\n",
    "    print(\"sorry\")"
   ]
  },
  {
   "cell_type": "code",
   "execution_count": null,
   "metadata": {},
   "outputs": [],
   "source": [
    "'''CP\n",
    "4. If and nested if else, ask for age first and then city information'''\n",
    "age=int(input(\"Eneter age\"))\n",
    "if age>18:\n",
    "    city=input(\"Enter city\")\n",
    "    if city in (\"DEL\",\"GGM\",\"NOI\"):\n",
    "        print(\"Adult and in NCR\")\n",
    "    else:\n",
    "        print(\"Adult not in NCR\")\n",
    "else:\n",
    "    print(\"Not Adult\")"
   ]
  }
 ],
 "metadata": {
  "kernelspec": {
   "display_name": "Python 3",
   "language": "python",
   "name": "python3"
  },
  "language_info": {
   "codemirror_mode": {
    "name": "ipython",
    "version": 3
   },
   "file_extension": ".py",
   "mimetype": "text/x-python",
   "name": "python",
   "nbconvert_exporter": "python",
   "pygments_lexer": "ipython3",
   "version": "3.7.4"
  }
 },
 "nbformat": 4,
 "nbformat_minor": 2
}
