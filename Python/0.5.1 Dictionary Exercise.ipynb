{
 "cells": [
  {
   "cell_type": "code",
   "execution_count": null,
   "metadata": {},
   "outputs": [],
   "source": [
    "'''1. How would you count the words in a string and store them in a dictionary\n",
    "Write from a class and obect perspective\n",
    "'''\n",
    "s=\"ha ha he he lol\"\n",
    "{i: str.count(s,i) for i in s.split(\" \")}"
   ]
  },
  {
   "cell_type": "code",
   "execution_count": null,
   "metadata": {},
   "outputs": [],
   "source": [
    "'''2. Only those words that are not occuring once or unique or non duplicates\n",
    "Write from a class and obect perspective\n",
    "'''\n",
    "s=\"ha ha he he lol\"\n",
    "{i: str.count(s,i) for i in s.split(\" \") if str.count(s,i)==1}"
   ]
  },
  {
   "cell_type": "code",
   "execution_count": null,
   "metadata": {},
   "outputs": [],
   "source": [
    "'''3. Only those words that are not occuring once or unique or non duplicates + the word should have length above 2\n",
    "Write from a class and obect perspective\n",
    "'''\n",
    "s=\"ha ha he he lol hmm na\"\n",
    "{i: str.count(s,i) for i in s.split(\" \") if str.count(s,i)==1 and len(i)>2}"
   ]
  },
  {
   "cell_type": "code",
   "execution_count": null,
   "metadata": {},
   "outputs": [],
   "source": [
    "'''4. Write a function that would check if the key is available in a dictionary or not\n",
    "Do not use any method\n",
    "'''\n",
    "am={'name':\"amit kumar\", \n",
    "    '123':24,\n",
    "    'fav_movies':[\"rocky\",\"Ninja\"],\n",
    "    'fav_perfumes':(\"Armani\",\"Hugo Boss\")\n",
    "}\n",
    "def key_check(k):\n",
    "    if k in am:\n",
    "        return \"Key is available\"\n",
    "    return \"Key not available\"\n",
    "\n",
    "key_check(\"name\")"
   ]
  },
  {
   "cell_type": "code",
   "execution_count": 18,
   "metadata": {},
   "outputs": [
    {
     "name": "stdout",
     "output_type": "stream",
     "text": [
      "name\n",
      "fav_movies\n",
      "fav_perfumes\n",
      "name\n",
      "fav_movies\n",
      "fav_perfumes\n"
     ]
    }
   ],
   "source": [
    "'''5. Using the loop only print the key that is a string and if string then should be above 3 bytes \n",
    "The key could be numeric as well, keep in mind :)\n",
    "'''\n",
    "am={'name':\"amit kumar\", \n",
    "     123:24,\n",
    "    'fav_movies':[\"rocky\",\"Ninja\"],\n",
    "    'fav_perfumes':(\"Armani\",\"Hugo Boss\")\n",
    "}\n",
    "for i in am:\n",
    "    if type(i)==str:\n",
    "        if len(i)>3:\n",
    "            print(i)\n",
    "            \n",
    "# Or the other way for the same output, why we used str? think about it\n",
    "for i in am:\n",
    "    if type(i)==str and len(str(i))>3:\n",
    "        print(i)"
   ]
  },
  {
   "cell_type": "code",
   "execution_count": 2,
   "metadata": {},
   "outputs": [
    {
     "data": {
      "text/plain": [
       "('Armani', 'Hugo Boss')"
      ]
     },
     "execution_count": 2,
     "metadata": {},
     "output_type": "execute_result"
    }
   ],
   "source": [
    "'''6. Create a function using enumerate that would retrieve the value for any index from the dictionary'''\n",
    "am={'name':\"amit kumar\", \n",
    "     123:24,\n",
    "    'fav_movies':[\"rocky\",\"Ninja\"],\n",
    "    'fav_perfumes':(\"Armani\",\"Hugo Boss\")\n",
    "}\n",
    "\n",
    "def se(n):\n",
    "    for i,j in enumerate(am):\n",
    "        if i==n:\n",
    "            return am[j]\n",
    "        \n",
    "se(3)"
   ]
  }
 ],
 "metadata": {
  "kernelspec": {
   "display_name": "Python 3",
   "language": "python",
   "name": "python3"
  },
  "language_info": {
   "codemirror_mode": {
    "name": "ipython",
    "version": 3
   },
   "file_extension": ".py",
   "mimetype": "text/x-python",
   "name": "python",
   "nbconvert_exporter": "python",
   "pygments_lexer": "ipython3",
   "version": "3.7.3"
  }
 },
 "nbformat": 4,
 "nbformat_minor": 2
}
