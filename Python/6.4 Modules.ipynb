{
 "cells": [
  {
   "cell_type": "code",
   "execution_count": 3,
   "metadata": {},
   "outputs": [
    {
     "name": "stdout",
     "output_type": "stream",
     "text": [
      "6300\n"
     ]
    }
   ],
   "source": [
    "'''\n",
    "Making functions global: Module creation\n",
    "\n",
    "This module once called , would be available of the kernel session and not available for any future sessions\n",
    "In order to make the functions global, you would need to save the function definition in a .py script and save at\n",
    "any location, this would help in creating a user defined module.\n",
    "\n",
    "This is very similar to the call of pandas and the numpy modules,all the available functions can then be called.\n",
    "\n",
    "Example 1. Create a module and call a function from the .py code.\n",
    "\n",
    "1. I have saved a function conv in the same location with a python script amit_func.py, with the following \n",
    "definition and code\n",
    "\n",
    "def conv(usd):\n",
    "    rs=usd*70\n",
    "    return rs\n",
    "\n",
    "2. In the home section of Jupiter, on right side using the “upload”, select the amit_func.py and click on “upload”\n",
    "\n",
    "# How to call this function for any future sessions, this is the practical approach while working on Python and \n",
    "a live project\n",
    "\n",
    "3. In a fresh python 3 notebook execute the following commands to load the module, now the module amit_func \n",
    "and all the written functions are available for the call\n",
    "\n",
    "OR \n",
    "\n",
    "Simply place the .py file and call the module no need to upload as well, \n",
    "upload is required if you wish to have all .py files at one place, for consistency and clarity :)\n",
    "\n",
    "'''\n",
    "\n",
    "import amit_func as af\n",
    "print(af.conv(usd=90))# calling function conv from the module af(af is the alias name)"
   ]
  },
  {
   "cell_type": "code",
   "execution_count": 2,
   "metadata": {},
   "outputs": [
    {
     "name": "stdout",
     "output_type": "stream",
     "text": [
      "910\n",
      "1080\n"
     ]
    }
   ],
   "source": [
    "'''\n",
    "# Scenario 2 Let's try, amit_func_multi.py script now holds the definition of two functions as mentioned below\n",
    "\n",
    "def conv(usd):\n",
    "    rs=usd*70\n",
    "    return rs\n",
    "\n",
    "def conv1(po):\n",
    "    rs1=po*90\n",
    "    return rs1\n",
    "\n",
    "Repeat the above steps\n",
    "\n",
    "# Call to both the functions can be made now at ease from  the imported module\n",
    "\n",
    "'''\n",
    "import amit_func_multi as afm\n",
    "print(afm.conv(13))\n",
    "print(afm.conv1(12))"
   ]
  }
 ],
 "metadata": {
  "kernelspec": {
   "display_name": "Python 3",
   "language": "python",
   "name": "python3"
  },
  "language_info": {
   "codemirror_mode": {
    "name": "ipython",
    "version": 3
   },
   "file_extension": ".py",
   "mimetype": "text/x-python",
   "name": "python",
   "nbconvert_exporter": "python",
   "pygments_lexer": "ipython3",
   "version": "3.6.5"
  }
 },
 "nbformat": 4,
 "nbformat_minor": 2
}
