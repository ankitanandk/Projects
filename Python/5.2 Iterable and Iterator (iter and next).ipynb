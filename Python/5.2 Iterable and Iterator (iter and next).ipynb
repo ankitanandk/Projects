{
 "cells": [
  {
   "cell_type": "code",
   "execution_count": 1,
   "metadata": {},
   "outputs": [
    {
     "name": "stdout",
     "output_type": "stream",
     "text": [
      "2\n",
      "4\n",
      "8\n"
     ]
    }
   ],
   "source": [
    "'''\n",
    "1. Let’s clearly call out the difference.\n",
    "\n",
    "Iterable: An object is called iterable if we can get an iterator from it. \n",
    "Most of built-in containers in Python like: list, tuple, string and dictionaries etc.\n",
    "are iterables.\n",
    "\n",
    "int are not iterable as they cannot generate/produce an iterator\n",
    "\n",
    "Iterable is a property and iterator is an object, this object is generated from the iterable.\n",
    "\n",
    "1.) Iterator: The iter() function method generates and returns an iterator from the iterable.\n",
    "\n",
    "2.) Then the next function works on the iterator and return the value sequentially till the end of object\n",
    "'''\n",
    "# In the below example l and new_l are iterable as they can generate the iterator\n",
    "l=[1,2,3,4,5,8]\n",
    "new_l=[i for i in l if i%2==0]\n",
    "\n",
    "#new_l is also iterable\n",
    "for i in new_l:\n",
    "    print(i)"
   ]
  },
  {
   "cell_type": "code",
   "execution_count": 2,
   "metadata": {},
   "outputs": [
    {
     "name": "stdout",
     "output_type": "stream",
     "text": [
      "1\n",
      "2\n",
      "3\n"
     ]
    }
   ],
   "source": [
    "'''\n",
    "2. Let's run a loop on an iterable and we know the output, i is just an index that works on the iterable :)\n",
    "'''\n",
    "l=[1,2,3]\n",
    "for i in l:\n",
    "    print(i)"
   ]
  },
  {
   "cell_type": "code",
   "execution_count": null,
   "metadata": {
    "scrolled": true
   },
   "outputs": [],
   "source": [
    "'''\n",
    "2.1 \n",
    "Let’s see the backend of for loop. Basically 2 main steps\n",
    "\n",
    "a. iter function is called and it takes the input of list l as iterbale, \n",
    "something like iter(l), \n",
    "   and returns an iterator. So an iterator is generated from the iterable \n",
    "   using the iter() function.\n",
    "   \n",
    "   iter(iterable)>> iterator\n",
    "   \n",
    "   The type of iterator is list_iterator in the below example and it depends\n",
    "   on the iterable in picture\n",
    "'''\n",
    "l=[1,2,3]\n",
    "num_iter=iter(l)\n",
    "print(num_iter)\n",
    "\n",
    "# This iterator that is generated from the iterable, list_iterator in this case can be worked upon by the loop \n",
    "for i in num_iter:\n",
    "    print(i)"
   ]
  },
  {
   "cell_type": "code",
   "execution_count": null,
   "metadata": {
    "scrolled": false
   },
   "outputs": [],
   "source": [
    "'''\n",
    "2.2\n",
    "b. Next function flips sequentially and access the elements 1 by 1, it is \n",
    "something like next(iter(l)).\n",
    "This value returned by next function is captured by the counter i or j.\n",
    "\n",
    "When we reach the end of the iterator and there is no more data to be returned, \n",
    "it will raise StopIteration exception and then the loop breaks.\n",
    "\n",
    "If you note the value returned by the next function is same as i or j\n",
    "'''\n",
    "l=[1,2,3]\n",
    "# num_iter=iter(l)\n",
    "# #Iteration 1\n",
    "# print(next(num_iter))\n",
    "# #Iteration 2\n",
    "# print(next(num_iter))\n",
    "# #Iteration 3\n",
    "# print(next(num_iter))\n",
    "# #Iteration 4\n",
    "# print(next(num_iter))\n",
    "\n",
    "\n",
    "# The iteration 3 can also be directly achieved as\n",
    "for i in iter(l):\n",
    "    pass\n",
    "print(i)"
   ]
  },
  {
   "cell_type": "code",
   "execution_count": null,
   "metadata": {
    "scrolled": true
   },
   "outputs": [],
   "source": [
    "'''\n",
    "3. Help me with the error, what does it the error mean, how can I fix the same ?\n",
    "\n",
    "Sol: List is iterable and not an iterator, list can generate an iterator and that can be leveraged by the loop.\n",
    "So if the iterator can not be produced the object is not iterable.\n",
    "'''\n",
    "l=[1,2,3]\n",
    "next(l)\n",
    "\n",
    "#fix, the iter(iterable) is an iterator and list is iterable but not an iterator :)\n",
    "print(next(iter(l)))"
   ]
  },
  {
   "cell_type": "code",
   "execution_count": null,
   "metadata": {
    "scrolled": false
   },
   "outputs": [],
   "source": [
    "'''4. help me with this error please, how can i fix it'''\n",
    "n=123\n",
    "iter(n)\n",
    "\n",
    "#fix\n",
    "iter(str(n))\n",
    "print(next(iter(str(n))))"
   ]
  }
 ],
 "metadata": {
  "kernelspec": {
   "display_name": "Python 3",
   "language": "python",
   "name": "python3"
  },
  "language_info": {
   "codemirror_mode": {
    "name": "ipython",
    "version": 3
   },
   "file_extension": ".py",
   "mimetype": "text/x-python",
   "name": "python",
   "nbconvert_exporter": "python",
   "pygments_lexer": "ipython3",
   "version": "3.7.4"
  }
 },
 "nbformat": 4,
 "nbformat_minor": 2
}
