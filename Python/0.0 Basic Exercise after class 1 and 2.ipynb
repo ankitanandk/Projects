{
 "cells": [
  {
   "cell_type": "code",
   "execution_count": 16,
   "metadata": {},
   "outputs": [],
   "source": [
    "#   Attempt the questions only by the topics we have discussed so far . Good Luck :)\n",
    "#   This would give you a lot of confidence :)\n",
    "\n",
    "#1. Write a code and prove int are immutable\n",
    "#2. write a code and prove strings are immutable\n",
    "#3. Input string: amit >>> Output: amit-amit-amit-\n",
    "#4. Input string: amit >>> Output: tima tima tima\n",
    "#5. Use f string formatting and we may need another function. Input string: amit >>> Output: \"The length of amit is 4\"\n",
    "#6. How would you take 3 inputs from user. Name, address and age. Show 3 methods.\n",
    "#7. a=\"10\". how would you convertthe value in int. How would you confirm if the conversion is successful\n",
    "#8. a=1313. Convert this variable in string and retrieve the 0 and 1 index. output: 13\n",
    "#9. pin=122011. output:1211. concaternate first and last 2 digits \n",
    "#10. Is this allowed for complex number declaration 3+2j and 3+2J\n",
    "#11. What is this code doing a=13; b=a. Why we use ; in python\n",
    "#12. What are the different ways to comment and uncomment in Python\n",
    "#13. Why this does nt yield anything a=\"amit\";print(a[1:2:-1])\n",
    "#14. What can I do, so that above code gives some output. You can only change signs and not the values.\n",
    "#15. Input: \"amit\" output: amit amit amit amit. If input is ram output: ram ram ram\n",
    "#16. input: \"amit\" output: a-m-i-t\n",
    "#17. print(\"Amit\"+5). How to fix the code\n",
    "#18. Two variables having first and last name input1:\"amit\" input2:\"kumar\". output>> kumar amit\n",
    "#19. Dose=150 output: 15.0mg> Reduce dose by 1/10 and add mg as well in last, need a float value.\n",
    "#20. Dose=15 output: mg51.0 > Reverse the dose and add mg in prefix, need a float value.\n",
    "\n"
   ]
  },
  {
   "cell_type": "code",
   "execution_count": null,
   "metadata": {},
   "outputs": [],
   "source": [
    "# 1. Write a code and prove int are immutable\n",
    "\n",
    "a=int(input(\"Enter a number\"))\n",
    "print(a*10, id(a))\n",
    "\n",
    "a=input(\"Enter a number\")\n",
    "print(a*10, id(a))"
   ]
  },
  {
   "cell_type": "code",
   "execution_count": 1,
   "metadata": {},
   "outputs": [],
   "source": [
    "# 2. Write a code and prove strings are imutable"
   ]
  },
  {
   "cell_type": "code",
   "execution_count": 7,
   "metadata": {},
   "outputs": [
    {
     "name": "stdout",
     "output_type": "stream",
     "text": [
      "Input string: Ankit\n",
      "Output: Ankit-Ankit-Ankit-\n"
     ]
    }
   ],
   "source": [
    "# 3. Input string: amit >>> Output: amit-amit-amit-\n",
    "\n",
    "name = input(\"Input string: \")\n",
    "#name = name[::1]+'-'\n",
    "print(\"Output: \"+(name+\"-\")*3)"
   ]
  },
  {
   "cell_type": "code",
   "execution_count": 2,
   "metadata": {},
   "outputs": [
    {
     "name": "stdout",
     "output_type": "stream",
     "text": [
      "Input string: Ankit\n",
      "Output:  tiknA tiknA tiknA \n"
     ]
    }
   ],
   "source": [
    "# 4. Input string: amit >>> Output: tima tima tima\n",
    "\n",
    "name = input(\"Input string: \")\n",
    "name = name[::-1]+' '\n",
    "print(\"Output: \",(name)*3)"
   ]
  },
  {
   "cell_type": "code",
   "execution_count": null,
   "metadata": {},
   "outputs": [],
   "source": [
    "# 5. Use f string formatting and we may need another function. Input string: amit >>> Output: \"The length of amit is 4\"\n",
    "\n",
    "f_name,l_name,age = input('Enter your first name, last name, age: ').split(\",\")\n",
    "print(f\"Hi {f_name} {l_name}, your age is {age}\")\n",
    "\n",
    "name = input(\"Input string: \")\n",
    "print(f\"The length of {name} is\",len(name))"
   ]
  },
  {
   "cell_type": "code",
   "execution_count": null,
   "metadata": {},
   "outputs": [],
   "source": [
    "# 6. How would you take 3 inputs from user. Name, address and age. Show 3 methods.\n",
    "\n",
    "name,address,age = input(\"Enter Name, Address, Age: \").split(\",\")\n",
    "print(\"Name:\",name,\"\\nAddress:\",address,\"\\nAge:\",age)"
   ]
  },
  {
   "cell_type": "code",
   "execution_count": 11,
   "metadata": {},
   "outputs": [
    {
     "name": "stdout",
     "output_type": "stream",
     "text": [
      "Value :  10 \n",
      " Type :  <class 'int'>\n"
     ]
    }
   ],
   "source": [
    "# 7. a=\"10\". how would you convert the value in int. How would you confirm if the conversion is successful\n",
    "\n",
    "a = \"10\"\n",
    "\n",
    "a = int(a)\n",
    "\n",
    "print(\"Value : \",a,\"\\n Type : \",type(a))"
   ]
  },
  {
   "cell_type": "code",
   "execution_count": 17,
   "metadata": {},
   "outputs": [
    {
     "name": "stdout",
     "output_type": "stream",
     "text": [
      "Index 0 and 1 for a is :  13\n"
     ]
    }
   ],
   "source": [
    "# 8. a=1313. Convert this variable in string and retrieve the 0 and 1 index. output: 13\n",
    "\n",
    "a = 1313\n",
    "\n",
    "a = str(a)\n",
    "\n",
    "print(\"Index 0 and 1 for a is : \",a[0:2])"
   ]
  },
  {
   "cell_type": "code",
   "execution_count": 26,
   "metadata": {},
   "outputs": [
    {
     "name": "stdout",
     "output_type": "stream",
     "text": [
      "output :  1251\n"
     ]
    }
   ],
   "source": [
    "# 9. pin=122011. output:1211. concatenate first and last 2 digits\n",
    "    \n",
    "pin = str(122051)\n",
    "\n",
    "print(\"output : \",pin[0:2]+pin[4:6])"
   ]
  },
  {
   "cell_type": "code",
   "execution_count": null,
   "metadata": {},
   "outputs": [],
   "source": [
    "# 10. Is this allowed for complex number declaration 3+2j and 3+2J\n",
    "\n"
   ]
  },
  {
   "cell_type": "code",
   "execution_count": null,
   "metadata": {},
   "outputs": [],
   "source": []
  }
 ],
 "metadata": {
  "kernelspec": {
   "display_name": "Python 3",
   "language": "python",
   "name": "python3"
  },
  "language_info": {
   "codemirror_mode": {
    "name": "ipython",
    "version": 3
   },
   "file_extension": ".py",
   "mimetype": "text/x-python",
   "name": "python",
   "nbconvert_exporter": "python",
   "pygments_lexer": "ipython3",
   "version": "3.7.4"
  }
 },
 "nbformat": 4,
 "nbformat_minor": 2
}
