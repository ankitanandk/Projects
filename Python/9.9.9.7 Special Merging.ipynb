{
 "cells": [
  {
   "cell_type": "code",
   "execution_count": null,
   "metadata": {},
   "outputs": [],
   "source": [
    "'''1. Loyal Customers: The Loyal customers can be identified using the inner join of the 2 frames\n",
    "The Indicator helps\n",
    "'''\n",
    "import pandas as pd\n",
    "jan = pd.DataFrame({'id':[1,2,3]})\n",
    "feb = pd.DataFrame({'id':[1,2,7]})\n",
    "check=pd.merge(jan,feb, how='outer',on='id',indicator=True)\n",
    "loyal=check[(check._merge=='both')]\n",
    "loyal.drop(['_merge'],axis=1)\n",
    "\n",
    "\n",
    "#you can even use the query method once the indicators have been created :)\n",
    "import pandas as pd\n",
    "jan = pd.DataFrame({'id':[1,2,3]})\n",
    "feb = pd.DataFrame({'id':[1,2,7]})\n",
    "check=pd.merge(jan,feb, how='outer',on='id',indicator=True)\n",
    "loyal=check.query('_merge==\"both\"')\n",
    "loyal"
   ]
  },
  {
   "cell_type": "code",
   "execution_count": null,
   "metadata": {
    "scrolled": true
   },
   "outputs": [],
   "source": [
    "'''2. Left Customers: The customers can be identified in the same way who have left or attrited\n",
    "'''\n",
    "import pandas as pd\n",
    "jan = pd.DataFrame({'id':[1,2,3]})\n",
    "feb = pd.DataFrame({'id':[1,2,7]})\n",
    "check=pd.merge(jan,feb, how='outer',on='id',indicator=True)\n",
    "left=check[(check._merge=='left_only')]\n",
    "left.drop(['_merge'],axis=1)\n",
    "\n",
    "#you can even use the query method\n",
    "import pandas as pd\n",
    "jan = pd.DataFrame({'id':[1,2,3]})\n",
    "feb = pd.DataFrame({'id':[1,2,7]})\n",
    "check=pd.merge(jan,feb, how='outer',on='id',indicator=True)\n",
    "loyal=check.query('_merge==\"left_only\"')\n",
    "loyal"
   ]
  },
  {
   "cell_type": "code",
   "execution_count": null,
   "metadata": {
    "scrolled": true
   },
   "outputs": [],
   "source": [
    "'''3. New Customers: The Loyal customers can be identified\n",
    "'''\n",
    "import pandas as pd\n",
    "jan = pd.DataFrame({'id':[1,2,3]})\n",
    "feb = pd.DataFrame({'id':[1,2,7]})\n",
    "check=pd.merge(jan,feb, how='outer',on='id',indicator=True)\n",
    "new=check[(check._merge=='right_only')]\n",
    "new.drop(['_merge'],axis=1)\n",
    "\n",
    "#you can even use the query method\n",
    "import pandas as pd\n",
    "jan = pd.DataFrame({'id':[1,2,3]})\n",
    "feb = pd.DataFrame({'id':[1,2,7]})\n",
    "check=pd.merge(jan,feb, how='outer',on='id',indicator=True)\n",
    "loyal=check.query('_merge==\"right_only\"')\n",
    "loyal"
   ]
  }
 ],
 "metadata": {
  "kernelspec": {
   "display_name": "Python 3",
   "language": "python",
   "name": "python3"
  },
  "language_info": {
   "codemirror_mode": {
    "name": "ipython",
    "version": 3
   },
   "file_extension": ".py",
   "mimetype": "text/x-python",
   "name": "python",
   "nbconvert_exporter": "python",
   "pygments_lexer": "ipython3",
   "version": "3.7.4"
  }
 },
 "nbformat": 4,
 "nbformat_minor": 2
}
