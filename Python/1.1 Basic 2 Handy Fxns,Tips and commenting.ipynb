{
 "cells": [
  {
   "cell_type": "code",
   "execution_count": null,
   "metadata": {},
   "outputs": [],
   "source": [
    "1. Note: Take care of the 3 things and Python journey would be smooth :)\n",
    "\n",
    "      Python is CASE SESNISTIVE, a and A are different objects in Python.\n",
    "      Python is specific for braces. { }  []  () all have a different meaninng\n",
    "      Python be careful about Indentation"
   ]
  },
  {
   "cell_type": "code",
   "execution_count": null,
   "metadata": {},
   "outputs": [],
   "source": [
    "2. In python Journey you should be aware of 2 basic functions that would come in very handy.\n",
    "A function is pre-written set of instructions and takes argument(s) and give the desired output.\n",
    "\n",
    "1. print(): For Printing any object in Python\n",
    "2. type(): For identifying the type and class of object and it gives a lot of clarity while programming.\n"
   ]
  },
  {
   "cell_type": "code",
   "execution_count": 1,
   "metadata": {
    "scrolled": true
   },
   "outputs": [
    {
     "name": "stdout",
     "output_type": "stream",
     "text": [
      "12\n",
      "<class 'int'>\n"
     ]
    }
   ],
   "source": [
    "a=12\n",
    "print(a)\n",
    "type(a)\n",
    "print(type(a))"
   ]
  },
  {
   "cell_type": "code",
   "execution_count": null,
   "metadata": {},
   "outputs": [],
   "source": [
    "'''\n",
    "3. Commenting in Python: A comment is not processed by the interpreter and is useful in putting notes in a code\n",
    "\n",
    "1. # for single line\n",
    "2. Docstrings for multiple lines (Pair of 3 quotes).... \n",
    "\n",
    "Shortcut ctrl+? .. uncommenting again press control+?\n",
    "\n",
    "'''"
   ]
  },
  {
   "cell_type": "code",
   "execution_count": 1,
   "metadata": {},
   "outputs": [
    {
     "data": {
      "text/plain": [
       "'\\nThis is the comment\\nfor multiple lines, also known as docstrings :)\\n'"
      ]
     },
     "execution_count": 1,
     "metadata": {},
     "output_type": "execute_result"
    }
   ],
   "source": [
    "# This is a comment for one line of the code\n",
    "\n",
    "'''\n",
    "This is the comment\n",
    "for multiple lines, also known as docstrings :)\n",
    "'''"
   ]
  }
 ],
 "metadata": {
  "kernelspec": {
   "display_name": "Python 3",
   "language": "python",
   "name": "python3"
  },
  "language_info": {
   "codemirror_mode": {
    "name": "ipython",
    "version": 3
   },
   "file_extension": ".py",
   "mimetype": "text/x-python",
   "name": "python",
   "nbconvert_exporter": "python",
   "pygments_lexer": "ipython3",
   "version": "3.7.4"
  }
 },
 "nbformat": 4,
 "nbformat_minor": 2
}
