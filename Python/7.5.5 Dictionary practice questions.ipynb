{
 "cells": [
  {
   "cell_type": "code",
   "execution_count": 5,
   "metadata": {},
   "outputs": [
    {
     "data": {
      "text/plain": [
       "{1: 1, 2: 8, 3: 27}"
      ]
     },
     "execution_count": 5,
     "metadata": {},
     "output_type": "execute_result"
    }
   ],
   "source": [
    "'''\n",
    "Quiz\n",
    "1.0 Let's create a function that would find the cube or square and store in a dict\n",
    "'''\n",
    "def cuby(n):\n",
    "    d={}\n",
    "    for i in range(1,n+1):\n",
    "        d[i]=i**n\n",
    "    return d   \n",
    "\n",
    "cuby(3)"
   ]
  },
  {
   "cell_type": "code",
   "execution_count": 8,
   "metadata": {
    "scrolled": true
   },
   "outputs": [
    {
     "name": "stdout",
     "output_type": "stream",
     "text": [
      "{'s': 2, 'm': 1, 'a': 2, 'r': 1, 't': 2, 'y': 1, 'p': 1, 'n': 1}\n"
     ]
    }
   ],
   "source": [
    "'''\n",
    "Quiz\n",
    "2. Lets count the alphabets in a sentence, create a function and dict as output.\n",
    "'''\n",
    "def counter(s):\n",
    "    b={}\n",
    "    for i in s:\n",
    "        b[i]=s.count(i)\n",
    "    return b\n",
    "    \n",
    "print(counter(\"smartypants\"))"
   ]
  },
  {
   "cell_type": "code",
   "execution_count": 3,
   "metadata": {},
   "outputs": [
    {
     "name": "stdout",
     "output_type": "stream",
     "text": [
      "{'is': 2, 'yum': 1, 'and': 1, 'cheap': 1}\n"
     ]
    }
   ],
   "source": [
    "'''\n",
    "Quiz\n",
    "3. Lets count the words in a sentence, create a function and dict as output. :)\n",
    "'''\n",
    "def counter(s):\n",
    "    b={}\n",
    "    for i in s.split(sep=\" \"):\n",
    "        b[i]=s.count(i)\n",
    "    return b\n",
    "    \n",
    "print(counter(\"is yum and is cheap\"))"
   ]
  },
  {
   "cell_type": "code",
   "execution_count": null,
   "metadata": {},
   "outputs": [],
   "source": [
    "'''4. using update method'''\n",
    "def func(s):\n",
    "    d={}\n",
    "    for i in s.split(\" \"):\n",
    "        d1={i:s.count(i)}\n",
    "        d.update(d1)\n",
    "    return d\n",
    "\n",
    "func(\"is yum and is cheap\")\n",
    "\n"
   ]
  }
 ],
 "metadata": {
  "kernelspec": {
   "display_name": "Python 3",
   "language": "python",
   "name": "python3"
  },
  "language_info": {
   "codemirror_mode": {
    "name": "ipython",
    "version": 3
   },
   "file_extension": ".py",
   "mimetype": "text/x-python",
   "name": "python",
   "nbconvert_exporter": "python",
   "pygments_lexer": "ipython3",
   "version": "3.6.5"
  }
 },
 "nbformat": 4,
 "nbformat_minor": 2
}
