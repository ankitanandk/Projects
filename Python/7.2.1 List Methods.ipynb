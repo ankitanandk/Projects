{
 "cells": [
  {
   "cell_type": "code",
   "execution_count": null,
   "metadata": {},
   "outputs": [],
   "source": [
    "'''\n",
    "0. Let's try and learn all of the methods available with list class :)\n",
    "It's always a good idea to check the documentation before attempting the code for any new mthod.\n",
    "'''"
   ]
  },
  {
   "cell_type": "code",
   "execution_count": null,
   "metadata": {
    "scrolled": true
   },
   "outputs": [],
   "source": [
    "'''\n",
    "1.Append\n",
    "This method appends values/items in a existing or empty list.\n",
    "It takes only one argument as the input\n",
    "'''\n",
    "l=[1,2,3]\n",
    "l.append(5)\n",
    "print(l)\n",
    "'''\n",
    "How else I can achieve the output of above code, use + for operator overload\n",
    "'''\n",
    "l=[1,2,3]\n",
    "print(l+[5])\n",
    "\n",
    "# You can even append a list to an existing list\n",
    "l=[1,2,3]\n",
    "print(l+[4,56])"
   ]
  },
  {
   "cell_type": "code",
   "execution_count": null,
   "metadata": {},
   "outputs": [],
   "source": [
    "'''\n",
    "1.1 You can even append 2 lists together using the append method, the new list \n",
    "would now have one more list.\n",
    "list in a list, called as nested list :)\n",
    "Now [5,6] is the 3rd element in the list p\n",
    "'''\n",
    "p=[1,2,3]\n",
    "c=[5,6]\n",
    "p.append(c)\n",
    "print(p)"
   ]
  },
  {
   "cell_type": "code",
   "execution_count": null,
   "metadata": {},
   "outputs": [],
   "source": [
    "'''\n",
    "1.1.1 What is the index of [5,6] and what would the below code yield?\n",
    "'''\n",
    "p[3][1]"
   ]
  },
  {
   "cell_type": "code",
   "execution_count": null,
   "metadata": {},
   "outputs": [],
   "source": [
    "'''\n",
    "1.1.2 What would happen in the below code, guess before executing.\n",
    "'''\n",
    "p[3][1]=99\n",
    "p"
   ]
  },
  {
   "cell_type": "code",
   "execution_count": null,
   "metadata": {},
   "outputs": [],
   "source": [
    "'''\n",
    "1.1.3 Would the below code work?\n",
    "The below code would not work as we are giving 2 arguments to append method.\n",
    "'''\n",
    "p=[1,2,3]\n",
    "c=[5,6]\n",
    "k=[8,9]\n",
    "p.append(c,k)\n",
    "#p.append(k) we can do this to run the program\n",
    "print(p)"
   ]
  },
  {
   "cell_type": "code",
   "execution_count": null,
   "metadata": {},
   "outputs": [],
   "source": [
    "'''\n",
    "1.1.4 How would you make the below code work if the lists name are available in a new list.\n",
    "'''\n",
    "p=[1,2,3]\n",
    "c=[5,6]\n",
    "k=[8,9]\n",
    "n=[c,k]\n",
    "for i in n:\n",
    "    p.append(i)\n",
    "print(p)"
   ]
  },
  {
   "cell_type": "code",
   "execution_count": null,
   "metadata": {},
   "outputs": [],
   "source": [
    "'''\n",
    "1.2 Let's try and append the squares to a new list: hint: use a for loop.\n",
    "'''\n",
    "l=[1,2,8]\n",
    "new=[]\n",
    "for i in l:\n",
    "    new.append(i**2)\n",
    "print(new)"
   ]
  },
  {
   "cell_type": "code",
   "execution_count": null,
   "metadata": {},
   "outputs": [],
   "source": [
    "'''\n",
    "1.2.1 XXXXXX Never try and append to same list, as this would lead to an infinite loop XXXXXXX\n",
    "'''\n",
    "l=[1,2,8]\n",
    "new=[]\n",
    "for i in l:\n",
    "    new.append(i**2)\n",
    "print(new)"
   ]
  },
  {
   "cell_type": "code",
   "execution_count": null,
   "metadata": {},
   "outputs": [],
   "source": [
    "'''\n",
    "1.3 Write a funcion that would append square or cuube to a new list, whatever the user demands.\n",
    "'''\n",
    "l=[1,2,3]\n",
    "def app(p):\n",
    "    new=[]\n",
    "    for i in l:\n",
    "        new.append(i**p)\n",
    "    print(new)\n",
    "\n",
    "app(2)\n",
    "app(3)"
   ]
  },
  {
   "cell_type": "code",
   "execution_count": null,
   "metadata": {},
   "outputs": [],
   "source": [
    "'''\n",
    "2.0 Clear\n",
    "Clears the items/values of a list and return the empty list\n",
    "'''\n",
    "l=[1,2,3]\n",
    "l.clear()\n",
    "print(l)"
   ]
  },
  {
   "cell_type": "code",
   "execution_count": null,
   "metadata": {},
   "outputs": [],
   "source": [
    "'''\n",
    "2.1\n",
    "Clears the items/values of a list and return the empty list,\n",
    "writing from an Class /Object perspective. \n",
    "'''\n",
    "l=[1,2,3]\n",
    "k=[4,5,6]\n",
    "l.clear()\n",
    "list.clear(k)\n",
    "print(l,k)"
   ]
  },
  {
   "cell_type": "code",
   "execution_count": null,
   "metadata": {},
   "outputs": [],
   "source": [
    "'''\n",
    "3.0 Copy\n",
    "Gives the shallow copy of a list.\n",
    "Shallow copy:A shallow copy means constructing a new collection object and then populating it \n",
    "with references to the child objects found in the original. \n",
    "The copying process does not recurse and \n",
    "therefore won’t create copies of the child objects themselves. \n",
    "In case of shallow copy, a reference of \n",
    "object is copied in other object. \n",
    "It means that any changes made to a copy of object do reflect in the \n",
    "original object.  In python, this is implemented using “copy()” function.\n",
    "'''\n",
    "#Shallowcopy\n",
    "import copy as cp \n",
    "x = [[1, 2],[3, 4]]  \n",
    "# Using copy to shallow copy y from x  \n",
    "y = cp.copy(x) \n",
    "# Memory address of x and y is different\n",
    "print (id(x),id(y)) \n",
    "#updating x with a new value of 99\n",
    "x[1][0]=99\n",
    "# Look at the output the values of y are also updated automatically\n",
    "print(x,y)"
   ]
  },
  {
   "cell_type": "code",
   "execution_count": null,
   "metadata": {
    "scrolled": true
   },
   "outputs": [],
   "source": [
    "#Deepcopy\n",
    "import copy as cp \n",
    "x = [[1, 2],[3, 4]] \n",
    "# Using copy to Deep copy y from x  \n",
    "y = cp.deepcopy(x) \n",
    "# Memory address of x and y is different\n",
    "print (id(x),id(y)) \n",
    "#updating x with a new value of 99\n",
    "x[1][0]=99\n",
    "# Look at the output the valuesof y are NOT updated \n",
    "print(x,y)"
   ]
  },
  {
   "cell_type": "code",
   "execution_count": null,
   "metadata": {},
   "outputs": [],
   "source": [
    "'''\n",
    "4. Count\n",
    "Returns the number of occurence of a value in a list\n",
    "'''\n",
    "l=[1,2,3,4,4]\n",
    "l.count(4)"
   ]
  },
  {
   "cell_type": "code",
   "execution_count": null,
   "metadata": {
    "scrolled": true
   },
   "outputs": [],
   "source": [
    "'''\n",
    "4.1 *write a code which would print the number of occurence of a value from child list \n",
    "in a parent list\n",
    "'''\n",
    "p=[1,2,3,4,4,5,6,7,1,1]\n",
    "c=[1,3,6,4]\n",
    "\n",
    "for i in c:\n",
    "    print(f\"The occurence of {i} in parent list is :{p.count(i)}\")"
   ]
  },
  {
   "cell_type": "code",
   "execution_count": null,
   "metadata": {
    "scrolled": true
   },
   "outputs": [],
   "source": [
    "'''\n",
    "4.2 *Count the missing values/None in a list using the count function \n",
    "'''\n",
    "l=[1,2,None,3,4,None,None]\n",
    "print(l.count(None))"
   ]
  },
  {
   "cell_type": "code",
   "execution_count": null,
   "metadata": {},
   "outputs": [],
   "source": [
    "'''\n",
    "4.3 *Create a function, Take 2 strings input from user( parent and child)\n",
    "and calculate how many words match with parent list. Give a percnetage score.\n",
    "Please ensure case should not cause an issue :)\n",
    "These prototype functions and Logic used in text mining.\n",
    "'''\n",
    "def text_mine():   \n",
    "    p=input(\"Enter your parent string : \").lower()\n",
    "    c=input(\"Enter your child string : \").lower()\n",
    "    print(c)\n",
    "    p=p.split(sep=\" \")\n",
    "    c=c.split(sep=\" \")\n",
    "    tot=0\n",
    "    for i in c:\n",
    "        tot+=p.count(i)\n",
    "    print(f\"Total word matches in a parent and child string are :{tot} and a percentage of {tot/len(p)*100}\")\n",
    "\n",
    "text_mine()"
   ]
  },
  {
   "cell_type": "code",
   "execution_count": null,
   "metadata": {},
   "outputs": [],
   "source": [
    "'''\n",
    "5. extend\n",
    "L.extend(iterable) -> None -- extend list by appending elements from the iterable\n",
    "Strings are iterable\n",
    "'''\n",
    "l=[1,2,3]\n",
    "s=\"456\"\n",
    "l.extend(s)\n",
    "print(l)"
   ]
  },
  {
   "cell_type": "code",
   "execution_count": null,
   "metadata": {},
   "outputs": [],
   "source": [
    "'''\n",
    "5.1\n",
    "L.extend(iterable) -> None -- extend list by appending elements from the iterable\n",
    "List are iterable\n",
    "What would be the output of both the prints?\n",
    "'''\n",
    "l=[1,2,3]\n",
    "s=[9,5,6]\n",
    "print(l.extend(s))\n",
    "print(l)"
   ]
  },
  {
   "cell_type": "code",
   "execution_count": null,
   "metadata": {},
   "outputs": [],
   "source": [
    "'''\n",
    "5.2\n",
    "L.extend(iterable) -> None -- extend list by appending elements from the iterable\n",
    "Tuple are iterable\n",
    "'''\n",
    "l=[1,2,3]\n",
    "s=(9,3,4)\n",
    "l.extend(s)\n",
    "print(l)"
   ]
  },
  {
   "cell_type": "code",
   "execution_count": null,
   "metadata": {},
   "outputs": [],
   "source": [
    "'''\n",
    "6. index\n",
    "L.index(value, [start, [stop]]) -> integer -- return first index of value.\n",
    "Raises ValueError if the value is not present.\n",
    "'''\n",
    "l=[1,2,3,2]\n",
    "l.index(3)"
   ]
  },
  {
   "cell_type": "code",
   "execution_count": null,
   "metadata": {
    "scrolled": false
   },
   "outputs": [],
   "source": [
    "'''\n",
    "6.1\n",
    "Raises ValueError if the value is not present.\n",
    "'''\n",
    "l=[1,2,3,2]\n",
    "l.index(12)"
   ]
  },
  {
   "cell_type": "code",
   "execution_count": null,
   "metadata": {},
   "outputs": [],
   "source": [
    "'''\n",
    "6.2\n",
    "With start and stop values in index method\n",
    "'''\n",
    "l=[1,2,3,2,5,6,7]\n",
    "l.index(2,2,6)"
   ]
  },
  {
   "cell_type": "code",
   "execution_count": null,
   "metadata": {},
   "outputs": [],
   "source": [
    "'''\n",
    "7. pop\n",
    "item -- remove and return item at index (default last).\n",
    "Raises IndexError if list is empty or index is out of range.\n",
    "'''\n",
    "l=[1,2,'13']\n",
    "a=l.pop()\n",
    "print(type(a))\n",
    "print(l,l.pop())"
   ]
  },
  {
   "cell_type": "code",
   "execution_count": null,
   "metadata": {},
   "outputs": [],
   "source": [
    "'''\n",
    "7.1\n",
    "Use pop to print the items in a list vertically\n",
    "'''\n",
    "l=[11,22,33]\n",
    "for i in range(len(l)):\n",
    "    print(l.pop())"
   ]
  },
  {
   "cell_type": "code",
   "execution_count": null,
   "metadata": {},
   "outputs": [],
   "source": [
    "'''\n",
    "7. 2\n",
    "pop can also take the index and would remove the value from list and it takes 1 argument\n",
    "'''\n",
    "l=[11,22,33]\n",
    "print(l.pop(1))\n",
    "l"
   ]
  },
  {
   "cell_type": "code",
   "execution_count": null,
   "metadata": {},
   "outputs": [],
   "source": [
    "'''\n",
    "8. remove\n",
    "L.remove(value) -> None -- remove first occurrence of value.\n",
    "Raises ValueError if the value is not present.\n",
    "'''\n",
    "l=[1,2,3,1]\n",
    "l.remove(1)\n",
    "print(l)"
   ]
  },
  {
   "cell_type": "code",
   "execution_count": null,
   "metadata": {
    "scrolled": false
   },
   "outputs": [],
   "source": [
    "'''\n",
    "8.1\n",
    "Raises ValueError if the value is not present.\n",
    "'''\n",
    "l=[1,2,3,1]\n",
    "l.remove(13)\n",
    "print(l)"
   ]
  },
  {
   "cell_type": "code",
   "execution_count": null,
   "metadata": {},
   "outputs": [],
   "source": [
    "'''\n",
    "9. reverse\n",
    "reverse the list\n",
    "'''\n",
    "l=[1,2,3]\n",
    "l.reverse()\n",
    "print(l)"
   ]
  },
  {
   "cell_type": "code",
   "execution_count": null,
   "metadata": {},
   "outputs": [],
   "source": [
    "'''\n",
    "10. sort\n",
    " L.sort(key=None, reverse=False) -> None -- stable sort *IN PLACE*\n",
    " What would be the output of both the prints :)\n",
    "'''\n",
    "l=[1,2,3,1]\n",
    "print(l.sort())\n",
    "print(l)\n"
   ]
  },
  {
   "cell_type": "code",
   "execution_count": null,
   "metadata": {
    "scrolled": true
   },
   "outputs": [],
   "source": [
    "'''\n",
    "10.1 You can even sort in reverse order, just make reverse as \"True\"\n",
    "'''\n",
    "l=[1,2,3,1]\n",
    "l.sort(reverse=True)\n",
    "print(l)"
   ]
  },
  {
   "cell_type": "code",
   "execution_count": null,
   "metadata": {},
   "outputs": [],
   "source": [
    "'''\n",
    "11. insert\n",
    "L.insert(index, object) -- insert object before index\n",
    "\n",
    "Congrats we have covered all methods :) :)\n",
    "'''\n",
    "l=[1,2,3]\n",
    "l.insert(1,99)\n",
    "print(l)"
   ]
  }
 ],
 "metadata": {
  "kernelspec": {
   "display_name": "Python 3",
   "language": "python",
   "name": "python3"
  },
  "language_info": {
   "codemirror_mode": {
    "name": "ipython",
    "version": 3
   },
   "file_extension": ".py",
   "mimetype": "text/x-python",
   "name": "python",
   "nbconvert_exporter": "python",
   "pygments_lexer": "ipython3",
   "version": "3.7.4"
  }
 },
 "nbformat": 4,
 "nbformat_minor": 2
}
