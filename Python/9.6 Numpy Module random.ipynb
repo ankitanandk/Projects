{
 "cells": [
  {
   "cell_type": "code",
   "execution_count": 1,
   "metadata": {
    "scrolled": true
   },
   "outputs": [
    {
     "data": {
      "text/plain": [
       "array([[7, 1, 1, 4],\n",
       "       [7, 8, 1, 8],\n",
       "       [2, 7, 5, 2]])"
      ]
     },
     "execution_count": 1,
     "metadata": {},
     "output_type": "execute_result"
    }
   ],
   "source": [
    "'''\n",
    "1. One of the famous module in Numpy used in Data science is the random module.\n",
    "How can you have random numbers in array between 1 and 10.\n",
    "We can call the randint function from the random module\n",
    "\n",
    "size: It lets you choose the size of array\n",
    "'''\n",
    "# first 2 arguments are start and stop, and then is the dimension of the numpy array, the default start is 0\n",
    "import numpy as np\n",
    "np.random.randint(1,10, size=(3,4)) "
   ]
  },
  {
   "cell_type": "code",
   "execution_count": 2,
   "metadata": {
    "scrolled": true
   },
   "outputs": [
    {
     "data": {
      "text/plain": [
       "array([9, 6, 2, 6, 1, 9])"
      ]
     },
     "execution_count": 2,
     "metadata": {},
     "output_type": "execute_result"
    }
   ],
   "source": [
    "'''\n",
    "2. one dimension #random numbers between 0 and 10 in different arrays\n",
    "'''\n",
    "import numpy as np\n",
    "np.random.randint(10, size=6)"
   ]
  },
  {
   "cell_type": "code",
   "execution_count": 3,
   "metadata": {
    "scrolled": true
   },
   "outputs": [
    {
     "data": {
      "text/plain": [
       "array([[2, 0, 9, 5],\n",
       "       [7, 3, 7, 3],\n",
       "       [0, 5, 5, 2]])"
      ]
     },
     "execution_count": 3,
     "metadata": {},
     "output_type": "execute_result"
    }
   ],
   "source": [
    "'''2.1 two dimensional, numbers between 0 and 10 and in 3 rows and 4 columns'''\n",
    "np.random.randint(10, size=(3,4))"
   ]
  },
  {
   "cell_type": "code",
   "execution_count": 4,
   "metadata": {
    "scrolled": true
   },
   "outputs": [
    {
     "name": "stdout",
     "output_type": "stream",
     "text": [
      "[[[0 3 3 9 5]\n",
      "  [9 4 8 3 1]\n",
      "  [0 1 8 5 2]\n",
      "  [6 9 7 9 4]]\n",
      "\n",
      " [[3 3 8 7 8]\n",
      "  [1 1 4 4 2]\n",
      "  [1 7 1 1 5]\n",
      "  [0 8 2 0 7]]\n",
      "\n",
      " [[8 6 1 9 6]\n",
      "  [2 9 7 4 6]\n",
      "  [2 4 1 3 4]\n",
      "  [7 3 0 8 7]]]\n"
     ]
    }
   ],
   "source": [
    "'''2.2 #Three dimension, when you run in spyder, \n",
    "focus on the index drop down and you can view the data from many dimensions\n",
    "\n",
    "It basically means: 3 arrays with 4 rows and 5 columns :)\n",
    "'''\n",
    "x3 = np.random.randint(10, size=(3,4,5))\n",
    "print(x3)"
   ]
  },
  {
   "cell_type": "code",
   "execution_count": 14,
   "metadata": {
    "scrolled": true
   },
   "outputs": [
    {
     "name": "stdout",
     "output_type": "stream",
     "text": [
      "1 2 3\n"
     ]
    }
   ],
   "source": [
    "'''\n",
    "2.4. To see the dimension of the array, use the ndim method with the array names\n",
    "'''\n",
    "print(np.ndim(x1),np.ndim(x2),np.ndim(x3))"
   ]
  },
  {
   "cell_type": "code",
   "execution_count": 11,
   "metadata": {},
   "outputs": [
    {
     "data": {
      "text/plain": [
       "array([0.43290447, 0.57962719, 0.64013714, 0.93563022, 0.54082711])"
      ]
     },
     "execution_count": 11,
     "metadata": {},
     "output_type": "execute_result"
    }
   ],
   "source": [
    "'''\n",
    "3. Just random values between 0 and 1, just like rand() function in excel, \n",
    "always use spyder for the documentation and optional parameters\n",
    "This would create a one dimensional array\n",
    "\n",
    "Values would change for every run :) ...between 0 and 1\n",
    "'''\n",
    "import numpy as np\n",
    "np.random.rand(5)\n",
    "\n",
    "#This can be given as like this also, read it 1 row and 5 columns \n",
    "import numpy as np\n",
    "np.random.rand(1,5)"
   ]
  },
  {
   "cell_type": "code",
   "execution_count": 13,
   "metadata": {},
   "outputs": [
    {
     "data": {
      "text/plain": [
       "array([[0.1947482 , 0.00242739, 0.3849944 , 0.33433575, 0.96010209],\n",
       "       [0.54701502, 0.22736868, 0.7294633 , 0.27819422, 0.92049886],\n",
       "       [0.02771183, 0.71443007, 0.97116795, 0.39557771, 0.64037313]])"
      ]
     },
     "execution_count": 13,
     "metadata": {},
     "output_type": "execute_result"
    }
   ],
   "source": [
    "'''\n",
    "3.1 Two dimensional array usuing random.rand. 3 rows and 5 columns with values between 0 and 1\n",
    "'''\n",
    "import numpy as np\n",
    "np.random.rand(3,5)"
   ]
  },
  {
   "cell_type": "code",
   "execution_count": 14,
   "metadata": {
    "scrolled": true
   },
   "outputs": [
    {
     "data": {
      "text/plain": [
       "array([[[0.7121935 , 0.31787219, 0.6636324 , 0.47587691, 0.47916684],\n",
       "        [0.15656382, 0.2458527 , 0.4984547 , 0.02634518, 0.81349673]],\n",
       "\n",
       "       [[0.83540895, 0.39805239, 0.62667402, 0.18386306, 0.79191423],\n",
       "        [0.03668438, 0.14581428, 0.82774092, 0.00417446, 0.91496752]],\n",
       "\n",
       "       [[0.39631411, 0.47982285, 0.45647606, 0.53196096, 0.96274852],\n",
       "        [0.2283355 , 0.59143928, 0.96249518, 0.64047818, 0.17788448]]])"
      ]
     },
     "execution_count": 14,
     "metadata": {},
     "output_type": "execute_result"
    }
   ],
   "source": [
    "'''\n",
    "3.1 Three dimensional array using random.rand\n",
    "3 arrays with 2 rows and 5 columns with values between 0 and 1\n",
    "'''\n",
    "import numpy as np\n",
    "np.random.rand(3,2,5)"
   ]
  },
  {
   "cell_type": "code",
   "execution_count": 2,
   "metadata": {
    "scrolled": false
   },
   "outputs": [
    {
     "name": "stdout",
     "output_type": "stream",
     "text": [
      "[[6 1 4 4]\n",
      " [8 4 6 3]\n",
      " [5 8 7 9]]\n"
     ]
    }
   ],
   "source": [
    "'''4. With the seed value you can always get the same set of random numbers\n",
    "Seed must be between 0 and 2**32 - 1\n",
    "\n",
    "This seed would ensure that the values for every run are the same.\n",
    "'''\n",
    "import numpy as np\n",
    "np.random.seed(0)\n",
    "x1 = np.random.randint(1,10, size=(3,4)) \n",
    "print(x1)"
   ]
  }
 ],
 "metadata": {
  "kernelspec": {
   "display_name": "Python 3",
   "language": "python",
   "name": "python3"
  },
  "language_info": {
   "codemirror_mode": {
    "name": "ipython",
    "version": 3
   },
   "file_extension": ".py",
   "mimetype": "text/x-python",
   "name": "python",
   "nbconvert_exporter": "python",
   "pygments_lexer": "ipython3",
   "version": "3.7.3"
  }
 },
 "nbformat": 4,
 "nbformat_minor": 2
}
