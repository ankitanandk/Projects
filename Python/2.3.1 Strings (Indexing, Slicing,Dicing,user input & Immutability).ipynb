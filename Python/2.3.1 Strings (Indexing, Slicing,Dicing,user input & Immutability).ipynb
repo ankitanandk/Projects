{
 "cells": [
  {
   "cell_type": "code",
   "execution_count": null,
   "metadata": {},
   "outputs": [],
   "source": [
    "'''0.Definition:Strings in Python are identified as a contiguous (adjacent) \n",
    "set of characters represented in the quotation marks.\n",
    "\n",
    "x=\"Amit\"\n",
    "\n",
    "'''"
   ]
  },
  {
   "cell_type": "code",
   "execution_count": null,
   "metadata": {},
   "outputs": [],
   "source": [
    "'''\n",
    "1. Indexing is done using the square braces [] and giving the index number. \n",
    "This would return the alphabet present at that index position.\n",
    "To pick a particular character, first define the value in string \n",
    "and then pass the nth char-1, as the count starts from 0 in Python, \n",
    "SAS counts from 1\n",
    "'''\n",
    "a=\"amit\"\n",
    "print('amit'[2])\n"
   ]
  },
  {
   "cell_type": "code",
   "execution_count": null,
   "metadata": {},
   "outputs": [],
   "source": [
    "'''2. In Negative indexing the traversing is done from right side of the string'''\n",
    "a=\"amit\"\n",
    "print(a[-1]) "
   ]
  },
  {
   "cell_type": "code",
   "execution_count": 1,
   "metadata": {},
   "outputs": [
    {
     "name": "stdout",
     "output_type": "stream",
     "text": [
      "m mi mit am mi ami amit\n"
     ]
    }
   ],
   "source": [
    "'''\n",
    "3. Slicing and Dicing: we now start to give 2 or 3 arguments in the [] braces depending on the requirement.\n",
    "\n",
    "Slicing and dicing up strings, quite similar to the substr function in SAS :)\n",
    "For slicing we give 2 arguments, start and stop  separated by a : in the []\n",
    "The stop index is excluded while producing the output, thus n-1.\n",
    "'''\n",
    "a=\"amit\"\n",
    "b=a[1:2]\n",
    "c=a[1:3]\n",
    "d=a[1:]\n",
    "e=a[:2]\n",
    "f=a[-3:-1]\n",
    "g=a[:-1]\n",
    "h=a[:]\n",
    "print(b,c,d,e,f,g,h)"
   ]
  },
  {
   "cell_type": "code",
   "execution_count": null,
   "metadata": {},
   "outputs": [],
   "source": [
    "'''\n",
    "3.1: What would happen in below code?\n",
    "The start and stop indices are now default and the entire stingis read and printed.\n",
    "'''\n",
    "a=\"amit\"\n",
    "x=a[:]\n",
    "print(x)"
   ]
  },
  {
   "cell_type": "code",
   "execution_count": null,
   "metadata": {},
   "outputs": [],
   "source": [
    "'''\n",
    "3.2: Whats the issue in below code, how can we fix this.\n",
    "'''\n",
    "a=\"amit\"\n",
    "x=a[-1:-3]\n",
    "print(x)"
   ]
  },
  {
   "cell_type": "code",
   "execution_count": 2,
   "metadata": {},
   "outputs": [
    {
     "name": "stdout",
     "output_type": "stream",
     "text": [
      "mtu\n",
      "atm\n"
     ]
    }
   ],
   "source": [
    "'''\n",
    "4. Slicing Dicing and the 3rd argument as Step or the by or the increment :)\n",
    "The third argument work as a step or the increment, very similar to the by statement in do loop in SAS\n",
    "so the three inputs are start(1),stop(2) and by(3).\n",
    "'''\n",
    "a=\"amitkumar\"\n",
    "print(a[1:7:2])\n",
    "\n",
    "a=\"amitkumar\"\n",
    "print(a[::3])"
   ]
  },
  {
   "cell_type": "code",
   "execution_count": null,
   "metadata": {},
   "outputs": [],
   "source": [
    "'''\n",
    "6. what would happen in below code, one of the unique attribute in Python, try and explain :)\n",
    "'''\n",
    "a=\"amitkumar\"\n",
    "print(a[::-1])"
   ]
  },
  {
   "cell_type": "code",
   "execution_count": 4,
   "metadata": {},
   "outputs": [
    {
     "name": "stdout",
     "output_type": "stream",
     "text": [
      "Enter your stringnaman\n",
      "naman\n"
     ]
    }
   ],
   "source": [
    "'''\n",
    "7. Ask a string from user and print the reverse of it :) \n",
    "How to ask input from user, use the input function :)\n",
    "'''\n",
    "s=input(\"Enter your string\")\n",
    "print(s[::-1])"
   ]
  },
  {
   "cell_type": "code",
   "execution_count": null,
   "metadata": {},
   "outputs": [],
   "source": [
    "'''\n",
    "7.1 Ask 2 strings from user and print the reverse of it :) \n",
    "How to ask input from user?\n",
    "'''\n",
    "s1,s2=input(\"Enter your string1\"),input(\"Enter your string 2\")\n",
    "print(s1[::-1])\n",
    "print(s2[::-1])"
   ]
  },
  {
   "cell_type": "code",
   "execution_count": null,
   "metadata": {
    "scrolled": true
   },
   "outputs": [],
   "source": [
    "'''\n",
    "7.2 Another cool way to do the above question, using the split function. \n",
    "'''\n",
    "s1,s2=input(\"Enter your strings\").split(\",\")\n",
    "print(s1[::-1])\n",
    "print(s2[::-1])"
   ]
  },
  {
   "cell_type": "code",
   "execution_count": null,
   "metadata": {},
   "outputs": [],
   "source": [
    "'''7.2.1 How does these inputs are stored as\n",
    "They are stored as list\n",
    "'''\n",
    "a=input(\"Enter the strings 1 and 2, by comma\").split(\",\")\n",
    "print((a), type(a))"
   ]
  },
  {
   "cell_type": "code",
   "execution_count": null,
   "metadata": {},
   "outputs": [],
   "source": [
    "'''7.3 \"Take the user's age in year and print age in months\n",
    "Why we need the int function, as the input by default converts to string\n",
    "\"'''\n",
    "\n",
    "a=int(input(\"Enter you age\"))\n",
    "print(\"Your age in months is \",a*12)"
   ]
  },
  {
   "cell_type": "code",
   "execution_count": null,
   "metadata": {},
   "outputs": [],
   "source": [
    "'''\n",
    "8. Let us try and understand why strings are called as immutable.\n",
    "\n",
    "Example 1. We are trying to change the string and it is not supported\n",
    "The below code does not work, this is the definition of immutable.\n",
    "\n",
    "'''\n",
    "name=\"amit\"\n",
    "name[2]=\"p\""
   ]
  },
  {
   "cell_type": "code",
   "execution_count": 1,
   "metadata": {},
   "outputs": [
    {
     "data": {
      "text/plain": [
       "''"
      ]
     },
     "execution_count": 1,
     "metadata": {},
     "output_type": "execute_result"
    }
   ],
   "source": [
    "'''\n",
    "9. Would this run and give an empty output, check please. Think about it, \n",
    "why the output is not coming.\n",
    "'''\n",
    "x=\"amitkumar\"\n",
    "y=x[1:7:-1]\n",
    "y"
   ]
  },
  {
   "cell_type": "code",
   "execution_count": null,
   "metadata": {},
   "outputs": [],
   "source": [
    "'''\n",
    "10. print hello with 3 single quotes on both sides\n",
    "'''\n",
    "print(\"'''hello'''\")\n",
    "print(\"\\'\\'\\'hello\\'\\'\\'\")\n"
   ]
  }
 ],
 "metadata": {
  "kernelspec": {
   "display_name": "Python 3",
   "language": "python",
   "name": "python3"
  },
  "language_info": {
   "codemirror_mode": {
    "name": "ipython",
    "version": 3
   },
   "file_extension": ".py",
   "mimetype": "text/x-python",
   "name": "python",
   "nbconvert_exporter": "python",
   "pygments_lexer": "ipython3",
   "version": "3.7.4"
  }
 },
 "nbformat": 4,
 "nbformat_minor": 2
}
