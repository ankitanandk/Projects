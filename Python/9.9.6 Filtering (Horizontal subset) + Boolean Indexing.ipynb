{
 "cells": [
  {
   "cell_type": "code",
   "execution_count": null,
   "metadata": {},
   "outputs": [],
   "source": [
    "'''0. DataFrames can be filtered in multiple ways; the most intuitive of which is using boolean indexing\n",
    "\n",
    "Boolean indexing: Every value is tested/evaluated for the condition and if the condition is true\n",
    "then True or False is returned for that row.\n",
    "This would return a series.\n",
    "\n",
    "\n",
    "Two Methods are available for the same: Boolean Indexing and the query method\n",
    "'''\n",
    "import pandas as pd\n",
    "df=pd.read_csv('/Users/AHAAN/Desktop/Amit_Python/9. data Frames/admit.csv')\n",
    "df.Age>40"
   ]
  },
  {
   "cell_type": "code",
   "execution_count": null,
   "metadata": {
    "scrolled": true
   },
   "outputs": [],
   "source": [
    "'''0.1. Guess the output, the boolean indexing would be captured in a series'''\n",
    "import pandas as pd\n",
    "df=pd.read_csv('/Users/AHAAN/Desktop/Amit_Python/9. data Frames/admit.csv')\n",
    "new=df.Age>40\n",
    "print(type(new))"
   ]
  },
  {
   "cell_type": "code",
   "execution_count": null,
   "metadata": {
    "scrolled": false
   },
   "outputs": [],
   "source": [
    "'''0.2 You can assign the boolean indexing in x and use that to filter frame\n",
    "all the indexes having True would be filtered out\n",
    "'''\n",
    "import pandas as pd\n",
    "df=pd.read_csv('/Users/AHAAN/Desktop/Amit_Python/9. data Frames/admit.csv')\n",
    "x=df.Age>40\n",
    "new=df[x]\n",
    "new.head()"
   ]
  },
  {
   "cell_type": "code",
   "execution_count": null,
   "metadata": {
    "scrolled": true
   },
   "outputs": [],
   "source": [
    "'''0.3 You can even reverse the boolean indexing and make the result opposite'''\n",
    "import pandas as pd\n",
    "df=pd.read_csv('/Users/AHAAN/Desktop/Amit_Python/9. data Frames/admit.csv')\n",
    "x=df.Age>40\n",
    "x=~x\n",
    "new=df[x]\n",
    "new\n",
    "\n",
    "#Other simple way for this\n",
    "import pandas as pd\n",
    "df=pd.read_csv('/Users/AHAAN/Desktop/Amit_Python/9. data Frames/admit.csv')\n",
    "new=df[~(df.Age>40)]\n",
    "new"
   ]
  },
  {
   "cell_type": "code",
   "execution_count": null,
   "metadata": {},
   "outputs": [],
   "source": [
    "'''0.4 Let's try to change one boolean indexing and see the result, Now that 1 row would not come in output'''\n",
    "import pandas as pd\n",
    "df=pd.read_csv('/Users/AHAAN/Desktop/Amit_Python/9. data Frames/admit.csv')\n",
    "x=df.Age>40\n",
    "x[3]=False\n",
    "new=df[(x)]\n",
    "new"
   ]
  },
  {
   "cell_type": "code",
   "execution_count": null,
   "metadata": {
    "scrolled": false
   },
   "outputs": [],
   "source": [
    "'''1. To capture the rows we would need to push in a new or same data frame'''\n",
    "import pandas as pd\n",
    "df=pd.read_csv('/Users/AHAAN/Desktop/Amit_Python/9. data Frames/admit.csv')\n",
    "new=df[df.Age>40]\n",
    "new.head(2)"
   ]
  },
  {
   "cell_type": "code",
   "execution_count": null,
   "metadata": {},
   "outputs": [],
   "source": [
    "'''1.1 To overwrite the same frame, you need to equate to the same frame'''\n",
    "import pandas as pd\n",
    "df=pd.read_csv('/Users/AHAAN/Desktop/Amit_Python/9. data Frames/admit.csv')\n",
    "df=df[df.Age>40]\n",
    "df.head(2)"
   ]
  },
  {
   "cell_type": "code",
   "execution_count": null,
   "metadata": {
    "scrolled": true
   },
   "outputs": [],
   "source": [
    "'''*2. Pull all males from the frame and push to 3 new data frames'''\n",
    "import pandas as pd\n",
    "df=pd.read_csv('/Users/AHAAN/Desktop/Amit_Python/9. data Frames/admit.csv')\n",
    "a=b=c=df[df.Sex==\"M\"]\n",
    "print(a.shape,b.shape,c.shape)"
   ]
  },
  {
   "cell_type": "code",
   "execution_count": null,
   "metadata": {
    "scrolled": false
   },
   "outputs": [],
   "source": [
    "'''*3. Pull all Males with age above 40, why are we using the & , not operator (and)\n",
    "we need the bit wise operator that would help us compare the values ... it would only pick the 1-1 cases..\n",
    "'''\n",
    "import pandas as pd\n",
    "df=pd.read_csv('/Users/AHAAN/Desktop/Amit_Python/9. data Frames/admit.csv')\n",
    "a=df[(df.Sex==\"M\") & (df.Age >40)]\n",
    "a"
   ]
  },
  {
   "cell_type": "code",
   "execution_count": null,
   "metadata": {},
   "outputs": [],
   "source": [
    "'''3.1 To get the sense if the Boolean mapping see the output of the code'''\n",
    "import pandas as pd\n",
    "df=pd.read_csv('/Users/AHAAN/Desktop/Amit_Python/9. data Frames/admit.csv')\n",
    "[(df.Age>40) & (df.Sex==\"M\")]"
   ]
  },
  {
   "cell_type": "code",
   "execution_count": null,
   "metadata": {},
   "outputs": [],
   "source": [
    "'''*4. Pull all people with actlevel HIGH or LOW, why are we using | and not operator(or)'''\n",
    "import pandas as pd\n",
    "df=pd.read_csv('/Users/AHAAN/Desktop/Amit_Python/9. data Frames/admit.csv')\n",
    "a=df[(df.ActLevel==\"HIGH\") | (df.ActLevel==\"LOW\")]"
   ]
  },
  {
   "cell_type": "code",
   "execution_count": null,
   "metadata": {},
   "outputs": [],
   "source": [
    "'''*5. Pull all people with actlevel HIGH or LOW and should be males'''\n",
    "import pandas as pd\n",
    "df=pd.read_csv('/Users/AHAAN/Desktop/Amit_Python/9. data Frames/admit.csv')\n",
    "a=df[(df.Sex==\"M\") & ((df.ActLevel==\"HIGH\") | (df.ActLevel==\"LOW\"))]"
   ]
  },
  {
   "cell_type": "code",
   "execution_count": null,
   "metadata": {},
   "outputs": [],
   "source": [
    "'''*6. Pull all people with actlevel HIGH or LOW and should be males and age above 40'''\n",
    "import pandas as pd\n",
    "df=pd.read_csv('/Users/AHAAN/Desktop/Amit_Python/9. data Frames/admit.csv')\n",
    "a=df[(df.Sex==\"M\") & (df.Age >40) & ((df.ActLevel==\"HIGH\") | (df.ActLevel==\"LOW\"))]"
   ]
  },
  {
   "cell_type": "code",
   "execution_count": null,
   "metadata": {
    "scrolled": false
   },
   "outputs": [],
   "source": [
    "'''7. You can also use query on a single frame and get the subset'''\n",
    "import pandas as pd\n",
    "df=pd.read_csv('/Users/AHAAN/Desktop/Amit_Python/9. data Frames/admit.csv')\n",
    "new=df.query('Age>40')\n",
    "new"
   ]
  },
  {
   "cell_type": "code",
   "execution_count": null,
   "metadata": {
    "scrolled": true
   },
   "outputs": [],
   "source": [
    "'''7.1 You can also use query on a single frame and get the subset using the compound query'''\n",
    "import pandas as pd\n",
    "df=pd.read_csv('/Users/AHAAN/Desktop/Amit_Python/9. data Frames/admit.csv')\n",
    "new=df.query('Age>40 and Sex==\"M\"')\n",
    "new"
   ]
  },
  {
   "cell_type": "code",
   "execution_count": null,
   "metadata": {},
   "outputs": [],
   "source": [
    "'''8. Dynamic filtering on columns position'''\n",
    "#If I need all vars 4 to 8th\n",
    "[v for k,v in enumerate(df.columns) if k in range(4,9)]\n",
    "import pandas as pd\n",
    "df=pd.read_csv('/Users/AHAAN/Desktop/Amit_Python/9. data Frames/admit.csv')\n",
    "df[[v for k,v in enumerate(df.columns) if k in range(4,9)]].head(2)"
   ]
  }
 ],
 "metadata": {
  "kernelspec": {
   "display_name": "Python 3",
   "language": "python",
   "name": "python3"
  },
  "language_info": {
   "codemirror_mode": {
    "name": "ipython",
    "version": 3
   },
   "file_extension": ".py",
   "mimetype": "text/x-python",
   "name": "python",
   "nbconvert_exporter": "python",
   "pygments_lexer": "ipython3",
   "version": "3.7.3"
  }
 },
 "nbformat": 4,
 "nbformat_minor": 2
}
