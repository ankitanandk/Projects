{
 "cells": [
  {
   "cell_type": "markdown",
   "metadata": {},
   "source": [
    "# 0. intro to the Pandas Dataframe: Axis 0 is Rows and Axis 1 is columns\n",
    "Axis 0: The movement is row wise\n",
    "Axis 1: The movement is column wise\n",
    "\n",
    "<img src=\"pd1.png\" style= \"width: 600px;height:450px\"/>"
   ]
  },
  {
   "cell_type": "markdown",
   "metadata": {},
   "source": [
    "'''\n",
    "A DataFrame in pandas is analogous to a SAS data set - a two-dimensional data source with labeled columns\n",
    "that can be of different types. As will be shown below, almost any operation that can be applied to a data set using SAS’s DATA step, can also be accomplished in pandas.\n",
    "\n",
    "A Series is the data structure that represents one column of a DataFrame. SAS doesn’t have a separate data structure for a single column, but in general, working with a Series is analogous to referencing a column in the DATA step.\n",
    "\n",
    "Series: Analogous is Column\n",
    "\n",
    "Axis: The axis for rows is 0 and for columns it is 1.\n",
    "\n",
    "A pandas DataFrame can be constructed in many different ways, but for a small number of values, it is often convenient to specify it as a Python dictionary, where the keys are the column names and the values are the data.\n",
    "\n",
    "'''\n",
    "\n",
    "import pandas as pd\n",
    "df = pd.DataFrame({'x': [1, 3, 5],'y': [2, 4, 6],'z':[9,8,8]})\n"
   ]
  },
  {
   "cell_type": "code",
   "execution_count": null,
   "metadata": {
    "scrolled": false
   },
   "outputs": [],
   "source": [
    "'''\n",
    "1. Creating a frame  with 2 variables, using  the DataFrame function calling the pandas module\n",
    "use the function name correct: DataFrame()\n",
    "Also you would need to import the pandas module: import pandas as pd\n",
    "Give the input in form of a dictionary, key and values pairs\n",
    "'''\n",
    "import pandas as pd\n",
    "df=pd.DataFrame({'x':[1,2,3],'y':[4,5,6]})\n",
    "df\n",
    "\n",
    "#This can be written with a tuple as well, however the {} braces are required\n",
    "#Make sure the D is capital and F is capital: DataFrame\n",
    "\n",
    "import pandas as pd\n",
    "df=pd.DataFrame({'a':(1,2,3),'y':(4,5,6)})\n",
    "print(df)"
   ]
  },
  {
   "cell_type": "code",
   "execution_count": null,
   "metadata": {
    "scrolled": true
   },
   "outputs": [],
   "source": [
    "'''\n",
    "2. How can I load selective functions from pandas?\n",
    "you can import selective functions from the module, and now we can use the function explicitly\n",
    "from pandas import DataFrame\n",
    "'''\n",
    "from pandas import DataFrame\n",
    "df = DataFrame({'x': [1, 3, 5],'y': [2, 4, 6],'z':[9,8,8]})  # make sure to write DataFrame\n",
    "df #To print the data frame "
   ]
  },
  {
   "cell_type": "code",
   "execution_count": null,
   "metadata": {
    "scrolled": true
   },
   "outputs": [],
   "source": [
    "'''2.1 Another way to do above question, we can alias the method as well'''\n",
    "from pandas import DataFrame as da\n",
    "df = da({'x': [1, 3, 5],'y': [2, 4, 6],'z':[9,8,8]})  # make sure to write DataFrame\n",
    "df #To print the data frame "
   ]
  },
  {
   "cell_type": "code",
   "execution_count": null,
   "metadata": {
    "scrolled": true
   },
   "outputs": [],
   "source": [
    "'''\n",
    "3. The arrays in data frame must be of same length, \n",
    "else the data frame could not be created.\n",
    "\n",
    "we could though have missing values\n",
    "'''\n",
    "import pandas as pd\n",
    "df=pd.DataFrame({'x':[1,2,3],'y':[4,5,6,7]})\n",
    "print(df)"
   ]
  },
  {
   "cell_type": "code",
   "execution_count": null,
   "metadata": {},
   "outputs": [],
   "source": [
    "'''\n",
    "4. The arrays in data frame can have data of different type or compund data types, this is allowed\n",
    "The type of columns we would discuss later\n",
    "'''\n",
    "import pandas as pd\n",
    "df=pd.DataFrame({'x':[1,2,3],'y':[4,5,'a']})\n",
    "print(df)"
   ]
  },
  {
   "cell_type": "code",
   "execution_count": null,
   "metadata": {},
   "outputs": [],
   "source": [
    "'''*5. How can you create multiple dataframes in one go from the raw input values\n",
    "All of the frames would have same memory address\n",
    "'''\n",
    "import pandas as pd\n",
    "a=b=c=pd.DataFrame({'x':[1,2,3],'y':[4,5,'a']})\n",
    "print(id(a),id(b),id(c))"
   ]
  },
  {
   "cell_type": "code",
   "execution_count": null,
   "metadata": {
    "scrolled": true
   },
   "outputs": [],
   "source": [
    "'''5.1 Deleting one frame would not impact others'''\n",
    "import pandas as pd\n",
    "a=b=c=pd.DataFrame({'x':[1,2,3],'y':[4,5,'a']})\n",
    "del a,b\n",
    "print(c)"
   ]
  },
  {
   "cell_type": "code",
   "execution_count": null,
   "metadata": {
    "scrolled": true
   },
   "outputs": [],
   "source": [
    "'''6. How to handle missing values in a frame, you can use None or np.nan for the same\n",
    "For np.nan, do import the numpy module\n",
    "np.nan can also be written as np.NAN or np.NaN and np.nan\n",
    "'''\n",
    "import pandas as pd\n",
    "import numpy as np\n",
    "a=pd.DataFrame({'x':[1,2,np.nan],'y':[4,5,None]})\n",
    "a"
   ]
  },
  {
   "cell_type": "code",
   "execution_count": null,
   "metadata": {
    "scrolled": true
   },
   "outputs": [],
   "source": [
    "'''6.1 Can i give \"NaN\" directly: NO you can not as NAN is not recognized'''\n",
    "\n",
    "import pandas as pd\n",
    "import numpy as np\n",
    "a=pd.DataFrame({'x':[1,2,NaN],'y':[4,5,6]})\n",
    "print(a)"
   ]
  },
  {
   "cell_type": "code",
   "execution_count": null,
   "metadata": {
    "scrolled": false
   },
   "outputs": [],
   "source": [
    "'''7. Does the dataframe columns follow the naming convention? If not why not?\n",
    "As the frames are in memory + the column is not an object; however the dataframe name does follow naming convention \n",
    "\n",
    "for column you can write 1x, Not for the dataframe\n",
    "'''\n",
    "import pandas as pd\n",
    "a=pd.DataFrame({'1x':[1,2,3],'y@2':[4,5,6]})\n",
    "print(a)"
   ]
  },
  {
   "cell_type": "code",
   "execution_count": null,
   "metadata": {},
   "outputs": [],
   "source": [
    "'''7.1 This is not allowed, naming convention should be followed for the dataframe name'''\n",
    "import pandas as pd\n",
    "1a=pd.DataFrame({'1x':[1,2,3],'y@2':[4,5,6]})\n",
    "print(1a)"
   ]
  },
  {
   "cell_type": "code",
   "execution_count": null,
   "metadata": {
    "scrolled": true
   },
   "outputs": [],
   "source": [
    "'''*8. Can I use numpy random module for the frame creation with pandas\n",
    "size=3 is for 3 values, randint(start,stop,size)\n",
    "start is 0 by default\n",
    "'''\n",
    "import pandas as pd\n",
    "import numpy as np\n",
    "a=pd.DataFrame({'x':np.random.randint(1,10, size=3),'y':np.random.randint(10, size=3)})\n",
    "print(a)"
   ]
  },
  {
   "cell_type": "code",
   "execution_count": null,
   "metadata": {
    "scrolled": true
   },
   "outputs": [],
   "source": [
    "'''*8.1 Can I have random values , between 0 and 1, in my data frame using the numpy module'''\n",
    "import pandas as pd\n",
    "import numpy as np\n",
    "a=pd.DataFrame({'x':np.random.rand(5),'y':np.random.rand(5)})\n",
    "print(a)"
   ]
  },
  {
   "cell_type": "code",
   "execution_count": null,
   "metadata": {},
   "outputs": [],
   "source": [
    "'''8.2 I can even mix and match the randint and rand modules to create a frame'''\n",
    "import numpy as np\n",
    "import pandas as pd\n",
    "\n",
    "df=pd.DataFrame({'x':np.random.rand(3),'y':np.random.randint(100,size=(3))})\n",
    "df"
   ]
  },
  {
   "cell_type": "code",
   "execution_count": null,
   "metadata": {},
   "outputs": [],
   "source": [
    "'''*9 I can even use the variables for column names'''\n",
    "import pandas as pd\n",
    "x=\"Name\"\n",
    "y=\"Age\"\n",
    "a=pd.DataFrame({x:np.random.rand(5),y:np.random.rand(5)})\n",
    "print(a)"
   ]
  },
  {
   "cell_type": "code",
   "execution_count": null,
   "metadata": {},
   "outputs": [],
   "source": [
    "'''*9.1 I can even use the variables for column names'''\n",
    "import pandas as pd\n",
    "x=\"Name\"\n",
    "y=\"Age\"\n",
    "a=pd.DataFrame({x:np.random.rand(5),y:np.random.rand(5)})\n",
    "print(a)"
   ]
  },
  {
   "cell_type": "code",
   "execution_count": null,
   "metadata": {},
   "outputs": [],
   "source": [
    "'''*9.2 If 2 vars are given same name the last one would be in frame\n",
    "1 column Name per frame\n",
    "'''\n",
    "import pandas as pd\n",
    "a=pd.DataFrame({\"Name\":[1,2,3],\"Name\":[4,5,6]})\n",
    "print(a)"
   ]
  },
  {
   "cell_type": "code",
   "execution_count": null,
   "metadata": {},
   "outputs": [],
   "source": [
    "'''*9.2 If 2 vars are given same name the last one would be in frame\n",
    "1 column Name per frame. If you give \"Name \" and \"name\" they all are different variables \n",
    "'''\n",
    "import pandas as pd\n",
    "a=pd.DataFrame({\"Name\":[1,2,3],\"Name \":[4,5,6],\"name\":[9,9,9]})\n",
    "print(a)"
   ]
  },
  {
   "cell_type": "code",
   "execution_count": null,
   "metadata": {},
   "outputs": [],
   "source": [
    "'''10. If the frames have same name they are also overwritten by the last one'''\n",
    "import pandas as pd\n",
    "df=pd.DataFrame({'x':[1,2,3],'y':[4,5,'a']})\n",
    "df=pd.DataFrame({'a':[1,2,3],'b':[4,5,'a']})\n",
    "df"
   ]
  }
 ],
 "metadata": {
  "kernelspec": {
   "display_name": "Python 3",
   "language": "python",
   "name": "python3"
  },
  "language_info": {
   "codemirror_mode": {
    "name": "ipython",
    "version": 3
   },
   "file_extension": ".py",
   "mimetype": "text/x-python",
   "name": "python",
   "nbconvert_exporter": "python",
   "pygments_lexer": "ipython3",
   "version": "3.7.4"
  }
 },
 "nbformat": 4,
 "nbformat_minor": 2
}
