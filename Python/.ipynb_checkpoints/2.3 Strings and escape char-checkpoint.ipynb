{
 "cells": [
  {
   "cell_type": "code",
   "execution_count": null,
   "metadata": {},
   "outputs": [],
   "source": [
    "'''\n",
    "1. Definition:Strings in Python are identified as a contiguous (adjacent) \n",
    "set of characters represented in the quotation marks.\n",
    "\n",
    "x=\"Amit\"\n",
    "'''"
   ]
  },
  {
   "cell_type": "code",
   "execution_count": null,
   "metadata": {},
   "outputs": [],
   "source": [
    "'''1.1 What is Escape Char\n",
    "\n",
    "In computing and telecommunication, an escape character is a character which invokes an alternative \n",
    "interpretation on subsequent characters in a character sequence. An escape character is a particular \n",
    "case of metacharacters. Generally, the judgement of whether something is an escape character or not depends on context.\n",
    "\n",
    "The backslash is used as a marker character to tell the compiler/interpreter that the next character\n",
    "has some special meaning. What that next character means is up to the implementation. \n",
    "For example C-style languages use \\n to mean newline and \\t to mean tab.\n",
    "\n",
    "The use of the word \"escape\" really means to temporarily escape out of parsing the text and into a \n",
    "another mode where the subsequent character is treated differently.\n",
    "'''\n"
   ]
  },
  {
   "cell_type": "code",
   "execution_count": null,
   "metadata": {},
   "outputs": [],
   "source": [
    "'''1.2 What is Parsing?\n",
    "Parsing is the process of analyzing text made of a sequence of tokens to determine its grammatical structure \n",
    "with respect to a given (more or less) formal grammar. \n",
    "The parser then builds a data structure based on the tokens.\n",
    "'''"
   ]
  },
  {
   "cell_type": "code",
   "execution_count": 1,
   "metadata": {
    "scrolled": true
   },
   "outputs": [
    {
     "name": "stdout",
     "output_type": "stream",
     "text": [
      "I don't sleep early\n",
      "I wish to say \"I love SAS\" \n"
     ]
    }
   ],
   "source": [
    "'''\n",
    "2. Balancing quotes in strings, either single or double quotes can be used.\n",
    "'''\n",
    "print(\"I don't sleep early\")\n",
    "\n",
    "print('I wish to say \"I love SAS\" ')\n"
   ]
  },
  {
   "cell_type": "code",
   "execution_count": 1,
   "metadata": {},
   "outputs": [
    {
     "name": "stdout",
     "output_type": "stream",
     "text": [
      "I wish \"to say I love SAS \n"
     ]
    }
   ],
   "source": [
    "'''2.01. Is the below code okay'''\n",
    "\n",
    "print('I wish \"to say I love SAS ')"
   ]
  },
  {
   "cell_type": "code",
   "execution_count": 1,
   "metadata": {
    "scrolled": true
   },
   "outputs": [
    {
     "ename": "SyntaxError",
     "evalue": "invalid syntax (<ipython-input-1-e44cb6efee36>, line 5)",
     "output_type": "error",
     "traceback": [
      "\u001b[0;36m  File \u001b[0;32m\"<ipython-input-1-e44cb6efee36>\"\u001b[0;36m, line \u001b[0;32m5\u001b[0m\n\u001b[0;31m    print('amit'name'amit')\u001b[0m\n\u001b[0m                   ^\u001b[0m\n\u001b[0;31mSyntaxError\u001b[0m\u001b[0;31m:\u001b[0m invalid syntax\n"
     ]
    }
   ],
   "source": [
    "'''2.1 You can use single quotes in double and vice versa. Below is not allowed\n",
    "The name is now a string not in quotes and this would error out\n",
    "'''\n",
    "print('amit'name'amit')\n",
    "\n",
    "#fix, if you balance the quotes, it would be solved\n",
    "print('amit''name''amit')"
   ]
  },
  {
   "cell_type": "code",
   "execution_count": 2,
   "metadata": {
    "scrolled": true
   },
   "outputs": [
    {
     "name": "stdout",
     "output_type": "stream",
     "text": [
      "I don't think far\n",
      "C:\\kumar\n",
      "ew\n",
      "C:\\kumar\\new\n",
      "C:\\kumar\\new\n"
     ]
    }
   ],
   "source": [
    "'''\n",
    "3. Escape Char: The character that helps to read special identifiers as normal text, \n",
    "or supress the special meaning of a special identifier.\n",
    "\n",
    "Issue: The quotes are not balanced and thus would create a problem.\n",
    "\n",
    "'I don't think far' \n",
    "\n",
    "How to handle above situation, use \\ This helps to hide special meaning and convert to simple text.\n",
    "Where would you need this kind of issue to fix.\n",
    "'''\n",
    "print('I don\\'t think far')\n",
    "#Whats the issue in below code and how to fix\n",
    "print('C:\\kumar\\new') \n",
    "\n",
    "# Let's handle with escape char and reading it as raw text :)\n",
    "print('C:\\kumar\\\\new') \n",
    "\n",
    "# you can even use r or R\n",
    "print(r'C:\\kumar\\new') \n",
    "print(R'C:\\kumar\\new') "
   ]
  },
  {
   "cell_type": "code",
   "execution_count": 17,
   "metadata": {},
   "outputs": [
    {
     "name": "stdout",
     "output_type": "stream",
     "text": [
      "A\n",
      "B\n",
      "check \baa\n"
     ]
    }
   ],
   "source": [
    "'''3.1 These are called as escape sequences.\n",
    "\\' = '\n",
    "\\\" = \"\n",
    "\\\\ =\\\n",
    "\\n = New line\n",
    "\\t = tab\n",
    "\\b =backspace\n",
    "'''\n",
    "\n",
    "# By using \\n you do not need 2 print function call\n",
    "print(\"A\\nB\")\n",
    "#\\b would be treated as one backspace\n",
    "print(\"check \\baa\")"
   ]
  },
  {
   "cell_type": "code",
   "execution_count": 12,
   "metadata": {
    "scrolled": true
   },
   "outputs": [
    {
     "name": "stdout",
     "output_type": "stream",
     "text": [
      "amit kumar\n",
      "3\n"
     ]
    }
   ],
   "source": [
    "'''4. Operator Overload: The same operator has multiple roles,dependig on the situation it is used in\n",
    "\n",
    "When would it fail? Think about it !!\n",
    "'''\n",
    "\n",
    "x=\"amit \"\n",
    "y=\"kumar\"\n",
    "print(x+y)\n",
    "\n",
    "x=1\n",
    "y=2\n",
    "print(x+y)\n"
   ]
  },
  {
   "cell_type": "code",
   "execution_count": 2,
   "metadata": {},
   "outputs": [
    {
     "name": "stdout",
     "output_type": "stream",
     "text": [
      "Amit Amit Amit Amit Amit \n",
      "20\n"
     ]
    }
   ],
   "source": [
    "'''5. Any guess on the below code output, when a string is multiplied with a number'''\n",
    "x=\"Amit \" \n",
    "print(x*5)\n",
    "\n",
    "x=10\n",
    "y=2\n",
    "print(x*y)"
   ]
  },
  {
   "cell_type": "code",
   "execution_count": 1,
   "metadata": {
    "scrolled": true
   },
   "outputs": [
    {
     "name": "stdout",
     "output_type": "stream",
     "text": [
      "ba\tsman\n",
      "ba\\tsman\n"
     ]
    }
   ],
   "source": [
    "''' Quiz1:\n",
    "How to print: ba\\tsman, the below code does not work'''\n",
    "    \n",
    "print(\"ba\\tsman\")\n",
    "\n",
    "print(\"ba\\\\tsman\")"
   ]
  },
  {
   "cell_type": "code",
   "execution_count": 2,
   "metadata": {},
   "outputs": [
    {
     "name": "stdout",
     "output_type": "stream",
     "text": [
      "\\t/\\n/\n",
      "\\t/\\n/\n"
     ]
    }
   ],
   "source": [
    "'''Quiz2:\n",
    "Print this pattern \\t/\\n/'''\n",
    "    \n",
    "print(\"\\\\t/\\\\n/\")\n",
    "\n",
    "#or\n",
    "print(r\"\\t/\\n/\")"
   ]
  },
  {
   "cell_type": "code",
   "execution_count": 29,
   "metadata": {},
   "outputs": [
    {
     "name": "stdout",
     "output_type": "stream",
     "text": [
      "This is doublebackslash\\\\\n",
      "This is omuntain\\/\\/\\/\n",
      "\\\" \\n \\t ' \n"
     ]
    }
   ],
   "source": [
    "'''Quiz 3 print below patterns'''\n",
    "\n",
    "# This is doublebackslah\\\\\n",
    "print(\"This is doublebackslash\\\\\\\\\")\n",
    "\n",
    "# This is mountain\\/\\/\\/\n",
    "print(\"This is mountain\\\\/\\\\/\\\\/\")\n",
    "\n",
    "# Prin this \\\" \\n \\t '\n",
    "\n",
    "print(\"\\\\\\\" \\\\n \\\\t \\' \")\n"
   ]
  }
 ],
 "metadata": {
  "kernelspec": {
   "display_name": "Python 3",
   "language": "python",
   "name": "python3"
  },
  "language_info": {
   "codemirror_mode": {
    "name": "ipython",
    "version": 3
   },
   "file_extension": ".py",
   "mimetype": "text/x-python",
   "name": "python",
   "nbconvert_exporter": "python",
   "pygments_lexer": "ipython3",
   "version": "3.7.4"
  }
 },
 "nbformat": 4,
 "nbformat_minor": 2
}
