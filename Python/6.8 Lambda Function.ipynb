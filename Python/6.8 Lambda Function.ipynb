{
 "cells": [
  {
   "cell_type": "code",
   "execution_count": 2,
   "metadata": {},
   "outputs": [
    {
     "name": "stdout",
     "output_type": "stream",
     "text": [
      "90\n",
      "90\n"
     ]
    }
   ],
   "source": [
    "'''\n",
    "1. In Python, anonymous function is a function that is defined without a name.\n",
    "While normal functions are defined using the def keyword, \n",
    "in Python anonymous functions are defined using the lambda keyword.\n",
    "Hence, anonymous functions are also called lambda functions or lambda expression.\n",
    "\n",
    "A lambda function can take any number of arguments, but can only have one expression or formula.\n",
    "This is the key difference in a traditional function and lambda expression/function.\n",
    "\n",
    "Syntax is below\n",
    "*******\n",
    "lambda arguments : expression\n",
    "\n",
    "Let's take an example, note, res is now behaving like a function\n",
    "'''\n",
    "res=lambda x:x*10 \n",
    "print(res(9))\n",
    "\n",
    "#Or to define it more explicitly while passing the value\n",
    "res=lambda x:x*10 \n",
    "print(res(x=9))"
   ]
  },
  {
   "cell_type": "code",
   "execution_count": 4,
   "metadata": {},
   "outputs": [
    {
     "name": "stdout",
     "output_type": "stream",
     "text": [
      "with 2 arguments >> 30\n",
      "with 3 arguments >> 3.0\n",
      "with 3 arguments and the keyword arguments>> 8.333333333333334\n"
     ]
    }
   ],
   "source": [
    "'''2. with 2  and 3 arguments respectively , Note arguments are multiple, however the expression is a single one'''\n",
    "\n",
    "x = lambda a, b : a * b \n",
    "print(\"with 2 arguments >>\",x(5, 6))\n",
    "x = lambda a, b,c : a * b/c \n",
    "print(\"with 3 arguments >>\",x(5, 6,10))\n",
    "\n",
    "#OR again with more explicit values, notice I have changed the order\n",
    "\n",
    "x = lambda a, b,c : a * b/c \n",
    "print(\"with 3 arguments and the keyword arguments>>\",x(b=5, c=6,a=10))"
   ]
  },
  {
   "cell_type": "code",
   "execution_count": 1,
   "metadata": {},
   "outputs": [
    {
     "name": "stdout",
     "output_type": "stream",
     "text": [
      "with arguments : 11\n"
     ]
    }
   ],
   "source": [
    "'''\n",
    "3. what's the difference in the above code and this code, hint: It would overwrite the expression definition :)\n",
    "'''\n",
    "x = lambda a, b : a * b \n",
    "x = lambda x,y : x+y \n",
    "print(\"with arguments :\",x(5, 6))\n"
   ]
  },
  {
   "cell_type": "code",
   "execution_count": 2,
   "metadata": {},
   "outputs": [
    {
     "name": "stdout",
     "output_type": "stream",
     "text": [
      "<function add at 0x109efa840>\n",
      "<function <lambda> at 0x109efa950>\n"
     ]
    }
   ],
   "source": [
    "'''\n",
    "4. How would you prove that lambda does not create a function? \n",
    "Look below the memory location is available; however NO NAME.\n",
    "The traditional function has a name and memory address\n",
    "Look at the difference for a traditional function declared via def vs lambda or the anonymous function\n",
    "'''\n",
    "def add(a,b):\n",
    "    return a+b\n",
    "\n",
    "mult=lambda a,b: a*b\n",
    "\n",
    "print(add)\n",
    "print(mult)\n"
   ]
  },
  {
   "cell_type": "code",
   "execution_count": 3,
   "metadata": {
    "scrolled": true
   },
   "outputs": [
    {
     "name": "stdout",
     "output_type": "stream",
     "text": [
      "<class 'function'> 4461667464 4461667464\n",
      "hello\n"
     ]
    }
   ],
   "source": [
    "'''\n",
    "5. If we assign a to object amit, a inherits all the attributes of amit, so a is now a function and points to the \n",
    "function amit. Look at the address, the values are same.\n",
    "\n",
    "Note: while assigning we are not calling the function\n",
    "'''\n",
    "def amit():\n",
    "    print(\"hello\")\n",
    "a=amit\n",
    "print(type(a), id(amit),id(a))\n",
    "a()"
   ]
  },
  {
   "cell_type": "code",
   "execution_count": null,
   "metadata": {},
   "outputs": [],
   "source": [
    "'''\n",
    "6. Understand the below code, here new stores the returned value of the function myfunc with value 2\n",
    "and later the value is passed to lambda\n",
    "'''\n",
    "def myfunc(n):\n",
    "    return lambda a : a * n\n",
    "new=myfunc(2)\n",
    "print(new(10))"
   ]
  },
  {
   "cell_type": "code",
   "execution_count": null,
   "metadata": {},
   "outputs": [],
   "source": [
    "'''\n",
    "7. Understand the below code, here x and y are being passed later to the lambda expression\n",
    "'''\n",
    "def myfunc(n):\n",
    "    return lambda x,y : (x/y)*n\n",
    "new=myfunc(2)\n",
    "print(new(20,10))"
   ]
  },
  {
   "cell_type": "code",
   "execution_count": 18,
   "metadata": {
    "scrolled": true
   },
   "outputs": [
    {
     "name": "stdout",
     "output_type": "stream",
     "text": [
      "t\n"
     ]
    }
   ],
   "source": [
    "'''\n",
    "Quiz 1 Pick last character of string using lambda expression.\n",
    "'''\n",
    "last1=lambda s: s[-1:]\n",
    "\n",
    "print(last1(\"amit\"))"
   ]
  },
  {
   "cell_type": "code",
   "execution_count": 8,
   "metadata": {},
   "outputs": [
    {
     "data": {
      "text/plain": [
       "'tima'"
      ]
     },
     "execution_count": 8,
     "metadata": {},
     "output_type": "execute_result"
    }
   ],
   "source": [
    "'''\n",
    "Quiz 1.1 Reverse string using lambda expression.\n",
    "'''\n",
    "last=lambda x: x[::-1]\n",
    "last(\"amit\")"
   ]
  },
  {
   "cell_type": "code",
   "execution_count": 28,
   "metadata": {},
   "outputs": [
    {
     "name": "stdout",
     "output_type": "stream",
     "text": [
      "False\n"
     ]
    }
   ],
   "source": [
    "'''\n",
    "Quiz 2. Create is even function using lambda, \n",
    "it should give boolean True or False, even True and odd False\n",
    "'''\n",
    "res=lambda x: x%2==0\n",
    "print(res(3))"
   ]
  },
  {
   "cell_type": "code",
   "execution_count": 33,
   "metadata": {},
   "outputs": [
    {
     "name": "stdout",
     "output_type": "stream",
     "text": [
      "True\n"
     ]
    }
   ],
   "source": [
    "'''\n",
    "Quiz 3, Can I use if else with lambda, \n",
    "take an input if it is above 3 then boolean True else False\n",
    "'''\n",
    "\n",
    "res=lambda x: True if x>3 else False\n",
    "    \n",
    "print(res(7))"
   ]
  },
  {
   "cell_type": "code",
   "execution_count": 36,
   "metadata": {},
   "outputs": [
    {
     "name": "stdout",
     "output_type": "stream",
     "text": [
      "yes\n"
     ]
    }
   ],
   "source": [
    "'''\n",
    "Quiz 4 Check if length of string is above 5, return yes or no\n",
    "'''\n",
    "\n",
    "res=lambda x: \"yes\" if len(x)>3 else \"no\"\n",
    "    \n",
    "print(res(\"amitabh\"))"
   ]
  },
  {
   "cell_type": "code",
   "execution_count": 24,
   "metadata": {},
   "outputs": [
    {
     "name": "stdout",
     "output_type": "stream",
     "text": [
      "33\n"
     ]
    }
   ],
   "source": [
    "'''\n",
    "Quiz 5. Using the lambda create a function definition that would triple the value\n",
    "'''\n",
    "\n",
    "def tripler(n):\n",
    "    return lambda a:a*n\n",
    "    \n",
    "x=tripler(3)\n",
    "print(x(11))\n",
    "    "
   ]
  },
  {
   "cell_type": "code",
   "execution_count": 3,
   "metadata": {
    "scrolled": true
   },
   "outputs": [
    {
     "name": "stdout",
     "output_type": "stream",
     "text": [
      "True\n"
     ]
    }
   ],
   "source": [
    "'''\n",
    "Quiz 6. Create a function that checks for pallindromes using lambda\n",
    "'''\n",
    "\n",
    "res= lambda x: True if x[::-1]==x else False\n",
    "\n",
    "print(res(\"naman\"))"
   ]
  }
 ],
 "metadata": {
  "kernelspec": {
   "display_name": "Python 3",
   "language": "python",
   "name": "python3"
  },
  "language_info": {
   "codemirror_mode": {
    "name": "ipython",
    "version": 3
   },
   "file_extension": ".py",
   "mimetype": "text/x-python",
   "name": "python",
   "nbconvert_exporter": "python",
   "pygments_lexer": "ipython3",
   "version": "3.7.4"
  }
 },
 "nbformat": 4,
 "nbformat_minor": 2
}
