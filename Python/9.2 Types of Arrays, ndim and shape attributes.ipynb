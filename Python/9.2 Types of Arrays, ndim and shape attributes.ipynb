{
 "cells": [
  {
   "cell_type": "markdown",
   "metadata": {},
   "source": [
    "'''0. The Below Image gives idea about the dimension'''\n",
    "<img src=\"array1.png\" style= \"width: 600px;height:300px\"/>"
   ]
  },
  {
   "cell_type": "code",
   "execution_count": null,
   "metadata": {},
   "outputs": [],
   "source": [
    "'''1. Let's see how can we see the data type and the dimension of an array\n",
    "(4,) it means 4 rows and no columns.. as this is 1 dimensional array\n",
    "\n",
    "ndim and shape are the attributes of array\n",
    "'''\n",
    "\n",
    "import numpy as np\n",
    "f = np.array([1, 1, 2, 3])\n",
    "print(f.ndim,f.shape)\n"
   ]
  },
  {
   "cell_type": "code",
   "execution_count": 2,
   "metadata": {
    "scrolled": false
   },
   "outputs": [
    {
     "name": "stdout",
     "output_type": "stream",
     "text": [
      "[[ 3.4  8.7  9.9]\n",
      " [ 1.1 -7.8 -0.7]\n",
      " [ 4.1 12.3  4.8]\n",
      " [ 1.1 12.2  3.4]]\n",
      "2 (4, 3)\n"
     ]
    }
   ],
   "source": [
    "'''\n",
    "2. Always good to viualize in Spyder:\n",
    "\n",
    "Create a 2 dimensional array manually by supplying the values\n",
    "Of course, arrays of NumPy are not limited to one dimension. They are of arbitrary dimension. \n",
    "We create them by passing nested lists (or tuples) to the array method of numpy.\n",
    "Comma is must between individual lists\n",
    "'''\n",
    "a = np.array([ [3.4,8.7,9.9], \n",
    "               [1.1,-7.8,-0.7],\n",
    "               [4.1,12.3,4.8],\n",
    "               [1.1,12.2,3.4]\n",
    "             ])\n",
    "print(a)\n",
    "print(a.ndim,a.shape)"
   ]
  },
  {
   "cell_type": "code",
   "execution_count": 5,
   "metadata": {
    "scrolled": true
   },
   "outputs": [
    {
     "name": "stdout",
     "output_type": "stream",
     "text": [
      "[[[ 3.4  8.7  9.9]\n",
      "  [ 1.1 -7.8 -0.7]\n",
      "  [ 4.1 12.3  4.8]]]\n",
      "3 (1, 3, 3)\n"
     ]
    }
   ],
   "source": [
    "'''\n",
    "3. Create a 3 dimensional array manually by supplying the values\n",
    "Of course, arrays of NumPy are not limited to one dimension. They are of arbitrary dimension. \n",
    "We create them by passing nested lists (or tuples) to the array method of numpy.\n",
    "\n",
    "'''\n",
    "a = np.array([[[3.4, 8.7, 9.9], \n",
    "               [1.1, -7.8, -0.7],\n",
    "               [4.1, 12.3, 4.8]]])\n",
    "print(a)\n",
    "print(a.ndim,a.shape)"
   ]
  },
  {
   "cell_type": "code",
   "execution_count": 2,
   "metadata": {
    "scrolled": false
   },
   "outputs": [
    {
     "name": "stdout",
     "output_type": "stream",
     "text": [
      "[[[ 3.4  8.7  9.9]\n",
      "  [ 1.1 -7.8 -0.7]\n",
      "  [ 4.1 12.3  4.8]]\n",
      "\n",
      " [[ 3.4  8.7  9.9]\n",
      "  [ 1.1 -7.8 -0.7]\n",
      "  [ 4.1 12.3  4.8]]\n",
      "\n",
      " [[ 3.4  8.7  9.9]\n",
      "  [ 1.1 -7.8 -0.7]\n",
      "  [ 4.1 12.3  4.8]]]\n",
      "3 (3, 3, 3)\n"
     ]
    }
   ],
   "source": [
    "'''3.2 Guess the Dimension of the below array\n",
    "2,3,3 >> means an array with 2 arrays of each 3 rows and 3 columns\n",
    "'''\n",
    "import numpy as np\n",
    "a = np.array([[[3.4, 8.7, 9.9], \n",
    "               [1.1, -7.8, -0.7],\n",
    "               [4.1, 12.3, 4.8]],\n",
    "              \n",
    "               [[3.4, 8.7, 9.9], \n",
    "               [1.1, -7.8, -0.7],\n",
    "               [4.1, 12.3, 4.8]],\n",
    "               [[3.4, 8.7, 9.9], \n",
    "               [1.1, -7.8, -0.7],\n",
    "               [4.1, 12.3, 4.8]]\n",
    "             \n",
    "             ])\n",
    "print(a)\n",
    "print(a.ndim,a.shape)"
   ]
  },
  {
   "cell_type": "markdown",
   "metadata": {},
   "source": [
    "'''3.1 This image would help in the viualization of array in 3 D Array :)\n",
    "Representation of 3D array in Tabular Format: \n",
    "A three – dimensional array with 3 array containing 3 rows and 3 columns is shown below:\n",
    "'''\n",
    "\n",
    "<img src=\"array3.jpg\" style= \"width: 600px;height:300px\"/>"
   ]
  }
 ],
 "metadata": {
  "kernelspec": {
   "display_name": "Python 3",
   "language": "python",
   "name": "python3"
  },
  "language_info": {
   "codemirror_mode": {
    "name": "ipython",
    "version": 3
   },
   "file_extension": ".py",
   "mimetype": "text/x-python",
   "name": "python",
   "nbconvert_exporter": "python",
   "pygments_lexer": "ipython3",
   "version": "3.7.3"
  }
 },
 "nbformat": 4,
 "nbformat_minor": 2
}
