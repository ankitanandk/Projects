{
 "cells": [
  {
   "cell_type": "code",
   "execution_count": null,
   "metadata": {},
   "outputs": [],
   "source": [
    "''' 0\n",
    "We would discuss the for loop in this section :)\n",
    "\n",
    "1. For loop, similar to “do” loop in SAS\n",
    "\n",
    "Executes a sequence of statements multiple times with the help of iterator. Starts with “for”\n",
    "\n",
    "2. While loop\n",
    "Repeats a statement or group of statements while a given condition is TRUE. It tests the condition before \n",
    "executing the loop body.\n",
    "\n",
    "3. Nested loops\n",
    "You can use one or more loop inside another loop\n",
    "\n",
    "For Loop: It has the ability to iterate over the items of any sequence, such as a list,string or simply a value.\n",
    "Syntax:\n",
    "\n",
    "We would understand the concept of iterator and iterable in advance section.\n",
    "\n",
    ">>>for var in sequence:\n",
    "   statements(s)\n",
    "'''"
   ]
  },
  {
   "cell_type": "code",
   "execution_count": 2,
   "metadata": {},
   "outputs": [
    {
     "name": "stdout",
     "output_type": "stream",
     "text": [
      "0\n",
      "1\n",
      "2\n",
      "3\n",
      "4\n",
      "0 0\n",
      "1 1\n",
      "2 2\n",
      "3 3\n",
      "4 4\n",
      "0\n",
      "2\n",
      "4\n",
      "6\n",
      "8\n",
      "0\n",
      "1\n",
      "4\n",
      "9\n",
      "16\n",
      "1\n",
      "1\n",
      "4\n",
      "27\n",
      "256\n"
     ]
    }
   ],
   "source": [
    "'''\n",
    "1. The basic for loop can be executed with range function(start,stop,by), \n",
    ": is used for the do the block, very similar to the if elif block.\n",
    "All the following statements should be indented to :\n",
    "'''\n",
    "for i in range(0,5):\n",
    "    print(i)\n",
    "    \n",
    "for i in range(0,5):\n",
    "    print(i,i)\n",
    "\n",
    "for i in range(0,5):\n",
    "    print(i+i)\n",
    "\n",
    "for i in range(0,5):\n",
    "    print(i*i)\n",
    "\n",
    "for i in range(0,5):\n",
    "    print(i**i)"
   ]
  },
  {
   "cell_type": "code",
   "execution_count": 1,
   "metadata": {},
   "outputs": [
    {
     "name": "stdout",
     "output_type": "stream",
     "text": [
      "0\n",
      "2\n",
      "4\n"
     ]
    }
   ],
   "source": [
    "'''\n",
    "2. The third argument to range function acts as a by or step or increment in the loop, \n",
    "very similar to slicing and dicing []\n",
    "'''\n",
    "for i in range(0,5,2):\n",
    "    print(i)"
   ]
  },
  {
   "cell_type": "code",
   "execution_count": 3,
   "metadata": {},
   "outputs": [
    {
     "name": "stdout",
     "output_type": "stream",
     "text": [
      "1\n",
      "2\n",
      "3\n",
      "4\n",
      "5\n",
      "1\n",
      "2\n",
      "3\n",
      "4\n",
      "5\n"
     ]
    }
   ],
   "source": [
    "'''\n",
    "CP\n",
    "3. Loops can also iterate on a string, list or Tuple, as these data types are iterable\n",
    "'''\n",
    "a=[1,2,3,4,5]\n",
    "for i in a:\n",
    "    print(i)\n",
    "    \n",
    "'''\n",
    "Loops can also iterate on a list or Tuple\n",
    "'''\n",
    "a=(1,2,3,4,5)\n",
    "for i in a:\n",
    "    print(i)\n"
   ]
  },
  {
   "cell_type": "code",
   "execution_count": 4,
   "metadata": {},
   "outputs": [
    {
     "name": "stdout",
     "output_type": "stream",
     "text": [
      "5\n",
      "4\n",
      "3\n",
      "2\n",
      "1\n"
     ]
    }
   ],
   "source": [
    "'''\n",
    "4. Guess the output of below codes, you can slice, dice and run the loop on the object.\n",
    "'''\n",
    "a=[1,2,3,4,5]\n",
    "\n",
    "\n",
    "for i in a[::-1]:\n",
    "    print(i)\n"
   ]
  },
  {
   "cell_type": "code",
   "execution_count": 5,
   "metadata": {},
   "outputs": [
    {
     "name": "stdout",
     "output_type": "stream",
     "text": [
      "1*2*3*4*5*1\n",
      "2\n",
      "3\n",
      "4\n",
      "5\n"
     ]
    }
   ],
   "source": [
    "'''5. How to get anything inserted after every iteration'''\n",
    "a=[1,2,3,4,5]\n",
    "for i in a:\n",
    "    print(i,end=\"*\")\n",
    "    \n",
    "# Tip so whats the default\n",
    "\n",
    "for i in a:\n",
    "    print(i,end=\"\\n\")\n",
    "    \n",
    "    "
   ]
  },
  {
   "cell_type": "code",
   "execution_count": null,
   "metadata": {},
   "outputs": [],
   "source": []
  }
 ],
 "metadata": {
  "kernelspec": {
   "display_name": "Python 3",
   "language": "python",
   "name": "python3"
  },
  "language_info": {
   "codemirror_mode": {
    "name": "ipython",
    "version": 3
   },
   "file_extension": ".py",
   "mimetype": "text/x-python",
   "name": "python",
   "nbconvert_exporter": "python",
   "pygments_lexer": "ipython3",
   "version": "3.7.4"
  }
 },
 "nbformat": 4,
 "nbformat_minor": 2
}
