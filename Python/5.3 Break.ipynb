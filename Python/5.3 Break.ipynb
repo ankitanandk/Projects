{
 "cells": [
  {
   "cell_type": "code",
   "execution_count": 4,
   "metadata": {
    "scrolled": true
   },
   "outputs": [
    {
     "name": "stdout",
     "output_type": "stream",
     "text": [
      "the letter is p\n",
      "the letter is y\n",
      "the letter is t\n",
      "the letter is h\n",
      "the letter is p\n",
      "the letter is y\n",
      "the letter is t\n",
      "the letter is h\n"
     ]
    }
   ],
   "source": [
    "'''\n",
    "1. Break Statement\n",
    "******************\n",
    "It terminates the current loop and resumes execution at the next statement or the block of code,\n",
    "just like the traditional break statement in C.\n",
    "\n",
    "The most common use for break is when some external condition is triggered requiring a\n",
    "hasty exit from a loop. \n",
    "The break statement can be used in both while and for loops.\n",
    "If you are using nested loops, the break statement stops the execution of the innermost \n",
    "loop and start executing the next line of code after the block.\n",
    "\n",
    "'''\n",
    "#If you get “o” stop the loop\n",
    "\n",
    "s=\"python\"\n",
    "\n",
    "for i in s:\n",
    "    if i==\"o\":\n",
    "        break\n",
    "    else:\n",
    "        print(f\"the letter is {i}\")\n",
    "s=\"python\"\n",
    "    \n",
    "#OR you can even write  like this, they mean the same thing\n",
    "\n",
    "for i in s:\n",
    "    if i==\"o\":\n",
    "        break\n",
    "    print(f\"the letter is {i}\")"
   ]
  },
  {
   "cell_type": "code",
   "execution_count": 5,
   "metadata": {},
   "outputs": [],
   "source": [
    "'''\n",
    "2. What would happen in below code, think before you run :)\n",
    "'''\n",
    "s=\"python\"\n",
    "\n",
    "for i in s:\n",
    "    if i==\"o\":\n",
    "        break\n",
    "        print(f\"the letter is {i}\")\n"
   ]
  },
  {
   "cell_type": "code",
   "execution_count": 6,
   "metadata": {},
   "outputs": [
    {
     "name": "stdout",
     "output_type": "stream",
     "text": [
      "the letter is o\n"
     ]
    }
   ],
   "source": [
    "'''\n",
    "3. What would happen in below code, think before you run :), look at the indentation of the print\n",
    "'''\n",
    "s=\"python\"\n",
    "for i in s:\n",
    "    if i==\"o\":\n",
    "        break\n",
    "print(f\"the letter is {i}\")"
   ]
  },
  {
   "cell_type": "code",
   "execution_count": 9,
   "metadata": {},
   "outputs": [
    {
     "name": "stdout",
     "output_type": "stream",
     "text": [
      "the letter is matching with vowelis : o\n"
     ]
    }
   ],
   "source": [
    "'''\n",
    "4. How would you check vowels in a string, the moment you see a vowel, break the loop.\n",
    "'''\n",
    "for i in \"python\":\n",
    "    if i in ['a','e','i','o','u']:\n",
    "        break\n",
    "print(\"the letter is matching with vowelis :\",i)"
   ]
  },
  {
   "cell_type": "code",
   "execution_count": 8,
   "metadata": {
    "scrolled": true
   },
   "outputs": [
    {
     "name": "stdout",
     "output_type": "stream",
     "text": [
      "0\n",
      "1\n",
      "2\n",
      "3\n",
      "4\n",
      "5\n",
      "6\n",
      "7\n",
      "8\n",
      "9\n",
      "10\n",
      "11\n",
      "12\n",
      "13 is the magic number\n"
     ]
    }
   ],
   "source": [
    "'''\n",
    "5. Search the magic numbe in 0-100, and the magic number is 13\n",
    "'''\n",
    "magic=13\n",
    "for i in range(101):\n",
    "    if i is magic:\n",
    "        print(i, \"is the magic number\")\n",
    "        break \n",
    "    else:\n",
    "        print(i)"
   ]
  },
  {
   "cell_type": "code",
   "execution_count": 7,
   "metadata": {},
   "outputs": [
    {
     "name": "stdout",
     "output_type": "stream",
     "text": [
      "Enter magic number between 1-10015\n",
      "0\n",
      "1\n",
      "2\n",
      "3\n",
      "4\n",
      "5\n",
      "6\n",
      "7\n",
      "8\n",
      "9\n",
      "10\n",
      "11\n",
      "12\n",
      "13\n",
      "14\n",
      "15 is the magic number\n"
     ]
    }
   ],
   "source": [
    "'''\n",
    "5.1 Till the time the number from 0-100 are not magic print, and the magic number is given by user.\n",
    "'''\n",
    "magic=int(input(\"Enter magic number between 1-100\"))\n",
    "for i in range(101):\n",
    "    if i is magic:\n",
    "        print(i, \"is the magic number\")\n",
    "        break \n",
    "    else:\n",
    "        print(i)"
   ]
  },
  {
   "cell_type": "code",
   "execution_count": 11,
   "metadata": {},
   "outputs": [
    {
     "name": "stdout",
     "output_type": "stream",
     "text": [
      "a 1\n",
      "a 2\n",
      "a 3\n",
      "ending loop as count is above 3\n"
     ]
    }
   ],
   "source": [
    "'''\n",
    "6. Count a in the string “amit is a man and machine”, if the count of a is gt 3 stop.\n",
    "\n",
    "Note: There are 5 ‘a’ in the string.\n",
    "'''\n",
    "count=0;\n",
    "for i in (\"amit is a man and machine\"):\n",
    "    if i==\"a\":\n",
    "        count+=1\n",
    "        if count >3:\n",
    "            break\n",
    "        print(i,count)        \n",
    "print(\"ending loop as count is above 3\")"
   ]
  },
  {
   "cell_type": "code",
   "execution_count": 10,
   "metadata": {
    "scrolled": true
   },
   "outputs": [
    {
     "name": "stdout",
     "output_type": "stream",
     "text": [
      "1 109000.0\n",
      "2 118810.0\n",
      "3 129502.9\n",
      "4 141158.161\n",
      "5 153862.39549\n",
      "6 167710.0110841\n",
      "7 182803.912081669\n",
      "8 199256.2641690192\n",
      "9 217189.32794423093\n"
     ]
    }
   ],
   "source": [
    "'''\n",
    "CP\n",
    "\n",
    "7. Solve the 1L to 2L problem without using while loop, you can use break.\n",
    "'''\n",
    "p=100000\n",
    "year=0\n",
    "for i in range(100000,200001):\n",
    "    p+=p*.09\n",
    "    year+=1\n",
    "    print(year,p)\n",
    "    if p>=200000:\n",
    "        break"
   ]
  },
  {
   "cell_type": "code",
   "execution_count": null,
   "metadata": {},
   "outputs": [],
   "source": []
  }
 ],
 "metadata": {
  "kernelspec": {
   "display_name": "Python 3",
   "language": "python",
   "name": "python3"
  },
  "language_info": {
   "codemirror_mode": {
    "name": "ipython",
    "version": 3
   },
   "file_extension": ".py",
   "mimetype": "text/x-python",
   "name": "python",
   "nbconvert_exporter": "python",
   "pygments_lexer": "ipython3",
   "version": "3.7.4"
  }
 },
 "nbformat": 4,
 "nbformat_minor": 2
}
