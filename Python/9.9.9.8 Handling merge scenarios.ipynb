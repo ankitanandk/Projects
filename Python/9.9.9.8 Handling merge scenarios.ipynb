{
 "cells": [
  {
   "cell_type": "code",
   "execution_count": null,
   "metadata": {},
   "outputs": [],
   "source": [
    "'''1. what if the key vars have diff names in the 2 dataframes\n",
    "In SAS we used to rename the primary key columns :)\n",
    "'''\n",
    "import pandas as pd\n",
    "a = pd.DataFrame({\n",
    "         'id':[1,2,3],\n",
    "         'sub':['M','E','S']})\n",
    "b = pd.DataFrame(\n",
    "         {'stuid':[1,2,3],\n",
    "         'marks':[100,52,99]})\n",
    "pd.merge(a,b,how='inner',left_on=['id'], right_on=['stuid'])"
   ]
  },
  {
   "cell_type": "code",
   "execution_count": null,
   "metadata": {},
   "outputs": [],
   "source": [
    "'''2. How to merge 2 or more frames in pandas\n",
    "'''\n",
    "import pandas as pd\n",
    "a = pd.DataFrame({\n",
    "         'id':[1,2,3],\n",
    "         'sub':['M','E','S']})\n",
    "b = pd.DataFrame(\n",
    "         {'id':[1,2,3],\n",
    "         'marks':[100,52,99]})\n",
    "\n",
    "c = pd.DataFrame(\n",
    "         {'id':[1,2,7],\n",
    "         'grade':[1,3,1]})\n",
    "pd.merge(pd.merge(a,b,on='id'),c,on='id')"
   ]
  },
  {
   "cell_type": "code",
   "execution_count": null,
   "metadata": {},
   "outputs": [],
   "source": [
    "'''2.1 Guess the output\n",
    "'''\n",
    "import pandas as pd\n",
    "a = pd.DataFrame({\n",
    "         'id':[1,2,3],\n",
    "         'sub':['M','E','S']})\n",
    "b = pd.DataFrame(\n",
    "         {'id':[1,2,3],\n",
    "         'marks':[100,52,99]})\n",
    "\n",
    "c = pd.DataFrame(\n",
    "         {'id':[1,2,7],\n",
    "         'grade':[1,3,1]})\n",
    "pd.merge(pd.merge(a,b,on='id'),c,how=\"left\",on='id')"
   ]
  },
  {
   "cell_type": "code",
   "execution_count": null,
   "metadata": {
    "scrolled": true
   },
   "outputs": [],
   "source": [
    "'''3. what if there are common values, does the merge over write them.\n",
    "Just overwrites the common column or by one.\n",
    "'''\n",
    "import pandas as pd\n",
    "a = pd.DataFrame({\n",
    "         'id':[1,2,3],\n",
    "         'name':['A','B','C'],\n",
    "         'age':[12,13,14]})\n",
    "b = pd.DataFrame(\n",
    "         {'id':[1,2,3],\n",
    "         'marks':[100,52,99],'age':[99,98,97]})\n",
    "pd.merge(a,b,how='inner',on='id')"
   ]
  },
  {
   "cell_type": "code",
   "execution_count": 1,
   "metadata": {},
   "outputs": [
    {
     "data": {
      "text/html": [
       "<div>\n",
       "<style scoped>\n",
       "    .dataframe tbody tr th:only-of-type {\n",
       "        vertical-align: middle;\n",
       "    }\n",
       "\n",
       "    .dataframe tbody tr th {\n",
       "        vertical-align: top;\n",
       "    }\n",
       "\n",
       "    .dataframe thead th {\n",
       "        text-align: right;\n",
       "    }\n",
       "</style>\n",
       "<table border=\"1\" class=\"dataframe\">\n",
       "  <thead>\n",
       "    <tr style=\"text-align: right;\">\n",
       "      <th></th>\n",
       "      <th>id</th>\n",
       "      <th>sub</th>\n",
       "      <th>marks</th>\n",
       "    </tr>\n",
       "  </thead>\n",
       "  <tbody>\n",
       "    <tr>\n",
       "      <th>0</th>\n",
       "      <td>1</td>\n",
       "      <td>M</td>\n",
       "      <td>NaN</td>\n",
       "    </tr>\n",
       "    <tr>\n",
       "      <th>1</th>\n",
       "      <td>2</td>\n",
       "      <td>E</td>\n",
       "      <td>NaN</td>\n",
       "    </tr>\n",
       "    <tr>\n",
       "      <th>2</th>\n",
       "      <td>11</td>\n",
       "      <td>NaN</td>\n",
       "      <td>100.0</td>\n",
       "    </tr>\n",
       "    <tr>\n",
       "      <th>3</th>\n",
       "      <td>12</td>\n",
       "      <td>NaN</td>\n",
       "      <td>52.0</td>\n",
       "    </tr>\n",
       "  </tbody>\n",
       "</table>\n",
       "</div>"
      ],
      "text/plain": [
       "   id  sub  marks\n",
       "0   1    M    NaN\n",
       "1   2    E    NaN\n",
       "2  11  NaN  100.0\n",
       "3  12  NaN   52.0"
      ]
     },
     "execution_count": 1,
     "metadata": {},
     "output_type": "execute_result"
    }
   ],
   "source": [
    "'''4. what if there are no common values...\n",
    "Merge would behave like append..or concat vertically :)\n",
    "'''\n",
    "import pandas as pd\n",
    "a = pd.DataFrame({\n",
    "         'id':[1,2],\n",
    "         'sub':['M','E']})\n",
    "b = pd.DataFrame(\n",
    "         {'id':[11,12],\n",
    "         'marks':[100,52]})\n",
    "pd.merge(a,b,how='outer',on='id')"
   ]
  }
 ],
 "metadata": {
  "kernelspec": {
   "display_name": "Python 3",
   "language": "python",
   "name": "python3"
  },
  "language_info": {
   "codemirror_mode": {
    "name": "ipython",
    "version": 3
   },
   "file_extension": ".py",
   "mimetype": "text/x-python",
   "name": "python",
   "nbconvert_exporter": "python",
   "pygments_lexer": "ipython3",
   "version": "3.7.4"
  }
 },
 "nbformat": 4,
 "nbformat_minor": 2
}
