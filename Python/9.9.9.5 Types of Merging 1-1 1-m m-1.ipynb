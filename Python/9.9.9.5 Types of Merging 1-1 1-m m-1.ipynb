{
 "cells": [
  {
   "cell_type": "code",
   "execution_count": null,
   "metadata": {},
   "outputs": [],
   "source": [
    "'''1. 1-1 merging is when you have exact one value of key per frame\n",
    "'''\n",
    "import pandas as pd\n",
    "a = pd.DataFrame({\n",
    "         'id':[1,2],\n",
    "         'Name': ['a', 'b']})\n",
    "b = pd.DataFrame(\n",
    "         {'id':[1,2],\n",
    "         'marks':[100,52]})\n",
    "c=pd.merge(a,b)\n",
    "c"
   ]
  },
  {
   "cell_type": "code",
   "execution_count": null,
   "metadata": {
    "scrolled": true
   },
   "outputs": [],
   "source": [
    "'''2. 1-1 merging can be also validated using the validate option\n",
    "\n",
    "Is this still a 1-1 merging: yes\n",
    "'''\n",
    "import pandas as pd\n",
    "a = pd.DataFrame({\n",
    "         'id':[1,3,7],\n",
    "         'Name': ['a', 'b','c']})\n",
    "b = pd.DataFrame(\n",
    "         {'id':[1,2],\n",
    "         'marks':[100,52]})\n",
    "c=pd.merge(a,b,validate='1:1')\n",
    "c"
   ]
  },
  {
   "cell_type": "code",
   "execution_count": null,
   "metadata": {
    "scrolled": true
   },
   "outputs": [],
   "source": [
    "'''3. 1-1 merging can be also validated using the validate option\n",
    "\n",
    "Is this still a 1-1 merging: yes\n",
    "'''\n",
    "import pandas as pd\n",
    "a = pd.DataFrame({\n",
    "         'id':[1,3,3],\n",
    "         'Name': ['a', 'b','c']})\n",
    "b = pd.DataFrame(\n",
    "         {'id':[1,2],\n",
    "         'marks':[100,52]})\n",
    "c=pd.merge(a,b,validate='1:1')\n",
    "c"
   ]
  },
  {
   "cell_type": "code",
   "execution_count": null,
   "metadata": {},
   "outputs": [],
   "source": [
    "'''4. 1:m merging is when you have exact one value of key per frame in a  and many in b\n",
    "'''\n",
    "import pandas as pd\n",
    "a = pd.DataFrame({\n",
    "         'id':[1,2],\n",
    "         'Name': ['a', 'b']})\n",
    "b = pd.DataFrame(\n",
    "         {'id':[1,1,2],\n",
    "         'sub':['E','H','M']})\n",
    "c=pd.merge(a,b)\n",
    "c"
   ]
  },
  {
   "cell_type": "code",
   "execution_count": null,
   "metadata": {
    "scrolled": true
   },
   "outputs": [],
   "source": [
    "'''5. 1:m merging validation\n",
    "If the Keys are not unique the merge error would stop the merge  :)\n",
    "'''\n",
    "import pandas as pd\n",
    "a = pd.DataFrame({\n",
    "         'id':[1,1,2],\n",
    "         'Name': ['a', 'b','c']})\n",
    "b = pd.DataFrame(\n",
    "         {'id':[1,1,2],\n",
    "         'sub':['E','H','M']})\n",
    "c=pd.merge(a,b,validate='1:m')\n",
    "c"
   ]
  },
  {
   "cell_type": "code",
   "execution_count": null,
   "metadata": {},
   "outputs": [],
   "source": [
    "'''6. m:1 merging is when you have many in a  and 1 in b\n",
    "The Arrangement of the variables change :)\n",
    "'''\n",
    "import pandas as pd\n",
    "a = pd.DataFrame({\n",
    "         'id':[1,2],\n",
    "         'Name': ['a', 'b']})\n",
    "b = pd.DataFrame(\n",
    "         {'id':[1,1,2],\n",
    "         'sub':['E','H','M']})\n",
    "c=pd.merge(b,a)\n",
    "c"
   ]
  },
  {
   "cell_type": "code",
   "execution_count": null,
   "metadata": {},
   "outputs": [],
   "source": [
    "'''6.1 m:1 merging validation\n",
    "'''\n",
    "import pandas as pd\n",
    "a = pd.DataFrame({\n",
    "         'id':[1,1,2],\n",
    "         'Name': ['a', 'b','c']})\n",
    "b = pd.DataFrame(\n",
    "         {'id':[1,1,2],\n",
    "         'sub':['E','H','M']})\n",
    "c=pd.merge(b,a,validate='m:1')\n",
    "c"
   ]
  }
 ],
 "metadata": {
  "kernelspec": {
   "display_name": "Python 3",
   "language": "python",
   "name": "python3"
  },
  "language_info": {
   "codemirror_mode": {
    "name": "ipython",
    "version": 3
   },
   "file_extension": ".py",
   "mimetype": "text/x-python",
   "name": "python",
   "nbconvert_exporter": "python",
   "pygments_lexer": "ipython3",
   "version": "3.7.4"
  }
 },
 "nbformat": 4,
 "nbformat_minor": 2
}
