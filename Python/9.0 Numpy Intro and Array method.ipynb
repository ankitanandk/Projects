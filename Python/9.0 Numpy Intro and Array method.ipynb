{
 "cells": [
  {
   "cell_type": "markdown",
   "metadata": {},
   "source": [
    "'''0. This is how array look like :)\n",
    "We would try and cover all the dimesions.. \n",
    "2D are more used in ML as they are hand in hand to panda dataframe\n",
    "'''\n",
    "![](array.png)"
   ]
  },
  {
   "cell_type": "code",
   "execution_count": null,
   "metadata": {},
   "outputs": [],
   "source": [
    "'''\n",
    "1. Numpy is the core library for scientific computing.\n",
    "\n",
    "Provides high performance multi dimensional array objects, \n",
    "and tools for working on these arrays.\n",
    "\n",
    "Numpy is a module in Python. The name is an acronym for \"Numeric Python\" or \"Numerical Python\". \n",
    "It is pronounced (NUM-py),mostly written in C. This makes sure that the precompiled mathematical \n",
    "and numerical functions and functionalities of Numpy guarantee great execution speed.\n",
    "\n",
    "Furthermore, NumPy enriches the programming language Python with powerful data structures, \n",
    "implementing multi-dimensional arrays. These data structures guarantee efficient \n",
    "calculations with arrays. The implementation is even aiming at huge arrays, \n",
    "better known under the heading of \"big data\". Besides that the module supplies a large \n",
    "library of high-level mathematical functions to operate on these arrays.\n",
    "\n",
    "Advantages of using Numpy with Python:\n",
    "\n",
    "1.Array oriented computing and broadcasting\n",
    "2.Efficiently implemented multi-dimensional arrays\n",
    "3.Designed for scientific computation\n",
    "'''"
   ]
  },
  {
   "cell_type": "code",
   "execution_count": null,
   "metadata": {},
   "outputs": [],
   "source": [
    "'''\n",
    "2. Why should we use numpy over list or any other Python data structure,\n",
    "3 basic reasons are as follows.\n",
    "we would prove in Later modules !!\n",
    "\n",
    "1. Occupy less memory\n",
    "2. Very fast\n",
    "3. Convinient to use and flexibility\n",
    "'''\n"
   ]
  },
  {
   "cell_type": "code",
   "execution_count": null,
   "metadata": {},
   "outputs": [],
   "source": [
    "'''2.1 Why are they fast?\n",
    "Because the Numpy array is densely packed in memory due to its homogeneous type,\n",
    "it also frees the memory faster. So overall a task executed in Numpy is around 5 to 100 \n",
    "times faster than the standard python list, which is a significant leap in terms of speed\n",
    "'''"
   ]
  },
  {
   "cell_type": "code",
   "execution_count": null,
   "metadata": {},
   "outputs": [],
   "source": [
    "'''3.0 Help on the Array Method\n",
    "'''\n",
    "import numpy as np\n",
    "\n",
    "help(np.array)"
   ]
  },
  {
   "cell_type": "code",
   "execution_count": null,
   "metadata": {},
   "outputs": [],
   "source": [
    "'''\n",
    "3.1 Array method for creating a numpy array\n",
    "\n",
    "Creating numpy array with List,Tuples and the raw values\n",
    "The numpy module need to be imported, \"import numpy as np\"\n",
    "\n",
    "ndarray: It is n dimensional array object :).. currently the array is 1 dimensional\n",
    "'''\n",
    "#List\n",
    "import numpy as np\n",
    "l = [10,20,30] \n",
    "c=np.array(l)\n",
    "\n",
    "#Tuple\n",
    "import numpy as np\n",
    "t = (10,20,30)\n",
    "c=np.array(t) \n",
    "\n",
    "#OR just the values directly, Note the braces very very carefully :), array is a method so () and () for values\n",
    "import numpy as np\n",
    "c=np.array((1,2,3))\n",
    "print(type(c))\n",
    "print(c)"
   ]
  },
  {
   "cell_type": "code",
   "execution_count": null,
   "metadata": {
    "scrolled": true
   },
   "outputs": [],
   "source": [
    "'''\n",
    "4. Convert degree Celsius into Farenheit, we can use the broadcast capability if the arrays\n",
    "An operation can be cascaded to the entire array for every element\n",
    "'''\n",
    "import numpy as np\n",
    "c = np.array([20.1, 20.8, 21.9])\n",
    "f=(c*9/5+32)\n",
    "print(c,f)\n",
    "print(type(c),type(f))"
   ]
  },
  {
   "cell_type": "code",
   "execution_count": null,
   "metadata": {
    "scrolled": true
   },
   "outputs": [],
   "source": [
    "'''\n",
    "5. Convert KG weights into grams and pounds\n",
    "'''\n",
    "import numpy as np\n",
    "k = np.array([1,2,3])\n",
    "g=k*1000\n",
    "p=k*2.2\n",
    "print(g,p)"
   ]
  },
  {
   "cell_type": "code",
   "execution_count": null,
   "metadata": {},
   "outputs": [],
   "source": [
    "'''5.1 List or any other data structure does not give the flexibility\n",
    "The Values would be repeated 1000 times\n",
    "\n",
    "List comprehension and other similar techniques is helpful\n",
    "'''\n",
    "l=[1,2,3]\n",
    "g=l*1000"
   ]
  },
  {
   "cell_type": "code",
   "execution_count": null,
   "metadata": {},
   "outputs": [],
   "source": [
    "'''5.2 You would need to run a loop and get the values or use list comprehension'''\n",
    "l=[1,2,3]\n",
    "[i*1000 for i in l]\n",
    "\n",
    "#Or the longer loop method\n",
    "new=[]\n",
    "for i in l:\n",
    "    new.append(i*1000)\n",
    "new"
   ]
  },
  {
   "cell_type": "code",
   "execution_count": null,
   "metadata": {},
   "outputs": [],
   "source": [
    "'''\n",
    "6. Note: Creating Compound Numpy Arrays\n",
    "Numpy arrays can store compound data values as well, however we usually stick to homogeneous arrays, \n",
    "consisting elements of same type. This helps in memory optimization and storage\n",
    "\n",
    "In arithmetic operations this might cause issues\n",
    "'''\n",
    "import numpy as np\n",
    "k = np.array([1,2,3,\"a\"])\n",
    "print(k,type(k))"
   ]
  },
  {
   "cell_type": "code",
   "execution_count": null,
   "metadata": {},
   "outputs": [],
   "source": [
    "'''7. Numpy array are iterable and we can run for loop'''\n",
    "import numpy as np\n",
    "k = np.array([1,2,3])\n",
    "for i in k:\n",
    "    print(i)"
   ]
  },
  {
   "cell_type": "code",
   "execution_count": null,
   "metadata": {},
   "outputs": [],
   "source": [
    "'''7.01 They are iterable as iter function could work'''\n",
    "import numpy as np\n",
    "k = np.array([1,2,3])\n",
    "a=iter(k)\n",
    "\n",
    "for i in a:\n",
    "    print(i)"
   ]
  },
  {
   "cell_type": "code",
   "execution_count": null,
   "metadata": {},
   "outputs": [],
   "source": [
    "'''7.1 You can even use them in list comprehension and thus obtain a list from an array'''\n",
    "import numpy as np\n",
    "k = np.array([1,2,3])\n",
    "[i for i in k]"
   ]
  },
  {
   "cell_type": "code",
   "execution_count": null,
   "metadata": {},
   "outputs": [],
   "source": [
    "'''7.2 Proof they are iterable as the iter function can work, also the type tells its an iterator'''\n",
    "import numpy as np\n",
    "a=np.array([1,2,3])\n",
    "print(next(iter(a)),type(iter(a)))"
   ]
  }
 ],
 "metadata": {
  "kernelspec": {
   "display_name": "Python 3",
   "language": "python",
   "name": "python3"
  },
  "language_info": {
   "codemirror_mode": {
    "name": "ipython",
    "version": 3
   },
   "file_extension": ".py",
   "mimetype": "text/x-python",
   "name": "python",
   "nbconvert_exporter": "python",
   "pygments_lexer": "ipython3",
   "version": "3.7.4"
  }
 },
 "nbformat": 4,
 "nbformat_minor": 2
}
