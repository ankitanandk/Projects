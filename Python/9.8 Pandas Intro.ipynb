{
 "cells": [
  {
   "cell_type": "code",
   "execution_count": 1,
   "metadata": {},
   "outputs": [
    {
     "data": {
      "text/plain": [
       "127"
      ]
     },
     "execution_count": 1,
     "metadata": {},
     "output_type": "execute_result"
    }
   ],
   "source": [
    "'''\n",
    "0. What is Pandas?\n",
    "\n",
    "Similar to NumPy, Pandas is one of the most widely used python libraries/package in data science. \n",
    "It provides high-performance, easy to use structures and data analysis tools. \n",
    "Unlike NumPy library which provides objects for multi-dimensional arrays, \n",
    "Pandas provides in-memory 2d table object called Dataframe or frames.\n",
    "It is like a spreadsheet with column names and row labels or in SAS the analogous term would be SAS Dataset.\n",
    "\n",
    "Hence, with 2d tables, pandas is capable of providing many additional functionalities\n",
    "like creating pivot tables, computing columns based on other columns and plotting graphs. \n",
    "Pandas can be imported into Python using:\n",
    "\n",
    "import pandas as pd\n",
    "\n",
    "Pandas contain 127 methods and thus is huge and extensive in the Python space\n",
    "'''\n",
    "\n",
    "import pandas as pd\n",
    "len([i for i in dir(pd) if not i.startswith(\"__\")])"
   ]
  }
 ],
 "metadata": {
  "kernelspec": {
   "display_name": "Python 3",
   "language": "python",
   "name": "python3"
  },
  "language_info": {
   "codemirror_mode": {
    "name": "ipython",
    "version": 3
   },
   "file_extension": ".py",
   "mimetype": "text/x-python",
   "name": "python",
   "nbconvert_exporter": "python",
   "pygments_lexer": "ipython3",
   "version": "3.7.4"
  }
 },
 "nbformat": 4,
 "nbformat_minor": 2
}
