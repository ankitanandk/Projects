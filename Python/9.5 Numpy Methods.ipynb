{
 "cells": [
  {
   "cell_type": "code",
   "execution_count": null,
   "metadata": {},
   "outputs": [],
   "source": [
    "'''\n",
    "1. How can I know the element count in an array, use the len method.\n",
    "\n",
    "Or the size attribute\n",
    "'''\n",
    "import numpy as np\n",
    "a=np.array([1,2,3])\n",
    "print(f\"The elements in a are {len(a)}\")"
   ]
  },
  {
   "cell_type": "code",
   "execution_count": null,
   "metadata": {},
   "outputs": [],
   "source": [
    "'''\n",
    "2. Create a scalar or a zero dimension array\n",
    "Scalar variable or array is the one that holds a single value at a time.\n",
    "'''\n",
    "import numpy as np\n",
    "x = np.array(42) #single value of 42 or scalar value of 42, x is now a scalar array\n",
    "print(\"The dimension of x:\", x.ndim) #ndim function is used to return the dimension"
   ]
  },
  {
   "cell_type": "code",
   "execution_count": null,
   "metadata": {},
   "outputs": [],
   "source": [
    "'''2.1 Guess the dimesnion of the array, would it be a scalar array? and why not?'''\n",
    "import numpy as np\n",
    "a=np.array([13])\n",
    "a.ndim"
   ]
  },
  {
   "cell_type": "code",
   "execution_count": null,
   "metadata": {},
   "outputs": [],
   "source": [
    "'''3. Help on a particular method in the numpy module'''\n",
    "import numpy as np\n",
    "help (np.zeros)"
   ]
  },
  {
   "cell_type": "code",
   "execution_count": null,
   "metadata": {},
   "outputs": [],
   "source": [
    "'''\n",
    "3.1 what is np.zeroes, its a function that returns zeroes for the specified shape and datatype. \n",
    "It takes 2 parameters a. The size b. data type of the elements\n",
    "\n",
    "This method is used in ML for creating columns with dummy or constant value\n",
    "'''\n",
    "import numpy as np\n",
    "np.zeros(5, dtype='int')\n",
    "\n",
    "'''\n",
    "This would create a 2 dimesnional array with 2 rows and 5 columns having all 0's\n",
    "'''\n",
    "a=np.zeros((2,5),dtype=\"int\")\n",
    "\n",
    "print(a)"
   ]
  },
  {
   "cell_type": "code",
   "execution_count": null,
   "metadata": {},
   "outputs": [],
   "source": [
    "'''\n",
    "4. Numpy array with all ones, either in 1 dimension or in 2 dimension\n",
    "The dtype can be used again for specifying the type of values\n",
    "'''\n",
    "a=np.ones(5, dtype=\"str\")\n",
    "a=np.ones(5, dtype=\"float\")\n",
    "a=np.ones(5, dtype=\"int\")\n",
    "a=np.ones((2,5), dtype=\"int\")"
   ]
  },
  {
   "cell_type": "code",
   "execution_count": null,
   "metadata": {
    "scrolled": true
   },
   "outputs": [],
   "source": [
    "'''\n",
    "5. An array with a predefined or static value, first argument is dimesion and then the value\n",
    "'''\n",
    "a=np.full(5, 13)\n",
    "a\n",
    "\n",
    "a=np.full(5, 13.0)\n",
    "a\n",
    "\n",
    "a=np.full(5, \"13\")\n",
    "a\n",
    "\n",
    "a=np.full((2,5), \"13\")\n",
    "a"
   ]
  },
  {
   "cell_type": "code",
   "execution_count": null,
   "metadata": {},
   "outputs": [],
   "source": [
    "'''\n",
    "6. What is np.arrange, its similar to range, arange is “array range”, start and stop values.\n",
    "Help on built-in function arange in module numpy:\n",
    "\n",
    "import numpy as np\n",
    "help (np.arange)\n",
    "\n",
    "arange(...)\n",
    "    arange([start,] stop[, step,], dtype=None)\n",
    "'''\n",
    "a=np.arange(0, 10) \n",
    "c=np.arange(10)"
   ]
  },
  {
   "cell_type": "code",
   "execution_count": null,
   "metadata": {},
   "outputs": [],
   "source": [
    "'''\n",
    "6.1 What is np.arrange, its similar to range, arange is “array range”, third parameter is step\n",
    "\n",
    "You can not create a 2D aray using arange, 2 is the step value for the range\n",
    "'''\n",
    "a=np.arange(0, 10,2) \n",
    "a"
   ]
  },
  {
   "cell_type": "code",
   "execution_count": null,
   "metadata": {},
   "outputs": [],
   "source": [
    "'''\n",
    "6.2 What is np.arrange, its similar to range, arange is “array range” with a -ve step\n",
    "'''\n",
    "a=np.arange(10, 0,-2) \n",
    "a"
   ]
  },
  {
   "cell_type": "code",
   "execution_count": null,
   "metadata": {},
   "outputs": [],
   "source": [
    "'''6.3 You can even do a list comprehension and get a lits from the array'''\n",
    "import numpy as np\n",
    "[i for i in np.arange(10)]"
   ]
  },
  {
   "cell_type": "code",
   "execution_count": null,
   "metadata": {},
   "outputs": [],
   "source": [
    "'''\n",
    "7. Can I convert the array to a list or any other data structure, yes you can do that :)\n",
    "Not advisable, but you can :)\n",
    "'''\n",
    "a=list(np.arange(1,10,2))\n",
    "print(type(a))\n",
    "a=tuple(np.arange(1,10,2))\n",
    "print(type(a))\n",
    "a"
   ]
  },
  {
   "cell_type": "code",
   "execution_count": null,
   "metadata": {
    "scrolled": false
   },
   "outputs": [],
   "source": [
    "'''\n",
    " 8. what is np.linspace, this is very much used in plotting graphs for creating the X and Y axis scales in \n",
    " regression plots\n",
    " \n",
    "It gives equated spaces values between start and stop variable, \n",
    "so in below code it would return 5 numbers between  0 and 1\n",
    "\n",
    "The algo is (ub-lb)/n-1 \n",
    "The ub can be smaller than lb\n",
    "\n",
    "ub and lb are included in the values\n",
    "'''\n",
    "a=np.linspace(0, 1, 5); print(a)\n",
    "\n",
    "'''\n",
    "Guess the output for the below codes, you can use ; to write many statements in 1 line.\n",
    "'''\n",
    "a=np.linspace(1, 10, 10); print(a)\n",
    "a=np.linspace(1, 0, 5); print(a)"
   ]
  },
  {
   "cell_type": "code",
   "execution_count": null,
   "metadata": {
    "scrolled": false
   },
   "outputs": [],
   "source": [
    "'''\n",
    "9. How to create an identity matrix\n",
    "\n",
    "Definition: A square matrix in which all the elements of the principal diagonal are ones and all\n",
    "other elements are zeros. The effect of multiplying a given matrix by an identity matrix is to \n",
    "leave the given matrix unchanged.\n",
    "\n",
    "Return a 2-D array with ones on the diagonal and zeros elsewhere.\n",
    "\n",
    "so with a value 3.. 3 rows and 3 columns, with all column values as 1\n",
    "'''\n",
    "a=np.eye(3,dtype=\"int\");print(a,a.ndim,a.shape)\n",
    "a=np.eye(4,dtype=\"int\");print(a,a.ndim,a.shape)\n"
   ]
  },
  {
   "cell_type": "code",
   "execution_count": null,
   "metadata": {
    "scrolled": true
   },
   "outputs": [],
   "source": [
    "'''10. reshape method, helps to reshape the array in a desired deimension\n",
    "The size need to be consistent, you can not reshape an array out of the size\n",
    "'''\n",
    "import numpy as np\n",
    "ar = np.arange(8) \n",
    "print(ar,ar.ndim,ar.size)\n",
    "ar1=ar.reshape(2,4)\n",
    "print(ar1,ar1.ndim,ar.size)"
   ]
  },
  {
   "cell_type": "code",
   "execution_count": null,
   "metadata": {
    "scrolled": false
   },
   "outputs": [],
   "source": [
    "'''10.1 You can not reshape size of 8 to 2,3 or 7 to 2,4\n",
    "So always the size of parent shoule be = size of new child array\n",
    "'''\n",
    "import numpy as np\n",
    "ar = np.arange(8) \n",
    "print(ar,ar.ndim,ar.size)\n",
    "ar1=ar.reshape(2,3)\n",
    "print(ar1,ar1.ndim,ar.size)"
   ]
  },
  {
   "cell_type": "code",
   "execution_count": null,
   "metadata": {},
   "outputs": [],
   "source": [
    "'''10.2 The below code is allowed where you are changing the shape of 1D array to 2D array\n",
    "Use spyder for better visuals\n",
    "Focus on the shape 1D was (8,) and 2D is (8,1) and still the size is 8 :)\n",
    "'''\n",
    "import numpy as np\n",
    "ar = np.arange(8) \n",
    "print(ar,ar.ndim,ar.size,ar.shape)\n",
    "ar1=ar.reshape(8,1)\n",
    "print(ar1,ar1.ndim,ar.size,ar1.shape)"
   ]
  }
 ],
 "metadata": {
  "kernelspec": {
   "display_name": "Python 3",
   "language": "python",
   "name": "python3"
  },
  "language_info": {
   "codemirror_mode": {
    "name": "ipython",
    "version": 3
   },
   "file_extension": ".py",
   "mimetype": "text/x-python",
   "name": "python",
   "nbconvert_exporter": "python",
   "pygments_lexer": "ipython3",
   "version": "3.7.4"
  }
 },
 "nbformat": 4,
 "nbformat_minor": 2
}
