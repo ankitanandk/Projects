{
 "cells": [
  {
   "cell_type": "code",
   "execution_count": null,
   "metadata": {
    "scrolled": true
   },
   "outputs": [],
   "source": [
    "'''\n",
    "1. One Positional argument to the function call:\n",
    "Passing parameters to a function for making it more dynamic, \n",
    "the below function ask one parameter from the user at definition and one argument at call\n",
    "'''\n",
    "def conv(usd):\n",
    "    rs=usd*70\n",
    "    print(rs)\n",
    "    \n",
    "conv(10)"
   ]
  },
  {
   "cell_type": "code",
   "execution_count": null,
   "metadata": {},
   "outputs": [],
   "source": [
    "'''\n",
    "CP\n",
    "\n",
    "2. Two Positional parameters:\n",
    "lets make a function with 2 positional arguments usd and po\n",
    "Positional parameters or Required arguments, similar to calling SAS macros with positional parameters\n",
    "You can not give less or more arguments while calling the function\n",
    "'''\n",
    "def conv(usd,po):\n",
    "    rs_usd=usd*70\n",
    "    rs_po=po*80\n",
    "    print(rs_usd, rs_po)\n",
    "\n",
    "conv(10,20)"
   ]
  },
  {
   "cell_type": "code",
   "execution_count": null,
   "metadata": {
    "scrolled": true
   },
   "outputs": [],
   "source": [
    "'''2.1 Can 2 positional parameters have the same name, This would throw an error'''\n",
    "\n",
    "def conv(usd,usd):\n",
    "    rs_usd=usd*70\n",
    "    print(rs_usd)\n",
    "\n",
    "conv(10,20)"
   ]
  },
  {
   "cell_type": "code",
   "execution_count": null,
   "metadata": {},
   "outputs": [],
   "source": [
    "'''\n",
    "3. keyword parameter to a function, similar to calling SAS macros with keyword parameters,\n",
    "remember keyword parameters are clear and much more explicit.\n",
    "The = sign should be used when passing value as argument\n",
    "'''\n",
    "def conv(usd,po):\n",
    "    rs_usd=usd*70\n",
    "    rs_po=po*80\n",
    "    print(rs_usd, rs_po)\n",
    "\n",
    "conv(po=100,usd=2)"
   ]
  },
  {
   "cell_type": "code",
   "execution_count": null,
   "metadata": {},
   "outputs": [],
   "source": [
    "'''\n",
    "CP\n",
    "\n",
    "4. Function that prints the last alphabet of string \n",
    "'''\n",
    "\n",
    "def last1(s):\n",
    "    return s[-1]\n",
    "\n",
    "print(last1(\"amit\"))\n",
    "\n",
    "a=last1(\"amit\")\n",
    "a"
   ]
  },
  {
   "cell_type": "code",
   "execution_count": null,
   "metadata": {},
   "outputs": [],
   "source": [
    "'''\n",
    "5. Function that returns and tells if a supplied number is even or odd.\n",
    "'''\n",
    "\n",
    "def eo(inp):\n",
    "    if inp%2==0:\n",
    "        print(\"even\")\n",
    "    else:\n",
    "        print(\"odd\")\n",
    "\n",
    "eo(12)"
   ]
  },
  {
   "cell_type": "code",
   "execution_count": null,
   "metadata": {},
   "outputs": [],
   "source": [
    "'''\n",
    "6. Function that prints and tells if a supplied number is even or odd from user input.\n",
    "'''\n",
    "\n",
    "def eo():\n",
    "    n=int(input(\"share the number\"))\n",
    "    if n%2==0:\n",
    "        print(f\"{n} is even\")\n",
    "    else:\n",
    "        print(f\"{n} is odd\")\n",
    "\n",
    "eo()"
   ]
  },
  {
   "cell_type": "code",
   "execution_count": null,
   "metadata": {},
   "outputs": [],
   "source": [
    "'''\n",
    "7. Function that compares 2 numbers from user and prints which one is bigger\n",
    "'''\n",
    "\n",
    "def eo():\n",
    "    x,y=[int(i) for i in input(\"Enter 2 numbers\").split(\",\")]\n",
    "    if x>y:\n",
    "        print(f\"{x} is bigger than {y}\")\n",
    "    else:\n",
    "        print(f\"{y} is bigger than {x}\")\n",
    "\n",
    "eo()"
   ]
  },
  {
   "cell_type": "code",
   "execution_count": null,
   "metadata": {},
   "outputs": [],
   "source": [
    "'''7.1 The same code can also be shortened with the return statement\n",
    "we would read more about return statement soon\n",
    "'''\n",
    "\n",
    "def eo():\n",
    "    x,y=[int(i) for i in input(\"Enter 2 numbers\").split(\",\")]\n",
    "    if x>y:\n",
    "        return(f\"{x} is bigger than {y}\")\n",
    "    return(f\"{y} is bigger than {x}\")\n",
    "\n",
    "eo()"
   ]
  },
  {
   "cell_type": "code",
   "execution_count": null,
   "metadata": {},
   "outputs": [],
   "source": [
    "'''7.2 What would below code do?, when it would work? when it would fail?\n",
    "whats the solution: use else or use return\n",
    "Code Not advised \n",
    "'''\n",
    "def eo():\n",
    "    x,y=[int(i) for i in input(\"Enter 2 numbers\").split(\",\")]\n",
    "    if x>y:\n",
    "        print(f\"{x} is bigger than {y}\")\n",
    "    print(f\"{y} is bigger than {x}\")\n",
    "\n",
    "eo()"
   ]
  }
 ],
 "metadata": {
  "kernelspec": {
   "display_name": "Python 3",
   "language": "python",
   "name": "python3"
  },
  "language_info": {
   "codemirror_mode": {
    "name": "ipython",
    "version": 3
   },
   "file_extension": ".py",
   "mimetype": "text/x-python",
   "name": "python",
   "nbconvert_exporter": "python",
   "pygments_lexer": "ipython3",
   "version": "3.7.3"
  }
 },
 "nbformat": 4,
 "nbformat_minor": 2
}
