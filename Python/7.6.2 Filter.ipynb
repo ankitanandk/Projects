{
 "cells": [
  {
   "cell_type": "code",
   "execution_count": null,
   "metadata": {},
   "outputs": [],
   "source": [
    "'''0. Help on the filter function '''\n",
    "help(filter)"
   ]
  },
  {
   "cell_type": "code",
   "execution_count": null,
   "metadata": {
    "scrolled": true
   },
   "outputs": [],
   "source": [
    "'''\n",
    "1. The filter() function filters the given sequence with the help of a function that tests each element \n",
    "in the sequence to be true or not.\n",
    "\n",
    "The synatx is very similar to the map function.\n",
    "\n",
    "Filter function is used for filtering the list or tuple and returns a filter object. \n",
    "The function should be returning Boolean, True or False.\n",
    "\n",
    "This can be then converted to list or tuple based on the requirement.\n",
    "\n",
    "syntax:\n",
    "filter(function, iterable)\n",
    "Parameters:\n",
    "function: function that tests if each element of a sequence true or not.\n",
    "sequence: sequence which needs to be filtered, it can be sets, lists, tuples, or containers of any iterators.\n",
    "\n",
    "Returns an iterator that is already filtered.\n",
    "\n",
    "Only filters for True condition\n",
    "'''\n",
    "def is_ev(a):\n",
    "    return a%2==0\n",
    "l=[1,2,3,4,5]\n",
    "print(list(filter(is_ev,l)))"
   ]
  },
  {
   "cell_type": "code",
   "execution_count": 1,
   "metadata": {},
   "outputs": [
    {
     "data": {
      "text/plain": [
       "[1, 2, 3, 4]"
      ]
     },
     "execution_count": 1,
     "metadata": {},
     "output_type": "execute_result"
    }
   ],
   "source": [
    "'''1.01 The below code would not work well as the function is not returning a filter True or False criteria'''\n",
    "def eo(n):\n",
    "    return n**2\n",
    "list(filter(eo,[1,2,3,4]))"
   ]
  },
  {
   "cell_type": "code",
   "execution_count": 5,
   "metadata": {},
   "outputs": [
    {
     "data": {
      "text/plain": [
       "[1, 1, 1, -1, 5, 5.5]"
      ]
     },
     "execution_count": 5,
     "metadata": {},
     "output_type": "execute_result"
    }
   ],
   "source": [
    "'''1.02 The filter take the fxn or the None as first argument\n",
    "If None is passed would filter all the 1's or the True\n",
    "\n",
    "why 5: As anything beside 0 is True .. 0 is only False\n",
    "'''\n",
    "\n",
    "list(filter(None,[1,0,1,1,-1,5,5.5]))"
   ]
  },
  {
   "cell_type": "code",
   "execution_count": 6,
   "metadata": {},
   "outputs": [
    {
     "data": {
      "text/plain": [
       "[True, True]"
      ]
     },
     "execution_count": 6,
     "metadata": {},
     "output_type": "execute_result"
    }
   ],
   "source": [
    "'''1.03 The filter take the fxn or the None as first argument\n",
    "If None is passed would filter all the 1's or the True\n",
    "'''\n",
    "list(filter(None,[True,False,True]))"
   ]
  },
  {
   "cell_type": "code",
   "execution_count": null,
   "metadata": {},
   "outputs": [],
   "source": [
    "'''1.1 Possible ways to filter even values from a list'''\n",
    "#1\n",
    "l=[1,2,3,4]\n",
    "[i for i in l if i%2==0]\n",
    "\n",
    "#2\n",
    "def ev(n):\n",
    "    if n%2==0:\n",
    "        return n    \n",
    "[ev(i) for i in l if ev(i) != None]\n",
    "\n",
    "#3\n",
    "new=[]\n",
    "def ev():\n",
    "    for i in l:\n",
    "        if i%2==0:\n",
    "            new.append(i)\n",
    "    return new\n",
    "\n",
    "ev()\n",
    "\n",
    "#4\n",
    "l=[1,2,3,4]\n",
    "def is_ev(a):\n",
    "    return a%2==0\n",
    "list(filter(is_ev,l))\n",
    "\n",
    "#5\n",
    "list(filter(lambda n: True if n%2==0 else False,l))\n",
    "\n",
    "#5.1 Another way to call the lambda function\n",
    "list(filter(lambda n: 1 if n%2==0 else 0,l))"
   ]
  },
  {
   "cell_type": "code",
   "execution_count": null,
   "metadata": {
    "scrolled": true
   },
   "outputs": [],
   "source": [
    "'''1.00 Prove that the filter object is an generator\n",
    "the print comes 1 time, thus proving that the filter object is a generator\n",
    "'''\n",
    "l=[1,2,3,4]\n",
    "def is_ev(a):\n",
    "    return a%2==0\n",
    "\n",
    "new=filter(is_ev,l);\n",
    "\n",
    "for i in new:\n",
    "    print(i)\n",
    "    \n",
    "for i in new:\n",
    "    print(i)"
   ]
  },
  {
   "cell_type": "code",
   "execution_count": null,
   "metadata": {},
   "outputs": [],
   "source": [
    "'''1.001 Prove that filter object is a iteraror, it as as the next function works on it directly'''\n",
    "\n",
    "l=[1,2,3,4]\n",
    "next(filter(lambda n:0 if n%2==0 else 1,l))"
   ]
  },
  {
   "cell_type": "code",
   "execution_count": null,
   "metadata": {},
   "outputs": [],
   "source": [
    "'''1.01 Look at below codes for clarity and guess the ouput :)'''\n",
    "l=[4,8,12]\n",
    "print(list(filter(lambda n:n%4==0,l)))\n",
    "\n",
    "l=[4,8,11]\n",
    "print(list(filter(lambda n:n%4==0,l)))\n",
    "\n",
    "l=[14,18,11]\n",
    "print(list(filter(lambda n:n%4==0,l)))"
   ]
  },
  {
   "cell_type": "code",
   "execution_count": 7,
   "metadata": {},
   "outputs": [
    {
     "name": "stdout",
     "output_type": "stream",
     "text": [
      "[1, 3, 5]\n"
     ]
    }
   ],
   "source": [
    "'''\n",
    "1.1 The filter function need the function to be Boolean(True or False), let's try diff combinations\n",
    "'''\n",
    "def is_ev(n):\n",
    "    return n%2==True\n",
    "l=[1,2,3,4,5]\n",
    "print(list(filter(is_ev,l)))"
   ]
  },
  {
   "cell_type": "code",
   "execution_count": null,
   "metadata": {
    "scrolled": true
   },
   "outputs": [],
   "source": [
    "'''\n",
    "1.2 What would happen in the below code, the filter function would not work as this condition is never true.\n",
    "And no element qualifies this condition.\n",
    "\n",
    "it would return False for all values as int numbers divided by 2 always leave remainder as 1 or 0\n",
    ".. look at the first code\n",
    "'''\n",
    "#*******The list would have all False values as the condition is not met\n",
    "def is_ev(n):\n",
    "    return n%2==99\n",
    "l=[1,2,3,4,100]\n",
    "print(list(map(is_ev,l)))\n",
    "\n",
    "#**************************\n",
    "def is_ev(n):\n",
    "    return n%2==99\n",
    "l=[1,2,3,4,100]\n",
    "print(list(filter(is_ev,l)))\n",
    "\n",
    "#OR guess the output, note the condition is now reversed\n",
    "def is_ev(n):\n",
    "    return not n%2==99\n",
    "l=[1,2,3,4,100]\n",
    "print(list(filter(is_ev,l)))"
   ]
  },
  {
   "cell_type": "code",
   "execution_count": null,
   "metadata": {},
   "outputs": [],
   "source": [
    "'''1.4 you can also use not here, so instead of even numbers it would now give odd numbers'''\n",
    "\n",
    "def is_ev(a):\n",
    "    return not a%2==0\n",
    "l=[1,2,3]\n",
    "\n",
    "print(list(filter(is_ev,l)))"
   ]
  },
  {
   "cell_type": "code",
   "execution_count": null,
   "metadata": {},
   "outputs": [],
   "source": [
    "'''1.4.1 The False keyword can also be used, False=0, so only the even numbers are picked up'''\n",
    "\n",
    "def is_ev(a):\n",
    "    return a%2==False\n",
    "l=[1,2,3]\n",
    "\n",
    "print(list(filter(is_ev,l)))"
   ]
  },
  {
   "cell_type": "code",
   "execution_count": null,
   "metadata": {},
   "outputs": [],
   "source": [
    "'''1.5 lets filter all the numbers above 5\n",
    "Now the function would be returning True for numbers above 5 and thus it is able to filter the list\n",
    "'''\n",
    "def gt5(a):\n",
    "    return a>5\n",
    "l=[1,2,3,13]\n",
    "\n",
    "print(list(filter(gt5,l)))"
   ]
  },
  {
   "cell_type": "code",
   "execution_count": null,
   "metadata": {},
   "outputs": [],
   "source": [
    "'''1.5.1 lets filter all the numbers above 5 using lambda function'''\n",
    "l=[1,2,3,13]\n",
    "\n",
    "print(list(filter(lambda n:n>5,l)))"
   ]
  },
  {
   "cell_type": "code",
   "execution_count": 8,
   "metadata": {},
   "outputs": [
    {
     "data": {
      "text/plain": [
       "[6, 7, 8, 9, 10]"
      ]
     },
     "execution_count": 8,
     "metadata": {},
     "output_type": "execute_result"
    }
   ],
   "source": [
    "'''1.5.2 Using filter+lambda and list comp'''\n",
    "list(filter(lambda n:n>5,[i for i in range(1,11)]))"
   ]
  },
  {
   "cell_type": "code",
   "execution_count": null,
   "metadata": {},
   "outputs": [],
   "source": [
    "'''1.5.2 lets filter all the numbers above 5 using lambda function in an explicit way'''\n",
    "l=[1,2,3,13]\n",
    "\n",
    "print(list(filter(lambda n:True if n>5 else False ,l)))"
   ]
  },
  {
   "cell_type": "code",
   "execution_count": null,
   "metadata": {},
   "outputs": [],
   "source": [
    "'''1.5.3 lets filter all the numbers above 5 using lambda function in an explicit way'''\n",
    "l=[1,2,3,13]\n",
    "\n",
    "print(list(filter(lambda n:1 if n>5 else 0 ,l)))"
   ]
  },
  {
   "cell_type": "code",
   "execution_count": null,
   "metadata": {},
   "outputs": [],
   "source": [
    "'''1.6 Simple way'''\n",
    "l=[1,2,3]\n",
    "list(filter(lambda n:n%2==0,l))"
   ]
  },
  {
   "cell_type": "code",
   "execution_count": null,
   "metadata": {},
   "outputs": [],
   "source": [
    "'''\n",
    "2. Lets attempt the same with list comprehension method.\n",
    "'''\n",
    "l=[1,2,3,4,5]\n",
    "new=[i for i in l if i%2==0]\n",
    "print(new)"
   ]
  },
  {
   "cell_type": "code",
   "execution_count": null,
   "metadata": {},
   "outputs": [],
   "source": [
    "'''\n",
    "3. Lets attempt the same with lambda expression and filter function\n",
    "'''\n",
    "l=[1,2,3,4,5]\n",
    "new=list(filter(lambda i:i%2==0,l))\n",
    "print(new)\n",
    "\n",
    "#More explicit call\n",
    "l=[1,2,3,4,5]\n",
    "new=list(filter(lambda i:True if i%2==0 else False,l))\n",
    "print(new)\n",
    "\n",
    "#or the other way\n",
    "\n",
    "list(filter(lambda n:1 if n>5 else 0,[i for i in range(1,11)]))"
   ]
  },
  {
   "cell_type": "code",
   "execution_count": null,
   "metadata": {},
   "outputs": [],
   "source": [
    "'''3.1 Another way of writing the code'''\n",
    "l=[1,2,3,4,5]\n",
    "\n",
    "list(filter(lambda n:not n%2==0,l))"
   ]
  },
  {
   "cell_type": "code",
   "execution_count": null,
   "metadata": {},
   "outputs": [],
   "source": [
    "'''\n",
    "4. The filter object is iterable and it can be looped and utilized once, \n",
    "list and tuple can be iterated many times not filter object\n",
    "As the filter is a GENERATOR OBJECT\n",
    "'''\n",
    "l=[1,2,3,4,5]\n",
    "new=filter(lambda i:i%2==0,l)\n",
    "for i in new:\n",
    "    print(i)\n",
    "\n",
    "#This call doesnot work as they can be called once\n",
    "for j in new:\n",
    "    print(j)"
   ]
  },
  {
   "cell_type": "code",
   "execution_count": 9,
   "metadata": {},
   "outputs": [
    {
     "data": {
      "text/plain": [
       "[[2, 4], [4, 6, 8]]"
      ]
     },
     "execution_count": 9,
     "metadata": {},
     "output_type": "execute_result"
    }
   ],
   "source": [
    "'''4.1 Make a new hybrid list that have even nos from both the list'''\n",
    "l=[1,2,3,4]\n",
    "k=[4,5,6,8]\n",
    "\n",
    "def list_append(*args):\n",
    "    new=[]\n",
    "    for i in args:\n",
    "        new.append(list(filter(lambda n:n%2==0,i)))\n",
    "    return new\n",
    "\n",
    "list_append(l,k)"
   ]
  },
  {
   "cell_type": "code",
   "execution_count": 10,
   "metadata": {},
   "outputs": [
    {
     "data": {
      "text/plain": [
       "[2, 4, 4, 6, 8]"
      ]
     },
     "execution_count": 10,
     "metadata": {},
     "output_type": "execute_result"
    }
   ],
   "source": [
    "'''4.1 Make a new hybrid list that have even nos from both the list\n",
    "We can now even extend the list\n",
    "'''\n",
    "l=[1,2,3,4]\n",
    "k=[4,5,6,8]\n",
    "\n",
    "def list_append(*args):\n",
    "    new=[]\n",
    "    for i in args:\n",
    "        new.extend(list(filter(lambda n:n%2==0,i)))\n",
    "    return new\n",
    "\n",
    "list_append(l,k)"
   ]
  },
  {
   "cell_type": "code",
   "execution_count": null,
   "metadata": {},
   "outputs": [],
   "source": [
    "'''\n",
    "5. Let's filter the pallindromes from a list. Define a function and then try and use filter.\n",
    "'''\n",
    "def is_pal(st):\n",
    "    return st==st[::-1]\n",
    "\n",
    "l=[\"amit\",\"kaka\",\"madam\"]\n",
    "newlist=list(filter(is_pal,l))\n",
    "newlist\n",
    "\n",
    "#or the other detailed way\n",
    "l=[\"amit\",\"kaka\",\"madam\"]\n",
    "def is_pal(l):\n",
    "    if l==l[::-1]:\n",
    "        return 1\n",
    "    return 0\n",
    "\n",
    "print(list(filter(is_pal,l)))\n",
    "\n",
    "#Using the list comprehension\n",
    "list(filter(lambda x:x==x[::-1],l))\n",
    "\n",
    "#Using the explicit list comprehension\n",
    "list(filter(lambda x:True if x==x[::-1] else False,l))\n",
    "\n",
    "#making a list\n",
    "l=[\"amit\",\"kaka\",\"madam\"]\n",
    "[i for i in filter(lambda n: True if n==n[::-1] else False,l)]"
   ]
  },
  {
   "cell_type": "code",
   "execution_count": 11,
   "metadata": {},
   "outputs": [
    {
     "data": {
      "text/plain": [
       "['amit', 'kaka']"
      ]
     },
     "execution_count": 11,
     "metadata": {},
     "output_type": "execute_result"
    }
   ],
   "source": [
    "'''5.1 How would you filter non pallindromes'''\n",
    "l=[\"amit\",\"kaka\",\"madam\"]\n",
    "\n",
    "list(filter(lambda s: s!=s[::-1],l))"
   ]
  },
  {
   "cell_type": "code",
   "execution_count": null,
   "metadata": {},
   "outputs": [],
   "source": [
    "'''\n",
    "6. How would you check and see if there are pallindromes and see the length of each pallindromes string in a list\n",
    "use map and filter functions simultaneoulsy in a nested way :)\n",
    "'''\n",
    "def pallin(st):\n",
    "    return st==st[::-1]\n",
    "l=[\"amit\",\"kaka\",\"madam\",\"maam\"]\n",
    "newlist=list(map(len,filter(pallin,l)))\n",
    "newlist\n",
    "\n",
    "#The single line approach and list as an output\n",
    "l=[\"amit\",\"kaka\",\"madam\"]\n",
    "[i for i in map(len,[i for i in filter(lambda n: True if n==n[::-1] else False,l)])]\n",
    "\n",
    "#The shortest\n",
    "l=[\"amit\",\"kaka\",\"madam\",\"maam\"]\n",
    "\n",
    "list(map(len,filter(lambda s: s==s[::-1],l)))"
   ]
  },
  {
   "cell_type": "code",
   "execution_count": null,
   "metadata": {},
   "outputs": [],
   "source": [
    "'''6.1 Filter the palindrome having highest lengths.. so madam and naman should come and not mom'''\n",
    "l=[\"amit\",\"kaka\",\"madam\",\"naman\",\"mom\"]\n",
    "\n",
    "[i for i in l if len(i)==max(list(map(len,list(filter(lambda s: s==s[::-1],l)))))]"
   ]
  },
  {
   "cell_type": "code",
   "execution_count": null,
   "metadata": {},
   "outputs": [],
   "source": [
    "'''\n",
    "7. The above code also works for a Tuple as a data type, as Tuples are iterable\n",
    "'''\n",
    "def pallin(st):\n",
    "    return st==st[::-1]\n",
    "l=(\"amit\",\"kaka\",\"madam\",\"maam\")\n",
    "newlist=list(map(len,filter(pallin,l)))\n",
    "newlist\n",
    "\n",
    "#shortest\n",
    "\n",
    "tuple(map(len,filter(lambda s: s==s[::-1],l)))"
   ]
  },
  {
   "cell_type": "code",
   "execution_count": null,
   "metadata": {},
   "outputs": [],
   "source": [
    "'''7.1 Exercise map and filter. Give the length of all the words that are pallindromes'''\n",
    "p=['baba','naman','madam','kak']\n",
    "def palm(i):\n",
    "        return i==i[::-1]\n",
    "\n",
    "print(list(filter(palm,p)))\n",
    "print(list(map(len,filter(lambda x:True if x==x[::-1 ] else False,p))))"
   ]
  },
  {
   "cell_type": "code",
   "execution_count": null,
   "metadata": {},
   "outputs": [],
   "source": [
    "'''7.2 Using lambda for the above question, in a single line with lambda, map and filter'''\n",
    "p=['baba','naman','madam','kak']\n",
    "\n",
    "list(map(len,list(filter(lambda n :n==n[::-1],p))))"
   ]
  },
  {
   "cell_type": "code",
   "execution_count": null,
   "metadata": {
    "scrolled": true
   },
   "outputs": [],
   "source": [
    "'''8. Selective filtering the list from the list,, thsi would return the list from the master list'''\n",
    "l=[\"kaka\",1,[1,2,3],[4,5]]\n",
    "\n",
    "list(filter(lambda n: type(n)==list,l))"
   ]
  },
  {
   "cell_type": "code",
   "execution_count": null,
   "metadata": {},
   "outputs": [],
   "source": [
    "'''9. Why nothing is filtered\n",
    "returned values are not 0 thus.. all are true.. thus no filter\n",
    "'''\n",
    "def new(n):\n",
    "    return n**2\n",
    "\n",
    "list(filter(new,[1,2,3]))"
   ]
  }
 ],
 "metadata": {
  "kernelspec": {
   "display_name": "Python 3",
   "language": "python",
   "name": "python3"
  },
  "language_info": {
   "codemirror_mode": {
    "name": "ipython",
    "version": 3
   },
   "file_extension": ".py",
   "mimetype": "text/x-python",
   "name": "python",
   "nbconvert_exporter": "python",
   "pygments_lexer": "ipython3",
   "version": "3.7.3"
  }
 },
 "nbformat": 4,
 "nbformat_minor": 2
}
